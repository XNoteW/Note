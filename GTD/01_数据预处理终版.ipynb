{
 "cells": [
  {
   "cell_type": "code",
   "execution_count": 45,
   "metadata": {
    "ExecuteTime": {
     "end_time": "2018-09-18T12:15:24.416451Z",
     "start_time": "2018-09-18T12:13:57.206543Z"
    }
   },
   "outputs": [
    {
     "name": "stdout",
     "output_type": "stream",
     "text": [
      "Populating the interactive namespace from numpy and matplotlib\n",
      "<class 'pandas.core.frame.DataFrame'>\n",
      "RangeIndex: 114183 entries, 0 to 114182\n",
      "Columns: 135 entries, eventid to related\n",
      "dtypes: datetime64[ns](1), float64(54), int64(23), object(57)\n",
      "memory usage: 117.6+ MB\n"
     ]
    }
   ],
   "source": [
    "import pandas as pd\n",
    "import numpy as np\n",
    "\n",
    "%pylab inline\n",
    "\n",
    "gtd_df = pd.read_excel('附件1.xlsx')\n",
    "\n",
    "gtd_df.info() # 在对数据进行处理之前应该先查看加载数据的相关信息"
   ]
  },
  {
   "cell_type": "code",
   "execution_count": 2,
   "metadata": {
    "ExecuteTime": {
     "end_time": "2018-09-18T12:10:36.640835Z",
     "start_time": "2018-09-18T12:10:36.028440Z"
    },
    "scrolled": true
   },
   "outputs": [
    {
     "name": "stdout",
     "output_type": "stream",
     "text": [
      "数据的尺寸: (114183, 135)\n"
     ]
    },
    {
     "data": {
      "text/html": [
       "<div>\n",
       "<style scoped>\n",
       "    .dataframe tbody tr th:only-of-type {\n",
       "        vertical-align: middle;\n",
       "    }\n",
       "\n",
       "    .dataframe tbody tr th {\n",
       "        vertical-align: top;\n",
       "    }\n",
       "\n",
       "    .dataframe thead th {\n",
       "        text-align: right;\n",
       "    }\n",
       "</style>\n",
       "<table border=\"1\" class=\"dataframe\">\n",
       "  <thead>\n",
       "    <tr style=\"text-align: right;\">\n",
       "      <th></th>\n",
       "      <th>Count</th>\n",
       "      <th>Percent</th>\n",
       "    </tr>\n",
       "  </thead>\n",
       "  <tbody>\n",
       "    <tr>\n",
       "      <th>weaptype4</th>\n",
       "      <td>114178</td>\n",
       "      <td>100.00</td>\n",
       "    </tr>\n",
       "    <tr>\n",
       "      <th>weaptype4_txt</th>\n",
       "      <td>114178</td>\n",
       "      <td>100.00</td>\n",
       "    </tr>\n",
       "    <tr>\n",
       "      <th>weapsubtype4</th>\n",
       "      <td>114177</td>\n",
       "      <td>99.99</td>\n",
       "    </tr>\n",
       "    <tr>\n",
       "      <th>weapsubtype4_txt</th>\n",
       "      <td>114177</td>\n",
       "      <td>99.99</td>\n",
       "    </tr>\n",
       "    <tr>\n",
       "      <th>gsubname3</th>\n",
       "      <td>114163</td>\n",
       "      <td>99.98</td>\n",
       "    </tr>\n",
       "    <tr>\n",
       "      <th>claimmode3</th>\n",
       "      <td>114058</td>\n",
       "      <td>99.89</td>\n",
       "    </tr>\n",
       "    <tr>\n",
       "      <th>claimmode3_txt</th>\n",
       "      <td>114058</td>\n",
       "      <td>99.89</td>\n",
       "    </tr>\n",
       "    <tr>\n",
       "      <th>gsubname2</th>\n",
       "      <td>114029</td>\n",
       "      <td>99.87</td>\n",
       "    </tr>\n",
       "    <tr>\n",
       "      <th>divert</th>\n",
       "      <td>114026</td>\n",
       "      <td>99.86</td>\n",
       "    </tr>\n",
       "    <tr>\n",
       "      <th>kidhijcountry</th>\n",
       "      <td>113971</td>\n",
       "      <td>99.81</td>\n",
       "    </tr>\n",
       "    <tr>\n",
       "      <th>guncertain3</th>\n",
       "      <td>113874</td>\n",
       "      <td>99.73</td>\n",
       "    </tr>\n",
       "    <tr>\n",
       "      <th>claim3</th>\n",
       "      <td>113873</td>\n",
       "      <td>99.73</td>\n",
       "    </tr>\n",
       "    <tr>\n",
       "      <th>gname3</th>\n",
       "      <td>113870</td>\n",
       "      <td>99.73</td>\n",
       "    </tr>\n",
       "    <tr>\n",
       "      <th>attacktype3_txt</th>\n",
       "      <td>113758</td>\n",
       "      <td>99.63</td>\n",
       "    </tr>\n",
       "    <tr>\n",
       "      <th>attacktype3</th>\n",
       "      <td>113758</td>\n",
       "      <td>99.63</td>\n",
       "    </tr>\n",
       "    <tr>\n",
       "      <th>ransomnote</th>\n",
       "      <td>113676</td>\n",
       "      <td>99.56</td>\n",
       "    </tr>\n",
       "    <tr>\n",
       "      <th>ransompaidus</th>\n",
       "      <td>113636</td>\n",
       "      <td>99.52</td>\n",
       "    </tr>\n",
       "    <tr>\n",
       "      <th>ransomamtus</th>\n",
       "      <td>113621</td>\n",
       "      <td>99.51</td>\n",
       "    </tr>\n",
       "    <tr>\n",
       "      <th>claimmode2</th>\n",
       "      <td>113586</td>\n",
       "      <td>99.48</td>\n",
       "    </tr>\n",
       "    <tr>\n",
       "      <th>claimmode2_txt</th>\n",
       "      <td>113586</td>\n",
       "      <td>99.48</td>\n",
       "    </tr>\n",
       "    <tr>\n",
       "      <th>ransompaid</th>\n",
       "      <td>113573</td>\n",
       "      <td>99.47</td>\n",
       "    </tr>\n",
       "    <tr>\n",
       "      <th>ransomamt</th>\n",
       "      <td>113507</td>\n",
       "      <td>99.41</td>\n",
       "    </tr>\n",
       "    <tr>\n",
       "      <th>resolution</th>\n",
       "      <td>113266</td>\n",
       "      <td>99.20</td>\n",
       "    </tr>\n",
       "    <tr>\n",
       "      <th>corp3</th>\n",
       "      <td>113253</td>\n",
       "      <td>99.19</td>\n",
       "    </tr>\n",
       "    <tr>\n",
       "      <th>targsubtype3</th>\n",
       "      <td>113205</td>\n",
       "      <td>99.14</td>\n",
       "    </tr>\n",
       "    <tr>\n",
       "      <th>targsubtype3_txt</th>\n",
       "      <td>113205</td>\n",
       "      <td>99.14</td>\n",
       "    </tr>\n",
       "    <tr>\n",
       "      <th>natlty3</th>\n",
       "      <td>113180</td>\n",
       "      <td>99.12</td>\n",
       "    </tr>\n",
       "    <tr>\n",
       "      <th>natlty3_txt</th>\n",
       "      <td>113180</td>\n",
       "      <td>99.12</td>\n",
       "    </tr>\n",
       "    <tr>\n",
       "      <th>targtype3</th>\n",
       "      <td>113153</td>\n",
       "      <td>99.10</td>\n",
       "    </tr>\n",
       "    <tr>\n",
       "      <th>targtype3_txt</th>\n",
       "      <td>113153</td>\n",
       "      <td>99.10</td>\n",
       "    </tr>\n",
       "    <tr>\n",
       "      <th>...</th>\n",
       "      <td>...</td>\n",
       "      <td>...</td>\n",
       "    </tr>\n",
       "    <tr>\n",
       "      <th>extended</th>\n",
       "      <td>0</td>\n",
       "      <td>0.00</td>\n",
       "    </tr>\n",
       "    <tr>\n",
       "      <th>iday</th>\n",
       "      <td>0</td>\n",
       "      <td>0.00</td>\n",
       "    </tr>\n",
       "    <tr>\n",
       "      <th>imonth</th>\n",
       "      <td>0</td>\n",
       "      <td>0.00</td>\n",
       "    </tr>\n",
       "    <tr>\n",
       "      <th>individual</th>\n",
       "      <td>0</td>\n",
       "      <td>0.00</td>\n",
       "    </tr>\n",
       "    <tr>\n",
       "      <th>crit1</th>\n",
       "      <td>0</td>\n",
       "      <td>0.00</td>\n",
       "    </tr>\n",
       "    <tr>\n",
       "      <th>region</th>\n",
       "      <td>0</td>\n",
       "      <td>0.00</td>\n",
       "    </tr>\n",
       "    <tr>\n",
       "      <th>iyear</th>\n",
       "      <td>0</td>\n",
       "      <td>0.00</td>\n",
       "    </tr>\n",
       "    <tr>\n",
       "      <th>gname</th>\n",
       "      <td>0</td>\n",
       "      <td>0.00</td>\n",
       "    </tr>\n",
       "    <tr>\n",
       "      <th>dbsource</th>\n",
       "      <td>0</td>\n",
       "      <td>0.00</td>\n",
       "    </tr>\n",
       "    <tr>\n",
       "      <th>INT_LOG</th>\n",
       "      <td>0</td>\n",
       "      <td>0.00</td>\n",
       "    </tr>\n",
       "    <tr>\n",
       "      <th>INT_IDEO</th>\n",
       "      <td>0</td>\n",
       "      <td>0.00</td>\n",
       "    </tr>\n",
       "    <tr>\n",
       "      <th>INT_MISC</th>\n",
       "      <td>0</td>\n",
       "      <td>0.00</td>\n",
       "    </tr>\n",
       "    <tr>\n",
       "      <th>INT_ANY</th>\n",
       "      <td>0</td>\n",
       "      <td>0.00</td>\n",
       "    </tr>\n",
       "    <tr>\n",
       "      <th>country_txt</th>\n",
       "      <td>0</td>\n",
       "      <td>0.00</td>\n",
       "    </tr>\n",
       "    <tr>\n",
       "      <th>claimed</th>\n",
       "      <td>0</td>\n",
       "      <td>0.00</td>\n",
       "    </tr>\n",
       "    <tr>\n",
       "      <th>region_txt</th>\n",
       "      <td>0</td>\n",
       "      <td>0.00</td>\n",
       "    </tr>\n",
       "    <tr>\n",
       "      <th>crit2</th>\n",
       "      <td>0</td>\n",
       "      <td>0.00</td>\n",
       "    </tr>\n",
       "    <tr>\n",
       "      <th>targtype1_txt</th>\n",
       "      <td>0</td>\n",
       "      <td>0.00</td>\n",
       "    </tr>\n",
       "    <tr>\n",
       "      <th>vicinity</th>\n",
       "      <td>0</td>\n",
       "      <td>0.00</td>\n",
       "    </tr>\n",
       "    <tr>\n",
       "      <th>weaptype1</th>\n",
       "      <td>0</td>\n",
       "      <td>0.00</td>\n",
       "    </tr>\n",
       "    <tr>\n",
       "      <th>summary</th>\n",
       "      <td>0</td>\n",
       "      <td>0.00</td>\n",
       "    </tr>\n",
       "    <tr>\n",
       "      <th>weaptype1_txt</th>\n",
       "      <td>0</td>\n",
       "      <td>0.00</td>\n",
       "    </tr>\n",
       "    <tr>\n",
       "      <th>targtype1</th>\n",
       "      <td>0</td>\n",
       "      <td>0.00</td>\n",
       "    </tr>\n",
       "    <tr>\n",
       "      <th>attacktype1_txt</th>\n",
       "      <td>0</td>\n",
       "      <td>0.00</td>\n",
       "    </tr>\n",
       "    <tr>\n",
       "      <th>attacktype1</th>\n",
       "      <td>0</td>\n",
       "      <td>0.00</td>\n",
       "    </tr>\n",
       "    <tr>\n",
       "      <th>property</th>\n",
       "      <td>0</td>\n",
       "      <td>0.00</td>\n",
       "    </tr>\n",
       "    <tr>\n",
       "      <th>suicide</th>\n",
       "      <td>0</td>\n",
       "      <td>0.00</td>\n",
       "    </tr>\n",
       "    <tr>\n",
       "      <th>success</th>\n",
       "      <td>0</td>\n",
       "      <td>0.00</td>\n",
       "    </tr>\n",
       "    <tr>\n",
       "      <th>crit3</th>\n",
       "      <td>0</td>\n",
       "      <td>0.00</td>\n",
       "    </tr>\n",
       "    <tr>\n",
       "      <th>eventid</th>\n",
       "      <td>0</td>\n",
       "      <td>0.00</td>\n",
       "    </tr>\n",
       "  </tbody>\n",
       "</table>\n",
       "<p>135 rows × 2 columns</p>\n",
       "</div>"
      ],
      "text/plain": [
       "                   Count  Percent\n",
       "weaptype4         114178   100.00\n",
       "weaptype4_txt     114178   100.00\n",
       "weapsubtype4      114177    99.99\n",
       "weapsubtype4_txt  114177    99.99\n",
       "gsubname3         114163    99.98\n",
       "claimmode3        114058    99.89\n",
       "claimmode3_txt    114058    99.89\n",
       "gsubname2         114029    99.87\n",
       "divert            114026    99.86\n",
       "kidhijcountry     113971    99.81\n",
       "guncertain3       113874    99.73\n",
       "claim3            113873    99.73\n",
       "gname3            113870    99.73\n",
       "attacktype3_txt   113758    99.63\n",
       "attacktype3       113758    99.63\n",
       "ransomnote        113676    99.56\n",
       "ransompaidus      113636    99.52\n",
       "ransomamtus       113621    99.51\n",
       "claimmode2        113586    99.48\n",
       "claimmode2_txt    113586    99.48\n",
       "ransompaid        113573    99.47\n",
       "ransomamt         113507    99.41\n",
       "resolution        113266    99.20\n",
       "corp3             113253    99.19\n",
       "targsubtype3      113205    99.14\n",
       "targsubtype3_txt  113205    99.14\n",
       "natlty3           113180    99.12\n",
       "natlty3_txt       113180    99.12\n",
       "targtype3         113153    99.10\n",
       "targtype3_txt     113153    99.10\n",
       "...                  ...      ...\n",
       "extended               0     0.00\n",
       "iday                   0     0.00\n",
       "imonth                 0     0.00\n",
       "individual             0     0.00\n",
       "crit1                  0     0.00\n",
       "region                 0     0.00\n",
       "iyear                  0     0.00\n",
       "gname                  0     0.00\n",
       "dbsource               0     0.00\n",
       "INT_LOG                0     0.00\n",
       "INT_IDEO               0     0.00\n",
       "INT_MISC               0     0.00\n",
       "INT_ANY                0     0.00\n",
       "country_txt            0     0.00\n",
       "claimed                0     0.00\n",
       "region_txt             0     0.00\n",
       "crit2                  0     0.00\n",
       "targtype1_txt          0     0.00\n",
       "vicinity               0     0.00\n",
       "weaptype1              0     0.00\n",
       "summary                0     0.00\n",
       "weaptype1_txt          0     0.00\n",
       "targtype1              0     0.00\n",
       "attacktype1_txt        0     0.00\n",
       "attacktype1            0     0.00\n",
       "property               0     0.00\n",
       "suicide                0     0.00\n",
       "success                0     0.00\n",
       "crit3                  0     0.00\n",
       "eventid                0     0.00\n",
       "\n",
       "[135 rows x 2 columns]"
      ]
     },
     "execution_count": 2,
     "metadata": {},
     "output_type": "execute_result"
    }
   ],
   "source": [
    "# total no of columns and rows present in data\n",
    "print(\"数据的尺寸:\",gtd_df.shape)\n",
    "\n",
    "# Check the number of missing values in each attribute\n",
    "count = gtd_df.isnull().sum()\n",
    "percent = round(count / gtd_df.shape[0] * 100, 2)\n",
    "series = [count, percent]\n",
    "result = pd.concat(series, axis=1, keys=['Count','Percent'])\n",
    "result.sort_values(by='Count', ascending=False)  # 按缺失值数量倒序"
   ]
  },
  {
   "cell_type": "code",
   "execution_count": 3,
   "metadata": {
    "ExecuteTime": {
     "end_time": "2018-09-18T12:10:36.652771Z",
     "start_time": "2018-09-18T12:10:36.643796Z"
    },
    "scrolled": true
   },
   "outputs": [
    {
     "name": "stdout",
     "output_type": "stream",
     "text": [
      "留下来的特征所占比例: 0.53\n"
     ]
    },
    {
     "data": {
      "text/plain": [
       "0.19"
      ]
     },
     "execution_count": 3,
     "metadata": {},
     "output_type": "execute_result"
    }
   ],
   "source": [
    "target_attrs = result[result['Percent'] < 90.0]\n",
    "print('留下来的特征所占比例:', round(target_attrs.shape[0]/result.shape[0], 2))\n",
    "df_50_90 = target_attrs[target_attrs['Percent'] > 50.0]\n",
    "round(df_50_90.shape[0]/target_attrs.shape[0], 2)  # 特征数所占比例"
   ]
  },
  {
   "cell_type": "code",
   "execution_count": 4,
   "metadata": {
    "ExecuteTime": {
     "end_time": "2018-09-18T12:10:36.676735Z",
     "start_time": "2018-09-18T12:10:36.654766Z"
    },
    "scrolled": false
   },
   "outputs": [
    {
     "data": {
      "text/html": [
       "<div>\n",
       "<style scoped>\n",
       "    .dataframe tbody tr th:only-of-type {\n",
       "        vertical-align: middle;\n",
       "    }\n",
       "\n",
       "    .dataframe tbody tr th {\n",
       "        vertical-align: top;\n",
       "    }\n",
       "\n",
       "    .dataframe thead th {\n",
       "        text-align: right;\n",
       "    }\n",
       "</style>\n",
       "<table border=\"1\" class=\"dataframe\">\n",
       "  <thead>\n",
       "    <tr style=\"text-align: right;\">\n",
       "      <th></th>\n",
       "      <th>Count</th>\n",
       "      <th>Percent</th>\n",
       "    </tr>\n",
       "  </thead>\n",
       "  <tbody>\n",
       "    <tr>\n",
       "      <th>provstate</th>\n",
       "      <td>10</td>\n",
       "      <td>0.01</td>\n",
       "    </tr>\n",
       "    <tr>\n",
       "      <th>specificity</th>\n",
       "      <td>6</td>\n",
       "      <td>0.01</td>\n",
       "    </tr>\n",
       "    <tr>\n",
       "      <th>scite1</th>\n",
       "      <td>61</td>\n",
       "      <td>0.05</td>\n",
       "    </tr>\n",
       "  </tbody>\n",
       "</table>\n",
       "</div>"
      ],
      "text/plain": [
       "             Count  Percent\n",
       "provstate       10     0.01\n",
       "specificity      6     0.01\n",
       "scite1          61     0.05"
      ]
     },
     "execution_count": 4,
     "metadata": {},
     "output_type": "execute_result"
    }
   ],
   "source": [
    "a = result.query('0<Percent<0.1')\n",
    "a"
   ]
  },
  {
   "cell_type": "code",
   "execution_count": 5,
   "metadata": {
    "ExecuteTime": {
     "end_time": "2018-09-18T12:10:36.698687Z",
     "start_time": "2018-09-18T12:10:36.678719Z"
    }
   },
   "outputs": [
    {
     "data": {
      "text/html": [
       "<div>\n",
       "<style scoped>\n",
       "    .dataframe tbody tr th:only-of-type {\n",
       "        vertical-align: middle;\n",
       "    }\n",
       "\n",
       "    .dataframe tbody tr th {\n",
       "        vertical-align: top;\n",
       "    }\n",
       "\n",
       "    .dataframe thead th {\n",
       "        text-align: right;\n",
       "    }\n",
       "</style>\n",
       "<table border=\"1\" class=\"dataframe\">\n",
       "  <thead>\n",
       "    <tr style=\"text-align: right;\">\n",
       "      <th></th>\n",
       "      <th>Count</th>\n",
       "      <th>Percent</th>\n",
       "    </tr>\n",
       "  </thead>\n",
       "  <tbody>\n",
       "    <tr>\n",
       "      <th>provstate</th>\n",
       "      <td>10</td>\n",
       "      <td>0.01</td>\n",
       "    </tr>\n",
       "    <tr>\n",
       "      <th>specificity</th>\n",
       "      <td>6</td>\n",
       "      <td>0.01</td>\n",
       "    </tr>\n",
       "    <tr>\n",
       "      <th>doubtterr</th>\n",
       "      <td>1</td>\n",
       "      <td>0.00</td>\n",
       "    </tr>\n",
       "    <tr>\n",
       "      <th>multiple</th>\n",
       "      <td>1</td>\n",
       "      <td>0.00</td>\n",
       "    </tr>\n",
       "    <tr>\n",
       "      <th>ishostkid</th>\n",
       "      <td>3</td>\n",
       "      <td>0.00</td>\n",
       "    </tr>\n",
       "    <tr>\n",
       "      <th>scite1</th>\n",
       "      <td>61</td>\n",
       "      <td>0.05</td>\n",
       "    </tr>\n",
       "  </tbody>\n",
       "</table>\n",
       "</div>"
      ],
      "text/plain": [
       "             Count  Percent\n",
       "provstate       10     0.01\n",
       "specificity      6     0.01\n",
       "doubtterr        1     0.00\n",
       "multiple         1     0.00\n",
       "ishostkid        3     0.00\n",
       "scite1          61     0.05"
      ]
     },
     "execution_count": 5,
     "metadata": {},
     "output_type": "execute_result"
    }
   ],
   "source": [
    "b = result.query('0<Count<100')\n",
    "b"
   ]
  },
  {
   "cell_type": "markdown",
   "metadata": {},
   "source": [
    "由于数据容量比较大, 所以, 我们可以直接扔掉 包含特征: `'doubtterr', 'multiple', 'provstate', 'scite1', 'ishostkid', 'specificity'` 的含缺失值的样本行."
   ]
  },
  {
   "cell_type": "code",
   "execution_count": 6,
   "metadata": {
    "ExecuteTime": {
     "end_time": "2018-09-18T12:10:36.728596Z",
     "start_time": "2018-09-18T12:10:36.700645Z"
    }
   },
   "outputs": [],
   "source": [
    "attrs = []\n",
    "for attr in b.index:\n",
    "    attrs.extend(gtd_df[attr][gtd_df[attr].isna()].index.tolist())"
   ]
  },
  {
   "cell_type": "code",
   "execution_count": 7,
   "metadata": {
    "ExecuteTime": {
     "end_time": "2018-09-18T12:10:36.986915Z",
     "start_time": "2018-09-18T12:10:36.730562Z"
    }
   },
   "outputs": [],
   "source": [
    "df = gtd_df.loc[list(set(gtd_df.index) - set(attrs)), :]"
   ]
  },
  {
   "cell_type": "code",
   "execution_count": 8,
   "metadata": {
    "ExecuteTime": {
     "end_time": "2018-09-18T12:10:36.993859Z",
     "start_time": "2018-09-18T12:10:36.988873Z"
    }
   },
   "outputs": [
    {
     "data": {
      "text/plain": [
       "(114101, 135)"
      ]
     },
     "execution_count": 8,
     "metadata": {},
     "output_type": "execute_result"
    }
   ],
   "source": [
    "df.shape"
   ]
  },
  {
   "cell_type": "code",
   "execution_count": 9,
   "metadata": {
    "ExecuteTime": {
     "end_time": "2018-09-18T12:10:37.014803Z",
     "start_time": "2018-09-18T12:10:36.995853Z"
    }
   },
   "outputs": [
    {
     "data": {
      "text/plain": [
       "array([False,  True])"
      ]
     },
     "execution_count": 9,
     "metadata": {},
     "output_type": "execute_result"
    }
   ],
   "source": [
    "np.unique(gtd_df['doubtterr'].isin(['NaN']))"
   ]
  },
  {
   "cell_type": "code",
   "execution_count": 10,
   "metadata": {
    "ExecuteTime": {
     "end_time": "2018-09-18T12:10:37.027768Z",
     "start_time": "2018-09-18T12:10:37.016798Z"
    }
   },
   "outputs": [
    {
     "data": {
      "text/plain": [
       "array([False])"
      ]
     },
     "execution_count": 10,
     "metadata": {},
     "output_type": "execute_result"
    }
   ],
   "source": [
    "np.unique(df['doubtterr'].isin(['NaN']))"
   ]
  },
  {
   "cell_type": "markdown",
   "metadata": {
    "ExecuteTime": {
     "end_time": "2018-09-15T14:05:08.024107Z",
     "start_time": "2018-09-15T14:04:59.694365Z"
    }
   },
   "source": [
    "也可:\n",
    "    \n",
    "```py\n",
    "# Removing columns which has 80% null values\n",
    "def remove_columns_missing_values(data, min_threshold):\n",
    "    for col in data.columns:\n",
    "        rate = data[col].isnull().sum()/float(len(data)) * 100\n",
    "        if rate >= min_threshold:\n",
    "            data = data.drop(col, 1)\n",
    "    return data\n",
    "\n",
    "data = remove_columns_missing_values(df , 80)\n",
    "print(\"可以得到的特征 :\",len(data.columns))\n",
    "```\n",
    "\n",
    "Pandas 中进行数据类型转换有三种基本方法：\n",
    "\n",
    "- 使用 `astype()` 函数进行强制类型转换\n",
    "- 自定义函数进行数据类型转换\n",
    "- 使用 Pandas 提供的函数如 `to_numeric()`、`to_datetime()`\n",
    "\n",
    "注意: 从上面两个例子可以看出，当待转换列中含有不能转换的特殊值时(例子中￥,ErrorValue等)astype()函数将失效。有些时候 `astype()` 函数执行成功了也并不一定代表着执行结果符合预期(神坑!）\n",
    "\n",
    "参考: \n",
    "\n",
    "- [Pandas数据类型转换的几个小技巧](https://segmentfault.com/a/1190000014713098)\n",
    "- [【原】十分钟搞定pandas](https://www.cnblogs.com/chaosimple/p/4153083.html)\n",
    "\n",
    "\n",
    "## 在Pandas中更改列的数据类型\n",
    "\n",
    "- `pd.to_datetime` 和 `pd.to_timedelta` 可将数据转换为日期和时间戳。\n",
    "- `infer_objects()` 方法，用于将具有对象数据类型的 DataFrame 的列转换为更具体的类型。\n",
    "\n",
    "## 查看数据类型\n",
    "\n",
    "- `df.dtypes`\n",
    "- `series.dtype`\n",
    "- `get_dtype_counts()`\n",
    "\n",
    "如果一列中含有多个类型,则该列的类型会是 `object`,同样字符串类型的列也会被当成 `object` 类型. \n",
    "不同的数据类型也会被当成 `object`,比如 `int32`,`float32`."
   ]
  },
  {
   "cell_type": "code",
   "execution_count": 11,
   "metadata": {
    "ExecuteTime": {
     "end_time": "2018-09-18T12:10:37.039736Z",
     "start_time": "2018-09-18T12:10:37.029763Z"
    },
    "scrolled": false
   },
   "outputs": [
    {
     "data": {
      "text/plain": [
       "float64           54\n",
       "int64             23\n",
       "datetime64[ns]     1\n",
       "object            57\n",
       "dtype: int64"
      ]
     },
     "execution_count": 11,
     "metadata": {},
     "output_type": "execute_result"
    }
   ],
   "source": [
    "df.get_dtype_counts()"
   ]
  },
  {
   "cell_type": "code",
   "execution_count": 12,
   "metadata": {
    "ExecuteTime": {
     "end_time": "2018-09-18T12:10:37.111545Z",
     "start_time": "2018-09-18T12:10:37.041731Z"
    },
    "scrolled": true
   },
   "outputs": [
    {
     "data": {
      "text/plain": [
       "int64      23\n",
       "object     17\n",
       "float64    18\n",
       "dtype: int64"
      ]
     },
     "execution_count": 12,
     "metadata": {},
     "output_type": "execute_result"
    }
   ],
   "source": [
    "keep_attrs = target_attrs[target_attrs['Percent']<50.0]\n",
    "\n",
    "subset_df = df.loc[:, keep_attrs.index.values]\n",
    "\n",
    "subset_df.get_dtype_counts()"
   ]
  },
  {
   "cell_type": "code",
   "execution_count": 13,
   "metadata": {
    "ExecuteTime": {
     "end_time": "2018-09-18T12:10:37.118526Z",
     "start_time": "2018-09-18T12:10:37.113541Z"
    }
   },
   "outputs": [
    {
     "data": {
      "text/plain": [
       "(114101, 58)"
      ]
     },
     "execution_count": 13,
     "metadata": {},
     "output_type": "execute_result"
    }
   ],
   "source": [
    "subset_df.shape"
   ]
  },
  {
   "cell_type": "code",
   "execution_count": 14,
   "metadata": {
    "ExecuteTime": {
     "end_time": "2018-09-18T12:10:37.332979Z",
     "start_time": "2018-09-18T12:10:37.120520Z"
    }
   },
   "outputs": [
    {
     "data": {
      "text/plain": [
       "array([    0,   161,   353,   378,   428,   562,   926,  1115,  2668,\n",
       "        3363,  4279,  4494,  7003,  8223,  9076, 10313, 13158, 38432],\n",
       "      dtype=int64)"
      ]
     },
     "execution_count": 14,
     "metadata": {},
     "output_type": "execute_result"
    }
   ],
   "source": [
    "np.unique(subset_df.isnull().sum())"
   ]
  },
  {
   "cell_type": "code",
   "execution_count": 15,
   "metadata": {
    "ExecuteTime": {
     "end_time": "2018-09-18T12:10:37.341961Z",
     "start_time": "2018-09-18T12:10:37.334947Z"
    }
   },
   "outputs": [
    {
     "data": {
      "text/plain": [
       "array([False])"
      ]
     },
     "execution_count": 15,
     "metadata": {},
     "output_type": "execute_result"
    }
   ],
   "source": [
    "np.unique(subset_df['doubtterr'].isnull())"
   ]
  },
  {
   "cell_type": "code",
   "execution_count": 16,
   "metadata": {
    "ExecuteTime": {
     "end_time": "2018-09-18T12:10:37.362909Z",
     "start_time": "2018-09-18T12:10:37.343923Z"
    },
    "scrolled": false
   },
   "outputs": [
    {
     "data": {
      "text/html": [
       "<div>\n",
       "<style scoped>\n",
       "    .dataframe tbody tr th:only-of-type {\n",
       "        vertical-align: middle;\n",
       "    }\n",
       "\n",
       "    .dataframe tbody tr th {\n",
       "        vertical-align: top;\n",
       "    }\n",
       "\n",
       "    .dataframe thead th {\n",
       "        text-align: right;\n",
       "    }\n",
       "</style>\n",
       "<table border=\"1\" class=\"dataframe\">\n",
       "  <thead>\n",
       "    <tr style=\"text-align: right;\">\n",
       "      <th></th>\n",
       "      <th>eventid</th>\n",
       "      <th>iyear</th>\n",
       "      <th>imonth</th>\n",
       "      <th>iday</th>\n",
       "      <th>extended</th>\n",
       "      <th>country</th>\n",
       "      <th>country_txt</th>\n",
       "      <th>region</th>\n",
       "      <th>region_txt</th>\n",
       "      <th>provstate</th>\n",
       "      <th>...</th>\n",
       "      <th>nwoundte</th>\n",
       "      <th>property</th>\n",
       "      <th>ishostkid</th>\n",
       "      <th>scite1</th>\n",
       "      <th>scite2</th>\n",
       "      <th>dbsource</th>\n",
       "      <th>INT_LOG</th>\n",
       "      <th>INT_IDEO</th>\n",
       "      <th>INT_MISC</th>\n",
       "      <th>INT_ANY</th>\n",
       "    </tr>\n",
       "  </thead>\n",
       "  <tbody>\n",
       "  </tbody>\n",
       "</table>\n",
       "<p>0 rows × 58 columns</p>\n",
       "</div>"
      ],
      "text/plain": [
       "Empty DataFrame\n",
       "Columns: [eventid, iyear, imonth, iday, extended, country, country_txt, region, region_txt, provstate, city, latitude, longitude, specificity, vicinity, summary, crit1, crit2, crit3, doubtterr, multiple, success, suicide, attacktype1, attacktype1_txt, targtype1, targtype1_txt, targsubtype1, targsubtype1_txt, corp1, target1, natlty1, natlty1_txt, gname, guncertain1, individual, nperps, nperpcap, claimed, weaptype1, weaptype1_txt, weapsubtype1, weapsubtype1_txt, nkill, nkillus, nkillter, nwound, nwoundus, nwoundte, property, ishostkid, scite1, scite2, dbsource, INT_LOG, INT_IDEO, INT_MISC, INT_ANY]\n",
       "Index: []\n",
       "\n",
       "[0 rows x 58 columns]"
      ]
     },
     "execution_count": 16,
     "metadata": {},
     "output_type": "execute_result"
    }
   ],
   "source": [
    "subset_df[subset_df['multiple'].isnull()]"
   ]
  },
  {
   "cell_type": "markdown",
   "metadata": {},
   "source": [
    "### [通过列类型选取列](http://pandas.pydata.org/pandas-docs/stable/generated/pandas.DataFrame.select_dtypes.html#pandas.DataFrame.select_dtypes)\n",
    "\n",
    "方法: `DataFrame.select_dtypes(include=None, exclude=None)`\n",
    "\n",
    "参数: `include`, `exclude` : list-like(传入想要查找的类型)\n",
    "\n",
    "返回: `subset` : DataFrame"
   ]
  },
  {
   "cell_type": "code",
   "execution_count": 17,
   "metadata": {
    "ExecuteTime": {
     "end_time": "2018-09-18T12:10:37.427734Z",
     "start_time": "2018-09-18T12:10:37.364893Z"
    }
   },
   "outputs": [],
   "source": [
    "feature_names = set(subset_df.columns)\n",
    "\n",
    "# 数值变量集合\n",
    "num_feature_names = {\n",
    "    'nperps', 'nperpcap', 'nkill', 'nkillus', 'nkillter', 'nwound',\n",
    "    'nwoundus', 'nwoundte', 'propvalue', 'nhostkid', 'nhostkidus',\n",
    "    'nhours', 'ndays', 'ransomamt', 'ransomamtus', 'ransompaid','ransompaidus', 'nreleased'\n",
    "}\n",
    "exta_names = {'eventid','iday','imonth','iyear','latitude', 'longitude'}\n",
    "\n",
    "txt_names = set(subset_df.select_dtypes(['object']).columns)\n",
    "txt_names.update({'city', 'summary', 'provstate', 'corp1', 'target1', 'gname','scite1', 'scite2', 'dbsource'})\n",
    "\n",
    "cat_names = feature_names - num_feature_names - exta_names - txt_names"
   ]
  },
  {
   "cell_type": "code",
   "execution_count": 18,
   "metadata": {
    "ExecuteTime": {
     "end_time": "2018-09-18T12:10:37.433719Z",
     "start_time": "2018-09-18T12:10:37.429694Z"
    },
    "scrolled": true
   },
   "outputs": [
    {
     "data": {
      "text/plain": [
       "58"
      ]
     },
     "execution_count": 18,
     "metadata": {},
     "output_type": "execute_result"
    }
   ],
   "source": [
    "len(feature_names)"
   ]
  },
  {
   "cell_type": "code",
   "execution_count": 19,
   "metadata": {
    "ExecuteTime": {
     "end_time": "2018-09-18T12:10:37.448643Z",
     "start_time": "2018-09-18T12:10:37.435712Z"
    },
    "scrolled": true
   },
   "outputs": [
    {
     "data": {
      "text/plain": [
       "int64      23\n",
       "object     17\n",
       "float64    18\n",
       "dtype: int64"
      ]
     },
     "execution_count": 19,
     "metadata": {},
     "output_type": "execute_result"
    }
   ],
   "source": [
    "subset_df.get_dtype_counts()"
   ]
  },
  {
   "cell_type": "markdown",
   "metadata": {},
   "source": [
    "### 类别信息"
   ]
  },
  {
   "cell_type": "code",
   "execution_count": 20,
   "metadata": {
    "ExecuteTime": {
     "end_time": "2018-09-18T12:10:37.481602Z",
     "start_time": "2018-09-18T12:10:37.450639Z"
    },
    "scrolled": true
   },
   "outputs": [],
   "source": [
    "cat_df = subset_df[list(cat_names)]"
   ]
  },
  {
   "cell_type": "code",
   "execution_count": 21,
   "metadata": {
    "ExecuteTime": {
     "end_time": "2018-09-18T12:10:37.539401Z",
     "start_time": "2018-09-18T12:10:37.484547Z"
    },
    "scrolled": true
   },
   "outputs": [
    {
     "name": "stdout",
     "output_type": "stream",
     "text": [
      "guncertain1 378\n",
      "targsubtype1 7003\n",
      "natlty1 1115\n",
      "weapsubtype1 9076\n"
     ]
    }
   ],
   "source": [
    "for att in cat_names:\n",
    "    s = subset_df[att].isnull().sum()\n",
    "    if s != 0:\n",
    "        print(att,  s)"
   ]
  },
  {
   "cell_type": "code",
   "execution_count": 22,
   "metadata": {
    "ExecuteTime": {
     "end_time": "2018-09-18T12:10:37.607219Z",
     "start_time": "2018-09-18T12:10:37.541395Z"
    }
   },
   "outputs": [],
   "source": [
    "subset_df['guncertain1'].fillna(-1, inplace=True)\n",
    "subset_df['natlty1'].fillna(-1, inplace=True)\n",
    "subset_df['targsubtype1'].fillna(-1, inplace=True)\n",
    "subset_df.loc[subset_df['weapsubtype1'] == 13, 'weapsubtype1'] = -1  # 13 未知\n",
    "subset_df['weapsubtype1'].fillna(-1, inplace=True)\n",
    "subset_df.loc[subset_df['doubtterr'] == -9, 'doubtterr'] = -1  # -9 未知\n",
    "subset_df['doubtterr'].fillna(-1, inplace=True)\n",
    "subset_df.loc[subset_df['specificity'] == 5, 'specificity'] = -1\n",
    "subset_df.loc[subset_df['attacktype1'] == 9, 'attacktype1'] = -1  #  9 未知\n",
    "subset_df.loc[subset_df['targtype1'] == 20, 'targtype1'] = -1 # 20 未知\n",
    "subset_df.loc[subset_df['property'] == -9, 'property'] = -1\n",
    "subset_df.loc[subset_df['ishostkid'] == -9, 'ishostkid'] = -1\n",
    "subset_df.loc[subset_df['INT_LOG'] == -9, 'INT_LOG'] = -1\n",
    "subset_df.loc[subset_df['INT_IDEO'] == -9, 'INT_IDEO'] = -1\n",
    "subset_df.loc[subset_df['INT_MISC'] == -9, 'INT_MISC'] = -1\n",
    "subset_df.loc[subset_df['INT_ANY'] == -9, 'INT_ANY'] = -1"
   ]
  },
  {
   "cell_type": "code",
   "execution_count": 23,
   "metadata": {
    "ExecuteTime": {
     "end_time": "2018-09-18T12:10:37.633189Z",
     "start_time": "2018-09-18T12:10:37.609227Z"
    }
   },
   "outputs": [],
   "source": [
    "#subset_df['attacktype1'].replace(9, -1)\n",
    "\n",
    "subset_df.loc[subset_df['claimed'] == -9, 'claimed'] = -1\n",
    "subset_df['claimed'].fillna(-1, inplace=True)\n",
    "\n",
    "subset_df.loc[subset_df['vicinity'] == -9, 'vicinity'] = -1"
   ]
  },
  {
   "cell_type": "markdown",
   "metadata": {
    "ExecuteTime": {
     "end_time": "2018-09-18T11:00:59.831958Z",
     "start_time": "2018-09-18T11:00:59.827967Z"
    }
   },
   "source": [
    "### 文本变量"
   ]
  },
  {
   "cell_type": "code",
   "execution_count": 24,
   "metadata": {
    "ExecuteTime": {
     "end_time": "2018-09-18T12:10:37.762827Z",
     "start_time": "2018-09-18T12:10:37.635144Z"
    },
    "scrolled": false
   },
   "outputs": [
    {
     "name": "stdout",
     "output_type": "stream",
     "text": [
      "weapsubtype1_txt 9076\n",
      "targsubtype1_txt 7003\n",
      "scite2 38432\n",
      "target1 161\n",
      "city 428\n",
      "natlty1_txt 1115\n",
      "corp1 10313\n"
     ]
    }
   ],
   "source": [
    "for att in txt_names:\n",
    "    s = subset_df[att].isnull().sum()\n",
    "    if s != 0:\n",
    "        print(att, s)"
   ]
  },
  {
   "cell_type": "code",
   "execution_count": 25,
   "metadata": {
    "ExecuteTime": {
     "end_time": "2018-09-18T12:10:37.826666Z",
     "start_time": "2018-09-18T12:10:37.764798Z"
    }
   },
   "outputs": [],
   "source": [
    "subset_df['targsubtype1_txt'].fillna('Unknown', inplace=True)\n",
    "subset_df['corp1'].fillna('Unknown', inplace=True)\n",
    "subset_df['city'].fillna('Unknown', inplace=True)\n",
    "subset_df['target1'].fillna('Unknown', inplace=True)\n",
    "subset_df['weapsubtype1_txt'].fillna('Unknown', inplace=True)\n",
    "subset_df['natlty1_txt'].fillna('Unknown', inplace=True)\n",
    "subset_df['scite2'].fillna('Unknown', inplace=True)"
   ]
  },
  {
   "cell_type": "markdown",
   "metadata": {},
   "source": [
    "### 可计算变量"
   ]
  },
  {
   "cell_type": "code",
   "execution_count": 26,
   "metadata": {
    "ExecuteTime": {
     "end_time": "2018-09-18T12:10:37.832616Z",
     "start_time": "2018-09-18T12:10:37.828627Z"
    }
   },
   "outputs": [],
   "source": [
    "cal_names = feature_names & num_feature_names"
   ]
  },
  {
   "cell_type": "code",
   "execution_count": 27,
   "metadata": {
    "ExecuteTime": {
     "end_time": "2018-09-18T12:10:37.863537Z",
     "start_time": "2018-09-18T12:10:37.834646Z"
    }
   },
   "outputs": [
    {
     "name": "stdout",
     "output_type": "stream",
     "text": [
      "nperps 13158\n",
      "nwound 8223\n",
      "nwoundus 562\n",
      "nkillter 2668\n",
      "nkillus 353\n",
      "nwoundte 4494\n",
      "nkill 4279\n",
      "nperpcap 3363\n"
     ]
    }
   ],
   "source": [
    "for att in cal_names:\n",
    "    s = subset_df[att].isnull().sum()\n",
    "    if s != 0:\n",
    "        print(att, s)"
   ]
  },
  {
   "cell_type": "code",
   "execution_count": 28,
   "metadata": {
    "ExecuteTime": {
     "end_time": "2018-09-18T12:10:37.888506Z",
     "start_time": "2018-09-18T12:10:37.867527Z"
    }
   },
   "outputs": [],
   "source": [
    "subset_df.loc[subset_df['nperpcap'] == -9, 'nperpcap'] = np.nan\n",
    "subset_df.loc[subset_df['nperpcap'] == -99, 'nperpcap'] = np.nan\n",
    "subset_df.loc[subset_df['nperps'] == -9, 'nperps'] = np.nan\n",
    "subset_df.loc[subset_df['nperps'] == -99, 'nperps'] = np.nan"
   ]
  },
  {
   "cell_type": "code",
   "execution_count": 29,
   "metadata": {
    "ExecuteTime": {
     "end_time": "2018-09-18T12:10:37.914431Z",
     "start_time": "2018-09-18T12:10:37.892466Z"
    }
   },
   "outputs": [
    {
     "name": "stdout",
     "output_type": "stream",
     "text": [
      "nperps 94366\n",
      "nwound 8223\n",
      "nwoundus 562\n",
      "nkillter 2668\n",
      "nkillus 353\n",
      "nwoundte 4494\n",
      "nkill 4279\n",
      "nperpcap 4227\n"
     ]
    }
   ],
   "source": [
    "for att in cal_names:\n",
    "    s = subset_df[att].isnull().sum()\n",
    "    if s != 0:\n",
    "        print(att, s)"
   ]
  },
  {
   "cell_type": "markdown",
   "metadata": {},
   "source": [
    "变量 `nperps=94366` 的缺失值相对较多, 考虑移除该特征:"
   ]
  },
  {
   "cell_type": "code",
   "execution_count": 30,
   "metadata": {
    "ExecuteTime": {
     "end_time": "2018-09-18T12:10:37.930388Z",
     "start_time": "2018-09-18T12:10:37.916393Z"
    }
   },
   "outputs": [],
   "source": [
    "num_feature_names.remove('nperps')\n",
    "\n",
    "cal_names.remove('nperps')\n",
    "\n",
    "feature_names.remove('nperps')\n",
    "\n",
    "del subset_df['nperps']"
   ]
  },
  {
   "cell_type": "markdown",
   "metadata": {},
   "source": [
    "### 附加变量"
   ]
  },
  {
   "cell_type": "code",
   "execution_count": 31,
   "metadata": {
    "ExecuteTime": {
     "end_time": "2018-09-18T12:10:37.949304Z",
     "start_time": "2018-09-18T12:10:37.931387Z"
    }
   },
   "outputs": [
    {
     "name": "stdout",
     "output_type": "stream",
     "text": [
      "latitude 926\n",
      "longitude 926\n"
     ]
    }
   ],
   "source": [
    "for att in exta_names:\n",
    "    s = subset_df[att].isnull().sum()\n",
    "    if s != 0:\n",
    "        print(att, s)"
   ]
  },
  {
   "cell_type": "code",
   "execution_count": 32,
   "metadata": {
    "ExecuteTime": {
     "end_time": "2018-09-18T12:10:37.959278Z",
     "start_time": "2018-09-18T12:10:37.951300Z"
    }
   },
   "outputs": [
    {
     "name": "stdout",
     "output_type": "stream",
     "text": [
      "(926, 57)\n"
     ]
    }
   ],
   "source": [
    "# Select the observations that contain null\n",
    "ll_df = subset_df[np.isnan(subset_df.latitude)]\n",
    "print(ll_df.shape)   # 926 个 NaN 值"
   ]
  },
  {
   "cell_type": "code",
   "execution_count": 33,
   "metadata": {
    "ExecuteTime": {
     "end_time": "2018-09-18T12:10:37.973279Z",
     "start_time": "2018-09-18T12:10:37.961317Z"
    }
   },
   "outputs": [
    {
     "data": {
      "text/plain": [
       "latitude     926\n",
       "longitude    926\n",
       "dtype: int64"
      ]
     },
     "execution_count": 33,
     "metadata": {},
     "output_type": "execute_result"
    }
   ],
   "source": [
    "ll_df[['latitude', 'longitude']].isnull().sum()"
   ]
  },
  {
   "cell_type": "code",
   "execution_count": 34,
   "metadata": {
    "ExecuteTime": {
     "end_time": "2018-09-18T12:10:37.987203Z",
     "start_time": "2018-09-18T12:10:37.975238Z"
    }
   },
   "outputs": [
    {
     "data": {
      "text/plain": [
       "0.008185730186413791"
      ]
     },
     "execution_count": 34,
     "metadata": {},
     "output_type": "execute_result"
    }
   ],
   "source": [
    "934 / subset_df.shape[0]"
   ]
  },
  {
   "cell_type": "markdown",
   "metadata": {},
   "source": [
    "因而, 可以忽略这 $934$ 个样本."
   ]
  },
  {
   "cell_type": "code",
   "execution_count": 35,
   "metadata": {
    "ExecuteTime": {
     "end_time": "2018-09-18T12:10:38.003200Z",
     "start_time": "2018-09-18T12:10:37.988233Z"
    },
    "scrolled": true
   },
   "outputs": [],
   "source": [
    "attrs = []\n",
    "for attr in exta_names:\n",
    "    attrs.extend(subset_df[attr][subset_df[attr].isna()].index.tolist())"
   ]
  },
  {
   "cell_type": "code",
   "execution_count": 36,
   "metadata": {
    "ExecuteTime": {
     "end_time": "2018-09-18T12:10:38.027132Z",
     "start_time": "2018-09-18T12:10:38.006155Z"
    }
   },
   "outputs": [],
   "source": [
    "attr_index = set(subset_df.index) - set(attrs)"
   ]
  },
  {
   "cell_type": "code",
   "execution_count": 37,
   "metadata": {
    "ExecuteTime": {
     "end_time": "2018-09-18T12:10:38.165726Z",
     "start_time": "2018-09-18T12:10:38.028127Z"
    }
   },
   "outputs": [],
   "source": [
    "gtd_clean = subset_df.loc[attr_index,:]"
   ]
  },
  {
   "cell_type": "code",
   "execution_count": 38,
   "metadata": {
    "ExecuteTime": {
     "end_time": "2018-09-18T12:10:38.367186Z",
     "start_time": "2018-09-18T12:10:38.167721Z"
    },
    "scrolled": true
   },
   "outputs": [
    {
     "data": {
      "text/plain": [
       "eventid                0\n",
       "iyear                  0\n",
       "imonth                 0\n",
       "iday                   0\n",
       "extended               0\n",
       "country                0\n",
       "country_txt            0\n",
       "region                 0\n",
       "region_txt             0\n",
       "provstate              0\n",
       "city                   0\n",
       "latitude               0\n",
       "longitude              0\n",
       "specificity            0\n",
       "vicinity               0\n",
       "summary                0\n",
       "crit1                  0\n",
       "crit2                  0\n",
       "crit3                  0\n",
       "doubtterr              0\n",
       "multiple               0\n",
       "success                0\n",
       "suicide                0\n",
       "attacktype1            0\n",
       "attacktype1_txt        0\n",
       "targtype1              0\n",
       "targtype1_txt          0\n",
       "targsubtype1           0\n",
       "targsubtype1_txt       0\n",
       "corp1                  0\n",
       "target1                0\n",
       "natlty1                0\n",
       "natlty1_txt            0\n",
       "gname                  0\n",
       "guncertain1            0\n",
       "individual             0\n",
       "nperpcap            4154\n",
       "claimed                0\n",
       "weaptype1              0\n",
       "weaptype1_txt          0\n",
       "weapsubtype1           0\n",
       "weapsubtype1_txt       0\n",
       "nkill               4182\n",
       "nkillus              335\n",
       "nkillter            2623\n",
       "nwound              8067\n",
       "nwoundus             552\n",
       "nwoundte            4432\n",
       "property               0\n",
       "ishostkid              0\n",
       "scite1                 0\n",
       "scite2                 0\n",
       "dbsource               0\n",
       "INT_LOG                0\n",
       "INT_IDEO               0\n",
       "INT_MISC               0\n",
       "INT_ANY                0\n",
       "dtype: int64"
      ]
     },
     "execution_count": 38,
     "metadata": {},
     "output_type": "execute_result"
    }
   ],
   "source": [
    "gtd_clean.isnull().sum()"
   ]
  },
  {
   "cell_type": "code",
   "execution_count": 40,
   "metadata": {
    "ExecuteTime": {
     "end_time": "2018-09-18T12:10:38.391122Z",
     "start_time": "2018-09-18T12:10:38.376169Z"
    },
    "scrolled": true
   },
   "outputs": [
    {
     "data": {
      "text/plain": [
       "int64      23\n",
       "object     17\n",
       "float64    17\n",
       "dtype: int64"
      ]
     },
     "execution_count": 40,
     "metadata": {},
     "output_type": "execute_result"
    }
   ],
   "source": [
    "gtd_clean.get_dtype_counts()"
   ]
  },
  {
   "cell_type": "code",
   "execution_count": 41,
   "metadata": {
    "ExecuteTime": {
     "end_time": "2018-09-18T12:10:38.405089Z",
     "start_time": "2018-09-18T12:10:38.393118Z"
    }
   },
   "outputs": [
    {
     "data": {
      "text/plain": [
       "(113175, 57)"
      ]
     },
     "execution_count": 41,
     "metadata": {},
     "output_type": "execute_result"
    }
   ],
   "source": [
    "gtd_clean.shape"
   ]
  },
  {
   "cell_type": "code",
   "execution_count": 42,
   "metadata": {
    "ExecuteTime": {
     "end_time": "2018-09-18T12:10:38.417095Z",
     "start_time": "2018-09-18T12:10:38.407080Z"
    }
   },
   "outputs": [],
   "source": [
    "names_dict = {\n",
    "    'exta_names': exta_names,\n",
    "    'cat_names': cat_names,\n",
    "    'txt_names': txt_names,\n",
    "    'cal_names': cal_names\n",
    "}"
   ]
  },
  {
   "cell_type": "code",
   "execution_count": 43,
   "metadata": {
    "ExecuteTime": {
     "end_time": "2018-09-18T12:10:38.438087Z",
     "start_time": "2018-09-18T12:10:38.419050Z"
    }
   },
   "outputs": [],
   "source": [
    "import pickle\n",
    "\n",
    "with open('./data/gtd_names.json', 'wb') as fp:\n",
    "    pickle.dump(names_dict, fp)\n",
    "\n",
    "with open('./data/gtd_names.json', 'rb') as fp:\n",
    "    s = pickle.load(fp)"
   ]
  },
  {
   "cell_type": "code",
   "execution_count": 44,
   "metadata": {
    "ExecuteTime": {
     "end_time": "2018-09-18T12:13:13.416027Z",
     "start_time": "2018-09-18T12:11:15.946548Z"
    },
    "scrolled": true
   },
   "outputs": [],
   "source": [
    "gtd_clean.to_excel(\"./data/gtd_preprocessed.xlsx\")   # 写入本地磁盘\n",
    "\n",
    "#subset_df[cal_names] = subset_df[cal_names].replace(np.nan, -1)"
   ]
  },
  {
   "cell_type": "code",
   "execution_count": null,
   "metadata": {},
   "outputs": [],
   "source": []
  }
 ],
 "metadata": {
  "kernelspec": {
   "display_name": "Python [conda env:Anaconda3]",
   "language": "python",
   "name": "conda-env-Anaconda3-py"
  },
  "language_info": {
   "codemirror_mode": {
    "name": "ipython",
    "version": 3
   },
   "file_extension": ".py",
   "mimetype": "text/x-python",
   "name": "python",
   "nbconvert_exporter": "python",
   "pygments_lexer": "ipython3",
   "version": "3.6.5"
  },
  "latex_envs": {
   "LaTeX_envs_menu_present": true,
   "autoclose": false,
   "autocomplete": true,
   "bibliofile": "biblio.bib",
   "cite_by": "apalike",
   "current_citInitial": 1,
   "eqLabelWithNumbers": true,
   "eqNumInitial": 1,
   "hotkeys": {
    "equation": "Ctrl-E",
    "itemize": "Ctrl-I"
   },
   "labels_anchors": false,
   "latex_user_defs": false,
   "report_style_numbering": false,
   "user_envs_cfg": false
  },
  "nbTranslate": {
   "displayLangs": [
    "*"
   ],
   "hotkey": "alt-t",
   "langInMainMenu": true,
   "sourceLang": "en",
   "targetLang": "fr",
   "useGoogleTranslate": true
  },
  "toc": {
   "base_numbering": 1,
   "nav_menu": {},
   "number_sections": true,
   "sideBar": true,
   "skip_h1_title": false,
   "title_cell": "Table of Contents",
   "title_sidebar": "Contents",
   "toc_cell": false,
   "toc_position": {},
   "toc_section_display": true,
   "toc_window_display": false
  },
  "varInspector": {
   "cols": {
    "lenName": 16,
    "lenType": 16,
    "lenVar": 40
   },
   "kernels_config": {
    "python": {
     "delete_cmd_postfix": "",
     "delete_cmd_prefix": "del ",
     "library": "var_list.py",
     "varRefreshCmd": "print(var_dic_list())"
    },
    "r": {
     "delete_cmd_postfix": ") ",
     "delete_cmd_prefix": "rm(",
     "library": "var_list.r",
     "varRefreshCmd": "cat(var_dic_list()) "
    }
   },
   "types_to_exclude": [
    "module",
    "function",
    "builtin_function_or_method",
    "instance",
    "_Feature"
   ],
   "window_display": false
  }
 },
 "nbformat": 4,
 "nbformat_minor": 2
}
