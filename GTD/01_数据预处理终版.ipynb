{
 "cells": [
  {
   "cell_type": "code",
   "execution_count": 2,
   "metadata": {
    "ExecuteTime": {
     "end_time": "2018-09-20T04:25:53.908512Z",
     "start_time": "2018-09-20T04:25:46.677100Z"
    },
    "scrolled": true
   },
   "outputs": [
    {
     "name": "stdout",
     "output_type": "stream",
     "text": [
      "Populating the interactive namespace from numpy and matplotlib\n",
      "<class 'pandas.core.frame.DataFrame'>\n",
      "RangeIndex: 181691 entries, 0 to 181690\n",
      "Columns: 135 entries, eventid to related\n",
      "dtypes: float64(55), int64(22), object(58)\n",
      "memory usage: 187.1+ MB\n"
     ]
    }
   ],
   "source": [
    "import pandas as pd\n",
    "import numpy as np\n",
    "\n",
    "%pylab inline\n",
    "\n",
    "gtd_df = pd.read_csv('data/globalterrorismdb_0718dist.csv', encoding='ISO-8859-1', low_memory=False)  # 载入数据\n",
    "\n",
    "gtd_df.info() # 在对数据进行处理之前应该先查看加载数据的相关信息"
   ]
  },
  {
   "cell_type": "markdown",
   "metadata": {
    "ExecuteTime": {
     "end_time": "2018-09-20T02:54:10.673159Z",
     "start_time": "2018-09-20T02:54:10.667176Z"
    }
   },
   "source": [
    "# 1997 年之前的数据处理\n",
    "\n",
    "由于一些历史遗留问题，目前只有在 1997 年后发生的事件才是系统可用的变量: `summary`, `doubtterr`, `alternative`, `multiple`, `related`, `individual`, `nperpcap`, `claimed`, `claimmode`, `compclaim`, `claim2`, `claimmode2`, `claim3`, `claimmode3`, `motive`, `ransomnote`, `addnotes`, `scite1`, `scite2`, `scite3`, 故而，我们需要将数据集划分为 1997 年前后的数据:"
   ]
  },
  {
   "cell_type": "code",
   "execution_count": 2,
   "metadata": {
    "ExecuteTime": {
     "end_time": "2018-09-20T02:50:04.819784Z",
     "start_time": "2018-09-20T02:50:04.812790Z"
    }
   },
   "outputs": [],
   "source": [
    "le_set = {\n",
    "    'summary',\n",
    "    'doubtterr',\n",
    "    'alternative',\n",
    "    'multiple',\n",
    "    'related',\n",
    "    'individual',\n",
    "    'nperpcap',\n",
    "    'claimed',\n",
    "    'claimmode',\n",
    "    'compclaim',\n",
    "    'claim2',\n",
    "    'claimmode2',\n",
    "    'claim3',\n",
    "    'claimmode3',\n",
    "    'motive',\n",
    "    'ransomnote',\n",
    "    'addnotes',\n",
    "    'scite1',\n",
    "    'scite2',\n",
    "    'scite3'\n",
    "}"
   ]
  },
  {
   "cell_type": "code",
   "execution_count": 3,
   "metadata": {
    "ExecuteTime": {
     "end_time": "2018-09-20T02:50:06.625256Z",
     "start_time": "2018-09-20T02:50:06.384902Z"
    }
   },
   "outputs": [],
   "source": [
    "names = set(gtd_df.columns)\n",
    "leV = names - le_set\n",
    "\n",
    "gtd_1997 = gtd_df.query('iyear<1998')[list(leV)]"
   ]
  },
  {
   "cell_type": "code",
   "execution_count": 4,
   "metadata": {
    "ExecuteTime": {
     "end_time": "2018-09-20T02:50:09.231566Z",
     "start_time": "2018-09-20T02:50:09.226550Z"
    }
   },
   "outputs": [
    {
     "data": {
      "text/plain": [
       "(67507, 115)"
      ]
     },
     "execution_count": 4,
     "metadata": {},
     "output_type": "execute_result"
    }
   ],
   "source": [
    "gtd_1997.shape"
   ]
  },
  {
   "cell_type": "code",
   "execution_count": 5,
   "metadata": {
    "ExecuteTime": {
     "end_time": "2018-09-20T02:50:36.467123Z",
     "start_time": "2018-09-20T02:50:36.192876Z"
    },
    "scrolled": true
   },
   "outputs": [
    {
     "data": {
      "text/html": [
       "<div>\n",
       "<style scoped>\n",
       "    .dataframe tbody tr th:only-of-type {\n",
       "        vertical-align: middle;\n",
       "    }\n",
       "\n",
       "    .dataframe tbody tr th {\n",
       "        vertical-align: top;\n",
       "    }\n",
       "\n",
       "    .dataframe thead th {\n",
       "        text-align: right;\n",
       "    }\n",
       "</style>\n",
       "<table border=\"1\" class=\"dataframe\">\n",
       "  <thead>\n",
       "    <tr style=\"text-align: right;\">\n",
       "      <th></th>\n",
       "      <th>Count</th>\n",
       "      <th>Percent</th>\n",
       "    </tr>\n",
       "  </thead>\n",
       "  <tbody>\n",
       "    <tr>\n",
       "      <th>gsubname3</th>\n",
       "      <td>67507</td>\n",
       "      <td>100.00</td>\n",
       "    </tr>\n",
       "    <tr>\n",
       "      <th>ransomamtus</th>\n",
       "      <td>67506</td>\n",
       "      <td>100.00</td>\n",
       "    </tr>\n",
       "    <tr>\n",
       "      <th>attacktype3_txt</th>\n",
       "      <td>67504</td>\n",
       "      <td>100.00</td>\n",
       "    </tr>\n",
       "    <tr>\n",
       "      <th>attacktype3</th>\n",
       "      <td>67504</td>\n",
       "      <td>100.00</td>\n",
       "    </tr>\n",
       "    <tr>\n",
       "      <th>ransompaidus</th>\n",
       "      <td>67502</td>\n",
       "      <td>99.99</td>\n",
       "    </tr>\n",
       "    <tr>\n",
       "      <th>gsubname2</th>\n",
       "      <td>67501</td>\n",
       "      <td>99.99</td>\n",
       "    </tr>\n",
       "    <tr>\n",
       "      <th>claimmode3_txt</th>\n",
       "      <td>67499</td>\n",
       "      <td>99.99</td>\n",
       "    </tr>\n",
       "    <tr>\n",
       "      <th>gname3</th>\n",
       "      <td>67496</td>\n",
       "      <td>99.98</td>\n",
       "    </tr>\n",
       "    <tr>\n",
       "      <th>guncertain3</th>\n",
       "      <td>67496</td>\n",
       "      <td>99.98</td>\n",
       "    </tr>\n",
       "    <tr>\n",
       "      <th>claimmode2_txt</th>\n",
       "      <td>67488</td>\n",
       "      <td>99.97</td>\n",
       "    </tr>\n",
       "    <tr>\n",
       "      <th>approxdate</th>\n",
       "      <td>67476</td>\n",
       "      <td>99.95</td>\n",
       "    </tr>\n",
       "    <tr>\n",
       "      <th>attacktype2</th>\n",
       "      <td>67455</td>\n",
       "      <td>99.92</td>\n",
       "    </tr>\n",
       "    <tr>\n",
       "      <th>attacktype2_txt</th>\n",
       "      <td>67455</td>\n",
       "      <td>99.92</td>\n",
       "    </tr>\n",
       "    <tr>\n",
       "      <th>weapsubtype4_txt</th>\n",
       "      <td>67443</td>\n",
       "      <td>99.91</td>\n",
       "    </tr>\n",
       "    <tr>\n",
       "      <th>weapsubtype4</th>\n",
       "      <td>67443</td>\n",
       "      <td>99.91</td>\n",
       "    </tr>\n",
       "    <tr>\n",
       "      <th>weaptype4_txt</th>\n",
       "      <td>67439</td>\n",
       "      <td>99.90</td>\n",
       "    </tr>\n",
       "    <tr>\n",
       "      <th>weaptype4</th>\n",
       "      <td>67439</td>\n",
       "      <td>99.90</td>\n",
       "    </tr>\n",
       "    <tr>\n",
       "      <th>corp3</th>\n",
       "      <td>67411</td>\n",
       "      <td>99.86</td>\n",
       "    </tr>\n",
       "    <tr>\n",
       "      <th>targsubtype3_txt</th>\n",
       "      <td>67388</td>\n",
       "      <td>99.82</td>\n",
       "    </tr>\n",
       "    <tr>\n",
       "      <th>targsubtype3</th>\n",
       "      <td>67388</td>\n",
       "      <td>99.82</td>\n",
       "    </tr>\n",
       "    <tr>\n",
       "      <th>natlty3_txt</th>\n",
       "      <td>67363</td>\n",
       "      <td>99.79</td>\n",
       "    </tr>\n",
       "    <tr>\n",
       "      <th>natlty3</th>\n",
       "      <td>67363</td>\n",
       "      <td>99.79</td>\n",
       "    </tr>\n",
       "    <tr>\n",
       "      <th>target3</th>\n",
       "      <td>67363</td>\n",
       "      <td>99.79</td>\n",
       "    </tr>\n",
       "    <tr>\n",
       "      <th>targtype3_txt</th>\n",
       "      <td>67361</td>\n",
       "      <td>99.78</td>\n",
       "    </tr>\n",
       "    <tr>\n",
       "      <th>targtype3</th>\n",
       "      <td>67361</td>\n",
       "      <td>99.78</td>\n",
       "    </tr>\n",
       "    <tr>\n",
       "      <th>guncertain2</th>\n",
       "      <td>67358</td>\n",
       "      <td>99.78</td>\n",
       "    </tr>\n",
       "    <tr>\n",
       "      <th>gname2</th>\n",
       "      <td>67358</td>\n",
       "      <td>99.78</td>\n",
       "    </tr>\n",
       "    <tr>\n",
       "      <th>ransompaid</th>\n",
       "      <td>67343</td>\n",
       "      <td>99.76</td>\n",
       "    </tr>\n",
       "    <tr>\n",
       "      <th>divert</th>\n",
       "      <td>67340</td>\n",
       "      <td>99.75</td>\n",
       "    </tr>\n",
       "    <tr>\n",
       "      <th>claimmode_txt</th>\n",
       "      <td>67153</td>\n",
       "      <td>99.48</td>\n",
       "    </tr>\n",
       "    <tr>\n",
       "      <th>...</th>\n",
       "      <td>...</td>\n",
       "      <td>...</td>\n",
       "    </tr>\n",
       "    <tr>\n",
       "      <th>eventid</th>\n",
       "      <td>0</td>\n",
       "      <td>0.00</td>\n",
       "    </tr>\n",
       "    <tr>\n",
       "      <th>weaptype1</th>\n",
       "      <td>0</td>\n",
       "      <td>0.00</td>\n",
       "    </tr>\n",
       "    <tr>\n",
       "      <th>extended</th>\n",
       "      <td>0</td>\n",
       "      <td>0.00</td>\n",
       "    </tr>\n",
       "    <tr>\n",
       "      <th>dbsource</th>\n",
       "      <td>0</td>\n",
       "      <td>0.00</td>\n",
       "    </tr>\n",
       "    <tr>\n",
       "      <th>vicinity</th>\n",
       "      <td>0</td>\n",
       "      <td>0.00</td>\n",
       "    </tr>\n",
       "    <tr>\n",
       "      <th>INT_LOG</th>\n",
       "      <td>0</td>\n",
       "      <td>0.00</td>\n",
       "    </tr>\n",
       "    <tr>\n",
       "      <th>suicide</th>\n",
       "      <td>0</td>\n",
       "      <td>0.00</td>\n",
       "    </tr>\n",
       "    <tr>\n",
       "      <th>guncertain1</th>\n",
       "      <td>0</td>\n",
       "      <td>0.00</td>\n",
       "    </tr>\n",
       "    <tr>\n",
       "      <th>city</th>\n",
       "      <td>0</td>\n",
       "      <td>0.00</td>\n",
       "    </tr>\n",
       "    <tr>\n",
       "      <th>success</th>\n",
       "      <td>0</td>\n",
       "      <td>0.00</td>\n",
       "    </tr>\n",
       "    <tr>\n",
       "      <th>INT_ANY</th>\n",
       "      <td>0</td>\n",
       "      <td>0.00</td>\n",
       "    </tr>\n",
       "    <tr>\n",
       "      <th>iday</th>\n",
       "      <td>0</td>\n",
       "      <td>0.00</td>\n",
       "    </tr>\n",
       "    <tr>\n",
       "      <th>crit3</th>\n",
       "      <td>0</td>\n",
       "      <td>0.00</td>\n",
       "    </tr>\n",
       "    <tr>\n",
       "      <th>attacktype1</th>\n",
       "      <td>0</td>\n",
       "      <td>0.00</td>\n",
       "    </tr>\n",
       "    <tr>\n",
       "      <th>region_txt</th>\n",
       "      <td>0</td>\n",
       "      <td>0.00</td>\n",
       "    </tr>\n",
       "    <tr>\n",
       "      <th>country</th>\n",
       "      <td>0</td>\n",
       "      <td>0.00</td>\n",
       "    </tr>\n",
       "    <tr>\n",
       "      <th>iyear</th>\n",
       "      <td>0</td>\n",
       "      <td>0.00</td>\n",
       "    </tr>\n",
       "    <tr>\n",
       "      <th>region</th>\n",
       "      <td>0</td>\n",
       "      <td>0.00</td>\n",
       "    </tr>\n",
       "    <tr>\n",
       "      <th>INT_MISC</th>\n",
       "      <td>0</td>\n",
       "      <td>0.00</td>\n",
       "    </tr>\n",
       "    <tr>\n",
       "      <th>property</th>\n",
       "      <td>0</td>\n",
       "      <td>0.00</td>\n",
       "    </tr>\n",
       "    <tr>\n",
       "      <th>crit2</th>\n",
       "      <td>0</td>\n",
       "      <td>0.00</td>\n",
       "    </tr>\n",
       "    <tr>\n",
       "      <th>attacktype1_txt</th>\n",
       "      <td>0</td>\n",
       "      <td>0.00</td>\n",
       "    </tr>\n",
       "    <tr>\n",
       "      <th>gname</th>\n",
       "      <td>0</td>\n",
       "      <td>0.00</td>\n",
       "    </tr>\n",
       "    <tr>\n",
       "      <th>country_txt</th>\n",
       "      <td>0</td>\n",
       "      <td>0.00</td>\n",
       "    </tr>\n",
       "    <tr>\n",
       "      <th>INT_IDEO</th>\n",
       "      <td>0</td>\n",
       "      <td>0.00</td>\n",
       "    </tr>\n",
       "    <tr>\n",
       "      <th>weaptype1_txt</th>\n",
       "      <td>0</td>\n",
       "      <td>0.00</td>\n",
       "    </tr>\n",
       "    <tr>\n",
       "      <th>imonth</th>\n",
       "      <td>0</td>\n",
       "      <td>0.00</td>\n",
       "    </tr>\n",
       "    <tr>\n",
       "      <th>crit1</th>\n",
       "      <td>0</td>\n",
       "      <td>0.00</td>\n",
       "    </tr>\n",
       "    <tr>\n",
       "      <th>targtype1</th>\n",
       "      <td>0</td>\n",
       "      <td>0.00</td>\n",
       "    </tr>\n",
       "    <tr>\n",
       "      <th>specificity</th>\n",
       "      <td>0</td>\n",
       "      <td>0.00</td>\n",
       "    </tr>\n",
       "  </tbody>\n",
       "</table>\n",
       "<p>115 rows × 2 columns</p>\n",
       "</div>"
      ],
      "text/plain": [
       "                  Count  Percent\n",
       "gsubname3         67507   100.00\n",
       "ransomamtus       67506   100.00\n",
       "attacktype3_txt   67504   100.00\n",
       "attacktype3       67504   100.00\n",
       "ransompaidus      67502    99.99\n",
       "gsubname2         67501    99.99\n",
       "claimmode3_txt    67499    99.99\n",
       "gname3            67496    99.98\n",
       "guncertain3       67496    99.98\n",
       "claimmode2_txt    67488    99.97\n",
       "approxdate        67476    99.95\n",
       "attacktype2       67455    99.92\n",
       "attacktype2_txt   67455    99.92\n",
       "weapsubtype4_txt  67443    99.91\n",
       "weapsubtype4      67443    99.91\n",
       "weaptype4_txt     67439    99.90\n",
       "weaptype4         67439    99.90\n",
       "corp3             67411    99.86\n",
       "targsubtype3_txt  67388    99.82\n",
       "targsubtype3      67388    99.82\n",
       "natlty3_txt       67363    99.79\n",
       "natlty3           67363    99.79\n",
       "target3           67363    99.79\n",
       "targtype3_txt     67361    99.78\n",
       "targtype3         67361    99.78\n",
       "guncertain2       67358    99.78\n",
       "gname2            67358    99.78\n",
       "ransompaid        67343    99.76\n",
       "divert            67340    99.75\n",
       "claimmode_txt     67153    99.48\n",
       "...                 ...      ...\n",
       "eventid               0     0.00\n",
       "weaptype1             0     0.00\n",
       "extended              0     0.00\n",
       "dbsource              0     0.00\n",
       "vicinity              0     0.00\n",
       "INT_LOG               0     0.00\n",
       "suicide               0     0.00\n",
       "guncertain1           0     0.00\n",
       "city                  0     0.00\n",
       "success               0     0.00\n",
       "INT_ANY               0     0.00\n",
       "iday                  0     0.00\n",
       "crit3                 0     0.00\n",
       "attacktype1           0     0.00\n",
       "region_txt            0     0.00\n",
       "country               0     0.00\n",
       "iyear                 0     0.00\n",
       "region                0     0.00\n",
       "INT_MISC              0     0.00\n",
       "property              0     0.00\n",
       "crit2                 0     0.00\n",
       "attacktype1_txt       0     0.00\n",
       "gname                 0     0.00\n",
       "country_txt           0     0.00\n",
       "INT_IDEO              0     0.00\n",
       "weaptype1_txt         0     0.00\n",
       "imonth                0     0.00\n",
       "crit1                 0     0.00\n",
       "targtype1             0     0.00\n",
       "specificity           0     0.00\n",
       "\n",
       "[115 rows x 2 columns]"
      ]
     },
     "execution_count": 5,
     "metadata": {},
     "output_type": "execute_result"
    }
   ],
   "source": [
    "count_1997 = gtd_1997.isnull().sum()\n",
    "percent = round(count_1997 / gtd_1997.shape[0] * 100, 2)\n",
    "series = [count_1997, percent]\n",
    "result = pd.concat(series, axis=1, keys=['Count','Percent'])\n",
    "result.sort_values(by='Count', ascending=False)  # 按缺失值数量倒序"
   ]
  },
  {
   "cell_type": "code",
   "execution_count": 6,
   "metadata": {
    "ExecuteTime": {
     "end_time": "2018-09-20T02:50:46.188503Z",
     "start_time": "2018-09-20T02:50:46.184543Z"
    }
   },
   "outputs": [
    {
     "name": "stdout",
     "output_type": "stream",
     "text": [
      "特征所占比例: 0.66\n"
     ]
    }
   ],
   "source": [
    "target_attrs = result[result['Percent']<99]\n",
    "print('特征所占比例:', round(target_attrs.shape[0]/result.shape[0], 2))"
   ]
  },
  {
   "cell_type": "markdown",
   "metadata": {},
   "source": [
    "缺失值占比超过 $99\\%$ 占比达 $33\\%$。故而，我们可以直接将其丢弃。"
   ]
  },
  {
   "cell_type": "code",
   "execution_count": 11,
   "metadata": {
    "ExecuteTime": {
     "end_time": "2018-09-20T02:51:44.993093Z",
     "start_time": "2018-09-20T02:51:44.986106Z"
    }
   },
   "outputs": [
    {
     "data": {
      "text/plain": [
       "0.38"
      ]
     },
     "execution_count": 11,
     "metadata": {},
     "output_type": "execute_result"
    }
   ],
   "source": [
    "df_50_90 = target_attrs[50<target_attrs['Percent']]\n",
    "round(df_50_90.shape[0]/target_attrs.shape[0], 2)  # 特征数所占比例"
   ]
  },
  {
   "cell_type": "markdown",
   "metadata": {},
   "source": [
    "缺失值所占比例并不多，故而我们仅仅取缺失值占比小于 $50$，且下面主要看看 1997 年前的数据的 text 变量:"
   ]
  },
  {
   "cell_type": "code",
   "execution_count": 12,
   "metadata": {
    "ExecuteTime": {
     "end_time": "2018-09-20T02:52:04.242945Z",
     "start_time": "2018-09-20T02:52:04.202082Z"
    }
   },
   "outputs": [],
   "source": [
    "gtd_1997 = gtd_1997[result[result['Percent']<50].index.tolist()]"
   ]
  },
  {
   "cell_type": "code",
   "execution_count": 13,
   "metadata": {
    "ExecuteTime": {
     "end_time": "2018-09-20T02:52:32.770302Z",
     "start_time": "2018-09-20T02:52:32.688534Z"
    }
   },
   "outputs": [
    {
     "data": {
      "text/plain": [
       "array([False,  True])"
      ]
     },
     "execution_count": 13,
     "metadata": {},
     "output_type": "execute_result"
    }
   ],
   "source": [
    "np.unique(gtd_1997.select_dtypes('object').isin(['Unknown']))"
   ]
  },
  {
   "cell_type": "markdown",
   "metadata": {},
   "source": [
    "`gtd_1997` 中存在值 `'Unknown'`，故而，我们将文本变量的所有缺失值替换为 `'Unknown'`。"
   ]
  },
  {
   "cell_type": "code",
   "execution_count": 15,
   "metadata": {
    "ExecuteTime": {
     "end_time": "2018-09-20T02:52:52.093084Z",
     "start_time": "2018-09-20T02:52:51.880628Z"
    }
   },
   "outputs": [
    {
     "data": {
      "text/plain": [
       "array([0], dtype=int64)"
      ]
     },
     "execution_count": 15,
     "metadata": {},
     "output_type": "execute_result"
    }
   ],
   "source": [
    "txt_index_1997 = gtd_1997.select_dtypes('object').columns.tolist()\n",
    "\n",
    "gtd_1997[txt_index_1997] = gtd_1997[txt_index_1997].replace(np.nan, 'Unknown')\n",
    "\n",
    "np.unique(gtd_1997[txt_index_1997].isnull().sum())  # 文本变量的缺失值填充完毕"
   ]
  },
  {
   "cell_type": "code",
   "execution_count": 16,
   "metadata": {
    "ExecuteTime": {
     "end_time": "2018-09-20T02:52:54.516261Z",
     "start_time": "2018-09-20T02:52:54.409596Z"
    },
    "scrolled": true
   },
   "outputs": [
    {
     "data": {
      "text/plain": [
       "longitude            3623\n",
       "nkill                6033\n",
       "weapdetail              0\n",
       "region_txt              0\n",
       "eventid                 0\n",
       "specificity             0\n",
       "corp1                   0\n",
       "extended                0\n",
       "iday                    0\n",
       "guncertain1             0\n",
       "target1                 0\n",
       "natlty1_txt             0\n",
       "INT_ANY                 0\n",
       "crit3                   0\n",
       "attacktype1             0\n",
       "country                 0\n",
       "natlty1               433\n",
       "iyear                   0\n",
       "region                  0\n",
       "INT_MISC                0\n",
       "property                0\n",
       "crit2                   0\n",
       "provstate               0\n",
       "attacktype1_txt         0\n",
       "gname                   0\n",
       "country_txt             0\n",
       "INT_IDEO                0\n",
       "weaptype1_txt           0\n",
       "imonth                  0\n",
       "ishostkid             175\n",
       "crit1                   0\n",
       "weapsubtype1        11677\n",
       "targtype1               0\n",
       "success                 0\n",
       "city                    0\n",
       "suicide                 0\n",
       "targsubtype1         3340\n",
       "vicinity                0\n",
       "ransom                387\n",
       "weapsubtype1_txt        0\n",
       "targtype1_txt           0\n",
       "INT_LOG                 0\n",
       "dbsource                0\n",
       "weaptype1               0\n",
       "nwound               8079\n",
       "targsubtype1_txt        0\n",
       "latitude             3622\n",
       "dtype: int64"
      ]
     },
     "execution_count": 16,
     "metadata": {},
     "output_type": "execute_result"
    }
   ],
   "source": [
    "gtd_1997.isnull().sum()"
   ]
  },
  {
   "cell_type": "code",
   "execution_count": 19,
   "metadata": {
    "ExecuteTime": {
     "end_time": "2018-09-20T02:55:35.677209Z",
     "start_time": "2018-09-20T02:55:35.007927Z"
    }
   },
   "outputs": [],
   "source": [
    "gtd_1997.to_hdf('./data/gtd_1997.h5', 'gtd_1997')"
   ]
  },
  {
   "cell_type": "markdown",
   "metadata": {},
   "source": [
    "# 1997 年之后的数据处理"
   ]
  },
  {
   "cell_type": "code",
   "execution_count": 3,
   "metadata": {
    "ExecuteTime": {
     "end_time": "2018-09-20T04:26:18.066394Z",
     "start_time": "2018-09-20T04:26:11.892868Z"
    }
   },
   "outputs": [],
   "source": [
    "df = pd.read_csv('data/globalterrorismdb_0718dist.csv', encoding='ISO-8859-1', low_memory=False)  # 载入数据"
   ]
  },
  {
   "cell_type": "code",
   "execution_count": 4,
   "metadata": {
    "ExecuteTime": {
     "end_time": "2018-09-20T04:26:18.823337Z",
     "start_time": "2018-09-20T04:26:18.546077Z"
    }
   },
   "outputs": [],
   "source": [
    "gtd_df = df.query('iyear>1997')"
   ]
  },
  {
   "cell_type": "code",
   "execution_count": 5,
   "metadata": {
    "ExecuteTime": {
     "end_time": "2018-09-20T04:26:19.917411Z",
     "start_time": "2018-09-20T04:26:19.356910Z"
    },
    "scrolled": true
   },
   "outputs": [
    {
     "name": "stdout",
     "output_type": "stream",
     "text": [
      "数据的尺寸: (114184, 135)\n"
     ]
    },
    {
     "data": {
      "text/html": [
       "<div>\n",
       "<style scoped>\n",
       "    .dataframe tbody tr th:only-of-type {\n",
       "        vertical-align: middle;\n",
       "    }\n",
       "\n",
       "    .dataframe tbody tr th {\n",
       "        vertical-align: top;\n",
       "    }\n",
       "\n",
       "    .dataframe thead th {\n",
       "        text-align: right;\n",
       "    }\n",
       "</style>\n",
       "<table border=\"1\" class=\"dataframe\">\n",
       "  <thead>\n",
       "    <tr style=\"text-align: right;\">\n",
       "      <th></th>\n",
       "      <th>Count</th>\n",
       "      <th>Percent</th>\n",
       "    </tr>\n",
       "  </thead>\n",
       "  <tbody>\n",
       "    <tr>\n",
       "      <th>weaptype4</th>\n",
       "      <td>114179</td>\n",
       "      <td>100.00</td>\n",
       "    </tr>\n",
       "    <tr>\n",
       "      <th>weaptype4_txt</th>\n",
       "      <td>114179</td>\n",
       "      <td>100.00</td>\n",
       "    </tr>\n",
       "    <tr>\n",
       "      <th>weapsubtype4</th>\n",
       "      <td>114178</td>\n",
       "      <td>99.99</td>\n",
       "    </tr>\n",
       "    <tr>\n",
       "      <th>weapsubtype4_txt</th>\n",
       "      <td>114178</td>\n",
       "      <td>99.99</td>\n",
       "    </tr>\n",
       "    <tr>\n",
       "      <th>gsubname3</th>\n",
       "      <td>114164</td>\n",
       "      <td>99.98</td>\n",
       "    </tr>\n",
       "    <tr>\n",
       "      <th>claimmode3</th>\n",
       "      <td>114059</td>\n",
       "      <td>99.89</td>\n",
       "    </tr>\n",
       "    <tr>\n",
       "      <th>claimmode3_txt</th>\n",
       "      <td>114059</td>\n",
       "      <td>99.89</td>\n",
       "    </tr>\n",
       "    <tr>\n",
       "      <th>gsubname2</th>\n",
       "      <td>114030</td>\n",
       "      <td>99.87</td>\n",
       "    </tr>\n",
       "    <tr>\n",
       "      <th>divert</th>\n",
       "      <td>114027</td>\n",
       "      <td>99.86</td>\n",
       "    </tr>\n",
       "    <tr>\n",
       "      <th>kidhijcountry</th>\n",
       "      <td>113972</td>\n",
       "      <td>99.81</td>\n",
       "    </tr>\n",
       "    <tr>\n",
       "      <th>guncertain3</th>\n",
       "      <td>113875</td>\n",
       "      <td>99.73</td>\n",
       "    </tr>\n",
       "    <tr>\n",
       "      <th>claim3</th>\n",
       "      <td>113874</td>\n",
       "      <td>99.73</td>\n",
       "    </tr>\n",
       "    <tr>\n",
       "      <th>gname3</th>\n",
       "      <td>113871</td>\n",
       "      <td>99.73</td>\n",
       "    </tr>\n",
       "    <tr>\n",
       "      <th>attacktype3_txt</th>\n",
       "      <td>113759</td>\n",
       "      <td>99.63</td>\n",
       "    </tr>\n",
       "    <tr>\n",
       "      <th>attacktype3</th>\n",
       "      <td>113759</td>\n",
       "      <td>99.63</td>\n",
       "    </tr>\n",
       "    <tr>\n",
       "      <th>ransomnote</th>\n",
       "      <td>113677</td>\n",
       "      <td>99.56</td>\n",
       "    </tr>\n",
       "    <tr>\n",
       "      <th>ransompaidus</th>\n",
       "      <td>113637</td>\n",
       "      <td>99.52</td>\n",
       "    </tr>\n",
       "    <tr>\n",
       "      <th>ransomamtus</th>\n",
       "      <td>113622</td>\n",
       "      <td>99.51</td>\n",
       "    </tr>\n",
       "    <tr>\n",
       "      <th>claimmode2</th>\n",
       "      <td>113587</td>\n",
       "      <td>99.48</td>\n",
       "    </tr>\n",
       "    <tr>\n",
       "      <th>claimmode2_txt</th>\n",
       "      <td>113587</td>\n",
       "      <td>99.48</td>\n",
       "    </tr>\n",
       "    <tr>\n",
       "      <th>ransompaid</th>\n",
       "      <td>113574</td>\n",
       "      <td>99.47</td>\n",
       "    </tr>\n",
       "    <tr>\n",
       "      <th>ransomamt</th>\n",
       "      <td>113508</td>\n",
       "      <td>99.41</td>\n",
       "    </tr>\n",
       "    <tr>\n",
       "      <th>resolution</th>\n",
       "      <td>113267</td>\n",
       "      <td>99.20</td>\n",
       "    </tr>\n",
       "    <tr>\n",
       "      <th>corp3</th>\n",
       "      <td>113254</td>\n",
       "      <td>99.19</td>\n",
       "    </tr>\n",
       "    <tr>\n",
       "      <th>targsubtype3</th>\n",
       "      <td>113206</td>\n",
       "      <td>99.14</td>\n",
       "    </tr>\n",
       "    <tr>\n",
       "      <th>targsubtype3_txt</th>\n",
       "      <td>113206</td>\n",
       "      <td>99.14</td>\n",
       "    </tr>\n",
       "    <tr>\n",
       "      <th>natlty3</th>\n",
       "      <td>113181</td>\n",
       "      <td>99.12</td>\n",
       "    </tr>\n",
       "    <tr>\n",
       "      <th>natlty3_txt</th>\n",
       "      <td>113181</td>\n",
       "      <td>99.12</td>\n",
       "    </tr>\n",
       "    <tr>\n",
       "      <th>targtype3</th>\n",
       "      <td>113154</td>\n",
       "      <td>99.10</td>\n",
       "    </tr>\n",
       "    <tr>\n",
       "      <th>targtype3_txt</th>\n",
       "      <td>113154</td>\n",
       "      <td>99.10</td>\n",
       "    </tr>\n",
       "    <tr>\n",
       "      <th>...</th>\n",
       "      <td>...</td>\n",
       "      <td>...</td>\n",
       "    </tr>\n",
       "    <tr>\n",
       "      <th>extended</th>\n",
       "      <td>0</td>\n",
       "      <td>0.00</td>\n",
       "    </tr>\n",
       "    <tr>\n",
       "      <th>iday</th>\n",
       "      <td>0</td>\n",
       "      <td>0.00</td>\n",
       "    </tr>\n",
       "    <tr>\n",
       "      <th>imonth</th>\n",
       "      <td>0</td>\n",
       "      <td>0.00</td>\n",
       "    </tr>\n",
       "    <tr>\n",
       "      <th>individual</th>\n",
       "      <td>0</td>\n",
       "      <td>0.00</td>\n",
       "    </tr>\n",
       "    <tr>\n",
       "      <th>crit1</th>\n",
       "      <td>0</td>\n",
       "      <td>0.00</td>\n",
       "    </tr>\n",
       "    <tr>\n",
       "      <th>region</th>\n",
       "      <td>0</td>\n",
       "      <td>0.00</td>\n",
       "    </tr>\n",
       "    <tr>\n",
       "      <th>iyear</th>\n",
       "      <td>0</td>\n",
       "      <td>0.00</td>\n",
       "    </tr>\n",
       "    <tr>\n",
       "      <th>gname</th>\n",
       "      <td>0</td>\n",
       "      <td>0.00</td>\n",
       "    </tr>\n",
       "    <tr>\n",
       "      <th>dbsource</th>\n",
       "      <td>0</td>\n",
       "      <td>0.00</td>\n",
       "    </tr>\n",
       "    <tr>\n",
       "      <th>INT_LOG</th>\n",
       "      <td>0</td>\n",
       "      <td>0.00</td>\n",
       "    </tr>\n",
       "    <tr>\n",
       "      <th>INT_IDEO</th>\n",
       "      <td>0</td>\n",
       "      <td>0.00</td>\n",
       "    </tr>\n",
       "    <tr>\n",
       "      <th>INT_MISC</th>\n",
       "      <td>0</td>\n",
       "      <td>0.00</td>\n",
       "    </tr>\n",
       "    <tr>\n",
       "      <th>INT_ANY</th>\n",
       "      <td>0</td>\n",
       "      <td>0.00</td>\n",
       "    </tr>\n",
       "    <tr>\n",
       "      <th>country_txt</th>\n",
       "      <td>0</td>\n",
       "      <td>0.00</td>\n",
       "    </tr>\n",
       "    <tr>\n",
       "      <th>claimed</th>\n",
       "      <td>0</td>\n",
       "      <td>0.00</td>\n",
       "    </tr>\n",
       "    <tr>\n",
       "      <th>region_txt</th>\n",
       "      <td>0</td>\n",
       "      <td>0.00</td>\n",
       "    </tr>\n",
       "    <tr>\n",
       "      <th>crit2</th>\n",
       "      <td>0</td>\n",
       "      <td>0.00</td>\n",
       "    </tr>\n",
       "    <tr>\n",
       "      <th>targtype1_txt</th>\n",
       "      <td>0</td>\n",
       "      <td>0.00</td>\n",
       "    </tr>\n",
       "    <tr>\n",
       "      <th>vicinity</th>\n",
       "      <td>0</td>\n",
       "      <td>0.00</td>\n",
       "    </tr>\n",
       "    <tr>\n",
       "      <th>weaptype1</th>\n",
       "      <td>0</td>\n",
       "      <td>0.00</td>\n",
       "    </tr>\n",
       "    <tr>\n",
       "      <th>summary</th>\n",
       "      <td>0</td>\n",
       "      <td>0.00</td>\n",
       "    </tr>\n",
       "    <tr>\n",
       "      <th>weaptype1_txt</th>\n",
       "      <td>0</td>\n",
       "      <td>0.00</td>\n",
       "    </tr>\n",
       "    <tr>\n",
       "      <th>targtype1</th>\n",
       "      <td>0</td>\n",
       "      <td>0.00</td>\n",
       "    </tr>\n",
       "    <tr>\n",
       "      <th>attacktype1_txt</th>\n",
       "      <td>0</td>\n",
       "      <td>0.00</td>\n",
       "    </tr>\n",
       "    <tr>\n",
       "      <th>attacktype1</th>\n",
       "      <td>0</td>\n",
       "      <td>0.00</td>\n",
       "    </tr>\n",
       "    <tr>\n",
       "      <th>property</th>\n",
       "      <td>0</td>\n",
       "      <td>0.00</td>\n",
       "    </tr>\n",
       "    <tr>\n",
       "      <th>suicide</th>\n",
       "      <td>0</td>\n",
       "      <td>0.00</td>\n",
       "    </tr>\n",
       "    <tr>\n",
       "      <th>success</th>\n",
       "      <td>0</td>\n",
       "      <td>0.00</td>\n",
       "    </tr>\n",
       "    <tr>\n",
       "      <th>crit3</th>\n",
       "      <td>0</td>\n",
       "      <td>0.00</td>\n",
       "    </tr>\n",
       "    <tr>\n",
       "      <th>eventid</th>\n",
       "      <td>0</td>\n",
       "      <td>0.00</td>\n",
       "    </tr>\n",
       "  </tbody>\n",
       "</table>\n",
       "<p>135 rows × 2 columns</p>\n",
       "</div>"
      ],
      "text/plain": [
       "                   Count  Percent\n",
       "weaptype4         114179   100.00\n",
       "weaptype4_txt     114179   100.00\n",
       "weapsubtype4      114178    99.99\n",
       "weapsubtype4_txt  114178    99.99\n",
       "gsubname3         114164    99.98\n",
       "claimmode3        114059    99.89\n",
       "claimmode3_txt    114059    99.89\n",
       "gsubname2         114030    99.87\n",
       "divert            114027    99.86\n",
       "kidhijcountry     113972    99.81\n",
       "guncertain3       113875    99.73\n",
       "claim3            113874    99.73\n",
       "gname3            113871    99.73\n",
       "attacktype3_txt   113759    99.63\n",
       "attacktype3       113759    99.63\n",
       "ransomnote        113677    99.56\n",
       "ransompaidus      113637    99.52\n",
       "ransomamtus       113622    99.51\n",
       "claimmode2        113587    99.48\n",
       "claimmode2_txt    113587    99.48\n",
       "ransompaid        113574    99.47\n",
       "ransomamt         113508    99.41\n",
       "resolution        113267    99.20\n",
       "corp3             113254    99.19\n",
       "targsubtype3      113206    99.14\n",
       "targsubtype3_txt  113206    99.14\n",
       "natlty3           113181    99.12\n",
       "natlty3_txt       113181    99.12\n",
       "targtype3         113154    99.10\n",
       "targtype3_txt     113154    99.10\n",
       "...                  ...      ...\n",
       "extended               0     0.00\n",
       "iday                   0     0.00\n",
       "imonth                 0     0.00\n",
       "individual             0     0.00\n",
       "crit1                  0     0.00\n",
       "region                 0     0.00\n",
       "iyear                  0     0.00\n",
       "gname                  0     0.00\n",
       "dbsource               0     0.00\n",
       "INT_LOG                0     0.00\n",
       "INT_IDEO               0     0.00\n",
       "INT_MISC               0     0.00\n",
       "INT_ANY                0     0.00\n",
       "country_txt            0     0.00\n",
       "claimed                0     0.00\n",
       "region_txt             0     0.00\n",
       "crit2                  0     0.00\n",
       "targtype1_txt          0     0.00\n",
       "vicinity               0     0.00\n",
       "weaptype1              0     0.00\n",
       "summary                0     0.00\n",
       "weaptype1_txt          0     0.00\n",
       "targtype1              0     0.00\n",
       "attacktype1_txt        0     0.00\n",
       "attacktype1            0     0.00\n",
       "property               0     0.00\n",
       "suicide                0     0.00\n",
       "success                0     0.00\n",
       "crit3                  0     0.00\n",
       "eventid                0     0.00\n",
       "\n",
       "[135 rows x 2 columns]"
      ]
     },
     "execution_count": 5,
     "metadata": {},
     "output_type": "execute_result"
    }
   ],
   "source": [
    "# total no of columns and rows present in data\n",
    "print(\"数据的尺寸:\",gtd_df.shape)\n",
    "\n",
    "# Check the number of missing values in each attribute\n",
    "count = gtd_df.isnull().sum()\n",
    "percent = round(count / gtd_df.shape[0] * 100, 2)\n",
    "series = [count, percent]\n",
    "result = pd.concat(series, axis=1, keys=['Count','Percent'])\n",
    "result.sort_values(by='Count', ascending=False)  # 按缺失值数量倒序"
   ]
  },
  {
   "cell_type": "markdown",
   "metadata": {
    "ExecuteTime": {
     "end_time": "2018-09-15T14:05:08.024107Z",
     "start_time": "2018-09-15T14:04:59.694365Z"
    }
   },
   "source": [
    "也可:\n",
    "    \n",
    "```py\n",
    "# Removing columns which has 80% null values\n",
    "def remove_columns_missing_values(data, min_threshold):\n",
    "    for col in data.columns:\n",
    "        rate = data[col].isnull().sum()/float(len(data)) * 100\n",
    "        if rate >= min_threshold:\n",
    "            data = data.drop(col, 1)\n",
    "    return data\n",
    "\n",
    "data = remove_columns_missing_values(df , 80)\n",
    "print(\"可以得到的特征 :\",len(data.columns))\n",
    "```\n",
    "\n",
    "Pandas 中进行数据类型转换有三种基本方法：\n",
    "\n",
    "- 使用 `astype()` 函数进行强制类型转换\n",
    "- 自定义函数进行数据类型转换\n",
    "- 使用 Pandas 提供的函数如 `to_numeric()`、`to_datetime()`\n",
    "\n",
    "注意: 从上面两个例子可以看出，当待转换列中含有不能转换的特殊值时(例子中￥,ErrorValue等)astype()函数将失效。有些时候 `astype()` 函数执行成功了也并不一定代表着执行结果符合预期(神坑!）\n",
    "\n",
    "参考: \n",
    "\n",
    "- [Pandas数据类型转换的几个小技巧](https://segmentfault.com/a/1190000014713098)\n",
    "- [【原】十分钟搞定pandas](https://www.cnblogs.com/chaosimple/p/4153083.html)\n",
    "\n",
    "\n",
    "## 在Pandas中更改列的数据类型\n",
    "\n",
    "- `pd.to_datetime` 和 `pd.to_timedelta` 可将数据转换为日期和时间戳。\n",
    "- `infer_objects()` 方法，用于将具有对象数据类型的 DataFrame 的列转换为更具体的类型。\n",
    "\n",
    "## 查看数据类型\n",
    "\n",
    "- `df.dtypes`\n",
    "- `series.dtype`\n",
    "- `get_dtype_counts()`\n",
    "\n",
    "如果一列中含有多个类型,则该列的类型会是 `object`,同样字符串类型的列也会被当成 `object` 类型. \n",
    "不同的数据类型也会被当成 `object`,比如 `int32`,`float32`."
   ]
  },
  {
   "cell_type": "code",
   "execution_count": 6,
   "metadata": {
    "ExecuteTime": {
     "end_time": "2018-09-20T04:26:26.017089Z",
     "start_time": "2018-09-20T04:26:26.011105Z"
    },
    "scrolled": true
   },
   "outputs": [
    {
     "data": {
      "text/plain": [
       "float64    55\n",
       "int64      22\n",
       "object     58\n",
       "dtype: int64"
      ]
     },
     "execution_count": 6,
     "metadata": {},
     "output_type": "execute_result"
    }
   ],
   "source": [
    "gtd_df.get_dtype_counts()"
   ]
  },
  {
   "cell_type": "code",
   "execution_count": 8,
   "metadata": {
    "ExecuteTime": {
     "end_time": "2018-09-20T04:26:40.689963Z",
     "start_time": "2018-09-20T04:26:40.165354Z"
    },
    "scrolled": true
   },
   "outputs": [
    {
     "data": {
      "text/html": [
       "<div>\n",
       "<style scoped>\n",
       "    .dataframe tbody tr th:only-of-type {\n",
       "        vertical-align: middle;\n",
       "    }\n",
       "\n",
       "    .dataframe tbody tr th {\n",
       "        vertical-align: top;\n",
       "    }\n",
       "\n",
       "    .dataframe thead th {\n",
       "        text-align: right;\n",
       "    }\n",
       "</style>\n",
       "<table border=\"1\" class=\"dataframe\">\n",
       "  <thead>\n",
       "    <tr style=\"text-align: right;\">\n",
       "      <th></th>\n",
       "      <th>Count</th>\n",
       "      <th>Percent</th>\n",
       "    </tr>\n",
       "  </thead>\n",
       "  <tbody>\n",
       "    <tr>\n",
       "      <th>weaptype4_txt</th>\n",
       "      <td>114179</td>\n",
       "      <td>100.00</td>\n",
       "    </tr>\n",
       "    <tr>\n",
       "      <th>weaptype4</th>\n",
       "      <td>114179</td>\n",
       "      <td>100.00</td>\n",
       "    </tr>\n",
       "    <tr>\n",
       "      <th>weapsubtype4_txt</th>\n",
       "      <td>114178</td>\n",
       "      <td>99.99</td>\n",
       "    </tr>\n",
       "    <tr>\n",
       "      <th>weapsubtype4</th>\n",
       "      <td>114178</td>\n",
       "      <td>99.99</td>\n",
       "    </tr>\n",
       "    <tr>\n",
       "      <th>gsubname3</th>\n",
       "      <td>114164</td>\n",
       "      <td>99.98</td>\n",
       "    </tr>\n",
       "    <tr>\n",
       "      <th>claimmode3_txt</th>\n",
       "      <td>114059</td>\n",
       "      <td>99.89</td>\n",
       "    </tr>\n",
       "    <tr>\n",
       "      <th>claimmode3</th>\n",
       "      <td>114059</td>\n",
       "      <td>99.89</td>\n",
       "    </tr>\n",
       "    <tr>\n",
       "      <th>gsubname2</th>\n",
       "      <td>114030</td>\n",
       "      <td>99.87</td>\n",
       "    </tr>\n",
       "    <tr>\n",
       "      <th>divert</th>\n",
       "      <td>114027</td>\n",
       "      <td>99.86</td>\n",
       "    </tr>\n",
       "    <tr>\n",
       "      <th>kidhijcountry</th>\n",
       "      <td>113972</td>\n",
       "      <td>99.81</td>\n",
       "    </tr>\n",
       "    <tr>\n",
       "      <th>guncertain3</th>\n",
       "      <td>113875</td>\n",
       "      <td>99.73</td>\n",
       "    </tr>\n",
       "    <tr>\n",
       "      <th>claim3</th>\n",
       "      <td>113874</td>\n",
       "      <td>99.73</td>\n",
       "    </tr>\n",
       "    <tr>\n",
       "      <th>gname3</th>\n",
       "      <td>113871</td>\n",
       "      <td>99.73</td>\n",
       "    </tr>\n",
       "    <tr>\n",
       "      <th>attacktype3</th>\n",
       "      <td>113759</td>\n",
       "      <td>99.63</td>\n",
       "    </tr>\n",
       "    <tr>\n",
       "      <th>attacktype3_txt</th>\n",
       "      <td>113759</td>\n",
       "      <td>99.63</td>\n",
       "    </tr>\n",
       "    <tr>\n",
       "      <th>ransomnote</th>\n",
       "      <td>113677</td>\n",
       "      <td>99.56</td>\n",
       "    </tr>\n",
       "    <tr>\n",
       "      <th>ransompaidus</th>\n",
       "      <td>113637</td>\n",
       "      <td>99.52</td>\n",
       "    </tr>\n",
       "    <tr>\n",
       "      <th>ransomamtus</th>\n",
       "      <td>113622</td>\n",
       "      <td>99.51</td>\n",
       "    </tr>\n",
       "    <tr>\n",
       "      <th>claimmode2</th>\n",
       "      <td>113587</td>\n",
       "      <td>99.48</td>\n",
       "    </tr>\n",
       "    <tr>\n",
       "      <th>claimmode2_txt</th>\n",
       "      <td>113587</td>\n",
       "      <td>99.48</td>\n",
       "    </tr>\n",
       "    <tr>\n",
       "      <th>ransompaid</th>\n",
       "      <td>113574</td>\n",
       "      <td>99.47</td>\n",
       "    </tr>\n",
       "    <tr>\n",
       "      <th>ransomamt</th>\n",
       "      <td>113508</td>\n",
       "      <td>99.41</td>\n",
       "    </tr>\n",
       "    <tr>\n",
       "      <th>resolution</th>\n",
       "      <td>113267</td>\n",
       "      <td>99.20</td>\n",
       "    </tr>\n",
       "    <tr>\n",
       "      <th>corp3</th>\n",
       "      <td>113254</td>\n",
       "      <td>99.19</td>\n",
       "    </tr>\n",
       "    <tr>\n",
       "      <th>targsubtype3</th>\n",
       "      <td>113206</td>\n",
       "      <td>99.14</td>\n",
       "    </tr>\n",
       "    <tr>\n",
       "      <th>targsubtype3_txt</th>\n",
       "      <td>113206</td>\n",
       "      <td>99.14</td>\n",
       "    </tr>\n",
       "    <tr>\n",
       "      <th>natlty3</th>\n",
       "      <td>113181</td>\n",
       "      <td>99.12</td>\n",
       "    </tr>\n",
       "    <tr>\n",
       "      <th>natlty3_txt</th>\n",
       "      <td>113181</td>\n",
       "      <td>99.12</td>\n",
       "    </tr>\n",
       "    <tr>\n",
       "      <th>targtype3_txt</th>\n",
       "      <td>113154</td>\n",
       "      <td>99.10</td>\n",
       "    </tr>\n",
       "    <tr>\n",
       "      <th>targtype3</th>\n",
       "      <td>113154</td>\n",
       "      <td>99.10</td>\n",
       "    </tr>\n",
       "    <tr>\n",
       "      <th>...</th>\n",
       "      <td>...</td>\n",
       "      <td>...</td>\n",
       "    </tr>\n",
       "    <tr>\n",
       "      <th>iday</th>\n",
       "      <td>0</td>\n",
       "      <td>0.00</td>\n",
       "    </tr>\n",
       "    <tr>\n",
       "      <th>claimed</th>\n",
       "      <td>0</td>\n",
       "      <td>0.00</td>\n",
       "    </tr>\n",
       "    <tr>\n",
       "      <th>gname</th>\n",
       "      <td>0</td>\n",
       "      <td>0.00</td>\n",
       "    </tr>\n",
       "    <tr>\n",
       "      <th>attacktype1_txt</th>\n",
       "      <td>0</td>\n",
       "      <td>0.00</td>\n",
       "    </tr>\n",
       "    <tr>\n",
       "      <th>attacktype1</th>\n",
       "      <td>0</td>\n",
       "      <td>0.00</td>\n",
       "    </tr>\n",
       "    <tr>\n",
       "      <th>INT_IDEO</th>\n",
       "      <td>0</td>\n",
       "      <td>0.00</td>\n",
       "    </tr>\n",
       "    <tr>\n",
       "      <th>weaptype1</th>\n",
       "      <td>0</td>\n",
       "      <td>0.00</td>\n",
       "    </tr>\n",
       "    <tr>\n",
       "      <th>eventid</th>\n",
       "      <td>0</td>\n",
       "      <td>0.00</td>\n",
       "    </tr>\n",
       "    <tr>\n",
       "      <th>weaptype1_txt</th>\n",
       "      <td>0</td>\n",
       "      <td>0.00</td>\n",
       "    </tr>\n",
       "    <tr>\n",
       "      <th>imonth</th>\n",
       "      <td>0</td>\n",
       "      <td>0.00</td>\n",
       "    </tr>\n",
       "    <tr>\n",
       "      <th>individual</th>\n",
       "      <td>0</td>\n",
       "      <td>0.00</td>\n",
       "    </tr>\n",
       "    <tr>\n",
       "      <th>INT_MISC</th>\n",
       "      <td>0</td>\n",
       "      <td>0.00</td>\n",
       "    </tr>\n",
       "    <tr>\n",
       "      <th>INT_LOG</th>\n",
       "      <td>0</td>\n",
       "      <td>0.00</td>\n",
       "    </tr>\n",
       "    <tr>\n",
       "      <th>extended</th>\n",
       "      <td>0</td>\n",
       "      <td>0.00</td>\n",
       "    </tr>\n",
       "    <tr>\n",
       "      <th>property</th>\n",
       "      <td>0</td>\n",
       "      <td>0.00</td>\n",
       "    </tr>\n",
       "    <tr>\n",
       "      <th>suicide</th>\n",
       "      <td>0</td>\n",
       "      <td>0.00</td>\n",
       "    </tr>\n",
       "    <tr>\n",
       "      <th>vicinity</th>\n",
       "      <td>0</td>\n",
       "      <td>0.00</td>\n",
       "    </tr>\n",
       "    <tr>\n",
       "      <th>dbsource</th>\n",
       "      <td>0</td>\n",
       "      <td>0.00</td>\n",
       "    </tr>\n",
       "    <tr>\n",
       "      <th>crit3</th>\n",
       "      <td>0</td>\n",
       "      <td>0.00</td>\n",
       "    </tr>\n",
       "    <tr>\n",
       "      <th>crit2</th>\n",
       "      <td>0</td>\n",
       "      <td>0.00</td>\n",
       "    </tr>\n",
       "    <tr>\n",
       "      <th>targtype1_txt</th>\n",
       "      <td>0</td>\n",
       "      <td>0.00</td>\n",
       "    </tr>\n",
       "    <tr>\n",
       "      <th>targtype1</th>\n",
       "      <td>0</td>\n",
       "      <td>0.00</td>\n",
       "    </tr>\n",
       "    <tr>\n",
       "      <th>crit1</th>\n",
       "      <td>0</td>\n",
       "      <td>0.00</td>\n",
       "    </tr>\n",
       "    <tr>\n",
       "      <th>region</th>\n",
       "      <td>0</td>\n",
       "      <td>0.00</td>\n",
       "    </tr>\n",
       "    <tr>\n",
       "      <th>region_txt</th>\n",
       "      <td>0</td>\n",
       "      <td>0.00</td>\n",
       "    </tr>\n",
       "    <tr>\n",
       "      <th>iyear</th>\n",
       "      <td>0</td>\n",
       "      <td>0.00</td>\n",
       "    </tr>\n",
       "    <tr>\n",
       "      <th>country_txt</th>\n",
       "      <td>0</td>\n",
       "      <td>0.00</td>\n",
       "    </tr>\n",
       "    <tr>\n",
       "      <th>success</th>\n",
       "      <td>0</td>\n",
       "      <td>0.00</td>\n",
       "    </tr>\n",
       "    <tr>\n",
       "      <th>country</th>\n",
       "      <td>0</td>\n",
       "      <td>0.00</td>\n",
       "    </tr>\n",
       "    <tr>\n",
       "      <th>INT_ANY</th>\n",
       "      <td>0</td>\n",
       "      <td>0.00</td>\n",
       "    </tr>\n",
       "  </tbody>\n",
       "</table>\n",
       "<p>135 rows × 2 columns</p>\n",
       "</div>"
      ],
      "text/plain": [
       "                   Count  Percent\n",
       "weaptype4_txt     114179   100.00\n",
       "weaptype4         114179   100.00\n",
       "weapsubtype4_txt  114178    99.99\n",
       "weapsubtype4      114178    99.99\n",
       "gsubname3         114164    99.98\n",
       "claimmode3_txt    114059    99.89\n",
       "claimmode3        114059    99.89\n",
       "gsubname2         114030    99.87\n",
       "divert            114027    99.86\n",
       "kidhijcountry     113972    99.81\n",
       "guncertain3       113875    99.73\n",
       "claim3            113874    99.73\n",
       "gname3            113871    99.73\n",
       "attacktype3       113759    99.63\n",
       "attacktype3_txt   113759    99.63\n",
       "ransomnote        113677    99.56\n",
       "ransompaidus      113637    99.52\n",
       "ransomamtus       113622    99.51\n",
       "claimmode2        113587    99.48\n",
       "claimmode2_txt    113587    99.48\n",
       "ransompaid        113574    99.47\n",
       "ransomamt         113508    99.41\n",
       "resolution        113267    99.20\n",
       "corp3             113254    99.19\n",
       "targsubtype3      113206    99.14\n",
       "targsubtype3_txt  113206    99.14\n",
       "natlty3           113181    99.12\n",
       "natlty3_txt       113181    99.12\n",
       "targtype3_txt     113154    99.10\n",
       "targtype3         113154    99.10\n",
       "...                  ...      ...\n",
       "iday                   0     0.00\n",
       "claimed                0     0.00\n",
       "gname                  0     0.00\n",
       "attacktype1_txt        0     0.00\n",
       "attacktype1            0     0.00\n",
       "INT_IDEO               0     0.00\n",
       "weaptype1              0     0.00\n",
       "eventid                0     0.00\n",
       "weaptype1_txt          0     0.00\n",
       "imonth                 0     0.00\n",
       "individual             0     0.00\n",
       "INT_MISC               0     0.00\n",
       "INT_LOG                0     0.00\n",
       "extended               0     0.00\n",
       "property               0     0.00\n",
       "suicide                0     0.00\n",
       "vicinity               0     0.00\n",
       "dbsource               0     0.00\n",
       "crit3                  0     0.00\n",
       "crit2                  0     0.00\n",
       "targtype1_txt          0     0.00\n",
       "targtype1              0     0.00\n",
       "crit1                  0     0.00\n",
       "region                 0     0.00\n",
       "region_txt             0     0.00\n",
       "iyear                  0     0.00\n",
       "country_txt            0     0.00\n",
       "success                0     0.00\n",
       "country                0     0.00\n",
       "INT_ANY                0     0.00\n",
       "\n",
       "[135 rows x 2 columns]"
      ]
     },
     "execution_count": 8,
     "metadata": {},
     "output_type": "execute_result"
    }
   ],
   "source": [
    "count = gtd_df.isnull().sum()\n",
    "percent = round(count / gtd_df.shape[0] * 100, 2)\n",
    "series = [count, percent]\n",
    "result = pd.concat(series, axis=1, keys=['Count','Percent'], sort=True)\n",
    "\n",
    "result.sort_values(by='Count', ascending=False)  # 按缺失值数量倒序"
   ]
  },
  {
   "cell_type": "code",
   "execution_count": 9,
   "metadata": {
    "ExecuteTime": {
     "end_time": "2018-09-20T04:26:48.284177Z",
     "start_time": "2018-09-20T04:26:48.176463Z"
    }
   },
   "outputs": [
    {
     "data": {
      "text/plain": [
       "int64      22\n",
       "object     24\n",
       "float64    21\n",
       "dtype: int64"
      ]
     },
     "execution_count": 9,
     "metadata": {},
     "output_type": "execute_result"
    }
   ],
   "source": [
    "keep_attrs = result[result['Percent'] < 80.0]   # 保留缺失值小于 0.8 的特征\n",
    "subset_df = df.loc[:, keep_attrs.index.values]\n",
    "\n",
    "subset_df.get_dtype_counts()"
   ]
  },
  {
   "cell_type": "code",
   "execution_count": 10,
   "metadata": {
    "ExecuteTime": {
     "end_time": "2018-09-20T04:26:58.350210Z",
     "start_time": "2018-09-20T04:26:58.345192Z"
    }
   },
   "outputs": [
    {
     "data": {
      "text/plain": [
       "(181691, 67)"
      ]
     },
     "execution_count": 10,
     "metadata": {},
     "output_type": "execute_result"
    }
   ],
   "source": [
    "subset_df.shape"
   ]
  },
  {
   "cell_type": "code",
   "execution_count": 11,
   "metadata": {
    "ExecuteTime": {
     "end_time": "2018-09-20T04:26:59.490128Z",
     "start_time": "2018-09-20T04:26:59.124108Z"
    }
   },
   "outputs": [
    {
     "data": {
      "text/plain": [
       "array([     0,      1,      6,    178,    380,    421,    434,    636,\n",
       "         1559,   4556,   4557,  10313,  10373,  16311,  20768,  42550,\n",
       "        64446,  64702,  66120,  66129,  66191,  66958,  67670,  69143,\n",
       "        69489,  71115, 104758, 117626, 123732, 126196, 131130, 138175,\n",
       "       142702, 153402], dtype=int64)"
      ]
     },
     "execution_count": 11,
     "metadata": {},
     "output_type": "execute_result"
    }
   ],
   "source": [
    "np.unique(subset_df.isnull().sum())"
   ]
  },
  {
   "cell_type": "markdown",
   "metadata": {
    "ExecuteTime": {
     "end_time": "2018-09-18T12:10:37.341961Z",
     "start_time": "2018-09-18T12:10:37.334947Z"
    }
   },
   "source": [
    "### 符号说明:\n",
    "    \n",
    "符号|说明\n",
    ":-|:-\n",
    "NV| Numeric Variable\n",
    "TV|Text Variable\n",
    "CV|Categorical Variable"
   ]
  },
  {
   "cell_type": "code",
   "execution_count": 12,
   "metadata": {
    "ExecuteTime": {
     "end_time": "2018-09-20T04:27:06.189839Z",
     "start_time": "2018-09-20T04:27:06.100112Z"
    },
    "scrolled": false
   },
   "outputs": [
    {
     "name": "stdout",
     "output_type": "stream",
     "text": [
      "dbsource\n",
      "scite3\n",
      "propcomment\n",
      "target1\n",
      "corp1\n",
      "provstate\n",
      "city\n",
      "scite1\n",
      "weapdetail\n",
      "addnotes\n",
      "motive\n",
      "gname\n",
      "location\n",
      "summary\n",
      "scite2\n"
     ]
    }
   ],
   "source": [
    "names = set(subset_df.columns)\n",
    "\n",
    "# 数值变量集合\n",
    "NV = {\n",
    "    'eventid', 'iyear', 'imonth', 'iday', 'latitude','longitude',\n",
    "    'nperps', 'nperpcap', 'nkill', 'nkillus', 'nkillter', 'nwound',\n",
    "    'nwoundus', 'nwoundte', 'propvalue', 'nhostkid', 'nhostkidus',\n",
    "    'nhours', 'ndays', 'ransomamt', 'ransomamtus', 'ransompaid','ransompaidus', 'nreleased'\n",
    "}\n",
    "\n",
    "NV = names & NV\n",
    "\n",
    "TV = set(subset_df.select_dtypes('object').columns)\n",
    "for name in TV:\n",
    "    if not name.endswith('_txt'):\n",
    "        print(name)"
   ]
  },
  {
   "cell_type": "code",
   "execution_count": 13,
   "metadata": {
    "ExecuteTime": {
     "end_time": "2018-09-20T04:27:10.289774Z",
     "start_time": "2018-09-20T04:27:10.284818Z"
    }
   },
   "outputs": [
    {
     "data": {
      "text/plain": [
       "{'INT_ANY',\n",
       " 'INT_IDEO',\n",
       " 'INT_LOG',\n",
       " 'INT_MISC',\n",
       " 'attacktype1',\n",
       " 'claimed',\n",
       " 'country',\n",
       " 'crit1',\n",
       " 'crit2',\n",
       " 'crit3',\n",
       " 'doubtterr',\n",
       " 'extended',\n",
       " 'guncertain1',\n",
       " 'individual',\n",
       " 'ishostkid',\n",
       " 'multiple',\n",
       " 'natlty1',\n",
       " 'property',\n",
       " 'propextent',\n",
       " 'region',\n",
       " 'specificity',\n",
       " 'success',\n",
       " 'suicide',\n",
       " 'targsubtype1',\n",
       " 'targtype1',\n",
       " 'vicinity',\n",
       " 'weapsubtype1',\n",
       " 'weaptype1'}"
      ]
     },
     "execution_count": 13,
     "metadata": {},
     "output_type": "execute_result"
    }
   ],
   "source": [
    "CV = names - NV - TV\n",
    "CV"
   ]
  },
  {
   "cell_type": "code",
   "execution_count": 14,
   "metadata": {
    "ExecuteTime": {
     "end_time": "2018-09-20T04:27:13.220067Z",
     "start_time": "2018-09-20T04:27:13.215076Z"
    }
   },
   "outputs": [
    {
     "data": {
      "text/plain": [
       "{'eventid',\n",
       " 'iday',\n",
       " 'imonth',\n",
       " 'iyear',\n",
       " 'latitude',\n",
       " 'longitude',\n",
       " 'nkill',\n",
       " 'nkillter',\n",
       " 'nkillus',\n",
       " 'nperpcap',\n",
       " 'nperps',\n",
       " 'nwound',\n",
       " 'nwoundte',\n",
       " 'nwoundus',\n",
       " 'propvalue'}"
      ]
     },
     "execution_count": 14,
     "metadata": {},
     "output_type": "execute_result"
    }
   ],
   "source": [
    "NV"
   ]
  },
  {
   "cell_type": "code",
   "execution_count": 15,
   "metadata": {
    "ExecuteTime": {
     "end_time": "2018-09-20T04:27:14.054252Z",
     "start_time": "2018-09-20T04:27:14.049236Z"
    },
    "scrolled": true
   },
   "outputs": [
    {
     "data": {
      "text/plain": [
       "(181691, 67)"
      ]
     },
     "execution_count": 15,
     "metadata": {},
     "output_type": "execute_result"
    }
   ],
   "source": [
    "subset_df.shape"
   ]
  },
  {
   "cell_type": "markdown",
   "metadata": {},
   "source": [
    "# 类别数据处理"
   ]
  },
  {
   "cell_type": "code",
   "execution_count": 16,
   "metadata": {
    "ExecuteTime": {
     "end_time": "2018-09-20T04:27:17.632413Z",
     "start_time": "2018-09-20T04:27:17.509742Z"
    },
    "scrolled": true
   },
   "outputs": [
    {
     "data": {
      "text/plain": [
       "natlty1           1559\n",
       "individual           0\n",
       "suicide              0\n",
       "region               0\n",
       "success              0\n",
       "crit2                0\n",
       "weapsubtype1     20768\n",
       "INT_ANY              0\n",
       "targtype1            0\n",
       "guncertain1        380\n",
       "weaptype1            0\n",
       "country              0\n",
       "claimed          66120\n",
       "INT_LOG              0\n",
       "specificity          6\n",
       "INT_MISC             0\n",
       "propextent      117626\n",
       "extended             0\n",
       "INT_IDEO             0\n",
       "targsubtype1     10373\n",
       "multiple             1\n",
       "property             0\n",
       "attacktype1          0\n",
       "doubtterr            1\n",
       "crit1                0\n",
       "vicinity             0\n",
       "crit3                0\n",
       "ishostkid          178\n",
       "dtype: int64"
      ]
     },
     "execution_count": 16,
     "metadata": {},
     "output_type": "execute_result"
    }
   ],
   "source": [
    "cat_df = subset_df[list(CV)]\n",
    "cat_df.isnull().sum()"
   ]
  },
  {
   "cell_type": "code",
   "execution_count": 17,
   "metadata": {
    "ExecuteTime": {
     "end_time": "2018-09-20T04:27:20.357786Z",
     "start_time": "2018-09-20T04:27:20.353799Z"
    }
   },
   "outputs": [
    {
     "data": {
      "text/plain": [
       "(181691, 28)"
      ]
     },
     "execution_count": 17,
     "metadata": {},
     "output_type": "execute_result"
    }
   ],
   "source": [
    "cat_df.shape"
   ]
  },
  {
   "cell_type": "code",
   "execution_count": 20,
   "metadata": {
    "ExecuteTime": {
     "end_time": "2018-09-20T04:28:21.562594Z",
     "start_time": "2018-09-20T04:28:21.463859Z"
    }
   },
   "outputs": [],
   "source": [
    "subset_df.loc[subset_df['doubtterr'] == -9, 'doubtterr'] = np.nan  # -9 未知\n",
    "#subset_df['attacktype1'].replace(9, -1)\n",
    "subset_df.loc[subset_df['attacktype1'] == 9, 'attacktype1'] = np.nan #  9 未知\n",
    "subset_df.loc[subset_df['weaptype1'] == 13, 'weaptype1'] = np.nan # 13 未知\n",
    "subset_df.loc[subset_df['targtype1'] == 20, 'targtype1'] = np.nan # 13 未知\n",
    "subset_df.loc[subset_df['property'] == -9, 'property'] = np.nan\n",
    "subset_df.loc[subset_df['propextent'] == 4, 'propextent'] = np.nan\n",
    "subset_df.loc[subset_df['ishostkid'] == -9, 'ishostkid'] = np.nan\n",
    "subset_df.loc[subset_df['INT_LOG'] == -9, 'INT_LOG'] = np.nan\n",
    "subset_df.loc[subset_df['INT_IDEO'] == -9, 'INT_IDEO'] = np.nan\n",
    "subset_df.loc[subset_df['INT_MISC'] == -9, 'INT_MISC'] = np.nan\n",
    "subset_df.loc[subset_df['INT_ANY'] == -9, 'INT_ANY'] = np.nan\n",
    "subset_df.loc[subset_df['claimed'] == -9, 'claimed'] = np.nan\n",
    "subset_df.loc[subset_df['specificity'] == 5, 'specificity'] = np.nan\n",
    "subset_df.loc[subset_df['vicinity'] == -9, 'vicinity'] = np.nan"
   ]
  },
  {
   "cell_type": "code",
   "execution_count": 21,
   "metadata": {
    "ExecuteTime": {
     "end_time": "2018-09-20T04:28:22.654707Z",
     "start_time": "2018-09-20T04:28:22.399357Z"
    },
    "scrolled": true
   },
   "outputs": [
    {
     "data": {
      "text/plain": [
       "natlty1         0\n",
       "individual      0\n",
       "suicide         0\n",
       "region          0\n",
       "success         0\n",
       "crit2           0\n",
       "weapsubtype1    0\n",
       "INT_ANY         0\n",
       "targtype1       0\n",
       "guncertain1     0\n",
       "weaptype1       0\n",
       "country         0\n",
       "claimed         0\n",
       "INT_LOG         0\n",
       "specificity     0\n",
       "INT_MISC        0\n",
       "propextent      0\n",
       "extended        0\n",
       "INT_IDEO        0\n",
       "targsubtype1    0\n",
       "multiple        0\n",
       "property        0\n",
       "attacktype1     0\n",
       "doubtterr       0\n",
       "crit1           0\n",
       "vicinity        0\n",
       "crit3           0\n",
       "ishostkid       0\n",
       "dtype: int64"
      ]
     },
     "execution_count": 21,
     "metadata": {},
     "output_type": "execute_result"
    }
   ],
   "source": [
    "subset_df[list(CV)] = subset_df[list(CV)].replace(np.nan, -1)\n",
    "subset_df[list(CV)].isnull().sum()"
   ]
  },
  {
   "cell_type": "markdown",
   "metadata": {},
   "source": [
    "# 文本信息处理"
   ]
  },
  {
   "cell_type": "code",
   "execution_count": 22,
   "metadata": {
    "ExecuteTime": {
     "end_time": "2018-09-20T04:28:26.689200Z",
     "start_time": "2018-09-20T04:28:26.394956Z"
    }
   },
   "outputs": [
    {
     "data": {
      "text/plain": [
       "dbsource                 0\n",
       "scite3              138175\n",
       "propcomment         123732\n",
       "natlty1_txt           1559\n",
       "target1                636\n",
       "attacktype1_txt          0\n",
       "country_txt              0\n",
       "corp1                42550\n",
       "provstate              421\n",
       "region_txt               0\n",
       "city                   434\n",
       "scite1               66191\n",
       "weapdetail           67670\n",
       "weapsubtype1_txt     20768\n",
       "propextent_txt      117626\n",
       "targsubtype1_txt     10373\n",
       "weaptype1_txt            0\n",
       "addnotes            153402\n",
       "motive              131130\n",
       "targtype1_txt            0\n",
       "gname                    0\n",
       "location            126196\n",
       "summary              66129\n",
       "scite2              104758\n",
       "dtype: int64"
      ]
     },
     "execution_count": 22,
     "metadata": {},
     "output_type": "execute_result"
    }
   ],
   "source": [
    "txt_df = subset_df[list(TV)]\n",
    "txt_df.isnull().sum()"
   ]
  },
  {
   "cell_type": "code",
   "execution_count": 23,
   "metadata": {
    "ExecuteTime": {
     "end_time": "2018-09-20T04:28:29.343423Z",
     "start_time": "2018-09-20T04:28:29.338411Z"
    }
   },
   "outputs": [
    {
     "data": {
      "text/plain": [
       "(181691, 24)"
      ]
     },
     "execution_count": 23,
     "metadata": {},
     "output_type": "execute_result"
    }
   ],
   "source": [
    "txt_df.shape"
   ]
  },
  {
   "cell_type": "code",
   "execution_count": 24,
   "metadata": {
    "ExecuteTime": {
     "end_time": "2018-09-20T04:28:30.681850Z",
     "start_time": "2018-09-20T04:28:30.407551Z"
    }
   },
   "outputs": [],
   "source": [
    "txt_df = txt_df.replace('Unknown', np.nan)"
   ]
  },
  {
   "cell_type": "code",
   "execution_count": 25,
   "metadata": {
    "ExecuteTime": {
     "end_time": "2018-09-20T04:28:31.865696Z",
     "start_time": "2018-09-20T04:28:31.638262Z"
    },
    "scrolled": true
   },
   "outputs": [
    {
     "data": {
      "text/plain": [
       "dbsource                 0\n",
       "scite3              138175\n",
       "propcomment         123733\n",
       "natlty1_txt           1559\n",
       "target1               6554\n",
       "attacktype1_txt       7276\n",
       "country_txt              0\n",
       "corp1                58906\n",
       "provstate             4711\n",
       "region_txt               0\n",
       "city                 10209\n",
       "scite1               66191\n",
       "weapdetail           67670\n",
       "weapsubtype1_txt     20768\n",
       "propextent_txt      137472\n",
       "targsubtype1_txt     10373\n",
       "weaptype1_txt        15157\n",
       "addnotes            153402\n",
       "motive              146019\n",
       "targtype1_txt         5898\n",
       "gname                82782\n",
       "location            126212\n",
       "summary              66129\n",
       "scite2              104758\n",
       "dtype: int64"
      ]
     },
     "execution_count": 25,
     "metadata": {},
     "output_type": "execute_result"
    }
   ],
   "source": [
    "txt_df.isnull().sum()"
   ]
  },
  {
   "cell_type": "code",
   "execution_count": 26,
   "metadata": {
    "ExecuteTime": {
     "end_time": "2018-09-20T04:28:34.242605Z",
     "start_time": "2018-09-20T04:28:33.470626Z"
    }
   },
   "outputs": [
    {
     "data": {
      "text/plain": [
       "dbsource            0\n",
       "scite3              0\n",
       "propcomment         0\n",
       "natlty1_txt         0\n",
       "target1             0\n",
       "attacktype1_txt     0\n",
       "country_txt         0\n",
       "corp1               0\n",
       "provstate           0\n",
       "region_txt          0\n",
       "city                0\n",
       "scite1              0\n",
       "weapdetail          0\n",
       "weapsubtype1_txt    0\n",
       "propextent_txt      0\n",
       "targsubtype1_txt    0\n",
       "weaptype1_txt       0\n",
       "addnotes            0\n",
       "motive              0\n",
       "targtype1_txt       0\n",
       "gname               0\n",
       "location            0\n",
       "summary             0\n",
       "scite2              0\n",
       "dtype: int64"
      ]
     },
     "execution_count": 26,
     "metadata": {},
     "output_type": "execute_result"
    }
   ],
   "source": [
    "subset_df[list(TV)] = subset_df[list(TV)].replace(np.nan, 'Unknown')\n",
    "subset_df[list(TV)].isnull().sum()"
   ]
  },
  {
   "cell_type": "markdown",
   "metadata": {},
   "source": [
    "# 数值型变量"
   ]
  },
  {
   "cell_type": "code",
   "execution_count": 27,
   "metadata": {
    "ExecuteTime": {
     "end_time": "2018-09-20T04:28:36.753927Z",
     "start_time": "2018-09-20T04:28:36.674109Z"
    }
   },
   "outputs": [
    {
     "data": {
      "text/plain": [
       "nwoundte      69143\n",
       "eventid           0\n",
       "nkillus       64446\n",
       "longitude      4557\n",
       "nperpcap      69489\n",
       "imonth            0\n",
       "nkillter      66958\n",
       "nkill         10313\n",
       "iday              0\n",
       "iyear             0\n",
       "latitude       4556\n",
       "nwound        16311\n",
       "nperps        71115\n",
       "nwoundus      64702\n",
       "propvalue    142702\n",
       "dtype: int64"
      ]
     },
     "execution_count": 27,
     "metadata": {},
     "output_type": "execute_result"
    }
   ],
   "source": [
    "subset_df[list(NV)].isnull().sum()"
   ]
  },
  {
   "cell_type": "code",
   "execution_count": 28,
   "metadata": {
    "ExecuteTime": {
     "end_time": "2018-09-20T04:28:39.100948Z",
     "start_time": "2018-09-20T04:28:38.979280Z"
    },
    "scrolled": false
   },
   "outputs": [
    {
     "data": {
      "text/plain": [
       "nwoundte      69143\n",
       "eventid           0\n",
       "nkillus       64446\n",
       "longitude      4557\n",
       "nperpcap      71355\n",
       "imonth            0\n",
       "nkillter      66958\n",
       "nkill         10313\n",
       "iday              0\n",
       "iyear             0\n",
       "latitude       4557\n",
       "nwound        16311\n",
       "nperps       153335\n",
       "nwoundus      64702\n",
       "propvalue    171315\n",
       "dtype: int64"
      ]
     },
     "execution_count": 28,
     "metadata": {},
     "output_type": "execute_result"
    }
   ],
   "source": [
    "nv_df = subset_df[list(NV)].replace([-9, -99], np.nan)\n",
    "nv_df.isnull().sum()"
   ]
  },
  {
   "cell_type": "code",
   "execution_count": 30,
   "metadata": {
    "ExecuteTime": {
     "end_time": "2018-09-20T04:28:51.247464Z",
     "start_time": "2018-09-20T04:28:51.242446Z"
    }
   },
   "outputs": [
    {
     "data": {
      "text/plain": [
       "(181691, 67)"
      ]
     },
     "execution_count": 30,
     "metadata": {},
     "output_type": "execute_result"
    }
   ],
   "source": [
    "subset_df.shape"
   ]
  },
  {
   "cell_type": "code",
   "execution_count": 31,
   "metadata": {
    "ExecuteTime": {
     "end_time": "2018-09-20T04:28:53.148374Z",
     "start_time": "2018-09-20T04:28:52.618764Z"
    },
    "scrolled": true
   },
   "outputs": [
    {
     "data": {
      "text/plain": [
       "natlty1             0\n",
       "individual          0\n",
       "scite3              0\n",
       "propcomment         0\n",
       "region              0\n",
       "natlty1_txt         0\n",
       "country_txt         0\n",
       "success             0\n",
       "crit2               0\n",
       "region_txt          0\n",
       "weapsubtype1        0\n",
       "targtype1           0\n",
       "propextent_txt      0\n",
       "country             0\n",
       "claimed             0\n",
       "specificity         0\n",
       "propextent          0\n",
       "INT_IDEO            0\n",
       "weaptype1_txt       0\n",
       "addnotes            0\n",
       "motive              0\n",
       "attacktype1         0\n",
       "gname               0\n",
       "location            0\n",
       "summary             0\n",
       "ishostkid           0\n",
       "dbsource            0\n",
       "suicide             0\n",
       "attacktype1_txt     0\n",
       "target1             0\n",
       "corp1               0\n",
       "provstate           0\n",
       "INT_ANY             0\n",
       "city                0\n",
       "scite1              0\n",
       "weapdetail          0\n",
       "guncertain1         0\n",
       "weapsubtype1_txt    0\n",
       "weaptype1           0\n",
       "INT_LOG             0\n",
       "targsubtype1_txt    0\n",
       "INT_MISC            0\n",
       "extended            0\n",
       "targsubtype1        0\n",
       "multiple            0\n",
       "targtype1_txt       0\n",
       "property            0\n",
       "doubtterr           0\n",
       "crit1               0\n",
       "vicinity            0\n",
       "crit3               0\n",
       "scite2              0\n",
       "dtype: int64"
      ]
     },
     "execution_count": 31,
     "metadata": {},
     "output_type": "execute_result"
    }
   ],
   "source": [
    "subset_df[list(NV)] = subset_df[list(NV)].replace([-9, -99], np.nan)\n",
    "subset_df[list(names - NV)].isnull().sum()"
   ]
  },
  {
   "cell_type": "code",
   "execution_count": 32,
   "metadata": {
    "ExecuteTime": {
     "end_time": "2018-09-20T04:28:56.786302Z",
     "start_time": "2018-09-20T04:28:56.703547Z"
    },
    "scrolled": true
   },
   "outputs": [
    {
     "data": {
      "text/html": [
       "<div>\n",
       "<style scoped>\n",
       "    .dataframe tbody tr th:only-of-type {\n",
       "        vertical-align: middle;\n",
       "    }\n",
       "\n",
       "    .dataframe tbody tr th {\n",
       "        vertical-align: top;\n",
       "    }\n",
       "\n",
       "    .dataframe thead th {\n",
       "        text-align: right;\n",
       "    }\n",
       "</style>\n",
       "<table border=\"1\" class=\"dataframe\">\n",
       "  <thead>\n",
       "    <tr style=\"text-align: right;\">\n",
       "      <th></th>\n",
       "      <th>Count</th>\n",
       "      <th>Percent</th>\n",
       "    </tr>\n",
       "  </thead>\n",
       "  <tbody>\n",
       "    <tr>\n",
       "      <th>propvalue</th>\n",
       "      <td>171315</td>\n",
       "      <td>94.29</td>\n",
       "    </tr>\n",
       "    <tr>\n",
       "      <th>nperps</th>\n",
       "      <td>153335</td>\n",
       "      <td>84.39</td>\n",
       "    </tr>\n",
       "    <tr>\n",
       "      <th>nperpcap</th>\n",
       "      <td>71355</td>\n",
       "      <td>39.27</td>\n",
       "    </tr>\n",
       "    <tr>\n",
       "      <th>nwoundte</th>\n",
       "      <td>69143</td>\n",
       "      <td>38.06</td>\n",
       "    </tr>\n",
       "    <tr>\n",
       "      <th>nkillter</th>\n",
       "      <td>66958</td>\n",
       "      <td>36.85</td>\n",
       "    </tr>\n",
       "    <tr>\n",
       "      <th>nwoundus</th>\n",
       "      <td>64702</td>\n",
       "      <td>35.61</td>\n",
       "    </tr>\n",
       "    <tr>\n",
       "      <th>nkillus</th>\n",
       "      <td>64446</td>\n",
       "      <td>35.47</td>\n",
       "    </tr>\n",
       "    <tr>\n",
       "      <th>nwound</th>\n",
       "      <td>16311</td>\n",
       "      <td>8.98</td>\n",
       "    </tr>\n",
       "    <tr>\n",
       "      <th>nkill</th>\n",
       "      <td>10313</td>\n",
       "      <td>5.68</td>\n",
       "    </tr>\n",
       "    <tr>\n",
       "      <th>latitude</th>\n",
       "      <td>4557</td>\n",
       "      <td>2.51</td>\n",
       "    </tr>\n",
       "    <tr>\n",
       "      <th>longitude</th>\n",
       "      <td>4557</td>\n",
       "      <td>2.51</td>\n",
       "    </tr>\n",
       "    <tr>\n",
       "      <th>eventid</th>\n",
       "      <td>0</td>\n",
       "      <td>0.00</td>\n",
       "    </tr>\n",
       "    <tr>\n",
       "      <th>iday</th>\n",
       "      <td>0</td>\n",
       "      <td>0.00</td>\n",
       "    </tr>\n",
       "    <tr>\n",
       "      <th>imonth</th>\n",
       "      <td>0</td>\n",
       "      <td>0.00</td>\n",
       "    </tr>\n",
       "    <tr>\n",
       "      <th>iyear</th>\n",
       "      <td>0</td>\n",
       "      <td>0.00</td>\n",
       "    </tr>\n",
       "  </tbody>\n",
       "</table>\n",
       "</div>"
      ],
      "text/plain": [
       "            Count  Percent\n",
       "propvalue  171315    94.29\n",
       "nperps     153335    84.39\n",
       "nperpcap    71355    39.27\n",
       "nwoundte    69143    38.06\n",
       "nkillter    66958    36.85\n",
       "nwoundus    64702    35.61\n",
       "nkillus     64446    35.47\n",
       "nwound      16311     8.98\n",
       "nkill       10313     5.68\n",
       "latitude     4557     2.51\n",
       "longitude    4557     2.51\n",
       "eventid         0     0.00\n",
       "iday            0     0.00\n",
       "imonth          0     0.00\n",
       "iyear           0     0.00"
      ]
     },
     "execution_count": 32,
     "metadata": {},
     "output_type": "execute_result"
    }
   ],
   "source": [
    "nv_df = subset_df[list(NV)]\n",
    "count = nv_df.isnull().sum()\n",
    "percent = round(count / nv_df.shape[0] * 100, 2)\n",
    "series = [count, percent]\n",
    "result = pd.concat(series, axis=1, keys=['Count','Percent'], sort=True)\n",
    "\n",
    "result.sort_values(by='Count', ascending=False)  # 按缺失值数量倒序"
   ]
  },
  {
   "cell_type": "markdown",
   "metadata": {},
   "source": [
    "`'propvalu'`, `'nperps'` 两个特征缺失严重，故而，我们可以将其移除。"
   ]
  },
  {
   "cell_type": "code",
   "execution_count": 33,
   "metadata": {
    "ExecuteTime": {
     "end_time": "2018-09-20T04:29:40.015246Z",
     "start_time": "2018-09-20T04:29:39.887613Z"
    }
   },
   "outputs": [],
   "source": [
    "subset_df = subset_df.drop(['propvalue','nperps'], axis =1)"
   ]
  },
  {
   "cell_type": "code",
   "execution_count": 34,
   "metadata": {
    "ExecuteTime": {
     "end_time": "2018-09-20T04:29:41.436050Z",
     "start_time": "2018-09-20T04:29:41.432056Z"
    }
   },
   "outputs": [],
   "source": [
    "names = set(subset_df.columns)\n",
    "NV = names & names\n",
    "CV = CV & names\n",
    "TV = TV & names"
   ]
  },
  {
   "cell_type": "code",
   "execution_count": 36,
   "metadata": {
    "ExecuteTime": {
     "end_time": "2018-09-20T04:29:43.975256Z",
     "start_time": "2018-09-20T04:29:43.970245Z"
    }
   },
   "outputs": [
    {
     "data": {
      "text/plain": [
       "True"
      ]
     },
     "execution_count": 36,
     "metadata": {},
     "output_type": "execute_result"
    }
   ],
   "source": [
    "len(NV | CV | TV) == len(names)"
   ]
  },
  {
   "cell_type": "code",
   "execution_count": 43,
   "metadata": {
    "ExecuteTime": {
     "end_time": "2018-09-20T04:31:59.732373Z",
     "start_time": "2018-09-20T04:31:59.729376Z"
    }
   },
   "outputs": [],
   "source": [
    "name_dict = {\n",
    "    'NV': list(NV),\n",
    "    'CV': list(CV),\n",
    "    'TV': list(TV)\n",
    "}"
   ]
  },
  {
   "cell_type": "code",
   "execution_count": 44,
   "metadata": {
    "ExecuteTime": {
     "end_time": "2018-09-20T04:32:00.958068Z",
     "start_time": "2018-09-20T04:32:00.952072Z"
    }
   },
   "outputs": [],
   "source": [
    "import json\n",
    "\n",
    "with open('./data/gtd_1998-2017_names.json', 'w') as fp:\n",
    "    json.dump(name_dict, fp)     # 保存在本地"
   ]
  },
  {
   "cell_type": "code",
   "execution_count": 38,
   "metadata": {
    "ExecuteTime": {
     "end_time": "2018-09-20T04:29:49.976402Z",
     "start_time": "2018-09-20T04:29:46.730704Z"
    }
   },
   "outputs": [],
   "source": [
    "subset_df.to_hdf('./data/gtd_1998-2017.h5', 'gtd_1998_2017') # 保存到本地"
   ]
  },
  {
   "cell_type": "code",
   "execution_count": 45,
   "metadata": {
    "ExecuteTime": {
     "end_time": "2018-09-20T04:32:18.571496Z",
     "start_time": "2018-09-20T04:32:18.566494Z"
    }
   },
   "outputs": [],
   "source": [
    "with open('./data/gtd_1998-2017_names.json') as fp:\n",
    "    names = json.load(fp)"
   ]
  },
  {
   "cell_type": "code",
   "execution_count": null,
   "metadata": {},
   "outputs": [],
   "source": []
  }
 ],
 "metadata": {
  "kernelspec": {
   "display_name": "Python [conda env:Anaconda3]",
   "language": "python",
   "name": "conda-env-Anaconda3-py"
  },
  "language_info": {
   "codemirror_mode": {
    "name": "ipython",
    "version": 3
   },
   "file_extension": ".py",
   "mimetype": "text/x-python",
   "name": "python",
   "nbconvert_exporter": "python",
   "pygments_lexer": "ipython3",
   "version": "3.6.5"
  },
  "latex_envs": {
   "LaTeX_envs_menu_present": true,
   "autoclose": false,
   "autocomplete": true,
   "bibliofile": "biblio.bib",
   "cite_by": "apalike",
   "current_citInitial": 1,
   "eqLabelWithNumbers": true,
   "eqNumInitial": 1,
   "hotkeys": {
    "equation": "Ctrl-E",
    "itemize": "Ctrl-I"
   },
   "labels_anchors": false,
   "latex_user_defs": false,
   "report_style_numbering": false,
   "user_envs_cfg": false
  },
  "nbTranslate": {
   "displayLangs": [
    "*"
   ],
   "hotkey": "alt-t",
   "langInMainMenu": true,
   "sourceLang": "en",
   "targetLang": "fr",
   "useGoogleTranslate": true
  },
  "toc": {
   "base_numbering": 1,
   "nav_menu": {},
   "number_sections": true,
   "sideBar": true,
   "skip_h1_title": false,
   "title_cell": "Table of Contents",
   "title_sidebar": "Contents",
   "toc_cell": false,
   "toc_position": {},
   "toc_section_display": true,
   "toc_window_display": false
  },
  "varInspector": {
   "cols": {
    "lenName": 16,
    "lenType": 16,
    "lenVar": 40
   },
   "kernels_config": {
    "python": {
     "delete_cmd_postfix": "",
     "delete_cmd_prefix": "del ",
     "library": "var_list.py",
     "varRefreshCmd": "print(var_dic_list())"
    },
    "r": {
     "delete_cmd_postfix": ") ",
     "delete_cmd_prefix": "rm(",
     "library": "var_list.r",
     "varRefreshCmd": "cat(var_dic_list()) "
    }
   },
   "types_to_exclude": [
    "module",
    "function",
    "builtin_function_or_method",
    "instance",
    "_Feature"
   ],
   "window_display": false
  }
 },
 "nbformat": 4,
 "nbformat_minor": 2
}
