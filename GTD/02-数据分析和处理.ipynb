{
 "cells": [
  {
   "cell_type": "code",
   "execution_count": 1,
   "metadata": {
    "ExecuteTime": {
     "end_time": "2018-09-18T12:14:13.764244Z",
     "start_time": "2018-09-18T12:14:12.421846Z"
    }
   },
   "outputs": [
    {
     "name": "stdout",
     "output_type": "stream",
     "text": [
      "Populating the interactive namespace from numpy and matplotlib\n"
     ]
    }
   ],
   "source": [
    "import pandas as pd\n",
    "import numpy as np\n",
    "import matplotlib as mpl\n",
    "import matplotlib.pyplot as plt\n",
    "import seaborn as sns\n",
    "%pylab inline\n",
    "# Set the Seaborn default style for plots\n",
    "sns.set()\n",
    "\n",
    "# Set the color palette\n",
    "sns.set_palette(sns.color_palette(\"muted\"))"
   ]
  },
  {
   "cell_type": "markdown",
   "metadata": {},
   "source": [
    "### 载入数据"
   ]
  },
  {
   "cell_type": "code",
   "execution_count": 2,
   "metadata": {
    "ExecuteTime": {
     "end_time": "2018-09-18T12:15:11.413666Z",
     "start_time": "2018-09-18T12:14:16.605656Z"
    }
   },
   "outputs": [],
   "source": [
    "# Load the preprocessed GTD dataset\n",
    "gtd_df = pd.read_excel('./data/gtd_preprocessed.xlsx')"
   ]
  },
  {
   "cell_type": "code",
   "execution_count": 3,
   "metadata": {
    "ExecuteTime": {
     "end_time": "2018-09-18T12:15:11.530355Z",
     "start_time": "2018-09-18T12:15:11.522377Z"
    }
   },
   "outputs": [
    {
     "name": "stdout",
     "output_type": "stream",
     "text": [
      "exta_names 6\n",
      "cat_names 27\n",
      "txt_names 17\n",
      "cal_names 7\n"
     ]
    }
   ],
   "source": [
    "import pickle\n",
    "\n",
    "with open('./data/gtd_names.json', 'rb') as fp:\n",
    "    name_dict = pickle.load(fp)  # 载入特征名称\n",
    "\n",
    "for name in name_dict:\n",
    "    print(name, len(name_dict[name]))\n",
    "\n",
    "class Bunch(dict):\n",
    "    '''\n",
    "    建立树型结构\n",
    "    '''\n",
    "    def __init__(self, *args, **kwds):\n",
    "        super().__init__(*args, **kwds)\n",
    "        self.__dict__ = self\n",
    "\n",
    "names = Bunch(name_dict)"
   ]
  },
  {
   "cell_type": "markdown",
   "metadata": {},
   "source": [
    "### 查看数据结构\n",
    "\n",
    "这里有 $57$ 个特征, $113\\,175$ 个样本."
   ]
  },
  {
   "cell_type": "code",
   "execution_count": 4,
   "metadata": {
    "ExecuteTime": {
     "end_time": "2018-09-18T12:15:46.257354Z",
     "start_time": "2018-09-18T12:15:45.928206Z"
    },
    "scrolled": true
   },
   "outputs": [
    {
     "name": "stdout",
     "output_type": "stream",
     "text": [
      "<class 'pandas.core.frame.DataFrame'>\n",
      "Int64Index: 113175 entries, 0 to 114182\n",
      "Data columns (total 57 columns):\n",
      "eventid             113175 non-null int64\n",
      "iyear               113175 non-null int64\n",
      "imonth              113175 non-null int64\n",
      "iday                113175 non-null int64\n",
      "extended            113175 non-null int64\n",
      "country             113175 non-null int64\n",
      "country_txt         113175 non-null object\n",
      "region              113175 non-null int64\n",
      "region_txt          113175 non-null object\n",
      "provstate           113175 non-null object\n",
      "city                113175 non-null object\n",
      "latitude            113175 non-null float64\n",
      "longitude           113175 non-null float64\n",
      "specificity         113175 non-null int64\n",
      "vicinity            113175 non-null int64\n",
      "summary             113175 non-null object\n",
      "crit1               113175 non-null int64\n",
      "crit2               113175 non-null int64\n",
      "crit3               113175 non-null int64\n",
      "doubtterr           113175 non-null int64\n",
      "multiple            113175 non-null int64\n",
      "success             113175 non-null int64\n",
      "suicide             113175 non-null int64\n",
      "attacktype1         113175 non-null int64\n",
      "attacktype1_txt     113175 non-null object\n",
      "targtype1           113175 non-null int64\n",
      "targtype1_txt       113175 non-null object\n",
      "targsubtype1        113175 non-null int64\n",
      "targsubtype1_txt    113175 non-null object\n",
      "corp1               113175 non-null object\n",
      "target1             113175 non-null object\n",
      "natlty1             113175 non-null int64\n",
      "natlty1_txt         113175 non-null object\n",
      "gname               113175 non-null object\n",
      "guncertain1         113175 non-null int64\n",
      "individual          113175 non-null int64\n",
      "nperpcap            109021 non-null float64\n",
      "claimed             113175 non-null int64\n",
      "weaptype1           113175 non-null int64\n",
      "weaptype1_txt       113175 non-null object\n",
      "weapsubtype1        113175 non-null int64\n",
      "weapsubtype1_txt    113175 non-null object\n",
      "nkill               108993 non-null float64\n",
      "nkillus             112840 non-null float64\n",
      "nkillter            110552 non-null float64\n",
      "nwound              105108 non-null float64\n",
      "nwoundus            112623 non-null float64\n",
      "nwoundte            108743 non-null float64\n",
      "property            113175 non-null int64\n",
      "ishostkid           113175 non-null int64\n",
      "scite1              113175 non-null object\n",
      "scite2              113175 non-null object\n",
      "dbsource            113175 non-null object\n",
      "INT_LOG             113175 non-null int64\n",
      "INT_IDEO            113175 non-null int64\n",
      "INT_MISC            113175 non-null int64\n",
      "INT_ANY             113175 non-null int64\n",
      "dtypes: float64(9), int64(31), object(17)\n",
      "memory usage: 50.1+ MB\n"
     ]
    }
   ],
   "source": [
    "# Display a summary of the data frame\n",
    "gtd_df.info(verbose = True)"
   ]
  },
  {
   "cell_type": "code",
   "execution_count": 5,
   "metadata": {
    "ExecuteTime": {
     "end_time": "2018-09-18T12:16:22.448612Z",
     "start_time": "2018-09-18T12:16:22.427699Z"
    }
   },
   "outputs": [
    {
     "data": {
      "text/plain": [
       "float64     9\n",
       "int64      31\n",
       "object     17\n",
       "dtype: int64"
      ]
     },
     "execution_count": 5,
     "metadata": {},
     "output_type": "execute_result"
    }
   ],
   "source": [
    "gtd_df.get_dtype_counts()"
   ]
  },
  {
   "cell_type": "markdown",
   "metadata": {},
   "source": [
    "### 缩短长文本变量的取值\n",
    "\n",
    "The following weapon type category cause the plots to display incorrectly due to the length."
   ]
  },
  {
   "cell_type": "code",
   "execution_count": 6,
   "metadata": {
    "ExecuteTime": {
     "end_time": "2018-09-18T12:16:26.838494Z",
     "start_time": "2018-09-18T12:16:26.764724Z"
    },
    "scrolled": true
   },
   "outputs": [
    {
     "data": {
      "text/plain": [
       "array(['Armed Assault', 'Assassination', 'Bombing/Explosion',\n",
       "       'Facility/Infrastructure Attack', 'Hijacking',\n",
       "       'Hostage Taking (Barricade Incident)',\n",
       "       'Hostage Taking (Kidnapping)', 'Unarmed Assault', 'Unknown'],\n",
       "      dtype=object)"
      ]
     },
     "execution_count": 6,
     "metadata": {},
     "output_type": "execute_result"
    }
   ],
   "source": [
    "np.unique(gtd_df['attacktype1_txt'])"
   ]
  },
  {
   "cell_type": "code",
   "execution_count": 7,
   "metadata": {
    "ExecuteTime": {
     "end_time": "2018-09-18T12:16:27.794012Z",
     "start_time": "2018-09-18T12:16:27.752117Z"
    },
    "code_folding": []
   },
   "outputs": [],
   "source": [
    "gtd_df.loc[gtd_df['weaptype1_txt'] == \n",
    "           'Vehicle (not to include vehicle-borne explosives, i.e., car or truck bombs)', \n",
    "           'weaptype1_txt'] = 'Vehicle (non-explosives)'\n",
    "\n",
    "gtd_df.loc[gtd_df['attacktype1_txt'] == \n",
    "           'Hostage Taking (Barricade Incident)', \n",
    "           'attacktype1_txt'] = 'Hostage Taking (Barricade)'"
   ]
  },
  {
   "cell_type": "markdown",
   "metadata": {},
   "source": [
    "### 处理可进行距离运算的变量\n",
    "\n",
    "假设所有缺失值的出现代表其不是恐怖事件."
   ]
  },
  {
   "cell_type": "code",
   "execution_count": 8,
   "metadata": {
    "ExecuteTime": {
     "end_time": "2018-09-18T12:16:38.673681Z",
     "start_time": "2018-09-18T12:16:38.468264Z"
    }
   },
   "outputs": [
    {
     "data": {
      "text/plain": [
       "array([   0,  335,  552, 2623, 4154, 4182, 4432, 8067], dtype=int64)"
      ]
     },
     "execution_count": 8,
     "metadata": {},
     "output_type": "execute_result"
    }
   ],
   "source": [
    "np.unique(gtd_df.isnull().sum())"
   ]
  },
  {
   "cell_type": "code",
   "execution_count": 10,
   "metadata": {
    "ExecuteTime": {
     "end_time": "2018-09-18T12:17:13.571699Z",
     "start_time": "2018-09-18T12:17:13.550790Z"
    },
    "scrolled": true
   },
   "outputs": [
    {
     "data": {
      "text/html": [
       "<div>\n",
       "<style scoped>\n",
       "    .dataframe tbody tr th:only-of-type {\n",
       "        vertical-align: middle;\n",
       "    }\n",
       "\n",
       "    .dataframe tbody tr th {\n",
       "        vertical-align: top;\n",
       "    }\n",
       "\n",
       "    .dataframe thead th {\n",
       "        text-align: right;\n",
       "    }\n",
       "</style>\n",
       "<table border=\"1\" class=\"dataframe\">\n",
       "  <thead>\n",
       "    <tr style=\"text-align: right;\">\n",
       "      <th></th>\n",
       "      <th>nkillter</th>\n",
       "      <th>nwound</th>\n",
       "      <th>nkillus</th>\n",
       "      <th>nperpcap</th>\n",
       "      <th>nwoundus</th>\n",
       "      <th>nwoundte</th>\n",
       "      <th>nkill</th>\n",
       "    </tr>\n",
       "  </thead>\n",
       "  <tbody>\n",
       "    <tr>\n",
       "      <th>0</th>\n",
       "      <td>100.0</td>\n",
       "      <td>6.0</td>\n",
       "      <td>0.0</td>\n",
       "      <td>NaN</td>\n",
       "      <td>0.0</td>\n",
       "      <td>NaN</td>\n",
       "      <td>104.0</td>\n",
       "    </tr>\n",
       "    <tr>\n",
       "      <th>1</th>\n",
       "      <td>0.0</td>\n",
       "      <td>3.0</td>\n",
       "      <td>0.0</td>\n",
       "      <td>0.0</td>\n",
       "      <td>0.0</td>\n",
       "      <td>0.0</td>\n",
       "      <td>0.0</td>\n",
       "    </tr>\n",
       "    <tr>\n",
       "      <th>2</th>\n",
       "      <td>0.0</td>\n",
       "      <td>0.0</td>\n",
       "      <td>0.0</td>\n",
       "      <td>0.0</td>\n",
       "      <td>0.0</td>\n",
       "      <td>0.0</td>\n",
       "      <td>1.0</td>\n",
       "    </tr>\n",
       "    <tr>\n",
       "      <th>3</th>\n",
       "      <td>0.0</td>\n",
       "      <td>0.0</td>\n",
       "      <td>0.0</td>\n",
       "      <td>NaN</td>\n",
       "      <td>0.0</td>\n",
       "      <td>0.0</td>\n",
       "      <td>0.0</td>\n",
       "    </tr>\n",
       "    <tr>\n",
       "      <th>4</th>\n",
       "      <td>0.0</td>\n",
       "      <td>1.0</td>\n",
       "      <td>0.0</td>\n",
       "      <td>0.0</td>\n",
       "      <td>0.0</td>\n",
       "      <td>0.0</td>\n",
       "      <td>0.0</td>\n",
       "    </tr>\n",
       "  </tbody>\n",
       "</table>\n",
       "</div>"
      ],
      "text/plain": [
       "   nkillter  nwound  nkillus  nperpcap  nwoundus  nwoundte  nkill\n",
       "0     100.0     6.0      0.0       NaN       0.0       NaN  104.0\n",
       "1       0.0     3.0      0.0       0.0       0.0       0.0    0.0\n",
       "2       0.0     0.0      0.0       0.0       0.0       0.0    1.0\n",
       "3       0.0     0.0      0.0       NaN       0.0       0.0    0.0\n",
       "4       0.0     1.0      0.0       0.0       0.0       0.0    0.0"
      ]
     },
     "execution_count": 10,
     "metadata": {},
     "output_type": "execute_result"
    }
   ],
   "source": [
    "gtd_df[list(names.cal_names)].head()"
   ]
  },
  {
   "cell_type": "code",
   "execution_count": 17,
   "metadata": {
    "ExecuteTime": {
     "end_time": "2018-09-18T12:19:10.227505Z",
     "start_time": "2018-09-18T12:19:10.222484Z"
    }
   },
   "outputs": [],
   "source": [
    "# Function to impute either the median or mean\n",
    "def fill_value(attr):\n",
    "    fill = 0.0\n",
    "    threshold = 3\n",
    "    attr_clean = attr.dropna()\n",
    "    attr_std = attr_clean.std()\n",
    "    outliers = attr_clean[attr_clean > (threshold * attr_std)]  # 异常值处理\n",
    "    \n",
    "    if (outliers.count() > 0):\n",
    "        fill = attr_clean.median()\n",
    "    else:\n",
    "        fill = attr_clean.mean()\n",
    "    \n",
    "    return fill"
   ]
  },
  {
   "cell_type": "code",
   "execution_count": 18,
   "metadata": {
    "ExecuteTime": {
     "end_time": "2018-09-18T12:19:46.195915Z",
     "start_time": "2018-09-18T12:19:46.150014Z"
    }
   },
   "outputs": [],
   "source": [
    "# Impute each of the numeric attributes that contain missing values\n",
    "for attr in names.cal_names:\n",
    "    gtd_df[attr] = gtd_df[attr].fillna(fill_value(gtd_df[attr]))"
   ]
  },
  {
   "cell_type": "code",
   "execution_count": 19,
   "metadata": {
    "ExecuteTime": {
     "end_time": "2018-09-18T12:19:56.333351Z",
     "start_time": "2018-09-18T12:19:56.314433Z"
    },
    "scrolled": true
   },
   "outputs": [
    {
     "data": {
      "text/html": [
       "<div>\n",
       "<style scoped>\n",
       "    .dataframe tbody tr th:only-of-type {\n",
       "        vertical-align: middle;\n",
       "    }\n",
       "\n",
       "    .dataframe tbody tr th {\n",
       "        vertical-align: top;\n",
       "    }\n",
       "\n",
       "    .dataframe thead th {\n",
       "        text-align: right;\n",
       "    }\n",
       "</style>\n",
       "<table border=\"1\" class=\"dataframe\">\n",
       "  <thead>\n",
       "    <tr style=\"text-align: right;\">\n",
       "      <th></th>\n",
       "      <th>nkillter</th>\n",
       "      <th>nwound</th>\n",
       "      <th>nkillus</th>\n",
       "      <th>nperpcap</th>\n",
       "      <th>nwoundus</th>\n",
       "      <th>nwoundte</th>\n",
       "      <th>nkill</th>\n",
       "    </tr>\n",
       "  </thead>\n",
       "  <tbody>\n",
       "    <tr>\n",
       "      <th>0</th>\n",
       "      <td>100.0</td>\n",
       "      <td>6.0</td>\n",
       "      <td>0.0</td>\n",
       "      <td>0.0</td>\n",
       "      <td>0.0</td>\n",
       "      <td>0.0</td>\n",
       "      <td>104.0</td>\n",
       "    </tr>\n",
       "    <tr>\n",
       "      <th>1</th>\n",
       "      <td>0.0</td>\n",
       "      <td>3.0</td>\n",
       "      <td>0.0</td>\n",
       "      <td>0.0</td>\n",
       "      <td>0.0</td>\n",
       "      <td>0.0</td>\n",
       "      <td>0.0</td>\n",
       "    </tr>\n",
       "    <tr>\n",
       "      <th>2</th>\n",
       "      <td>0.0</td>\n",
       "      <td>0.0</td>\n",
       "      <td>0.0</td>\n",
       "      <td>0.0</td>\n",
       "      <td>0.0</td>\n",
       "      <td>0.0</td>\n",
       "      <td>1.0</td>\n",
       "    </tr>\n",
       "    <tr>\n",
       "      <th>3</th>\n",
       "      <td>0.0</td>\n",
       "      <td>0.0</td>\n",
       "      <td>0.0</td>\n",
       "      <td>0.0</td>\n",
       "      <td>0.0</td>\n",
       "      <td>0.0</td>\n",
       "      <td>0.0</td>\n",
       "    </tr>\n",
       "    <tr>\n",
       "      <th>4</th>\n",
       "      <td>0.0</td>\n",
       "      <td>1.0</td>\n",
       "      <td>0.0</td>\n",
       "      <td>0.0</td>\n",
       "      <td>0.0</td>\n",
       "      <td>0.0</td>\n",
       "      <td>0.0</td>\n",
       "    </tr>\n",
       "  </tbody>\n",
       "</table>\n",
       "</div>"
      ],
      "text/plain": [
       "   nkillter  nwound  nkillus  nperpcap  nwoundus  nwoundte  nkill\n",
       "0     100.0     6.0      0.0       0.0       0.0       0.0  104.0\n",
       "1       0.0     3.0      0.0       0.0       0.0       0.0    0.0\n",
       "2       0.0     0.0      0.0       0.0       0.0       0.0    1.0\n",
       "3       0.0     0.0      0.0       0.0       0.0       0.0    0.0\n",
       "4       0.0     1.0      0.0       0.0       0.0       0.0    0.0"
      ]
     },
     "execution_count": 19,
     "metadata": {},
     "output_type": "execute_result"
    }
   ],
   "source": [
    "gtd_df[list(names.cal_names)].head()"
   ]
  },
  {
   "cell_type": "code",
   "execution_count": 20,
   "metadata": {
    "ExecuteTime": {
     "end_time": "2018-09-18T12:20:23.156187Z",
     "start_time": "2018-09-18T12:20:23.129259Z"
    }
   },
   "outputs": [
    {
     "data": {
      "text/plain": [
       "nkillter    0\n",
       "nwound      0\n",
       "nkillus     0\n",
       "nperpcap    0\n",
       "nwoundus    0\n",
       "nwoundte    0\n",
       "nkill       0\n",
       "dtype: int64"
      ]
     },
     "execution_count": 20,
     "metadata": {},
     "output_type": "execute_result"
    }
   ],
   "source": [
    "gtd_df[list(names.cal_names)].isnull().sum()"
   ]
  },
  {
   "cell_type": "markdown",
   "metadata": {},
   "source": [
    "### 转换分类变量为 Categorical 类型\n",
    "\n",
    "Convert a subset of the data frame attributes to categorical to align with the GTD code book. Converting attributes to categorical reduces memory requirements and notifies other libraries to treat the attribute accordingly (Pandas, n.d.).  For the GTD data frame, it results in a percent decrease of 36.5%."
   ]
  },
  {
   "cell_type": "code",
   "execution_count": 11,
   "metadata": {
    "ExecuteTime": {
     "end_time": "2018-09-18T12:17:26.656100Z",
     "start_time": "2018-09-18T12:17:26.649122Z"
    }
   },
   "outputs": [
    {
     "data": {
      "text/plain": [
       "float64     9\n",
       "int64      31\n",
       "object     17\n",
       "dtype: int64"
      ]
     },
     "execution_count": 11,
     "metadata": {},
     "output_type": "execute_result"
    }
   ],
   "source": [
    "gtd_df.get_dtype_counts()"
   ]
  },
  {
   "cell_type": "code",
   "execution_count": 12,
   "metadata": {
    "ExecuteTime": {
     "end_time": "2018-09-18T12:17:28.369101Z",
     "start_time": "2018-09-18T12:17:27.778711Z"
    },
    "scrolled": true
   },
   "outputs": [
    {
     "name": "stdout",
     "output_type": "stream",
     "text": [
      "<class 'pandas.core.frame.DataFrame'>\n",
      "Int64Index: 113175 entries, 0 to 114182\n",
      "Data columns (total 57 columns):\n",
      "eventid             113175 non-null int64\n",
      "iyear               113175 non-null int64\n",
      "imonth              113175 non-null int64\n",
      "iday                113175 non-null int64\n",
      "extended            113175 non-null category\n",
      "country             113175 non-null category\n",
      "country_txt         113175 non-null object\n",
      "region              113175 non-null category\n",
      "region_txt          113175 non-null object\n",
      "provstate           113175 non-null object\n",
      "city                113175 non-null object\n",
      "latitude            113175 non-null float64\n",
      "longitude           113175 non-null float64\n",
      "specificity         113175 non-null category\n",
      "vicinity            113175 non-null category\n",
      "summary             113175 non-null object\n",
      "crit1               113175 non-null category\n",
      "crit2               113175 non-null category\n",
      "crit3               113175 non-null category\n",
      "doubtterr           113175 non-null category\n",
      "multiple            113175 non-null category\n",
      "success             113175 non-null category\n",
      "suicide             113175 non-null category\n",
      "attacktype1         113175 non-null category\n",
      "attacktype1_txt     113175 non-null object\n",
      "targtype1           113175 non-null category\n",
      "targtype1_txt       113175 non-null object\n",
      "targsubtype1        113175 non-null category\n",
      "targsubtype1_txt    113175 non-null object\n",
      "corp1               113175 non-null object\n",
      "target1             113175 non-null object\n",
      "natlty1             113175 non-null category\n",
      "natlty1_txt         113175 non-null object\n",
      "gname               113175 non-null object\n",
      "guncertain1         113175 non-null category\n",
      "individual          113175 non-null category\n",
      "nperpcap            109021 non-null float64\n",
      "claimed             113175 non-null category\n",
      "weaptype1           113175 non-null category\n",
      "weaptype1_txt       113175 non-null object\n",
      "weapsubtype1        113175 non-null category\n",
      "weapsubtype1_txt    113175 non-null object\n",
      "nkill               108993 non-null float64\n",
      "nkillus             112840 non-null float64\n",
      "nkillter            110552 non-null float64\n",
      "nwound              105108 non-null float64\n",
      "nwoundus            112623 non-null float64\n",
      "nwoundte            108743 non-null float64\n",
      "property            113175 non-null category\n",
      "ishostkid           113175 non-null category\n",
      "scite1              113175 non-null object\n",
      "scite2              113175 non-null object\n",
      "dbsource            113175 non-null object\n",
      "INT_LOG             113175 non-null category\n",
      "INT_IDEO            113175 non-null category\n",
      "INT_MISC            113175 non-null category\n",
      "INT_ANY             113175 non-null category\n",
      "dtypes: category(27), float64(9), int64(4), object(17)\n",
      "memory usage: 29.9+ MB\n"
     ]
    }
   ],
   "source": [
    "for cat in names.cat_names:\n",
    "    gtd_df[cat] = gtd_df[cat].astype('category')\n",
    "    \n",
    "gtd_df.info(verbose = True)"
   ]
  },
  {
   "cell_type": "code",
   "execution_count": 13,
   "metadata": {
    "ExecuteTime": {
     "end_time": "2018-09-18T12:17:36.224145Z",
     "start_time": "2018-09-18T12:17:36.219163Z"
    },
    "scrolled": true
   },
   "outputs": [
    {
     "data": {
      "text/plain": [
       "category    27\n",
       "float64      9\n",
       "int64        4\n",
       "object      17\n",
       "dtype: int64"
      ]
     },
     "execution_count": 13,
     "metadata": {},
     "output_type": "execute_result"
    }
   ],
   "source": [
    "gtd_df.get_dtype_counts()"
   ]
  },
  {
   "cell_type": "markdown",
   "metadata": {},
   "source": [
    "### Summary Statistics\n",
    "Each of the numeric attributes contain missing values ranging between 3.36% and 11.92%.  The following table depicts the summary statistics prior to imputation."
   ]
  },
  {
   "cell_type": "code",
   "execution_count": 14,
   "metadata": {
    "ExecuteTime": {
     "end_time": "2018-09-18T12:17:43.858287Z",
     "start_time": "2018-09-18T12:17:43.600962Z"
    }
   },
   "outputs": [
    {
     "data": {
      "text/html": [
       "<div>\n",
       "<style scoped>\n",
       "    .dataframe tbody tr th:only-of-type {\n",
       "        vertical-align: middle;\n",
       "    }\n",
       "\n",
       "    .dataframe tbody tr th {\n",
       "        vertical-align: top;\n",
       "    }\n",
       "\n",
       "    .dataframe thead th {\n",
       "        text-align: right;\n",
       "    }\n",
       "</style>\n",
       "<table border=\"1\" class=\"dataframe\">\n",
       "  <thead>\n",
       "    <tr style=\"text-align: right;\">\n",
       "      <th></th>\n",
       "      <th>count</th>\n",
       "      <th>mean</th>\n",
       "      <th>std</th>\n",
       "      <th>min</th>\n",
       "      <th>10%</th>\n",
       "      <th>20%</th>\n",
       "      <th>30%</th>\n",
       "      <th>40%</th>\n",
       "      <th>50%</th>\n",
       "      <th>60%</th>\n",
       "      <th>70%</th>\n",
       "      <th>80%</th>\n",
       "      <th>90%</th>\n",
       "      <th>100%</th>\n",
       "      <th>max</th>\n",
       "    </tr>\n",
       "  </thead>\n",
       "  <tbody>\n",
       "    <tr>\n",
       "      <th>nkillter</th>\n",
       "      <td>110552.0</td>\n",
       "      <td>0.507426</td>\n",
       "      <td>4.232247</td>\n",
       "      <td>0.0</td>\n",
       "      <td>0.0</td>\n",
       "      <td>0.0</td>\n",
       "      <td>0.0</td>\n",
       "      <td>0.0</td>\n",
       "      <td>0.0</td>\n",
       "      <td>0.0</td>\n",
       "      <td>0.0</td>\n",
       "      <td>0.0</td>\n",
       "      <td>1.0</td>\n",
       "      <td>500.0</td>\n",
       "      <td>500.0</td>\n",
       "    </tr>\n",
       "    <tr>\n",
       "      <th>nwound</th>\n",
       "      <td>105108.0</td>\n",
       "      <td>3.803507</td>\n",
       "      <td>40.619574</td>\n",
       "      <td>0.0</td>\n",
       "      <td>0.0</td>\n",
       "      <td>0.0</td>\n",
       "      <td>0.0</td>\n",
       "      <td>0.0</td>\n",
       "      <td>0.0</td>\n",
       "      <td>1.0</td>\n",
       "      <td>2.0</td>\n",
       "      <td>4.0</td>\n",
       "      <td>8.0</td>\n",
       "      <td>8191.0</td>\n",
       "      <td>8191.0</td>\n",
       "    </tr>\n",
       "    <tr>\n",
       "      <th>nkillus</th>\n",
       "      <td>112840.0</td>\n",
       "      <td>0.036875</td>\n",
       "      <td>5.691986</td>\n",
       "      <td>0.0</td>\n",
       "      <td>0.0</td>\n",
       "      <td>0.0</td>\n",
       "      <td>0.0</td>\n",
       "      <td>0.0</td>\n",
       "      <td>0.0</td>\n",
       "      <td>0.0</td>\n",
       "      <td>0.0</td>\n",
       "      <td>0.0</td>\n",
       "      <td>0.0</td>\n",
       "      <td>1360.0</td>\n",
       "      <td>1360.0</td>\n",
       "    </tr>\n",
       "    <tr>\n",
       "      <th>nperpcap</th>\n",
       "      <td>109021.0</td>\n",
       "      <td>0.120069</td>\n",
       "      <td>2.058576</td>\n",
       "      <td>0.0</td>\n",
       "      <td>0.0</td>\n",
       "      <td>0.0</td>\n",
       "      <td>0.0</td>\n",
       "      <td>0.0</td>\n",
       "      <td>0.0</td>\n",
       "      <td>0.0</td>\n",
       "      <td>0.0</td>\n",
       "      <td>0.0</td>\n",
       "      <td>0.0</td>\n",
       "      <td>406.0</td>\n",
       "      <td>406.0</td>\n",
       "    </tr>\n",
       "    <tr>\n",
       "      <th>nwoundus</th>\n",
       "      <td>112623.0</td>\n",
       "      <td>0.015139</td>\n",
       "      <td>0.715459</td>\n",
       "      <td>0.0</td>\n",
       "      <td>0.0</td>\n",
       "      <td>0.0</td>\n",
       "      <td>0.0</td>\n",
       "      <td>0.0</td>\n",
       "      <td>0.0</td>\n",
       "      <td>0.0</td>\n",
       "      <td>0.0</td>\n",
       "      <td>0.0</td>\n",
       "      <td>0.0</td>\n",
       "      <td>151.0</td>\n",
       "      <td>151.0</td>\n",
       "    </tr>\n",
       "    <tr>\n",
       "      <th>nwoundte</th>\n",
       "      <td>108743.0</td>\n",
       "      <td>0.108421</td>\n",
       "      <td>1.504903</td>\n",
       "      <td>0.0</td>\n",
       "      <td>0.0</td>\n",
       "      <td>0.0</td>\n",
       "      <td>0.0</td>\n",
       "      <td>0.0</td>\n",
       "      <td>0.0</td>\n",
       "      <td>0.0</td>\n",
       "      <td>0.0</td>\n",
       "      <td>0.0</td>\n",
       "      <td>0.0</td>\n",
       "      <td>200.0</td>\n",
       "      <td>200.0</td>\n",
       "    </tr>\n",
       "    <tr>\n",
       "      <th>nkill</th>\n",
       "      <td>108993.0</td>\n",
       "      <td>2.539227</td>\n",
       "      <td>12.350006</td>\n",
       "      <td>0.0</td>\n",
       "      <td>0.0</td>\n",
       "      <td>0.0</td>\n",
       "      <td>0.0</td>\n",
       "      <td>0.0</td>\n",
       "      <td>1.0</td>\n",
       "      <td>1.0</td>\n",
       "      <td>1.0</td>\n",
       "      <td>3.0</td>\n",
       "      <td>5.0</td>\n",
       "      <td>1570.0</td>\n",
       "      <td>1570.0</td>\n",
       "    </tr>\n",
       "  </tbody>\n",
       "</table>\n",
       "</div>"
      ],
      "text/plain": [
       "             count      mean        std  min  10%  20%  30%  40%  50%  60%  \\\n",
       "nkillter  110552.0  0.507426   4.232247  0.0  0.0  0.0  0.0  0.0  0.0  0.0   \n",
       "nwound    105108.0  3.803507  40.619574  0.0  0.0  0.0  0.0  0.0  0.0  1.0   \n",
       "nkillus   112840.0  0.036875   5.691986  0.0  0.0  0.0  0.0  0.0  0.0  0.0   \n",
       "nperpcap  109021.0  0.120069   2.058576  0.0  0.0  0.0  0.0  0.0  0.0  0.0   \n",
       "nwoundus  112623.0  0.015139   0.715459  0.0  0.0  0.0  0.0  0.0  0.0  0.0   \n",
       "nwoundte  108743.0  0.108421   1.504903  0.0  0.0  0.0  0.0  0.0  0.0  0.0   \n",
       "nkill     108993.0  2.539227  12.350006  0.0  0.0  0.0  0.0  0.0  1.0  1.0   \n",
       "\n",
       "          70%  80%  90%    100%     max  \n",
       "nkillter  0.0  0.0  1.0   500.0   500.0  \n",
       "nwound    2.0  4.0  8.0  8191.0  8191.0  \n",
       "nkillus   0.0  0.0  0.0  1360.0  1360.0  \n",
       "nperpcap  0.0  0.0  0.0   406.0   406.0  \n",
       "nwoundus  0.0  0.0  0.0   151.0   151.0  \n",
       "nwoundte  0.0  0.0  0.0   200.0   200.0  \n",
       "nkill     1.0  3.0  5.0  1570.0  1570.0  "
      ]
     },
     "execution_count": 14,
     "metadata": {},
     "output_type": "execute_result"
    }
   ],
   "source": [
    "gtd_df[list(names.cal_names)][gtd_df[list(names.cal_names)] > -1].describe(\n",
    "    percentiles = [0.10, 0.20, 0.30, 0.40, 0.50, 0.60, 0.70, 0.80, 0.90, 1.0]).transpose()"
   ]
  },
  {
   "cell_type": "markdown",
   "metadata": {},
   "source": [
    "### Imputation\n",
    "\n",
    "使用 $3\\sigma$ 原则处理异常值.  Since the mean is not robust and is affected by outliers, the median is recommended for imputation (Chen, n.d.).  The following function imputes the median if an attribute contains outliers, otherwise the attribute mean is imputed. "
   ]
  },
  {
   "cell_type": "code",
   "execution_count": 15,
   "metadata": {
    "ExecuteTime": {
     "end_time": "2018-09-18T12:17:54.608767Z",
     "start_time": "2018-09-18T12:17:54.402320Z"
    }
   },
   "outputs": [
    {
     "data": {
      "text/plain": [
       "array([False,  True])"
      ]
     },
     "execution_count": 15,
     "metadata": {},
     "output_type": "execute_result"
    }
   ],
   "source": [
    "np.unique(gtd_df[list(names.txt_names)].isin(['Unknown']))  # 文本变量中存在缺失值"
   ]
  },
  {
   "cell_type": "markdown",
   "metadata": {},
   "source": [
    "### Summary Statistics with Imputation\n",
    "The following table presents the summary statistics after imputation."
   ]
  },
  {
   "cell_type": "code",
   "execution_count": 21,
   "metadata": {
    "ExecuteTime": {
     "end_time": "2018-09-18T12:21:29.942449Z",
     "start_time": "2018-09-18T12:21:29.805830Z"
    },
    "scrolled": true
   },
   "outputs": [
    {
     "data": {
      "text/html": [
       "<div>\n",
       "<style scoped>\n",
       "    .dataframe tbody tr th:only-of-type {\n",
       "        vertical-align: middle;\n",
       "    }\n",
       "\n",
       "    .dataframe tbody tr th {\n",
       "        vertical-align: top;\n",
       "    }\n",
       "\n",
       "    .dataframe thead th {\n",
       "        text-align: right;\n",
       "    }\n",
       "</style>\n",
       "<table border=\"1\" class=\"dataframe\">\n",
       "  <thead>\n",
       "    <tr style=\"text-align: right;\">\n",
       "      <th></th>\n",
       "      <th>count</th>\n",
       "      <th>mean</th>\n",
       "      <th>std</th>\n",
       "      <th>min</th>\n",
       "      <th>10%</th>\n",
       "      <th>20%</th>\n",
       "      <th>30%</th>\n",
       "      <th>40%</th>\n",
       "      <th>50%</th>\n",
       "      <th>60%</th>\n",
       "      <th>70%</th>\n",
       "      <th>80%</th>\n",
       "      <th>90%</th>\n",
       "      <th>100%</th>\n",
       "      <th>max</th>\n",
       "    </tr>\n",
       "  </thead>\n",
       "  <tbody>\n",
       "    <tr>\n",
       "      <th>nkillter</th>\n",
       "      <td>113175.0</td>\n",
       "      <td>0.495666</td>\n",
       "      <td>4.183611</td>\n",
       "      <td>0.0</td>\n",
       "      <td>0.0</td>\n",
       "      <td>0.0</td>\n",
       "      <td>0.0</td>\n",
       "      <td>0.0</td>\n",
       "      <td>0.0</td>\n",
       "      <td>0.0</td>\n",
       "      <td>0.0</td>\n",
       "      <td>0.0</td>\n",
       "      <td>1.0</td>\n",
       "      <td>500.0</td>\n",
       "      <td>500.0</td>\n",
       "    </tr>\n",
       "    <tr>\n",
       "      <th>nwound</th>\n",
       "      <td>113175.0</td>\n",
       "      <td>3.532397</td>\n",
       "      <td>39.157371</td>\n",
       "      <td>0.0</td>\n",
       "      <td>0.0</td>\n",
       "      <td>0.0</td>\n",
       "      <td>0.0</td>\n",
       "      <td>0.0</td>\n",
       "      <td>0.0</td>\n",
       "      <td>1.0</td>\n",
       "      <td>2.0</td>\n",
       "      <td>4.0</td>\n",
       "      <td>7.0</td>\n",
       "      <td>8191.0</td>\n",
       "      <td>8191.0</td>\n",
       "    </tr>\n",
       "    <tr>\n",
       "      <th>nkillus</th>\n",
       "      <td>113175.0</td>\n",
       "      <td>0.036766</td>\n",
       "      <td>5.683556</td>\n",
       "      <td>0.0</td>\n",
       "      <td>0.0</td>\n",
       "      <td>0.0</td>\n",
       "      <td>0.0</td>\n",
       "      <td>0.0</td>\n",
       "      <td>0.0</td>\n",
       "      <td>0.0</td>\n",
       "      <td>0.0</td>\n",
       "      <td>0.0</td>\n",
       "      <td>0.0</td>\n",
       "      <td>1360.0</td>\n",
       "      <td>1360.0</td>\n",
       "    </tr>\n",
       "    <tr>\n",
       "      <th>nperpcap</th>\n",
       "      <td>113175.0</td>\n",
       "      <td>0.115662</td>\n",
       "      <td>2.020569</td>\n",
       "      <td>0.0</td>\n",
       "      <td>0.0</td>\n",
       "      <td>0.0</td>\n",
       "      <td>0.0</td>\n",
       "      <td>0.0</td>\n",
       "      <td>0.0</td>\n",
       "      <td>0.0</td>\n",
       "      <td>0.0</td>\n",
       "      <td>0.0</td>\n",
       "      <td>0.0</td>\n",
       "      <td>406.0</td>\n",
       "      <td>406.0</td>\n",
       "    </tr>\n",
       "    <tr>\n",
       "      <th>nwoundus</th>\n",
       "      <td>113175.0</td>\n",
       "      <td>0.015065</td>\n",
       "      <td>0.713713</td>\n",
       "      <td>0.0</td>\n",
       "      <td>0.0</td>\n",
       "      <td>0.0</td>\n",
       "      <td>0.0</td>\n",
       "      <td>0.0</td>\n",
       "      <td>0.0</td>\n",
       "      <td>0.0</td>\n",
       "      <td>0.0</td>\n",
       "      <td>0.0</td>\n",
       "      <td>0.0</td>\n",
       "      <td>151.0</td>\n",
       "      <td>151.0</td>\n",
       "    </tr>\n",
       "    <tr>\n",
       "      <th>nwoundte</th>\n",
       "      <td>113175.0</td>\n",
       "      <td>0.104175</td>\n",
       "      <td>1.475292</td>\n",
       "      <td>0.0</td>\n",
       "      <td>0.0</td>\n",
       "      <td>0.0</td>\n",
       "      <td>0.0</td>\n",
       "      <td>0.0</td>\n",
       "      <td>0.0</td>\n",
       "      <td>0.0</td>\n",
       "      <td>0.0</td>\n",
       "      <td>0.0</td>\n",
       "      <td>0.0</td>\n",
       "      <td>200.0</td>\n",
       "      <td>200.0</td>\n",
       "    </tr>\n",
       "    <tr>\n",
       "      <th>nkill</th>\n",
       "      <td>113175.0</td>\n",
       "      <td>2.482350</td>\n",
       "      <td>12.123158</td>\n",
       "      <td>0.0</td>\n",
       "      <td>0.0</td>\n",
       "      <td>0.0</td>\n",
       "      <td>0.0</td>\n",
       "      <td>0.0</td>\n",
       "      <td>1.0</td>\n",
       "      <td>1.0</td>\n",
       "      <td>1.0</td>\n",
       "      <td>2.0</td>\n",
       "      <td>5.0</td>\n",
       "      <td>1570.0</td>\n",
       "      <td>1570.0</td>\n",
       "    </tr>\n",
       "  </tbody>\n",
       "</table>\n",
       "</div>"
      ],
      "text/plain": [
       "             count      mean        std  min  10%  20%  30%  40%  50%  60%  \\\n",
       "nkillter  113175.0  0.495666   4.183611  0.0  0.0  0.0  0.0  0.0  0.0  0.0   \n",
       "nwound    113175.0  3.532397  39.157371  0.0  0.0  0.0  0.0  0.0  0.0  1.0   \n",
       "nkillus   113175.0  0.036766   5.683556  0.0  0.0  0.0  0.0  0.0  0.0  0.0   \n",
       "nperpcap  113175.0  0.115662   2.020569  0.0  0.0  0.0  0.0  0.0  0.0  0.0   \n",
       "nwoundus  113175.0  0.015065   0.713713  0.0  0.0  0.0  0.0  0.0  0.0  0.0   \n",
       "nwoundte  113175.0  0.104175   1.475292  0.0  0.0  0.0  0.0  0.0  0.0  0.0   \n",
       "nkill     113175.0  2.482350  12.123158  0.0  0.0  0.0  0.0  0.0  1.0  1.0   \n",
       "\n",
       "          70%  80%  90%    100%     max  \n",
       "nkillter  0.0  0.0  1.0   500.0   500.0  \n",
       "nwound    2.0  4.0  7.0  8191.0  8191.0  \n",
       "nkillus   0.0  0.0  0.0  1360.0  1360.0  \n",
       "nperpcap  0.0  0.0  0.0   406.0   406.0  \n",
       "nwoundus  0.0  0.0  0.0   151.0   151.0  \n",
       "nwoundte  0.0  0.0  0.0   200.0   200.0  \n",
       "nkill     1.0  2.0  5.0  1570.0  1570.0  "
      ]
     },
     "execution_count": 21,
     "metadata": {},
     "output_type": "execute_result"
    }
   ],
   "source": [
    "gtd_df[list(names.cal_names)].describe(\n",
    "    percentiles=[0.10, 0.20, 0.30, 0.40, 0.50, 0.60, 0.70, 0.80, 0.90, 1.0]).transpose()"
   ]
  },
  {
   "cell_type": "markdown",
   "metadata": {},
   "source": [
    "### Data Frame Review\n",
    "The new data frame now has a state that only includes missing values for the latitude and longitude attributes.  There are 1,407 observations or 1.25% of the total observations, which contain missing values."
   ]
  },
  {
   "cell_type": "code",
   "execution_count": 22,
   "metadata": {
    "ExecuteTime": {
     "end_time": "2018-09-18T12:21:34.059808Z",
     "start_time": "2018-09-18T12:21:33.848401Z"
    },
    "scrolled": true
   },
   "outputs": [
    {
     "name": "stdout",
     "output_type": "stream",
     "text": [
      "<class 'pandas.core.frame.DataFrame'>\n",
      "Int64Index: 113175 entries, 0 to 114182\n",
      "Data columns (total 57 columns):\n",
      "eventid             113175 non-null int64\n",
      "iyear               113175 non-null int64\n",
      "imonth              113175 non-null int64\n",
      "iday                113175 non-null int64\n",
      "extended            113175 non-null category\n",
      "country             113175 non-null category\n",
      "country_txt         113175 non-null object\n",
      "region              113175 non-null category\n",
      "region_txt          113175 non-null object\n",
      "provstate           113175 non-null object\n",
      "city                113175 non-null object\n",
      "latitude            113175 non-null float64\n",
      "longitude           113175 non-null float64\n",
      "specificity         113175 non-null category\n",
      "vicinity            113175 non-null category\n",
      "summary             113175 non-null object\n",
      "crit1               113175 non-null category\n",
      "crit2               113175 non-null category\n",
      "crit3               113175 non-null category\n",
      "doubtterr           113175 non-null category\n",
      "multiple            113175 non-null category\n",
      "success             113175 non-null category\n",
      "suicide             113175 non-null category\n",
      "attacktype1         113175 non-null category\n",
      "attacktype1_txt     113175 non-null object\n",
      "targtype1           113175 non-null category\n",
      "targtype1_txt       113175 non-null object\n",
      "targsubtype1        113175 non-null category\n",
      "targsubtype1_txt    113175 non-null object\n",
      "corp1               113175 non-null object\n",
      "target1             113175 non-null object\n",
      "natlty1             113175 non-null category\n",
      "natlty1_txt         113175 non-null object\n",
      "gname               113175 non-null object\n",
      "guncertain1         113175 non-null category\n",
      "individual          113175 non-null category\n",
      "nperpcap            113175 non-null float64\n",
      "claimed             113175 non-null category\n",
      "weaptype1           113175 non-null category\n",
      "weaptype1_txt       113175 non-null object\n",
      "weapsubtype1        113175 non-null category\n",
      "weapsubtype1_txt    113175 non-null object\n",
      "nkill               113175 non-null float64\n",
      "nkillus             113175 non-null float64\n",
      "nkillter            113175 non-null float64\n",
      "nwound              113175 non-null float64\n",
      "nwoundus            113175 non-null float64\n",
      "nwoundte            113175 non-null float64\n",
      "property            113175 non-null category\n",
      "ishostkid           113175 non-null category\n",
      "scite1              113175 non-null object\n",
      "scite2              113175 non-null object\n",
      "dbsource            113175 non-null object\n",
      "INT_LOG             113175 non-null category\n",
      "INT_IDEO            113175 non-null category\n",
      "INT_MISC            113175 non-null category\n",
      "INT_ANY             113175 non-null category\n",
      "dtypes: category(27), float64(9), int64(4), object(17)\n",
      "memory usage: 29.9+ MB\n"
     ]
    }
   ],
   "source": [
    "gtd_df.info(verbose = True)"
   ]
  },
  {
   "cell_type": "markdown",
   "metadata": {},
   "source": [
    "### Incident Date\n",
    "Concatinate the `iyear`, `imonth` and `iday` attributes to create an incident date."
   ]
  },
  {
   "cell_type": "code",
   "execution_count": 23,
   "metadata": {
    "ExecuteTime": {
     "end_time": "2018-09-18T12:21:40.464148Z",
     "start_time": "2018-09-18T12:21:40.033321Z"
    },
    "scrolled": true
   },
   "outputs": [
    {
     "name": "stdout",
     "output_type": "stream",
     "text": [
      "<class 'pandas.core.frame.DataFrame'>\n",
      "Int64Index: 113175 entries, 0 to 114182\n",
      "Data columns (total 58 columns):\n",
      "eventid             113175 non-null int64\n",
      "iyear               113175 non-null int64\n",
      "imonth              113175 non-null int64\n",
      "iday                113175 non-null int64\n",
      "extended            113175 non-null category\n",
      "country             113175 non-null category\n",
      "country_txt         113175 non-null object\n",
      "region              113175 non-null category\n",
      "region_txt          113175 non-null object\n",
      "provstate           113175 non-null object\n",
      "city                113175 non-null object\n",
      "latitude            113175 non-null float64\n",
      "longitude           113175 non-null float64\n",
      "specificity         113175 non-null category\n",
      "vicinity            113175 non-null category\n",
      "summary             113175 non-null object\n",
      "crit1               113175 non-null category\n",
      "crit2               113175 non-null category\n",
      "crit3               113175 non-null category\n",
      "doubtterr           113175 non-null category\n",
      "multiple            113175 non-null category\n",
      "success             113175 non-null category\n",
      "suicide             113175 non-null category\n",
      "attacktype1         113175 non-null category\n",
      "attacktype1_txt     113175 non-null object\n",
      "targtype1           113175 non-null category\n",
      "targtype1_txt       113175 non-null object\n",
      "targsubtype1        113175 non-null category\n",
      "targsubtype1_txt    113175 non-null object\n",
      "corp1               113175 non-null object\n",
      "target1             113175 non-null object\n",
      "natlty1             113175 non-null category\n",
      "natlty1_txt         113175 non-null object\n",
      "gname               113175 non-null object\n",
      "guncertain1         113175 non-null category\n",
      "individual          113175 non-null category\n",
      "nperpcap            113175 non-null float64\n",
      "claimed             113175 non-null category\n",
      "weaptype1           113175 non-null category\n",
      "weaptype1_txt       113175 non-null object\n",
      "weapsubtype1        113175 non-null category\n",
      "weapsubtype1_txt    113175 non-null object\n",
      "nkill               113175 non-null float64\n",
      "nkillus             113175 non-null float64\n",
      "nkillter            113175 non-null float64\n",
      "nwound              113175 non-null float64\n",
      "nwoundus            113175 non-null float64\n",
      "nwoundte            113175 non-null float64\n",
      "property            113175 non-null category\n",
      "ishostkid           113175 non-null category\n",
      "scite1              113175 non-null object\n",
      "scite2              113175 non-null object\n",
      "dbsource            113175 non-null object\n",
      "INT_LOG             113175 non-null category\n",
      "INT_IDEO            113175 non-null category\n",
      "INT_MISC            113175 non-null category\n",
      "INT_ANY             113175 non-null category\n",
      "incident_date       113175 non-null datetime64[ns]\n",
      "dtypes: category(27), datetime64[ns](1), float64(9), int64(4), object(17)\n",
      "memory usage: 30.8+ MB\n"
     ]
    }
   ],
   "source": [
    "# 297 iday attributes contain 0 to represent unknown, setting 1\n",
    "gtd_df.loc[gtd_df['iday'] == 0, 'iday'] = 1\n",
    "\n",
    "gtd_df['incident_date'] = (gtd_df['iyear'].astype(str) + '-' + \n",
    "                              gtd_df['imonth'].astype(str) + '-' + \n",
    "                              gtd_df['iday'].astype(str))\n",
    "\n",
    "gtd_df['incident_date'] = pd.to_datetime(gtd_df['incident_date'], \n",
    "                                            format=\"%Y-%m-%d\")\n",
    "gtd_df.info(verbose = True)"
   ]
  },
  {
   "cell_type": "markdown",
   "metadata": {},
   "source": [
    "### Save the Cleansed Data\n",
    "Output the new data frame to a CSV file for use in the predictive models."
   ]
  },
  {
   "cell_type": "code",
   "execution_count": 25,
   "metadata": {
    "ExecuteTime": {
     "end_time": "2018-09-18T12:22:12.707206Z",
     "start_time": "2018-09-18T12:22:12.482790Z"
    },
    "scrolled": false
   },
   "outputs": [
    {
     "data": {
      "text/plain": [
       "array([0], dtype=int64)"
      ]
     },
     "execution_count": 25,
     "metadata": {},
     "output_type": "execute_result"
    }
   ],
   "source": [
    "np.unique(gtd_df.isnull().sum())"
   ]
  },
  {
   "cell_type": "code",
   "execution_count": 26,
   "metadata": {
    "ExecuteTime": {
     "end_time": "2018-09-18T12:24:34.156303Z",
     "start_time": "2018-09-18T12:22:20.030908Z"
    }
   },
   "outputs": [],
   "source": [
    "gtd_df.to_excel(\"./data/gtd_clean.xlsx\")"
   ]
  },
  {
   "cell_type": "code",
   "execution_count": 27,
   "metadata": {
    "ExecuteTime": {
     "end_time": "2018-09-18T12:24:45.109850Z",
     "start_time": "2018-09-18T12:24:45.102897Z"
    },
    "scrolled": true
   },
   "outputs": [
    {
     "data": {
      "text/plain": [
       "category          27\n",
       "datetime64[ns]     1\n",
       "float64            9\n",
       "int64              4\n",
       "object            17\n",
       "dtype: int64"
      ]
     },
     "execution_count": 27,
     "metadata": {},
     "output_type": "execute_result"
    }
   ],
   "source": [
    "gtd_df.get_dtype_counts()"
   ]
  },
  {
   "cell_type": "markdown",
   "metadata": {},
   "source": [
    "### References\n",
    "\n",
    "Bois, J. (n.d.). Plotting all of your data: Empirical cumulative distribution functions Retrieved from https://campus.datacamp.com/courses/statistical-thinking-in-python-part-1/graphical-exploratory-data-analysis?ex=11\n",
    "\n",
    "Chen, D. (n.d.). Duplicate and missing data Retrieved from https://campus.datacamp.com/courses/cleaning-data-in-python/cleaning-data-for-analysis?ex=11\n",
    "\n",
    "Pandas. (n.d.). Categorical data. Retrieved from https://pandas.pydata.org/pandas-docs/stable/categorical.html"
   ]
  }
 ],
 "metadata": {
  "kernelspec": {
   "display_name": "Python [default]",
   "language": "python",
   "name": "python3"
  },
  "language_info": {
   "codemirror_mode": {
    "name": "ipython",
    "version": 3
   },
   "file_extension": ".py",
   "mimetype": "text/x-python",
   "name": "python",
   "nbconvert_exporter": "python",
   "pygments_lexer": "ipython3",
   "version": "3.6.5"
  },
  "latex_envs": {
   "LaTeX_envs_menu_present": true,
   "autoclose": false,
   "autocomplete": true,
   "bibliofile": "biblio.bib",
   "cite_by": "apalike",
   "current_citInitial": 1,
   "eqLabelWithNumbers": true,
   "eqNumInitial": 1,
   "hotkeys": {
    "equation": "Ctrl-E",
    "itemize": "Ctrl-I"
   },
   "labels_anchors": false,
   "latex_user_defs": false,
   "report_style_numbering": false,
   "user_envs_cfg": false
  },
  "nbTranslate": {
   "displayLangs": [
    "*"
   ],
   "hotkey": "alt-t",
   "langInMainMenu": true,
   "sourceLang": "en",
   "targetLang": "fr",
   "useGoogleTranslate": true
  },
  "toc": {
   "base_numbering": 1,
   "nav_menu": {},
   "number_sections": true,
   "sideBar": true,
   "skip_h1_title": false,
   "title_cell": "Table of Contents",
   "title_sidebar": "Contents",
   "toc_cell": false,
   "toc_position": {},
   "toc_section_display": true,
   "toc_window_display": false
  },
  "varInspector": {
   "cols": {
    "lenName": 16,
    "lenType": 16,
    "lenVar": 40
   },
   "kernels_config": {
    "python": {
     "delete_cmd_postfix": "",
     "delete_cmd_prefix": "del ",
     "library": "var_list.py",
     "varRefreshCmd": "print(var_dic_list())"
    },
    "r": {
     "delete_cmd_postfix": ") ",
     "delete_cmd_prefix": "rm(",
     "library": "var_list.r",
     "varRefreshCmd": "cat(var_dic_list()) "
    }
   },
   "types_to_exclude": [
    "module",
    "function",
    "builtin_function_or_method",
    "instance",
    "_Feature"
   ],
   "window_display": false
  }
 },
 "nbformat": 4,
 "nbformat_minor": 2
}
