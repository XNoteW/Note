{
 "cells": [
  {
   "cell_type": "code",
   "execution_count": 1,
   "metadata": {
    "ExecuteTime": {
     "end_time": "2018-09-19T08:46:07.602804Z",
     "start_time": "2018-09-19T08:46:06.808910Z"
    }
   },
   "outputs": [
    {
     "name": "stdout",
     "output_type": "stream",
     "text": [
      "Populating the interactive namespace from numpy and matplotlib\n"
     ]
    }
   ],
   "source": [
    "import pandas as pd\n",
    "import numpy as np\n",
    "import zipfile\n",
    "import sys, os\n",
    "\n",
    "%pylab inline"
   ]
  },
  {
   "cell_type": "markdown",
   "metadata": {},
   "source": [
    "## 载入并查看数据\n",
    "\n",
    "首先，在 [Global Terrorism Database](https://www.kaggle.com/START-UMD/gtd)网页下载数据集，下面我们之间对其进行操作："
   ]
  },
  {
   "cell_type": "code",
   "execution_count": 3,
   "metadata": {
    "ExecuteTime": {
     "end_time": "2018-09-19T08:52:41.364862Z",
     "start_time": "2018-09-19T08:52:40.015457Z"
    },
    "scrolled": true
   },
   "outputs": [
    {
     "data": {
      "text/plain": [
       "['globalterrorismdb_0718dist.csv']"
      ]
     },
     "execution_count": 3,
     "metadata": {},
     "output_type": "execute_result"
    }
   ],
   "source": [
    "filename = '../data/globalterrorismdb_0718dist.csv_3.zip'\n",
    "\n",
    "zf = zipfile.ZipFile(filename)\n",
    "\n",
    "zf.extractall('./data/')    # 解压数据\n",
    "zf.close()\n",
    "\n",
    "gtd_file = os.listdir('data/')\n",
    "gtd_file"
   ]
  },
  {
   "cell_type": "markdown",
   "metadata": {},
   "source": [
    "该文件是 `.csv` 格式，需要解决各种编码问题，有点不是那么友好："
   ]
  },
  {
   "cell_type": "code",
   "execution_count": 5,
   "metadata": {
    "ExecuteTime": {
     "end_time": "2018-09-19T08:53:20.313734Z",
     "start_time": "2018-09-19T08:53:14.460359Z"
    },
    "scrolled": true
   },
   "outputs": [
    {
     "name": "stdout",
     "output_type": "stream",
     "text": [
      "Wall time: 5.85 s\n"
     ]
    }
   ],
   "source": [
    "%%time\n",
    "df = pd.read_csv('data/globalterrorismdb_0718dist.csv', encoding='ISO-8859-1', low_memory=False)  # 载入数据"
   ]
  },
  {
   "cell_type": "markdown",
   "metadata": {},
   "source": [
    "载入该文件花费时间约 $5.85$ 秒."
   ]
  },
  {
   "cell_type": "code",
   "execution_count": 6,
   "metadata": {
    "ExecuteTime": {
     "end_time": "2018-09-19T08:53:36.911329Z",
     "start_time": "2018-09-19T08:53:36.903350Z"
    },
    "scrolled": true
   },
   "outputs": [
    {
     "data": {
      "text/plain": [
       "float64    55\n",
       "int64      22\n",
       "object     58\n",
       "dtype: int64"
      ]
     },
     "execution_count": 6,
     "metadata": {},
     "output_type": "execute_result"
    }
   ],
   "source": [
    "df.get_dtype_counts()  # 查看数据类型分布"
   ]
  },
  {
   "cell_type": "markdown",
   "metadata": {},
   "source": [
    "我们可以将其转换为 Excel (`.xlsx` 格式) ："
   ]
  },
  {
   "cell_type": "code",
   "execution_count": 7,
   "metadata": {
    "ExecuteTime": {
     "end_time": "2018-09-19T09:00:00.057177Z",
     "start_time": "2018-09-19T08:54:35.458785Z"
    }
   },
   "outputs": [],
   "source": [
    "df.to_excel('data/globalterrorismdb_0718dist.xlsx')  # 保存为 excel 格式"
   ]
  },
  {
   "cell_type": "code",
   "execution_count": 8,
   "metadata": {
    "ExecuteTime": {
     "end_time": "2018-09-19T09:05:39.547041Z",
     "start_time": "2018-09-19T09:04:04.920056Z"
    }
   },
   "outputs": [
    {
     "name": "stdout",
     "output_type": "stream",
     "text": [
      "Wall time: 1min 34s\n"
     ]
    }
   ],
   "source": [
    "%%time\n",
    "df_ex = pd.read_excel('data/globalterrorismdb_0718dist.xlsx')"
   ]
  },
  {
   "cell_type": "markdown",
   "metadata": {},
   "source": [
    "载入该 excel 文件花费 `1min 34s` 也不是我们想要的结果.\n",
    "\n",
    "为了加快数据的存储和载入, 我们采用 HDF5 格式来保存文件，但是，`pytables` 暂时不支持直接存储 `object` 数据类型的数据，为此，需要对数据类型进行转换:"
   ]
  },
  {
   "cell_type": "code",
   "execution_count": 10,
   "metadata": {
    "ExecuteTime": {
     "end_time": "2018-09-19T09:09:47.108131Z",
     "start_time": "2018-09-19T09:09:47.101151Z"
    }
   },
   "outputs": [
    {
     "data": {
      "text/plain": [
       "float64    55\n",
       "int64      22\n",
       "object     58\n",
       "dtype: int64"
      ]
     },
     "execution_count": 10,
     "metadata": {},
     "output_type": "execute_result"
    }
   ],
   "source": [
    "df_ex.get_dtype_counts()"
   ]
  },
  {
   "cell_type": "code",
   "execution_count": null,
   "metadata": {
    "ExecuteTime": {
     "end_time": "2018-09-19T06:02:52.631150Z",
     "start_time": "2018-09-19T06:02:50.583594Z"
    }
   },
   "outputs": [],
   "source": [
    "gtd_df = df.select_dtypes(['object']).\n",
    "\n",
    "gtd_df1 = gtd_df.select_dtypes(['int64', 'float64'])\n",
    "\n",
    "gtd = pd.concat([gtd_df1, gtd_df], sort=True)"
   ]
  },
  {
   "cell_type": "code",
   "execution_count": null,
   "metadata": {
    "ExecuteTime": {
     "end_time": "2018-09-16T20:14:32.273507Z",
     "start_time": "2018-09-16T20:14:32.252562Z"
    }
   },
   "outputs": [],
   "source": [
    "# Display a summary of the data frame\n",
    "df.info(verbose = True)"
   ]
  },
  {
   "cell_type": "code",
   "execution_count": null,
   "metadata": {
    "ExecuteTime": {
     "end_time": "2018-09-16T20:14:33.048435Z",
     "start_time": "2018-09-16T20:14:32.276502Z"
    },
    "scrolled": true
   },
   "outputs": [],
   "source": [
    "# Check the number of missing values in each attribute\n",
    "count = df.isnull().sum()\n",
    "percent = round(count / df.shape[0] * 100, 2)\n",
    "series = [count, percent]\n",
    "result = pd.concat(series, axis=1, keys=['Count','Percent'])\n",
    "result.sort_values(by='Count', ascending=False)  # 按缺失值数量倒序"
   ]
  },
  {
   "cell_type": "code",
   "execution_count": null,
   "metadata": {
    "ExecuteTime": {
     "end_time": "2018-09-16T20:14:33.185069Z",
     "start_time": "2018-09-16T20:14:33.050429Z"
    }
   },
   "outputs": [],
   "source": [
    "result['Percent'].plot()"
   ]
  },
  {
   "cell_type": "markdown",
   "metadata": {},
   "source": [
    "从上图可以看出, 缺失值比例超过 $90\\%$ 的特征并不多"
   ]
  },
  {
   "cell_type": "code",
   "execution_count": null,
   "metadata": {
    "ExecuteTime": {
     "end_time": "2018-09-16T20:14:33.192050Z",
     "start_time": "2018-09-16T20:14:33.187064Z"
    }
   },
   "outputs": [],
   "source": [
    "target_attrs = result[result['Percent'] < 90.0]\n",
    "print('留下来的特征所占比例:', round(target_attrs.shape[0]/result.shape[0], 2))"
   ]
  },
  {
   "cell_type": "markdown",
   "metadata": {
    "ExecuteTime": {
     "end_time": "2018-09-16T02:22:29.616897Z",
     "start_time": "2018-09-16T02:22:29.612941Z"
    }
   },
   "source": [
    "查看留下来的特征:"
   ]
  },
  {
   "cell_type": "code",
   "execution_count": null,
   "metadata": {
    "ExecuteTime": {
     "end_time": "2018-09-16T20:14:33.207011Z",
     "start_time": "2018-09-16T20:14:33.194045Z"
    },
    "scrolled": false
   },
   "outputs": [],
   "source": [
    "keep_attrs = target_attrs.index.values\n",
    "keep_attrs"
   ]
  },
  {
   "cell_type": "code",
   "execution_count": null,
   "metadata": {
    "ExecuteTime": {
     "end_time": "2018-09-16T20:14:33.229949Z",
     "start_time": "2018-09-16T20:14:33.209006Z"
    },
    "scrolled": true
   },
   "outputs": [],
   "source": [
    "target_attrs.sort_values(by='Count', ascending=False)  # 按缺失值数量倒序"
   ]
  },
  {
   "cell_type": "markdown",
   "metadata": {},
   "source": [
    "查看缺失值比例在 $50\\% \\sim 90\\%$ 的特征:"
   ]
  },
  {
   "cell_type": "code",
   "execution_count": null,
   "metadata": {
    "ExecuteTime": {
     "end_time": "2018-09-16T20:14:33.243913Z",
     "start_time": "2018-09-16T20:14:33.232942Z"
    }
   },
   "outputs": [],
   "source": [
    "df_50_90 = target_attrs[target_attrs['Percent'] > 50.0]\n",
    "round(df_50_90.shape[0]/target_attrs.shape[0], 2)  # 特征数所占比例"
   ]
  },
  {
   "cell_type": "markdown",
   "metadata": {},
   "source": [
    "占比是 $19\\%$, 因而为了简化问题, 我们仅仅考虑缺失值占比小于 $50\\%$ 的特征."
   ]
  },
  {
   "cell_type": "code",
   "execution_count": null,
   "metadata": {
    "ExecuteTime": {
     "end_time": "2018-09-16T20:14:33.553088Z",
     "start_time": "2018-09-16T20:14:33.246903Z"
    },
    "scrolled": true
   },
   "outputs": [],
   "source": [
    "keep_attrs = target_attrs[target_attrs['Percent']<50.0]\n",
    "\n",
    "subset_df = df.loc[:, keep_attrs.index.values]\n",
    "subset_df.info(verbose = True)"
   ]
  },
  {
   "cell_type": "code",
   "execution_count": null,
   "metadata": {
    "ExecuteTime": {
     "end_time": "2018-09-16T20:14:33.561065Z",
     "start_time": "2018-09-16T20:14:33.556097Z"
    }
   },
   "outputs": [],
   "source": [
    "# total no of columns and rows present in data\n",
    "print(\"数据的尺寸:\",df.shape)"
   ]
  },
  {
   "cell_type": "code",
   "execution_count": null,
   "metadata": {
    "ExecuteTime": {
     "end_time": "2018-09-16T20:14:33.625890Z",
     "start_time": "2018-09-16T20:14:33.566061Z"
    },
    "scrolled": true
   },
   "outputs": [],
   "source": [
    "feature_names = set(subset_df.columns)\n",
    "\n",
    "# 数值变量集合\n",
    "num_feature_names = {\n",
    "    'nperps', 'nperpcap', 'nkill', 'nkillus', 'nkillter', 'nwound',\n",
    "    'nwoundus', 'nwoundte', 'propvalue', 'nhostkid', 'nhostkidus',\n",
    "    'nhours', 'ndays', 'ransomamt', 'ransomamtus', 'ransompaid','ransompaidus', 'nreleased'\n",
    "}\n",
    "exta_names = {'eventid','iday','imonth','iyear','latitude', 'longitude'}\n",
    "\n",
    "txt_names = set(subset_df.select_dtypes(['object']).columns)\n",
    "txt_names.update({'city', 'summary', 'provstate', 'corp1', 'target1', 'gname','scite1', 'scite2', 'dbsource'})\n",
    "\n",
    "cat_names = feature_names - num_feature_names - exta_names - txt_names"
   ]
  },
  {
   "cell_type": "markdown",
   "metadata": {},
   "source": [
    "## 类别信息处理"
   ]
  },
  {
   "cell_type": "code",
   "execution_count": null,
   "metadata": {
    "ExecuteTime": {
     "end_time": "2018-09-16T20:14:33.703722Z",
     "start_time": "2018-09-16T20:14:33.626888Z"
    },
    "scrolled": true
   },
   "outputs": [],
   "source": [
    "subset_df.loc[subset_df['doubtterr'] == -9, 'doubtterr'] = -1  # -9 未知\n",
    "\n",
    "#subset_df['attacktype1'].replace(9, -1)\n",
    "subset_df.loc[subset_df['attacktype1'] == 9, 'attacktype1'] = -1  #  9 未知\n",
    "\n",
    "subset_df.loc[subset_df['weaptype1'] == 13, 'weaptype1'] = -1 # 13 未知\n",
    "\n",
    "subset_df.loc[subset_df['targtype1'] == 20, 'targtype1'] = -1 # 13 未知\n",
    "\n",
    "subset_df.loc[subset_df['property'] == -9, 'property'] = -1\n",
    "\n",
    "subset_df['ishostkid'].fillna(-1, inplace=True)\n",
    "subset_df.loc[subset_df['ishostkid'] == -9, 'ishostkid'] = -1\n",
    "\n",
    "subset_df.loc[subset_df['INT_LOG'] == -9, 'INT_LOG'] = -1\n",
    "\n",
    "subset_df.loc[subset_df['INT_IDEO'] == -9, 'INT_IDEO'] = -1\n",
    "\n",
    "subset_df.loc[subset_df['INT_MISC'] == -9, 'INT_MISC'] = -1\n",
    "\n",
    "subset_df.loc[subset_df['INT_ANY'] == -9, 'INT_ANY'] = -1\n",
    "\n",
    "subset_df['claimed'].fillna(-1, inplace=True)\n",
    "subset_df.loc[subset_df['claimed'] == -9, 'claimed'] = -1\n",
    "\n",
    "subset_df['specificity'].fillna(-1, inplace=True)\n",
    "\n",
    "subset_df.loc[subset_df['vicinity'] == -9, 'vicinity'] = -1\n",
    "\n",
    "subset_df['guncertain1'].fillna(-1, inplace=True)\n",
    "subset_df['weapsubtype1'].fillna(-1, inplace=True)\n",
    "subset_df['targsubtype1'].fillna(-1, inplace=True)\n",
    "subset_df['natlty1'].fillna(-1, inplace=True)\n",
    "subset_df['doubtterr'].fillna(-1, inplace=True)\n",
    "subset_df['multiple'].fillna(-1, inplace=True)"
   ]
  },
  {
   "cell_type": "code",
   "execution_count": null,
   "metadata": {
    "ExecuteTime": {
     "end_time": "2018-09-16T20:14:34.559396Z",
     "start_time": "2018-09-16T20:14:33.705704Z"
    }
   },
   "outputs": [],
   "source": [
    "# Iterate over each target attribute and map it\n",
    "for att in cat_names:\n",
    "    subset_df[att] = subset_df[att].replace('Unknown',-1)\n",
    "\n",
    "cat_df = subset_df[list(cat_names)].astype('int').astype('category')"
   ]
  },
  {
   "cell_type": "code",
   "execution_count": null,
   "metadata": {
    "ExecuteTime": {
     "end_time": "2018-09-16T20:14:34.573400Z",
     "start_time": "2018-09-16T20:14:34.562387Z"
    }
   },
   "outputs": [],
   "source": [
    "np.unique(subset_df['claimed'])"
   ]
  },
  {
   "cell_type": "code",
   "execution_count": null,
   "metadata": {
    "ExecuteTime": {
     "end_time": "2018-09-16T20:14:34.674097Z",
     "start_time": "2018-09-16T20:14:34.576350Z"
    },
    "scrolled": true
   },
   "outputs": [],
   "source": [
    "np.unique(cat_df.isnull().sum()) # 无缺失值"
   ]
  },
  {
   "cell_type": "code",
   "execution_count": null,
   "metadata": {
    "ExecuteTime": {
     "end_time": "2018-09-16T20:14:35.500925Z",
     "start_time": "2018-09-16T20:14:34.676084Z"
    }
   },
   "outputs": [],
   "source": [
    "# 保存到本地\n",
    "cat_df.to_csv('./data/cat.csv')"
   ]
  },
  {
   "cell_type": "code",
   "execution_count": null,
   "metadata": {
    "ExecuteTime": {
     "end_time": "2018-09-16T20:14:35.509856Z",
     "start_time": "2018-09-16T20:14:35.502874Z"
    }
   },
   "outputs": [],
   "source": [
    "cat_df.get_dtype_counts()"
   ]
  },
  {
   "cell_type": "code",
   "execution_count": null,
   "metadata": {
    "ExecuteTime": {
     "end_time": "2018-09-16T20:14:35.525853Z",
     "start_time": "2018-09-16T20:14:35.511851Z"
    },
    "scrolled": true
   },
   "outputs": [],
   "source": [
    "cat_df['specificity'][:10]"
   ]
  },
  {
   "cell_type": "markdown",
   "metadata": {
    "ExecuteTime": {
     "end_time": "2018-09-16T16:16:26.923427Z",
     "start_time": "2018-09-16T16:16:26.913453Z"
    }
   },
   "source": [
    "## 文本信息处理"
   ]
  },
  {
   "cell_type": "code",
   "execution_count": null,
   "metadata": {
    "ExecuteTime": {
     "end_time": "2018-09-16T20:14:35.605598Z",
     "start_time": "2018-09-16T20:14:35.527807Z"
    },
    "scrolled": true
   },
   "outputs": [],
   "source": [
    "np.unique(subset_df['targtype1_txt'])"
   ]
  },
  {
   "cell_type": "code",
   "execution_count": null,
   "metadata": {
    "ExecuteTime": {
     "end_time": "2018-09-16T20:14:35.765175Z",
     "start_time": "2018-09-16T20:14:35.608591Z"
    }
   },
   "outputs": [],
   "source": [
    "subset_df['targsubtype1_txt'].fillna('Unknown', inplace=True)\n",
    "subset_df['natlty1_txt'].fillna('Unknown', inplace=True)\n",
    "subset_df['weapsubtype1_txt'].fillna('Unknown', inplace=True)\n",
    "subset_df['provstate'].fillna('Unknown', inplace=True)\n",
    "subset_df['city'].fillna('Unknown', inplace=True)\n",
    "subset_df['summary'].fillna('Unknown', inplace=True)\n",
    "subset_df['corp1'].fillna('Unknown', inplace=True)\n",
    "subset_df['target1'].fillna('Unknown', inplace=True)\n",
    "subset_df['scite1'].fillna('Unknown', inplace=True)"
   ]
  },
  {
   "cell_type": "code",
   "execution_count": null,
   "metadata": {
    "ExecuteTime": {
     "end_time": "2018-09-16T20:14:35.969627Z",
     "start_time": "2018-09-16T20:14:35.774149Z"
    }
   },
   "outputs": [],
   "source": [
    "txt_df = subset_df[list(txt_names)]\n",
    "np.unique(txt_df.isnull().sum())"
   ]
  },
  {
   "cell_type": "code",
   "execution_count": null,
   "metadata": {
    "ExecuteTime": {
     "end_time": "2018-09-16T20:14:36.115238Z",
     "start_time": "2018-09-16T20:14:35.971622Z"
    }
   },
   "outputs": [],
   "source": [
    "txt_df.isnull().sum()"
   ]
  },
  {
   "cell_type": "code",
   "execution_count": null,
   "metadata": {
    "ExecuteTime": {
     "end_time": "2018-09-16T20:14:36.132193Z",
     "start_time": "2018-09-16T20:14:36.117232Z"
    }
   },
   "outputs": [],
   "source": [
    "subset_df['scite2'].fillna('Unknown', inplace=True)"
   ]
  },
  {
   "cell_type": "code",
   "execution_count": null,
   "metadata": {
    "ExecuteTime": {
     "end_time": "2018-09-16T20:14:36.312710Z",
     "start_time": "2018-09-16T20:14:36.134186Z"
    }
   },
   "outputs": [],
   "source": [
    "txt_df = subset_df[list(txt_names)]\n",
    "np.unique(txt_df.isnull().sum())"
   ]
  },
  {
   "cell_type": "code",
   "execution_count": null,
   "metadata": {
    "ExecuteTime": {
     "end_time": "2018-09-16T20:14:38.376193Z",
     "start_time": "2018-09-16T20:14:36.315703Z"
    }
   },
   "outputs": [],
   "source": [
    "txt_df.to_json('./data/txt.json')"
   ]
  },
  {
   "cell_type": "code",
   "execution_count": null,
   "metadata": {
    "ExecuteTime": {
     "end_time": "2018-09-16T20:14:42.764462Z",
     "start_time": "2018-09-16T20:14:38.379186Z"
    }
   },
   "outputs": [],
   "source": [
    "a = pd.read_json('./data/txt.json')"
   ]
  },
  {
   "cell_type": "markdown",
   "metadata": {},
   "source": [
    "## 数值型变量"
   ]
  },
  {
   "cell_type": "code",
   "execution_count": null,
   "metadata": {
    "ExecuteTime": {
     "end_time": "2018-09-16T20:14:42.777428Z",
     "start_time": "2018-09-16T20:14:42.767455Z"
    }
   },
   "outputs": [],
   "source": [
    "np.unique(subset_df['nperpcap'])"
   ]
  },
  {
   "cell_type": "code",
   "execution_count": null,
   "metadata": {
    "ExecuteTime": {
     "end_time": "2018-09-16T20:14:42.801364Z",
     "start_time": "2018-09-16T20:14:42.779439Z"
    }
   },
   "outputs": [],
   "source": [
    "subset_df.loc[subset_df['nperpcap'] == -9, 'nperpcap'] = np.nan\n",
    "subset_df.loc[subset_df['nperpcap'] == -99, 'nperpcap'] = np.nan\n",
    "subset_df.loc[subset_df['nperps'] == -9, 'nperps'] = np.nan\n",
    "subset_df.loc[subset_df['nperps'] == -99, 'nperps'] = np.nan"
   ]
  },
  {
   "cell_type": "code",
   "execution_count": null,
   "metadata": {
    "ExecuteTime": {
     "end_time": "2018-09-16T20:14:42.809343Z",
     "start_time": "2018-09-16T20:14:42.804357Z"
    },
    "scrolled": true
   },
   "outputs": [],
   "source": [
    "feature_names & num_feature_names"
   ]
  },
  {
   "cell_type": "code",
   "execution_count": null,
   "metadata": {
    "ExecuteTime": {
     "end_time": "2018-09-16T20:14:42.829293Z",
     "start_time": "2018-09-16T20:14:42.811338Z"
    },
    "scrolled": false
   },
   "outputs": [],
   "source": [
    "cal_df = subset_df[list(feature_names & num_feature_names)]\n",
    "\n",
    "cal_df.get_dtype_counts()"
   ]
  },
  {
   "cell_type": "markdown",
   "metadata": {},
   "source": [
    "## 处理二值变量"
   ]
  },
  {
   "cell_type": "code",
   "execution_count": null,
   "metadata": {
    "ExecuteTime": {
     "end_time": "2018-09-16T20:14:43.405749Z",
     "start_time": "2018-09-16T20:14:42.832281Z"
    },
    "scrolled": true
   },
   "outputs": [],
   "source": [
    "# Map the codes to labels\n",
    "ynu_map = {1: 'Yes', 0: 'No', -1: 'Unknown'}\n",
    "\n",
    "# List of target attributes to map\n",
    "ynu_attrs =['extended', 'vicinity', 'crit1', 'crit2', 'crit3', 'doubtterr', 'multiple', \n",
    "            'success', 'suicide', 'guncertain1', 'individual', 'claimed', 'property', \n",
    "            'ishostkid', 'INT_LOG', 'INT_IDEO', 'INT_MISC', 'INT_ANY']\n",
    "\n",
    "# Iterate over each target attribute and map it\n",
    "for att in ynu_attrs:\n",
    "    att_txt = att + '_txt'\n",
    "    subset_df[att_txt] = subset_df[att].map(ynu_map)\n",
    "\n",
    "# Get the list of attributes, dropping the coded for labeled attributes\n",
    "final_attrs = []\n",
    "\n",
    "for attr in subset_df.columns.values:\n",
    "    if attr not in ynu_attrs:\n",
    "        final_attrs.append(attr)\n",
    "        \n",
    "subset_df2 = subset_df.loc[:, final_attrs]\n",
    "subset_df2.info(verbose = True)"
   ]
  },
  {
   "cell_type": "code",
   "execution_count": null,
   "metadata": {
    "ExecuteTime": {
     "end_time": "2018-09-16T20:17:09.275528Z",
     "start_time": "2018-09-16T20:14:43.407744Z"
    }
   },
   "outputs": [],
   "source": [
    "subset_df2.to_excel(\"./data/gtd_preprocessed.xlsx\")"
   ]
  },
  {
   "cell_type": "markdown",
   "metadata": {
    "ExecuteTime": {
     "end_time": "2018-09-16T04:29:07.787619Z",
     "start_time": "2018-09-16T04:29:07.766634Z"
    }
   },
   "source": [
    "# [Code Book](https://isstd.org/gtd-book.html)\n",
    "\n",
    "Python interprets the data types differently than the code book provided by START.\n",
    "\n",
    "|ATTRIBUTE|PYTHON DTYPE|CODE BOOK TYPE|DEFINITION|\n",
    "|:----------------|:--------|:------------|:---------------------------------------|\n",
    "|eventid|int64|Numeric|12-digit Event ID system. First 8 numbers - date recorded \"yyyymmdd\". Last 4 numbers - sequential case number for the given day|\n",
    "|iyear|int64|Numeric|The year in which the incident occurred|\n",
    "|imonth|int64|Numeric|The month in which the incident occurred.  When the exact month of the incident is unknown, this will be recorded as \"0\".|\n",
    "|iday|int64|Numeric|The numeric day of the month on which the incident occurred.  When the exact day of the incident is unknown, the field is recorded as \"0\".|\n",
    "|extended|object|Categorical|The duration of an incident extended more than 24 hours.  1 = YES, 0 = NO|\n",
    "|country_txt|object|Categorical|Identifies the country or location where the incident occurred.  When incident occurred cannot be identified, it is coded as \"Unknown.|\n",
    "|region_txt|object|Categorical|Identifies the region in which the incident occurred, and divided into 1 of 12 categories|\n",
    "|provstate|object|Text|The name (at the time of event) of the 1st order subnational administrative region in which the event occurs|\n",
    "|city|object|Text|The name of the city, village, or town in which the incident occurred.  If unknown, then this field contains the smallest administrative area below provstate|\n",
    "|latitude|float64|Numeric|The latitude (based on WGS1984 standards) of the city in which the event occurred|\n",
    "|longitude|float64|Numeric|The longitude (based on WGS1984 standards) of the city in which the event occurred.|\n",
    "|specificity|float64|Categorical|Identifies the geospatial resolution of the latitude and longitude fields. 1 to 5|\n",
    "|vicinity|object|Categorical|1 = YES, The incident occurred in the immediate vicinity of the city in question.  0 = NO, The incident in the city itself.|\n",
    "|summary|object|Text|A brief narrative summary of the incident, noting the \"when, where, who, what, how, and why.|\n",
    "|crit1|object|Categorical|The violent act must be aimed at attaining a political, economic, religious, or social goal. 1 = YES, 0 = NO|\n",
    "|crit2|object|Categorical|There must be evidence of an intention to coerce, intimidate, or convey some other message to a larger audience than the immediate victims. 1 = YES, 0 = NO|\n",
    "|crit3|object|Categorical|The action is outside the context of legitimate warfare activities, insofar as it targets non-combatants.  1 = YES, 0 = NO|\n",
    "|doubtterr|object|Categorical|There is doubt as to whether the incident is an act of terrorism.  1 = YES, 0 = NO|\n",
    "|multiple|object|Categorical|Denote that the particular attack was part of a \"multiple\" incident.  1 = YES, 0 = NO|\n",
    "|success|object|Categorical|A successful attack depends on the type of attack. The key question is whether or not the attack type took place.  1 = YES, 0 = NO|\n",
    "|suicide|object|Categorical|Coded \"Yes\" in those cases where there is evidence that the perpetrator did not intend to escape from the attack alive. 1 = YES, 0 = NO|\n",
    "|attacktype1_txt|object|Categorical|The general method of attack and often reflects the broad class of tactics used. 9 categories|\n",
    "|targtype1_txt|object|Categorical|The general type of target/victim.  22 categories|\n",
    "|targsubtype1_txt|object|Categorical|The more specific target category and provides the next level of designation for each target type. If a target subtype is not applicable this variable is left blank|\n",
    "|corp1|object|Text|The corporate entity or government agency that was targeted|\n",
    "|target1|object|Text|The specific person, building, installation, etc., that was targeted and/or victimized|\n",
    "|natlty1_txt|object|Categorical|The nationality of the target that was attacked.  For hijacking incidents, the nationality of the plane is recorded|\n",
    "|gname|object|Text|The name of the group that carried out the attack|\n",
    "|guncertain1|object|Categorical|Indicates whether or not the information reported about the Perpetrator Group Name(s) is based on speculation or dubious claims of responsibility.  1 = YES, 0 = NO|\n",
    "|individual|object|Categorical|Indicates whether or not the attack was carried out by an individual or several individuals not known to be affiliated with a group or organization. 1 = YES, 0 = NO|\n",
    "|nperpcap|float64|Numeric|The number of perpetrators taken into custody. \"-99\" or \"Unknown\" appears when there is evidence of captured, but the number is not reported|\n",
    "|claimed|object|Categorical|Indicates whether a group or person(s) claimed responsibility for the attack.  1 = YES, 0 = NO|\n",
    "|weaptype1_txt|object|Categorical|Records the general type of weapon used in the incident.  Up to four weapon types are recorded for each incident|\n",
    "|weapsubtype1_txt|object|Categorical|A more specific value for most of the Weapon Types identified|\n",
    "|nkill|float64|Numeric|Total confirmed fatalities for the incident|\n",
    "|nkillus|float64|Numeric|The number of U.S. citizens who died as a result of the incident|\n",
    "|nkillter|float64|Numeric|Limited to only perpetrator fatalities|\n",
    "|nwound|float64|Numeric|The number of confirmed non-fatal injuries to both perpetrators and victims|\n",
    "|nwoundus|float64|Numeric|The number of confirmed non-fatal injuries to U.S. citizens, both perpetrators and victims|\n",
    "|nwoundte|float64|Numeric|Number of Perpetrators Injured|\n",
    "|property|object|Categorical|There is evidence of property damage from the incident.  1 = YES, 0 = NO|\n",
    "|ishostkid|object|Categorical|Whether or not the victims were taken hostage or kidnapped during an incident. 1 = YES, 0 = NO|\n",
    "|scite1|object|Text|Cites the first source that was used to compile information on the specific incident|\n",
    "|dbsource|object|Text|Identifies the original data collection effort in which each event was recorded|\n",
    "|INT_LOG|object|Categorical|It indicates whether a perpetrator group crossed a border to carry out an attack (logistically international).  1 = YES, 0 = NO, -9=UNKNOWN|\n",
    "|INT_IDEO|object|Categorical|It indicates whether a perpetrator group attacked a target of a different nationality (ideologically international). 1 = YES, 0 = NO, -9=UNKNOWN|\n",
    "|INT_MISC|object|Categorical|It indicates whether a perpetrator group attacked a target of a different nationality (not clear if logistically or ideologically international) 1 = YES, 0 = NO, -9=UNKNOWN|\n",
    "|INT_ANY|object|Categorical|The attack was international on any of the dimensions.  1 = YES, 0 = NO, -9=UNKNOWN|\n",
    "\n",
    "\n",
    "**NOTE 1:** *For categorical variables, -9 was replaced with -1 per a recommendation from Dr. George at Regis University.*\n",
    "\n",
    "**NOTE 2:** *For attributes containing 1, 0, and -1, they were replaced with a labeled version of the attribute and can be identified by a `_txt` suffix in the data frame.*"
   ]
  }
 ],
 "metadata": {
  "kernelspec": {
   "display_name": "Python [conda env:Anaconda3]",
   "language": "python",
   "name": "conda-env-Anaconda3-py"
  },
  "language_info": {
   "codemirror_mode": {
    "name": "ipython",
    "version": 3
   },
   "file_extension": ".py",
   "mimetype": "text/x-python",
   "name": "python",
   "nbconvert_exporter": "python",
   "pygments_lexer": "ipython3",
   "version": "3.6.5"
  },
  "latex_envs": {
   "LaTeX_envs_menu_present": true,
   "autoclose": false,
   "autocomplete": true,
   "bibliofile": "biblio.bib",
   "cite_by": "apalike",
   "current_citInitial": 1,
   "eqLabelWithNumbers": true,
   "eqNumInitial": 1,
   "hotkeys": {
    "equation": "Ctrl-E",
    "itemize": "Ctrl-I"
   },
   "labels_anchors": false,
   "latex_user_defs": false,
   "report_style_numbering": false,
   "user_envs_cfg": false
  },
  "nbTranslate": {
   "displayLangs": [
    "*"
   ],
   "hotkey": "alt-t",
   "langInMainMenu": true,
   "sourceLang": "en",
   "targetLang": "fr",
   "useGoogleTranslate": true
  },
  "toc": {
   "base_numbering": 1,
   "nav_menu": {},
   "number_sections": true,
   "sideBar": true,
   "skip_h1_title": false,
   "title_cell": "Table of Contents",
   "title_sidebar": "Contents",
   "toc_cell": false,
   "toc_position": {},
   "toc_section_display": true,
   "toc_window_display": false
  },
  "varInspector": {
   "cols": {
    "lenName": 16,
    "lenType": 16,
    "lenVar": 40
   },
   "kernels_config": {
    "python": {
     "delete_cmd_postfix": "",
     "delete_cmd_prefix": "del ",
     "library": "var_list.py",
     "varRefreshCmd": "print(var_dic_list())"
    },
    "r": {
     "delete_cmd_postfix": ") ",
     "delete_cmd_prefix": "rm(",
     "library": "var_list.r",
     "varRefreshCmd": "cat(var_dic_list()) "
    }
   },
   "types_to_exclude": [
    "module",
    "function",
    "builtin_function_or_method",
    "instance",
    "_Feature"
   ],
   "window_display": false
  }
 },
 "nbformat": 4,
 "nbformat_minor": 2
}
