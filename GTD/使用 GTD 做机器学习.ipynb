{
 "cells": [
  {
   "cell_type": "markdown",
   "metadata": {},
   "source": [
    "## 载入数据\n",
    "\n",
    "我们仅仅使用 1997 年以后的数据集："
   ]
  },
  {
   "cell_type": "code",
   "execution_count": 1,
   "metadata": {
    "ExecuteTime": {
     "end_time": "2018-09-20T06:57:30.143128Z",
     "start_time": "2018-09-20T06:57:29.683358Z"
    }
   },
   "outputs": [],
   "source": [
    "import pandas as pd\n",
    "import numpy as np"
   ]
  },
  {
   "cell_type": "code",
   "execution_count": 2,
   "metadata": {
    "ExecuteTime": {
     "end_time": "2018-09-20T06:57:31.818450Z",
     "start_time": "2018-09-20T06:57:30.146127Z"
    }
   },
   "outputs": [],
   "source": [
    "gtd_df = pd.read_hdf('./data/gtd_1998-2017.h5')  # 载入数据集"
   ]
  },
  {
   "cell_type": "code",
   "execution_count": 3,
   "metadata": {
    "ExecuteTime": {
     "end_time": "2018-09-20T06:57:31.825346Z",
     "start_time": "2018-09-20T06:57:31.820444Z"
    }
   },
   "outputs": [],
   "source": [
    "import json\n",
    "\n",
    "with open('./data/gtd_1998-2017_names.json') as fp:\n",
    "    names = json.load(fp)                           # 载入变量名"
   ]
  },
  {
   "cell_type": "code",
   "execution_count": 23,
   "metadata": {
    "ExecuteTime": {
     "end_time": "2018-09-20T07:40:08.696791Z",
     "start_time": "2018-09-20T07:40:08.692777Z"
    }
   },
   "outputs": [],
   "source": [
    "class Bunch(dict):\n",
    "    def __init__(self, *args, **kwargs):\n",
    "        super().__init__(*args, **kwargs)\n",
    "        self.__dict__ = self"
   ]
  },
  {
   "cell_type": "code",
   "execution_count": 24,
   "metadata": {
    "ExecuteTime": {
     "end_time": "2018-09-20T07:40:22.109060Z",
     "start_time": "2018-09-20T07:40:22.105038Z"
    }
   },
   "outputs": [],
   "source": [
    "names = Bunch(names)"
   ]
  },
  {
   "cell_type": "markdown",
   "metadata": {},
   "source": [
    "下面我们看看 GTD 的数据:"
   ]
  },
  {
   "cell_type": "code",
   "execution_count": 35,
   "metadata": {
    "ExecuteTime": {
     "end_time": "2018-09-20T08:41:06.784609Z",
     "start_time": "2018-09-20T08:41:06.758646Z"
    }
   },
   "outputs": [
    {
     "data": {
      "text/html": [
       "<div>\n",
       "<style scoped>\n",
       "    .dataframe tbody tr th:only-of-type {\n",
       "        vertical-align: middle;\n",
       "    }\n",
       "\n",
       "    .dataframe tbody tr th {\n",
       "        vertical-align: top;\n",
       "    }\n",
       "\n",
       "    .dataframe thead th {\n",
       "        text-align: right;\n",
       "    }\n",
       "</style>\n",
       "<table border=\"1\" class=\"dataframe\">\n",
       "  <thead>\n",
       "    <tr style=\"text-align: right;\">\n",
       "      <th></th>\n",
       "      <th>eventid</th>\n",
       "      <th>iyear</th>\n",
       "      <th>imonth</th>\n",
       "      <th>iday</th>\n",
       "      <th>extended</th>\n",
       "      <th>country</th>\n",
       "      <th>country_txt</th>\n",
       "      <th>region</th>\n",
       "      <th>region_txt</th>\n",
       "      <th>provstate</th>\n",
       "      <th>...</th>\n",
       "      <th>ishostkid</th>\n",
       "      <th>addnotes</th>\n",
       "      <th>scite1</th>\n",
       "      <th>scite2</th>\n",
       "      <th>scite3</th>\n",
       "      <th>dbsource</th>\n",
       "      <th>INT_LOG</th>\n",
       "      <th>INT_IDEO</th>\n",
       "      <th>INT_MISC</th>\n",
       "      <th>INT_ANY</th>\n",
       "    </tr>\n",
       "  </thead>\n",
       "  <tbody>\n",
       "    <tr>\n",
       "      <th>67507</th>\n",
       "      <td>199801010001</td>\n",
       "      <td>1998</td>\n",
       "      <td>1</td>\n",
       "      <td>1</td>\n",
       "      <td>0</td>\n",
       "      <td>34</td>\n",
       "      <td>Burundi</td>\n",
       "      <td>11</td>\n",
       "      <td>Sub-Saharan Africa</td>\n",
       "      <td>Bujumbura Mairie</td>\n",
       "      <td>...</td>\n",
       "      <td>0.0</td>\n",
       "      <td>Unknown</td>\n",
       "      <td>Burundi Rebels, Ex-Rwandan Army Soldiers Blam...</td>\n",
       "      <td>Burundi--Attack Reported on Bujumbura Airport...</td>\n",
       "      <td>Unknown</td>\n",
       "      <td>CETIS</td>\n",
       "      <td>0.0</td>\n",
       "      <td>1.0</td>\n",
       "      <td>0.0</td>\n",
       "      <td>1.0</td>\n",
       "    </tr>\n",
       "    <tr>\n",
       "      <th>67508</th>\n",
       "      <td>199801010002</td>\n",
       "      <td>1998</td>\n",
       "      <td>1</td>\n",
       "      <td>1</td>\n",
       "      <td>0</td>\n",
       "      <td>167</td>\n",
       "      <td>Russia</td>\n",
       "      <td>9</td>\n",
       "      <td>Eastern Europe</td>\n",
       "      <td>Moscow (Federal City)</td>\n",
       "      <td>...</td>\n",
       "      <td>0.0</td>\n",
       "      <td>Unknown</td>\n",
       "      <td>Bomb injures 3 in Moscow subway system, The ...</td>\n",
       "      <td>Bomb injures 3 in Moscow subway, Charleston ...</td>\n",
       "      <td>Bomb Injures 3 Workers in Moscow Metro, Los ...</td>\n",
       "      <td>CETIS</td>\n",
       "      <td>-1.0</td>\n",
       "      <td>-1.0</td>\n",
       "      <td>0.0</td>\n",
       "      <td>-1.0</td>\n",
       "    </tr>\n",
       "  </tbody>\n",
       "</table>\n",
       "<p>2 rows × 65 columns</p>\n",
       "</div>"
      ],
      "text/plain": [
       "            eventid  iyear  imonth  iday  extended  country country_txt  \\\n",
       "67507  199801010001   1998       1     1         0       34     Burundi   \n",
       "67508  199801010002   1998       1     1         0      167      Russia   \n",
       "\n",
       "       region          region_txt              provstate   ...    ishostkid  \\\n",
       "67507      11  Sub-Saharan Africa       Bujumbura Mairie   ...          0.0   \n",
       "67508       9      Eastern Europe  Moscow (Federal City)   ...          0.0   \n",
       "\n",
       "       addnotes                                             scite1  \\\n",
       "67507   Unknown  Burundi Rebels, Ex-Rwandan Army Soldiers Blam...   \n",
       "67508   Unknown  Bomb injures 3 in Moscow subway system, The ...   \n",
       "\n",
       "                                                  scite2  \\\n",
       "67507  Burundi--Attack Reported on Bujumbura Airport...   \n",
       "67508  Bomb injures 3 in Moscow subway, Charleston ...   \n",
       "\n",
       "                                                  scite3 dbsource INT_LOG  \\\n",
       "67507                                            Unknown    CETIS     0.0   \n",
       "67508  Bomb Injures 3 Workers in Moscow Metro, Los ...    CETIS    -1.0   \n",
       "\n",
       "       INT_IDEO  INT_MISC  INT_ANY  \n",
       "67507       1.0       0.0      1.0  \n",
       "67508      -1.0       0.0     -1.0  \n",
       "\n",
       "[2 rows x 65 columns]"
      ]
     },
     "execution_count": 35,
     "metadata": {},
     "output_type": "execute_result"
    }
   ],
   "source": [
    "gtd_df.head(2)"
   ]
  },
  {
   "cell_type": "code",
   "execution_count": 6,
   "metadata": {
    "ExecuteTime": {
     "end_time": "2018-09-20T06:58:37.570591Z",
     "start_time": "2018-09-20T06:58:37.566604Z"
    }
   },
   "outputs": [
    {
     "name": "stdout",
     "output_type": "stream",
     "text": [
      "数据的尺寸： (114184, 65)\n"
     ]
    }
   ],
   "source": [
    "print('数据的尺寸：', gtd_df.shape)"
   ]
  },
  {
   "cell_type": "markdown",
   "metadata": {},
   "source": [
    "通过前面的数据预处理我们已经将文本变量的缺失值替换为 `Unknown`，分类变量的缺失值替换为 `-1`，但是对于数值型变量的缺失值未做填充处理。这个填充工作不能大而化之，需要针对具体问题具体分析。为了下面我们讨论的方便，我们先将所有含缺失值的样本均丢掉："
   ]
  },
  {
   "cell_type": "code",
   "execution_count": 10,
   "metadata": {
    "ExecuteTime": {
     "end_time": "2018-09-20T07:11:40.721521Z",
     "start_time": "2018-09-20T07:11:40.182923Z"
    }
   },
   "outputs": [
    {
     "data": {
      "text/plain": [
       "array([0], dtype=int64)"
      ]
     },
     "execution_count": 10,
     "metadata": {},
     "output_type": "execute_result"
    }
   ],
   "source": [
    "df = gtd_df.dropna()\n",
    "\n",
    "np.unique(df.isnull().sum())  # 不含缺失值"
   ]
  },
  {
   "cell_type": "code",
   "execution_count": 11,
   "metadata": {
    "ExecuteTime": {
     "end_time": "2018-09-20T07:12:07.276043Z",
     "start_time": "2018-09-20T07:12:07.272051Z"
    }
   },
   "outputs": [
    {
     "data": {
      "text/plain": [
       "(99521, 65)"
      ]
     },
     "execution_count": 11,
     "metadata": {},
     "output_type": "execute_result"
    }
   ],
   "source": [
    "df.shape"
   ]
  },
  {
   "cell_type": "code",
   "execution_count": 21,
   "metadata": {
    "ExecuteTime": {
     "end_time": "2018-09-20T07:18:40.308303Z",
     "start_time": "2018-09-20T07:18:40.239493Z"
    }
   },
   "outputs": [
    {
     "data": {
      "text/plain": [
       "True"
      ]
     },
     "execution_count": 21,
     "metadata": {},
     "output_type": "execute_result"
    }
   ],
   "source": [
    "miss_df = gtd_df.loc[list(set(gtd_df.index) - set(df.index)),:]  # 含有缺失值的样本集\n",
    "\n",
    "df.shape[0] + miss_df.shape[0] == gtd_df.shape[0]"
   ]
  },
  {
   "cell_type": "markdown",
   "metadata": {},
   "source": [
    "下面主要研究 `df` 数据集：\n",
    "\n",
    "对于一个机器学习问题，首先需要做的的工作是**识别或确定问题**。\n",
    "\n",
    "## 第一步：确定问题\n",
    "\n",
    "我们首先要明确要研究的问题是**分类**还是**回归**问题？一般数据由特征 $X$ 和标签 $y$ 来构成，$y$ 可以是一列也可以是多列，可以是二值型 (布尔值型数据类型，一般使用 `0` 和 `1` 进行编码) 也可以是实数型。一般地，它为二值型时该问题为分类问题，它为实数型是该问题为回归问题。\n",
    "\n",
    "## 第二步：分离数据\n",
    "\n",
    "一般为了防止模型出现过拟合现象，需要将数划分为**训练集**和**验证集**。即使用训练集训练模型，使用验证集调节超参数。"
   ]
  },
  {
   "cell_type": "code",
   "execution_count": 22,
   "metadata": {
    "ExecuteTime": {
     "end_time": "2018-09-20T07:37:15.758731Z",
     "start_time": "2018-09-20T07:37:15.076544Z"
    }
   },
   "outputs": [],
   "source": [
    "from sklearn.model_selection import StratifiedKFold  # 分类问题\n",
    "#from sklearn.model_selection import KFold        # 回归问题"
   ]
  },
  {
   "cell_type": "code",
   "execution_count": 28,
   "metadata": {
    "ExecuteTime": {
     "end_time": "2018-09-20T07:42:34.712710Z",
     "start_time": "2018-09-20T07:42:34.707736Z"
    }
   },
   "outputs": [
    {
     "data": {
      "text/plain": [
       "['nkillter',\n",
       " 'imonth',\n",
       " 'nperpcap',\n",
       " 'nkillus',\n",
       " 'nkill',\n",
       " 'iday',\n",
       " 'nwoundus',\n",
       " 'nwoundte',\n",
       " 'latitude',\n",
       " 'iyear',\n",
       " 'nwound',\n",
       " 'longitude',\n",
       " 'eventid']"
      ]
     },
     "execution_count": 28,
     "metadata": {},
     "output_type": "execute_result"
    }
   ],
   "source": [
    "names.NV  # 查看数值变量"
   ]
  },
  {
   "cell_type": "markdown",
   "metadata": {},
   "source": [
    "这里我们仅仅选择以下几个数值变量:"
   ]
  },
  {
   "cell_type": "code",
   "execution_count": 31,
   "metadata": {
    "ExecuteTime": {
     "end_time": "2018-09-20T07:45:41.995344Z",
     "start_time": "2018-09-20T07:45:41.983380Z"
    }
   },
   "outputs": [],
   "source": [
    "nv = [\n",
    "    'nkillter','nperpcap','nkillus','nkill','nwoundus','nwoundte', 'nwound',\n",
    "]\n",
    "\n",
    "X = df[nv]"
   ]
  },
  {
   "cell_type": "markdown",
   "metadata": {
    "ExecuteTime": {
     "end_time": "2018-09-20T08:39:20.701668Z",
     "start_time": "2018-09-20T08:39:20.688707Z"
    }
   },
   "source": [
    "取 `'success'` 当作标签向量，即："
   ]
  },
  {
   "cell_type": "code",
   "execution_count": 34,
   "metadata": {
    "ExecuteTime": {
     "end_time": "2018-09-20T08:40:31.084519Z",
     "start_time": "2018-09-20T08:40:31.080529Z"
    }
   },
   "outputs": [],
   "source": [
    "y = df['success']"
   ]
  },
  {
   "cell_type": "code",
   "execution_count": 41,
   "metadata": {
    "ExecuteTime": {
     "end_time": "2018-09-20T08:44:01.991626Z",
     "start_time": "2018-09-20T08:44:01.974672Z"
    }
   },
   "outputs": [
    {
     "data": {
      "text/plain": [
       "array([0, 1], dtype=int64)"
      ]
     },
     "execution_count": 41,
     "metadata": {},
     "output_type": "execute_result"
    }
   ],
   "source": [
    "np.unique(y)"
   ]
  },
  {
   "cell_type": "markdown",
   "metadata": {},
   "source": [
    "`y` 是一个二值型变量，该问题是一个二分类问题。\n",
    "\n",
    "划分数据集："
   ]
  },
  {
   "cell_type": "code",
   "execution_count": 36,
   "metadata": {
    "ExecuteTime": {
     "end_time": "2018-09-20T08:42:47.396723Z",
     "start_time": "2018-09-20T08:42:47.356832Z"
    }
   },
   "outputs": [],
   "source": [
    "from sklearn.model_selection import train_test_split\n",
    "\n",
    "X_train, X_val, y_train, y_val = train_test_split(X, y, test_size=0.25,random_state = 7)"
   ]
  },
  {
   "cell_type": "markdown",
   "metadata": {},
   "source": [
    "下面查看数据的标签分布："
   ]
  },
  {
   "cell_type": "code",
   "execution_count": 46,
   "metadata": {
    "ExecuteTime": {
     "end_time": "2018-09-20T08:46:18.252388Z",
     "start_time": "2018-09-20T08:46:18.244414Z"
    },
    "scrolled": true
   },
   "outputs": [
    {
     "data": {
      "text/plain": [
       "1    21526\n",
       "0     3355\n",
       "Name: success, dtype: int64"
      ]
     },
     "execution_count": 46,
     "metadata": {},
     "output_type": "execute_result"
    }
   ],
   "source": [
    "y_val.value_counts()"
   ]
  },
  {
   "cell_type": "code",
   "execution_count": 47,
   "metadata": {
    "ExecuteTime": {
     "end_time": "2018-09-20T08:51:34.945984Z",
     "start_time": "2018-09-20T08:51:34.938005Z"
    },
    "scrolled": true
   },
   "outputs": [
    {
     "data": {
      "text/plain": [
       "1    64471\n",
       "0    10169\n",
       "Name: success, dtype: int64"
      ]
     },
     "execution_count": 47,
     "metadata": {},
     "output_type": "execute_result"
    }
   ],
   "source": [
    "y_train.value_counts()"
   ]
  },
  {
   "cell_type": "markdown",
   "metadata": {
    "ExecuteTime": {
     "end_time": "2018-09-20T07:46:01.118642Z",
     "start_time": "2018-09-20T07:46:01.112689Z"
    }
   },
   "source": [
    "对数值变量进行标准化处理:"
   ]
  },
  {
   "cell_type": "code",
   "execution_count": 51,
   "metadata": {
    "ExecuteTime": {
     "end_time": "2018-09-20T09:03:37.689448Z",
     "start_time": "2018-09-20T09:03:37.652543Z"
    }
   },
   "outputs": [],
   "source": [
    "from sklearn.preprocessing import StandardScaler\n",
    "\n",
    "ss = StandardScaler()\n",
    "X_train = ss.fit_transform(X_train)\n",
    "X_val = ss.transform(X_val)"
   ]
  },
  {
   "cell_type": "markdown",
   "metadata": {},
   "source": [
    "使用逻辑回归模型进行分类"
   ]
  },
  {
   "cell_type": "code",
   "execution_count": 93,
   "metadata": {
    "ExecuteTime": {
     "end_time": "2018-09-20T10:44:40.696041Z",
     "start_time": "2018-09-20T10:44:40.403596Z"
    }
   },
   "outputs": [],
   "source": [
    "from sklearn.linear_model import LogisticRegression\n",
    "from sklearn.linear_model import SGDClassifier\n",
    "lr = LogisticRegression()\n",
    "sgdc = SGDClassifier(max_iter = 100)\n",
    "lr.fit(X_train, y_train)  # 训练模型\n",
    "lr_y_predict = lr.predict(X_val)   # 预测"
   ]
  },
  {
   "cell_type": "markdown",
   "metadata": {},
   "source": [
    "使用 SGDClassifier 训练模型参数"
   ]
  },
  {
   "cell_type": "code",
   "execution_count": 94,
   "metadata": {
    "ExecuteTime": {
     "end_time": "2018-09-20T10:44:44.141743Z",
     "start_time": "2018-09-20T10:44:43.511428Z"
    }
   },
   "outputs": [
    {
     "name": "stdout",
     "output_type": "stream",
     "text": [
      "Wall time: 626 ms\n"
     ]
    }
   ],
   "source": [
    "%%time\n",
    "sgdc.fit(X_train, y_train) # 训练\n",
    "sgdc_y_predict = sgdc.predict(X_val)   # 预测"
   ]
  },
  {
   "cell_type": "markdown",
   "metadata": {},
   "source": [
    "### 性能评估"
   ]
  },
  {
   "cell_type": "code",
   "execution_count": 59,
   "metadata": {
    "ExecuteTime": {
     "end_time": "2018-09-20T10:23:46.615603Z",
     "start_time": "2018-09-20T10:23:46.611639Z"
    }
   },
   "outputs": [],
   "source": [
    "from sklearn.metrics import classification_report"
   ]
  },
  {
   "cell_type": "code",
   "execution_count": 66,
   "metadata": {
    "ExecuteTime": {
     "end_time": "2018-09-20T10:30:42.215321Z",
     "start_time": "2018-09-20T10:30:42.198368Z"
    }
   },
   "outputs": [
    {
     "name": "stdout",
     "output_type": "stream",
     "text": [
      "LR 分类器的准确率： 0.8658414050882199\n",
      "             precision    recall  f1-score   support\n",
      "\n",
      "    success       0.72      0.01      0.02      3355\n",
      " no success       0.87      1.00      0.93     21526\n",
      "\n",
      "avg / total       0.85      0.87      0.81     24881\n",
      "\n"
     ]
    }
   ],
   "source": [
    "print('LR 分类器的准确率：', lr.score(X_val,y_val))\n",
    "\n",
    "print(classification_report(y_val, lr_y_predict, target_names=['success', 'no success']))"
   ]
  },
  {
   "cell_type": "code",
   "execution_count": 95,
   "metadata": {
    "ExecuteTime": {
     "end_time": "2018-09-20T10:44:47.655784Z",
     "start_time": "2018-09-20T10:44:47.640821Z"
    },
    "scrolled": true
   },
   "outputs": [
    {
     "name": "stdout",
     "output_type": "stream",
     "text": [
      "SGD 分类器的准确率： 0.8651581528073631\n",
      "             precision    recall  f1-score   support\n",
      "\n",
      "    success       0.00      0.00      0.00      3355\n",
      " no success       0.87      1.00      0.93     21526\n",
      "\n",
      "avg / total       0.75      0.87      0.80     24881\n",
      "\n"
     ]
    },
    {
     "name": "stderr",
     "output_type": "stream",
     "text": [
      "C:\\ProgramData\\Anaconda3\\lib\\site-packages\\sklearn\\metrics\\classification.py:1135: UndefinedMetricWarning: Precision and F-score are ill-defined and being set to 0.0 in labels with no predicted samples.\n",
      "  'precision', 'predicted', average, warn_for)\n"
     ]
    }
   ],
   "source": [
    "print('SGD 分类器的准确率：', sgdc.score(X_val,y_val))\n",
    "\n",
    "print(classification_report(y_val, sgdc_y_predict, target_names=['success', 'no success']))"
   ]
  },
  {
   "cell_type": "code",
   "execution_count": null,
   "metadata": {},
   "outputs": [],
   "source": []
  }
 ],
 "metadata": {
  "kernelspec": {
   "display_name": "Python [conda env:Anaconda3]",
   "language": "python",
   "name": "conda-env-Anaconda3-py"
  },
  "language_info": {
   "codemirror_mode": {
    "name": "ipython",
    "version": 3
   },
   "file_extension": ".py",
   "mimetype": "text/x-python",
   "name": "python",
   "nbconvert_exporter": "python",
   "pygments_lexer": "ipython3",
   "version": "3.6.5"
  },
  "latex_envs": {
   "LaTeX_envs_menu_present": true,
   "autoclose": false,
   "autocomplete": true,
   "bibliofile": "biblio.bib",
   "cite_by": "apalike",
   "current_citInitial": 1,
   "eqLabelWithNumbers": true,
   "eqNumInitial": 1,
   "hotkeys": {
    "equation": "Ctrl-E",
    "itemize": "Ctrl-I"
   },
   "labels_anchors": false,
   "latex_user_defs": false,
   "report_style_numbering": false,
   "user_envs_cfg": false
  },
  "nbTranslate": {
   "displayLangs": [
    "*"
   ],
   "hotkey": "alt-t",
   "langInMainMenu": true,
   "sourceLang": "en",
   "targetLang": "fr",
   "useGoogleTranslate": true
  },
  "toc": {
   "base_numbering": 1,
   "nav_menu": {},
   "number_sections": true,
   "sideBar": true,
   "skip_h1_title": false,
   "title_cell": "Table of Contents",
   "title_sidebar": "Contents",
   "toc_cell": false,
   "toc_position": {},
   "toc_section_display": true,
   "toc_window_display": false
  },
  "varInspector": {
   "cols": {
    "lenName": 16,
    "lenType": 16,
    "lenVar": 40
   },
   "kernels_config": {
    "python": {
     "delete_cmd_postfix": "",
     "delete_cmd_prefix": "del ",
     "library": "var_list.py",
     "varRefreshCmd": "print(var_dic_list())"
    },
    "r": {
     "delete_cmd_postfix": ") ",
     "delete_cmd_prefix": "rm(",
     "library": "var_list.r",
     "varRefreshCmd": "cat(var_dic_list()) "
    }
   },
   "types_to_exclude": [
    "module",
    "function",
    "builtin_function_or_method",
    "instance",
    "_Feature"
   ],
   "window_display": false
  }
 },
 "nbformat": 4,
 "nbformat_minor": 2
}
