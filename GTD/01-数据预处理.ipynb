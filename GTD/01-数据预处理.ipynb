{
 "cells": [
  {
   "cell_type": "code",
   "execution_count": 1,
   "metadata": {
    "ExecuteTime": {
     "end_time": "2018-09-19T17:03:53.040090Z",
     "start_time": "2018-09-19T17:03:52.434684Z"
    }
   },
   "outputs": [
    {
     "name": "stdout",
     "output_type": "stream",
     "text": [
      "Populating the interactive namespace from numpy and matplotlib\n"
     ]
    }
   ],
   "source": [
    "import pandas as pd\n",
    "import numpy as np\n",
    "import zipfile\n",
    "import sys, os\n",
    "\n",
    "%pylab inline"
   ]
  },
  {
   "cell_type": "markdown",
   "metadata": {},
   "source": [
    "## 载入并查看数据"
   ]
  },
  {
   "cell_type": "code",
   "execution_count": 2,
   "metadata": {
    "ExecuteTime": {
     "end_time": "2018-09-19T17:03:59.247466Z",
     "start_time": "2018-09-19T17:03:53.153788Z"
    }
   },
   "outputs": [
    {
     "name": "stdout",
     "output_type": "stream",
     "text": [
      "Wall time: 6.09 s\n"
     ]
    }
   ],
   "source": [
    "%%time\n",
    "df = pd.read_csv('data/globalterrorismdb_0718dist.csv', encoding='ISO-8859-1', low_memory=False)  # 载入数据"
   ]
  },
  {
   "cell_type": "markdown",
   "metadata": {},
   "source": [
    "由[Codebook](http://start.umd.edu/gtd/downloads/Codebook.pdf)，我们知道该数据集中还含有一些隐形的缺失值：\n",
    "\n",
    "|ATTRIBUTE|PYTHON DTYPE|CODE BOOK TYPE|DEFINITION|\n",
    "|:----------------|:--------|:------------|:---------------------------------------|\n",
    "|eventid|int64|Numeric|12-digit Event ID system. First 8 numbers - date recorded \"yyyymmdd\". Last 4 numbers - sequential case number for the given day|\n",
    "|iyear|int64|Numeric|The year in which the incident occurred|\n",
    "|imonth|int64|Numeric|The month in which the incident occurred.  When the exact month of the incident is unknown, this will be recorded as \"0\".|\n",
    "|iday|int64|Numeric|The numeric day of the month on which the incident occurred.  When the exact day of the incident is unknown, the field is recorded as \"0\".|\n",
    "|extended|object|Categorical|The duration of an incident extended more than 24 hours.  1 = YES, 0 = NO|\n",
    "|country_txt|object|Categorical|Identifies the country or location where the incident occurred.  When incident occurred cannot be identified, it is coded as \"Unknown.|\n",
    "|region_txt|object|Categorical|Identifies the region in which the incident occurred, and divided into 1 of 12 categories|\n",
    "|provstate|object|Text|The name (at the time of event) of the 1st order subnational administrative region in which the event occurs|\n",
    "|city|object|Text|The name of the city, village, or town in which the incident occurred.  If unknown, then this field contains the smallest administrative area below provstate|\n",
    "|latitude|float64|Numeric|The latitude (based on WGS1984 standards) of the city in which the event occurred|\n",
    "|longitude|float64|Numeric|The longitude (based on WGS1984 standards) of the city in which the event occurred.|\n",
    "|specificity|float64|Categorical|Identifies the geospatial resolution of the latitude and longitude fields. 1 to 5|\n",
    "|vicinity|object|Categorical|1 = YES, The incident occurred in the immediate vicinity of the city in question.  0 = NO, The incident in the city itself.|\n",
    "|summary|object|Text|A brief narrative summary of the incident, noting the \"when, where, who, what, how, and why.|\n",
    "|crit1|object|Categorical|The violent act must be aimed at attaining a political, economic, religious, or social goal. 1 = YES, 0 = NO|\n",
    "|crit2|object|Categorical|There must be evidence of an intention to coerce, intimidate, or convey some other message to a larger audience than the immediate victims. 1 = YES, 0 = NO|\n",
    "|crit3|object|Categorical|The action is outside the context of legitimate warfare activities, insofar as it targets non-combatants.  1 = YES, 0 = NO|\n",
    "|doubtterr|object|Categorical|There is doubt as to whether the incident is an act of terrorism.  1 = YES, 0 = NO|\n",
    "|multiple|object|Categorical|Denote that the particular attack was part of a \"multiple\" incident.  1 = YES, 0 = NO|\n",
    "|success|object|Categorical|A successful attack depends on the type of attack. The key question is whether or not the attack type took place.  1 = YES, 0 = NO|\n",
    "|suicide|object|Categorical|Coded \"Yes\" in those cases where there is evidence that the perpetrator did not intend to escape from the attack alive. 1 = YES, 0 = NO|\n",
    "|attacktype1_txt|object|Categorical|The general method of attack and often reflects the broad class of tactics used. 9 categories|\n",
    "|targtype1_txt|object|Categorical|The general type of target/victim.  22 categories|\n",
    "|targsubtype1_txt|object|Categorical|The more specific target category and provides the next level of designation for each target type. If a target subtype is not applicable this variable is left blank|\n",
    "|corp1|object|Text|The corporate entity or government agency that was targeted|\n",
    "|target1|object|Text|The specific person, building, installation, etc., that was targeted and/or victimized|\n",
    "|natlty1_txt|object|Categorical|The nationality of the target that was attacked.  For hijacking incidents, the nationality of the plane is recorded|\n",
    "|gname|object|Text|The name of the group that carried out the attack|\n",
    "|guncertain1|object|Categorical|Indicates whether or not the information reported about the Perpetrator Group Name(s) is based on speculation or dubious claims of responsibility.  1 = YES, 0 = NO|\n",
    "|individual|object|Categorical|Indicates whether or not the attack was carried out by an individual or several individuals not known to be affiliated with a group or organization. 1 = YES, 0 = NO|\n",
    "|nperpcap|float64|Numeric|The number of perpetrators taken into custody. \"-99\" or \"Unknown\" appears when there is evidence of captured, but the number is not reported|\n",
    "|claimed|object|Categorical|Indicates whether a group or person(s) claimed responsibility for the attack.  1 = YES, 0 = NO|\n",
    "|weaptype1_txt|object|Categorical|Records the general type of weapon used in the incident.  Up to four weapon types are recorded for each incident|\n",
    "|weapsubtype1_txt|object|Categorical|A more specific value for most of the Weapon Types identified|\n",
    "|nkill|float64|Numeric|Total confirmed fatalities for the incident|\n",
    "|nkillus|float64|Numeric|The number of U.S. citizens who died as a result of the incident|\n",
    "|nkillter|float64|Numeric|Limited to only perpetrator fatalities|\n",
    "|nwound|float64|Numeric|The number of confirmed non-fatal injuries to both perpetrators and victims|\n",
    "|nwoundus|float64|Numeric|The number of confirmed non-fatal injuries to U.S. citizens, both perpetrators and victims|\n",
    "|nwoundte|float64|Numeric|Number of Perpetrators Injured|\n",
    "|property|object|Categorical|There is evidence of property damage from the incident.  1 = YES, 0 = NO|\n",
    "|ishostkid|object|Categorical|Whether or not the victims were taken hostage or kidnapped during an incident. 1 = YES, 0 = NO|\n",
    "|scite1|object|Text|Cites the first source that was used to compile information on the specific incident|\n",
    "|dbsource|object|Text|Identifies the original data collection effort in which each event was recorded|\n",
    "|INT_LOG|object|Categorical|It indicates whether a perpetrator group crossed a border to carry out an attack (logistically international).  1 = YES, 0 = NO, -9=UNKNOWN|\n",
    "|INT_IDEO|object|Categorical|It indicates whether a perpetrator group attacked a target of a different nationality (ideologically international). 1 = YES, 0 = NO, -9=UNKNOWN|\n",
    "|INT_MISC|object|Categorical|It indicates whether a perpetrator group attacked a target of a different nationality (not clear if logistically or ideologically international) 1 = YES, 0 = NO, -9=UNKNOWN|\n",
    "|INT_ANY|object|Categorical|The attack was international on any of the dimensions.  1 = YES, 0 = NO, -9=UNKNOWN|\n",
    "\n",
    "\n",
    "**NOTE 1:** *For categorical variables, -9 was replaced with -1 per a recommendation from Dr. George at Regis University.*\n",
    "\n",
    "**NOTE 2:** *For attributes containing 1, 0, and -1, they were replaced with a labeled version of the attribute and can be identified by a `_txt` suffix in the data frame.*\n",
    "\n",
    "详情见[README.md](./README.md)"
   ]
  },
  {
   "cell_type": "code",
   "execution_count": 3,
   "metadata": {
    "ExecuteTime": {
     "end_time": "2018-09-19T17:03:59.257440Z",
     "start_time": "2018-09-19T17:03:59.249462Z"
    }
   },
   "outputs": [
    {
     "data": {
      "text/plain": [
       "float64    55\n",
       "int64      22\n",
       "object     58\n",
       "dtype: int64"
      ]
     },
     "execution_count": 3,
     "metadata": {},
     "output_type": "execute_result"
    }
   ],
   "source": [
    "df.get_dtype_counts()"
   ]
  },
  {
   "cell_type": "code",
   "execution_count": 4,
   "metadata": {
    "ExecuteTime": {
     "end_time": "2018-09-19T17:04:00.065322Z",
     "start_time": "2018-09-19T17:03:59.259437Z"
    },
    "scrolled": true
   },
   "outputs": [
    {
     "data": {
      "text/html": [
       "<div>\n",
       "<style scoped>\n",
       "    .dataframe tbody tr th:only-of-type {\n",
       "        vertical-align: middle;\n",
       "    }\n",
       "\n",
       "    .dataframe tbody tr th {\n",
       "        vertical-align: top;\n",
       "    }\n",
       "\n",
       "    .dataframe thead th {\n",
       "        text-align: right;\n",
       "    }\n",
       "</style>\n",
       "<table border=\"1\" class=\"dataframe\">\n",
       "  <thead>\n",
       "    <tr style=\"text-align: right;\">\n",
       "      <th></th>\n",
       "      <th>Count</th>\n",
       "      <th>Percent</th>\n",
       "    </tr>\n",
       "  </thead>\n",
       "  <tbody>\n",
       "    <tr>\n",
       "      <th>gsubname3</th>\n",
       "      <td>181671</td>\n",
       "      <td>99.99</td>\n",
       "    </tr>\n",
       "    <tr>\n",
       "      <th>weapsubtype4_txt</th>\n",
       "      <td>181621</td>\n",
       "      <td>99.96</td>\n",
       "    </tr>\n",
       "    <tr>\n",
       "      <th>weapsubtype4</th>\n",
       "      <td>181621</td>\n",
       "      <td>99.96</td>\n",
       "    </tr>\n",
       "    <tr>\n",
       "      <th>weaptype4</th>\n",
       "      <td>181618</td>\n",
       "      <td>99.96</td>\n",
       "    </tr>\n",
       "    <tr>\n",
       "      <th>weaptype4_txt</th>\n",
       "      <td>181618</td>\n",
       "      <td>99.96</td>\n",
       "    </tr>\n",
       "    <tr>\n",
       "      <th>claimmode3</th>\n",
       "      <td>181558</td>\n",
       "      <td>99.93</td>\n",
       "    </tr>\n",
       "    <tr>\n",
       "      <th>claimmode3_txt</th>\n",
       "      <td>181558</td>\n",
       "      <td>99.93</td>\n",
       "    </tr>\n",
       "    <tr>\n",
       "      <th>gsubname2</th>\n",
       "      <td>181531</td>\n",
       "      <td>99.91</td>\n",
       "    </tr>\n",
       "    <tr>\n",
       "      <th>claim3</th>\n",
       "      <td>181373</td>\n",
       "      <td>99.82</td>\n",
       "    </tr>\n",
       "    <tr>\n",
       "      <th>guncertain3</th>\n",
       "      <td>181371</td>\n",
       "      <td>99.82</td>\n",
       "    </tr>\n",
       "    <tr>\n",
       "      <th>gname3</th>\n",
       "      <td>181367</td>\n",
       "      <td>99.82</td>\n",
       "    </tr>\n",
       "    <tr>\n",
       "      <th>divert</th>\n",
       "      <td>181367</td>\n",
       "      <td>99.82</td>\n",
       "    </tr>\n",
       "    <tr>\n",
       "      <th>attacktype3</th>\n",
       "      <td>181263</td>\n",
       "      <td>99.76</td>\n",
       "    </tr>\n",
       "    <tr>\n",
       "      <th>attacktype3_txt</th>\n",
       "      <td>181263</td>\n",
       "      <td>99.76</td>\n",
       "    </tr>\n",
       "    <tr>\n",
       "      <th>ransomnote</th>\n",
       "      <td>181177</td>\n",
       "      <td>99.72</td>\n",
       "    </tr>\n",
       "    <tr>\n",
       "      <th>ransompaidus</th>\n",
       "      <td>181139</td>\n",
       "      <td>99.70</td>\n",
       "    </tr>\n",
       "    <tr>\n",
       "      <th>ransomamtus</th>\n",
       "      <td>181128</td>\n",
       "      <td>99.69</td>\n",
       "    </tr>\n",
       "    <tr>\n",
       "      <th>claimmode2</th>\n",
       "      <td>181075</td>\n",
       "      <td>99.66</td>\n",
       "    </tr>\n",
       "    <tr>\n",
       "      <th>claimmode2_txt</th>\n",
       "      <td>181075</td>\n",
       "      <td>99.66</td>\n",
       "    </tr>\n",
       "    <tr>\n",
       "      <th>ransompaid</th>\n",
       "      <td>180917</td>\n",
       "      <td>99.57</td>\n",
       "    </tr>\n",
       "    <tr>\n",
       "      <th>corp3</th>\n",
       "      <td>180665</td>\n",
       "      <td>99.44</td>\n",
       "    </tr>\n",
       "    <tr>\n",
       "      <th>targsubtype3</th>\n",
       "      <td>180594</td>\n",
       "      <td>99.40</td>\n",
       "    </tr>\n",
       "    <tr>\n",
       "      <th>targsubtype3_txt</th>\n",
       "      <td>180594</td>\n",
       "      <td>99.40</td>\n",
       "    </tr>\n",
       "    <tr>\n",
       "      <th>natlty3_txt</th>\n",
       "      <td>180544</td>\n",
       "      <td>99.37</td>\n",
       "    </tr>\n",
       "    <tr>\n",
       "      <th>natlty3</th>\n",
       "      <td>180544</td>\n",
       "      <td>99.37</td>\n",
       "    </tr>\n",
       "    <tr>\n",
       "      <th>target3</th>\n",
       "      <td>180516</td>\n",
       "      <td>99.35</td>\n",
       "    </tr>\n",
       "    <tr>\n",
       "      <th>targtype3</th>\n",
       "      <td>180515</td>\n",
       "      <td>99.35</td>\n",
       "    </tr>\n",
       "    <tr>\n",
       "      <th>targtype3_txt</th>\n",
       "      <td>180515</td>\n",
       "      <td>99.35</td>\n",
       "    </tr>\n",
       "    <tr>\n",
       "      <th>ransomamt</th>\n",
       "      <td>180341</td>\n",
       "      <td>99.26</td>\n",
       "    </tr>\n",
       "    <tr>\n",
       "      <th>weapsubtype3_txt</th>\n",
       "      <td>179998</td>\n",
       "      <td>99.07</td>\n",
       "    </tr>\n",
       "    <tr>\n",
       "      <th>...</th>\n",
       "      <td>...</td>\n",
       "      <td>...</td>\n",
       "    </tr>\n",
       "    <tr>\n",
       "      <th>multiple</th>\n",
       "      <td>1</td>\n",
       "      <td>0.00</td>\n",
       "    </tr>\n",
       "    <tr>\n",
       "      <th>crit1</th>\n",
       "      <td>0</td>\n",
       "      <td>0.00</td>\n",
       "    </tr>\n",
       "    <tr>\n",
       "      <th>iyear</th>\n",
       "      <td>0</td>\n",
       "      <td>0.00</td>\n",
       "    </tr>\n",
       "    <tr>\n",
       "      <th>iday</th>\n",
       "      <td>0</td>\n",
       "      <td>0.00</td>\n",
       "    </tr>\n",
       "    <tr>\n",
       "      <th>imonth</th>\n",
       "      <td>0</td>\n",
       "      <td>0.00</td>\n",
       "    </tr>\n",
       "    <tr>\n",
       "      <th>targtype1_txt</th>\n",
       "      <td>0</td>\n",
       "      <td>0.00</td>\n",
       "    </tr>\n",
       "    <tr>\n",
       "      <th>gname</th>\n",
       "      <td>0</td>\n",
       "      <td>0.00</td>\n",
       "    </tr>\n",
       "    <tr>\n",
       "      <th>individual</th>\n",
       "      <td>0</td>\n",
       "      <td>0.00</td>\n",
       "    </tr>\n",
       "    <tr>\n",
       "      <th>dbsource</th>\n",
       "      <td>0</td>\n",
       "      <td>0.00</td>\n",
       "    </tr>\n",
       "    <tr>\n",
       "      <th>country</th>\n",
       "      <td>0</td>\n",
       "      <td>0.00</td>\n",
       "    </tr>\n",
       "    <tr>\n",
       "      <th>INT_LOG</th>\n",
       "      <td>0</td>\n",
       "      <td>0.00</td>\n",
       "    </tr>\n",
       "    <tr>\n",
       "      <th>INT_IDEO</th>\n",
       "      <td>0</td>\n",
       "      <td>0.00</td>\n",
       "    </tr>\n",
       "    <tr>\n",
       "      <th>INT_MISC</th>\n",
       "      <td>0</td>\n",
       "      <td>0.00</td>\n",
       "    </tr>\n",
       "    <tr>\n",
       "      <th>INT_ANY</th>\n",
       "      <td>0</td>\n",
       "      <td>0.00</td>\n",
       "    </tr>\n",
       "    <tr>\n",
       "      <th>extended</th>\n",
       "      <td>0</td>\n",
       "      <td>0.00</td>\n",
       "    </tr>\n",
       "    <tr>\n",
       "      <th>region_txt</th>\n",
       "      <td>0</td>\n",
       "      <td>0.00</td>\n",
       "    </tr>\n",
       "    <tr>\n",
       "      <th>country_txt</th>\n",
       "      <td>0</td>\n",
       "      <td>0.00</td>\n",
       "    </tr>\n",
       "    <tr>\n",
       "      <th>region</th>\n",
       "      <td>0</td>\n",
       "      <td>0.00</td>\n",
       "    </tr>\n",
       "    <tr>\n",
       "      <th>crit2</th>\n",
       "      <td>0</td>\n",
       "      <td>0.00</td>\n",
       "    </tr>\n",
       "    <tr>\n",
       "      <th>targtype1</th>\n",
       "      <td>0</td>\n",
       "      <td>0.00</td>\n",
       "    </tr>\n",
       "    <tr>\n",
       "      <th>weaptype1</th>\n",
       "      <td>0</td>\n",
       "      <td>0.00</td>\n",
       "    </tr>\n",
       "    <tr>\n",
       "      <th>weaptype1_txt</th>\n",
       "      <td>0</td>\n",
       "      <td>0.00</td>\n",
       "    </tr>\n",
       "    <tr>\n",
       "      <th>attacktype1_txt</th>\n",
       "      <td>0</td>\n",
       "      <td>0.00</td>\n",
       "    </tr>\n",
       "    <tr>\n",
       "      <th>attacktype1</th>\n",
       "      <td>0</td>\n",
       "      <td>0.00</td>\n",
       "    </tr>\n",
       "    <tr>\n",
       "      <th>vicinity</th>\n",
       "      <td>0</td>\n",
       "      <td>0.00</td>\n",
       "    </tr>\n",
       "    <tr>\n",
       "      <th>suicide</th>\n",
       "      <td>0</td>\n",
       "      <td>0.00</td>\n",
       "    </tr>\n",
       "    <tr>\n",
       "      <th>success</th>\n",
       "      <td>0</td>\n",
       "      <td>0.00</td>\n",
       "    </tr>\n",
       "    <tr>\n",
       "      <th>crit3</th>\n",
       "      <td>0</td>\n",
       "      <td>0.00</td>\n",
       "    </tr>\n",
       "    <tr>\n",
       "      <th>property</th>\n",
       "      <td>0</td>\n",
       "      <td>0.00</td>\n",
       "    </tr>\n",
       "    <tr>\n",
       "      <th>eventid</th>\n",
       "      <td>0</td>\n",
       "      <td>0.00</td>\n",
       "    </tr>\n",
       "  </tbody>\n",
       "</table>\n",
       "<p>135 rows × 2 columns</p>\n",
       "</div>"
      ],
      "text/plain": [
       "                   Count  Percent\n",
       "gsubname3         181671    99.99\n",
       "weapsubtype4_txt  181621    99.96\n",
       "weapsubtype4      181621    99.96\n",
       "weaptype4         181618    99.96\n",
       "weaptype4_txt     181618    99.96\n",
       "claimmode3        181558    99.93\n",
       "claimmode3_txt    181558    99.93\n",
       "gsubname2         181531    99.91\n",
       "claim3            181373    99.82\n",
       "guncertain3       181371    99.82\n",
       "gname3            181367    99.82\n",
       "divert            181367    99.82\n",
       "attacktype3       181263    99.76\n",
       "attacktype3_txt   181263    99.76\n",
       "ransomnote        181177    99.72\n",
       "ransompaidus      181139    99.70\n",
       "ransomamtus       181128    99.69\n",
       "claimmode2        181075    99.66\n",
       "claimmode2_txt    181075    99.66\n",
       "ransompaid        180917    99.57\n",
       "corp3             180665    99.44\n",
       "targsubtype3      180594    99.40\n",
       "targsubtype3_txt  180594    99.40\n",
       "natlty3_txt       180544    99.37\n",
       "natlty3           180544    99.37\n",
       "target3           180516    99.35\n",
       "targtype3         180515    99.35\n",
       "targtype3_txt     180515    99.35\n",
       "ransomamt         180341    99.26\n",
       "weapsubtype3_txt  179998    99.07\n",
       "...                  ...      ...\n",
       "multiple               1     0.00\n",
       "crit1                  0     0.00\n",
       "iyear                  0     0.00\n",
       "iday                   0     0.00\n",
       "imonth                 0     0.00\n",
       "targtype1_txt          0     0.00\n",
       "gname                  0     0.00\n",
       "individual             0     0.00\n",
       "dbsource               0     0.00\n",
       "country                0     0.00\n",
       "INT_LOG                0     0.00\n",
       "INT_IDEO               0     0.00\n",
       "INT_MISC               0     0.00\n",
       "INT_ANY                0     0.00\n",
       "extended               0     0.00\n",
       "region_txt             0     0.00\n",
       "country_txt            0     0.00\n",
       "region                 0     0.00\n",
       "crit2                  0     0.00\n",
       "targtype1              0     0.00\n",
       "weaptype1              0     0.00\n",
       "weaptype1_txt          0     0.00\n",
       "attacktype1_txt        0     0.00\n",
       "attacktype1            0     0.00\n",
       "vicinity               0     0.00\n",
       "suicide                0     0.00\n",
       "success                0     0.00\n",
       "crit3                  0     0.00\n",
       "property               0     0.00\n",
       "eventid                0     0.00\n",
       "\n",
       "[135 rows x 2 columns]"
      ]
     },
     "execution_count": 4,
     "metadata": {},
     "output_type": "execute_result"
    }
   ],
   "source": [
    "# Check the number of missing values in each attribute\n",
    "count = df.isnull().sum()\n",
    "percent = round(count / df.shape[0] * 100, 2)\n",
    "series = [count, percent]\n",
    "result = pd.concat(series, axis=1, keys=['Count','Percent'])\n",
    "result.sort_values(by='Count', ascending=False)  # 按缺失值数量倒序"
   ]
  },
  {
   "cell_type": "code",
   "execution_count": 5,
   "metadata": {
    "ExecuteTime": {
     "end_time": "2018-09-19T17:04:00.187978Z",
     "start_time": "2018-09-19T17:04:00.068311Z"
    }
   },
   "outputs": [
    {
     "data": {
      "text/plain": [
       "<matplotlib.axes._subplots.AxesSubplot at 0x1fd803165f8>"
      ]
     },
     "execution_count": 5,
     "metadata": {},
     "output_type": "execute_result"
    },
    {
     "data": {
      "image/png": "[encoded data removed]",
      "text/plain": [
       "<Figure size 432x288 with 1 Axes>"
      ]
     },
     "metadata": {},
     "output_type": "display_data"
    }
   ],
   "source": [
    "result['Percent'].plot()"
   ]
  },
  {
   "cell_type": "code",
   "execution_count": 6,
   "metadata": {
    "ExecuteTime": {
     "end_time": "2018-09-19T17:04:00.194983Z",
     "start_time": "2018-09-19T17:04:00.189948Z"
    }
   },
   "outputs": [
    {
     "name": "stdout",
     "output_type": "stream",
     "text": [
      "留下来的特征所占比例: 0.54\n"
     ]
    }
   ],
   "source": [
    "target_attrs = result[result['Percent'] < 90.0]\n",
    "print('留下来的特征所占比例:', round(target_attrs.shape[0]/result.shape[0], 2))"
   ]
  },
  {
   "cell_type": "markdown",
   "metadata": {
    "ExecuteTime": {
     "end_time": "2018-09-16T02:22:29.616897Z",
     "start_time": "2018-09-16T02:22:29.612941Z"
    }
   },
   "source": [
    "查看留下来的特征:"
   ]
  },
  {
   "cell_type": "code",
   "execution_count": 7,
   "metadata": {
    "ExecuteTime": {
     "end_time": "2018-09-19T17:04:00.212920Z",
     "start_time": "2018-09-19T17:04:00.196927Z"
    },
    "scrolled": false
   },
   "outputs": [
    {
     "data": {
      "text/plain": [
       "array(['eventid', 'iyear', 'imonth', 'iday', 'extended', 'country',\n",
       "       'country_txt', 'region', 'region_txt', 'provstate', 'city',\n",
       "       'latitude', 'longitude', 'specificity', 'vicinity', 'location',\n",
       "       'summary', 'crit1', 'crit2', 'crit3', 'doubtterr', 'alternative',\n",
       "       'alternative_txt', 'multiple', 'success', 'suicide', 'attacktype1',\n",
       "       'attacktype1_txt', 'targtype1', 'targtype1_txt', 'targsubtype1',\n",
       "       'targsubtype1_txt', 'corp1', 'target1', 'natlty1', 'natlty1_txt',\n",
       "       'gname', 'motive', 'guncertain1', 'individual', 'nperps',\n",
       "       'nperpcap', 'claimed', 'claimmode', 'claimmode_txt', 'weaptype1',\n",
       "       'weaptype1_txt', 'weapsubtype1', 'weapsubtype1_txt', 'weapdetail',\n",
       "       'nkill', 'nkillus', 'nkillter', 'nwound', 'nwoundus', 'nwoundte',\n",
       "       'property', 'propextent', 'propextent_txt', 'propvalue',\n",
       "       'propcomment', 'ishostkid', 'ransom', 'addnotes', 'scite1',\n",
       "       'scite2', 'scite3', 'dbsource', 'INT_LOG', 'INT_IDEO', 'INT_MISC',\n",
       "       'INT_ANY', 'related'], dtype=object)"
      ]
     },
     "execution_count": 7,
     "metadata": {},
     "output_type": "execute_result"
    }
   ],
   "source": [
    "keep_attrs = target_attrs.index.values\n",
    "keep_attrs"
   ]
  },
  {
   "cell_type": "code",
   "execution_count": 8,
   "metadata": {
    "ExecuteTime": {
     "end_time": "2018-09-19T17:04:00.234853Z",
     "start_time": "2018-09-19T17:04:00.213891Z"
    },
    "scrolled": true
   },
   "outputs": [
    {
     "data": {
      "text/html": [
       "<div>\n",
       "<style scoped>\n",
       "    .dataframe tbody tr th:only-of-type {\n",
       "        vertical-align: middle;\n",
       "    }\n",
       "\n",
       "    .dataframe tbody tr th {\n",
       "        vertical-align: top;\n",
       "    }\n",
       "\n",
       "    .dataframe thead th {\n",
       "        text-align: right;\n",
       "    }\n",
       "</style>\n",
       "<table border=\"1\" class=\"dataframe\">\n",
       "  <thead>\n",
       "    <tr style=\"text-align: right;\">\n",
       "      <th></th>\n",
       "      <th>Count</th>\n",
       "      <th>Percent</th>\n",
       "    </tr>\n",
       "  </thead>\n",
       "  <tbody>\n",
       "    <tr>\n",
       "      <th>claimmode_txt</th>\n",
       "      <td>162608</td>\n",
       "      <td>89.50</td>\n",
       "    </tr>\n",
       "    <tr>\n",
       "      <th>claimmode</th>\n",
       "      <td>162608</td>\n",
       "      <td>89.50</td>\n",
       "    </tr>\n",
       "    <tr>\n",
       "      <th>related</th>\n",
       "      <td>156653</td>\n",
       "      <td>86.22</td>\n",
       "    </tr>\n",
       "    <tr>\n",
       "      <th>addnotes</th>\n",
       "      <td>153402</td>\n",
       "      <td>84.43</td>\n",
       "    </tr>\n",
       "    <tr>\n",
       "      <th>alternative_txt</th>\n",
       "      <td>152680</td>\n",
       "      <td>84.03</td>\n",
       "    </tr>\n",
       "    <tr>\n",
       "      <th>alternative</th>\n",
       "      <td>152680</td>\n",
       "      <td>84.03</td>\n",
       "    </tr>\n",
       "    <tr>\n",
       "      <th>propvalue</th>\n",
       "      <td>142702</td>\n",
       "      <td>78.54</td>\n",
       "    </tr>\n",
       "    <tr>\n",
       "      <th>scite3</th>\n",
       "      <td>138175</td>\n",
       "      <td>76.05</td>\n",
       "    </tr>\n",
       "    <tr>\n",
       "      <th>motive</th>\n",
       "      <td>131130</td>\n",
       "      <td>72.17</td>\n",
       "    </tr>\n",
       "    <tr>\n",
       "      <th>location</th>\n",
       "      <td>126196</td>\n",
       "      <td>69.46</td>\n",
       "    </tr>\n",
       "    <tr>\n",
       "      <th>propcomment</th>\n",
       "      <td>123732</td>\n",
       "      <td>68.10</td>\n",
       "    </tr>\n",
       "    <tr>\n",
       "      <th>propextent</th>\n",
       "      <td>117626</td>\n",
       "      <td>64.74</td>\n",
       "    </tr>\n",
       "    <tr>\n",
       "      <th>propextent_txt</th>\n",
       "      <td>117626</td>\n",
       "      <td>64.74</td>\n",
       "    </tr>\n",
       "    <tr>\n",
       "      <th>scite2</th>\n",
       "      <td>104758</td>\n",
       "      <td>57.66</td>\n",
       "    </tr>\n",
       "    <tr>\n",
       "      <th>ransom</th>\n",
       "      <td>104310</td>\n",
       "      <td>57.41</td>\n",
       "    </tr>\n",
       "    <tr>\n",
       "      <th>nperps</th>\n",
       "      <td>71115</td>\n",
       "      <td>39.14</td>\n",
       "    </tr>\n",
       "    <tr>\n",
       "      <th>nperpcap</th>\n",
       "      <td>69489</td>\n",
       "      <td>38.25</td>\n",
       "    </tr>\n",
       "    <tr>\n",
       "      <th>nwoundte</th>\n",
       "      <td>69143</td>\n",
       "      <td>38.06</td>\n",
       "    </tr>\n",
       "    <tr>\n",
       "      <th>weapdetail</th>\n",
       "      <td>67670</td>\n",
       "      <td>37.24</td>\n",
       "    </tr>\n",
       "    <tr>\n",
       "      <th>nkillter</th>\n",
       "      <td>66958</td>\n",
       "      <td>36.85</td>\n",
       "    </tr>\n",
       "    <tr>\n",
       "      <th>scite1</th>\n",
       "      <td>66191</td>\n",
       "      <td>36.43</td>\n",
       "    </tr>\n",
       "    <tr>\n",
       "      <th>summary</th>\n",
       "      <td>66129</td>\n",
       "      <td>36.40</td>\n",
       "    </tr>\n",
       "    <tr>\n",
       "      <th>claimed</th>\n",
       "      <td>66120</td>\n",
       "      <td>36.39</td>\n",
       "    </tr>\n",
       "    <tr>\n",
       "      <th>nwoundus</th>\n",
       "      <td>64702</td>\n",
       "      <td>35.61</td>\n",
       "    </tr>\n",
       "    <tr>\n",
       "      <th>nkillus</th>\n",
       "      <td>64446</td>\n",
       "      <td>35.47</td>\n",
       "    </tr>\n",
       "    <tr>\n",
       "      <th>corp1</th>\n",
       "      <td>42550</td>\n",
       "      <td>23.42</td>\n",
       "    </tr>\n",
       "    <tr>\n",
       "      <th>weapsubtype1_txt</th>\n",
       "      <td>20768</td>\n",
       "      <td>11.43</td>\n",
       "    </tr>\n",
       "    <tr>\n",
       "      <th>weapsubtype1</th>\n",
       "      <td>20768</td>\n",
       "      <td>11.43</td>\n",
       "    </tr>\n",
       "    <tr>\n",
       "      <th>nwound</th>\n",
       "      <td>16311</td>\n",
       "      <td>8.98</td>\n",
       "    </tr>\n",
       "    <tr>\n",
       "      <th>targsubtype1</th>\n",
       "      <td>10373</td>\n",
       "      <td>5.71</td>\n",
       "    </tr>\n",
       "    <tr>\n",
       "      <th>...</th>\n",
       "      <td>...</td>\n",
       "      <td>...</td>\n",
       "    </tr>\n",
       "    <tr>\n",
       "      <th>multiple</th>\n",
       "      <td>1</td>\n",
       "      <td>0.00</td>\n",
       "    </tr>\n",
       "    <tr>\n",
       "      <th>INT_MISC</th>\n",
       "      <td>0</td>\n",
       "      <td>0.00</td>\n",
       "    </tr>\n",
       "    <tr>\n",
       "      <th>INT_ANY</th>\n",
       "      <td>0</td>\n",
       "      <td>0.00</td>\n",
       "    </tr>\n",
       "    <tr>\n",
       "      <th>dbsource</th>\n",
       "      <td>0</td>\n",
       "      <td>0.00</td>\n",
       "    </tr>\n",
       "    <tr>\n",
       "      <th>INT_IDEO</th>\n",
       "      <td>0</td>\n",
       "      <td>0.00</td>\n",
       "    </tr>\n",
       "    <tr>\n",
       "      <th>INT_LOG</th>\n",
       "      <td>0</td>\n",
       "      <td>0.00</td>\n",
       "    </tr>\n",
       "    <tr>\n",
       "      <th>property</th>\n",
       "      <td>0</td>\n",
       "      <td>0.00</td>\n",
       "    </tr>\n",
       "    <tr>\n",
       "      <th>eventid</th>\n",
       "      <td>0</td>\n",
       "      <td>0.00</td>\n",
       "    </tr>\n",
       "    <tr>\n",
       "      <th>weaptype1_txt</th>\n",
       "      <td>0</td>\n",
       "      <td>0.00</td>\n",
       "    </tr>\n",
       "    <tr>\n",
       "      <th>weaptype1</th>\n",
       "      <td>0</td>\n",
       "      <td>0.00</td>\n",
       "    </tr>\n",
       "    <tr>\n",
       "      <th>imonth</th>\n",
       "      <td>0</td>\n",
       "      <td>0.00</td>\n",
       "    </tr>\n",
       "    <tr>\n",
       "      <th>iday</th>\n",
       "      <td>0</td>\n",
       "      <td>0.00</td>\n",
       "    </tr>\n",
       "    <tr>\n",
       "      <th>extended</th>\n",
       "      <td>0</td>\n",
       "      <td>0.00</td>\n",
       "    </tr>\n",
       "    <tr>\n",
       "      <th>country</th>\n",
       "      <td>0</td>\n",
       "      <td>0.00</td>\n",
       "    </tr>\n",
       "    <tr>\n",
       "      <th>country_txt</th>\n",
       "      <td>0</td>\n",
       "      <td>0.00</td>\n",
       "    </tr>\n",
       "    <tr>\n",
       "      <th>region</th>\n",
       "      <td>0</td>\n",
       "      <td>0.00</td>\n",
       "    </tr>\n",
       "    <tr>\n",
       "      <th>region_txt</th>\n",
       "      <td>0</td>\n",
       "      <td>0.00</td>\n",
       "    </tr>\n",
       "    <tr>\n",
       "      <th>vicinity</th>\n",
       "      <td>0</td>\n",
       "      <td>0.00</td>\n",
       "    </tr>\n",
       "    <tr>\n",
       "      <th>crit1</th>\n",
       "      <td>0</td>\n",
       "      <td>0.00</td>\n",
       "    </tr>\n",
       "    <tr>\n",
       "      <th>crit2</th>\n",
       "      <td>0</td>\n",
       "      <td>0.00</td>\n",
       "    </tr>\n",
       "    <tr>\n",
       "      <th>crit3</th>\n",
       "      <td>0</td>\n",
       "      <td>0.00</td>\n",
       "    </tr>\n",
       "    <tr>\n",
       "      <th>success</th>\n",
       "      <td>0</td>\n",
       "      <td>0.00</td>\n",
       "    </tr>\n",
       "    <tr>\n",
       "      <th>suicide</th>\n",
       "      <td>0</td>\n",
       "      <td>0.00</td>\n",
       "    </tr>\n",
       "    <tr>\n",
       "      <th>attacktype1</th>\n",
       "      <td>0</td>\n",
       "      <td>0.00</td>\n",
       "    </tr>\n",
       "    <tr>\n",
       "      <th>attacktype1_txt</th>\n",
       "      <td>0</td>\n",
       "      <td>0.00</td>\n",
       "    </tr>\n",
       "    <tr>\n",
       "      <th>targtype1</th>\n",
       "      <td>0</td>\n",
       "      <td>0.00</td>\n",
       "    </tr>\n",
       "    <tr>\n",
       "      <th>targtype1_txt</th>\n",
       "      <td>0</td>\n",
       "      <td>0.00</td>\n",
       "    </tr>\n",
       "    <tr>\n",
       "      <th>iyear</th>\n",
       "      <td>0</td>\n",
       "      <td>0.00</td>\n",
       "    </tr>\n",
       "    <tr>\n",
       "      <th>individual</th>\n",
       "      <td>0</td>\n",
       "      <td>0.00</td>\n",
       "    </tr>\n",
       "    <tr>\n",
       "      <th>gname</th>\n",
       "      <td>0</td>\n",
       "      <td>0.00</td>\n",
       "    </tr>\n",
       "  </tbody>\n",
       "</table>\n",
       "<p>73 rows × 2 columns</p>\n",
       "</div>"
      ],
      "text/plain": [
       "                   Count  Percent\n",
       "claimmode_txt     162608    89.50\n",
       "claimmode         162608    89.50\n",
       "related           156653    86.22\n",
       "addnotes          153402    84.43\n",
       "alternative_txt   152680    84.03\n",
       "alternative       152680    84.03\n",
       "propvalue         142702    78.54\n",
       "scite3            138175    76.05\n",
       "motive            131130    72.17\n",
       "location          126196    69.46\n",
       "propcomment       123732    68.10\n",
       "propextent        117626    64.74\n",
       "propextent_txt    117626    64.74\n",
       "scite2            104758    57.66\n",
       "ransom            104310    57.41\n",
       "nperps             71115    39.14\n",
       "nperpcap           69489    38.25\n",
       "nwoundte           69143    38.06\n",
       "weapdetail         67670    37.24\n",
       "nkillter           66958    36.85\n",
       "scite1             66191    36.43\n",
       "summary            66129    36.40\n",
       "claimed            66120    36.39\n",
       "nwoundus           64702    35.61\n",
       "nkillus            64446    35.47\n",
       "corp1              42550    23.42\n",
       "weapsubtype1_txt   20768    11.43\n",
       "weapsubtype1       20768    11.43\n",
       "nwound             16311     8.98\n",
       "targsubtype1       10373     5.71\n",
       "...                  ...      ...\n",
       "multiple               1     0.00\n",
       "INT_MISC               0     0.00\n",
       "INT_ANY                0     0.00\n",
       "dbsource               0     0.00\n",
       "INT_IDEO               0     0.00\n",
       "INT_LOG                0     0.00\n",
       "property               0     0.00\n",
       "eventid                0     0.00\n",
       "weaptype1_txt          0     0.00\n",
       "weaptype1              0     0.00\n",
       "imonth                 0     0.00\n",
       "iday                   0     0.00\n",
       "extended               0     0.00\n",
       "country                0     0.00\n",
       "country_txt            0     0.00\n",
       "region                 0     0.00\n",
       "region_txt             0     0.00\n",
       "vicinity               0     0.00\n",
       "crit1                  0     0.00\n",
       "crit2                  0     0.00\n",
       "crit3                  0     0.00\n",
       "success                0     0.00\n",
       "suicide                0     0.00\n",
       "attacktype1            0     0.00\n",
       "attacktype1_txt        0     0.00\n",
       "targtype1              0     0.00\n",
       "targtype1_txt          0     0.00\n",
       "iyear                  0     0.00\n",
       "individual             0     0.00\n",
       "gname                  0     0.00\n",
       "\n",
       "[73 rows x 2 columns]"
      ]
     },
     "execution_count": 8,
     "metadata": {},
     "output_type": "execute_result"
    }
   ],
   "source": [
    "target_attrs.sort_values(by='Count', ascending=False)  # 按缺失值数量倒序"
   ]
  },
  {
   "cell_type": "markdown",
   "metadata": {},
   "source": [
    "查看缺失值比例在 $80\\% \\sim 90\\%$ 的特征:"
   ]
  },
  {
   "cell_type": "code",
   "execution_count": 9,
   "metadata": {
    "ExecuteTime": {
     "end_time": "2018-09-19T17:04:00.249816Z",
     "start_time": "2018-09-19T17:04:00.236823Z"
    }
   },
   "outputs": [
    {
     "data": {
      "text/plain": [
       "8.22"
      ]
     },
     "execution_count": 9,
     "metadata": {},
     "output_type": "execute_result"
    }
   ],
   "source": [
    "df_80_90 = target_attrs[target_attrs['Percent'] > 80.0]\n",
    "round(df_80_90.shape[0]/target_attrs.shape[0] * 100, 2)  # 特征数所占比例"
   ]
  },
  {
   "cell_type": "markdown",
   "metadata": {},
   "source": [
    "占比是 $8.22\\%$, 因而为了简化问题, 我们仅仅考虑缺失值占比小于 $80\\%$ 的特征."
   ]
  },
  {
   "cell_type": "code",
   "execution_count": 10,
   "metadata": {
    "ExecuteTime": {
     "end_time": "2018-09-19T17:04:00.751463Z",
     "start_time": "2018-09-19T17:04:00.250797Z"
    },
    "scrolled": true
   },
   "outputs": [
    {
     "name": "stdout",
     "output_type": "stream",
     "text": [
      "<class 'pandas.core.frame.DataFrame'>\n",
      "RangeIndex: 181691 entries, 0 to 181690\n",
      "Data columns (total 67 columns):\n",
      "eventid             181691 non-null int64\n",
      "iyear               181691 non-null int64\n",
      "imonth              181691 non-null int64\n",
      "iday                181691 non-null int64\n",
      "extended            181691 non-null int64\n",
      "country             181691 non-null int64\n",
      "country_txt         181691 non-null object\n",
      "region              181691 non-null int64\n",
      "region_txt          181691 non-null object\n",
      "provstate           181270 non-null object\n",
      "city                181257 non-null object\n",
      "latitude            177135 non-null float64\n",
      "longitude           177134 non-null float64\n",
      "specificity         181685 non-null float64\n",
      "vicinity            181691 non-null int64\n",
      "location            55495 non-null object\n",
      "summary             115562 non-null object\n",
      "crit1               181691 non-null int64\n",
      "crit2               181691 non-null int64\n",
      "crit3               181691 non-null int64\n",
      "doubtterr           181690 non-null float64\n",
      "multiple            181690 non-null float64\n",
      "success             181691 non-null int64\n",
      "suicide             181691 non-null int64\n",
      "attacktype1         181691 non-null int64\n",
      "attacktype1_txt     181691 non-null object\n",
      "targtype1           181691 non-null int64\n",
      "targtype1_txt       181691 non-null object\n",
      "targsubtype1        171318 non-null float64\n",
      "targsubtype1_txt    171318 non-null object\n",
      "corp1               139141 non-null object\n",
      "target1             181055 non-null object\n",
      "natlty1             180132 non-null float64\n",
      "natlty1_txt         180132 non-null object\n",
      "gname               181691 non-null object\n",
      "motive              50561 non-null object\n",
      "guncertain1         181311 non-null float64\n",
      "individual          181691 non-null int64\n",
      "nperps              110576 non-null float64\n",
      "nperpcap            112202 non-null float64\n",
      "claimed             115571 non-null float64\n",
      "weaptype1           181691 non-null int64\n",
      "weaptype1_txt       181691 non-null object\n",
      "weapsubtype1        160923 non-null float64\n",
      "weapsubtype1_txt    160923 non-null object\n",
      "weapdetail          114021 non-null object\n",
      "nkill               171378 non-null float64\n",
      "nkillus             117245 non-null float64\n",
      "nkillter            114733 non-null float64\n",
      "nwound              165380 non-null float64\n",
      "nwoundus            116989 non-null float64\n",
      "nwoundte            112548 non-null float64\n",
      "property            181691 non-null int64\n",
      "propextent          64065 non-null float64\n",
      "propextent_txt      64065 non-null object\n",
      "propvalue           38989 non-null float64\n",
      "propcomment         57959 non-null object\n",
      "ishostkid           181513 non-null float64\n",
      "ransom              77381 non-null float64\n",
      "scite1              115500 non-null object\n",
      "scite2              76933 non-null object\n",
      "scite3              43516 non-null object\n",
      "dbsource            181691 non-null object\n",
      "INT_LOG             181691 non-null int64\n",
      "INT_IDEO            181691 non-null int64\n",
      "INT_MISC            181691 non-null int64\n",
      "INT_ANY             181691 non-null int64\n",
      "dtypes: float64(22), int64(22), object(23)\n",
      "memory usage: 92.9+ MB\n"
     ]
    }
   ],
   "source": [
    "keep_attrs = target_attrs[target_attrs['Percent']<80.0]\n",
    "\n",
    "subset_df = df.loc[:, keep_attrs.index.values]\n",
    "subset_df.info(verbose = True)"
   ]
  },
  {
   "cell_type": "code",
   "execution_count": 11,
   "metadata": {
    "ExecuteTime": {
     "end_time": "2018-09-19T17:04:00.758438Z",
     "start_time": "2018-09-19T17:04:00.754467Z"
    }
   },
   "outputs": [
    {
     "name": "stdout",
     "output_type": "stream",
     "text": [
      "数据的尺寸: (181691, 135)\n"
     ]
    }
   ],
   "source": [
    "# total no of columns and rows present in data\n",
    "print(\"数据的尺寸:\",df.shape)"
   ]
  },
  {
   "cell_type": "code",
   "execution_count": 12,
   "metadata": {
    "ExecuteTime": {
     "end_time": "2018-09-19T17:04:00.772423Z",
     "start_time": "2018-09-19T17:04:00.760447Z"
    }
   },
   "outputs": [
    {
     "name": "stdout",
     "output_type": "stream",
     "text": [
      "约简后数据的尺寸: (181691, 67)\n"
     ]
    }
   ],
   "source": [
    "# 留下来的特征\n",
    "print(\"约简后数据的尺寸:\",subset_df.shape)"
   ]
  },
  {
   "cell_type": "markdown",
   "metadata": {
    "ExecuteTime": {
     "end_time": "2018-09-19T15:12:44.530824Z",
     "start_time": "2018-09-19T15:12:44.526835Z"
    }
   },
   "source": [
    "### 符号说明:\n",
    "    \n",
    "符号|说明\n",
    ":-|:-\n",
    "NV| Numeric Variable\n",
    "TV|Text Variable\n",
    "CV|Categorical Variable"
   ]
  },
  {
   "cell_type": "code",
   "execution_count": 13,
   "metadata": {
    "ExecuteTime": {
     "end_time": "2018-09-19T17:04:00.784393Z",
     "start_time": "2018-09-19T17:04:00.773406Z"
    }
   },
   "outputs": [],
   "source": [
    "names = set(subset_df.columns)\n",
    "\n",
    "# 数值变量集合\n",
    "NV = {\n",
    "    'eventid', 'iyear', 'imonth', 'iday', 'latitude','longitude',\n",
    "    'nperps', 'nperpcap', 'nkill', 'nkillus', 'nkillter', 'nwound',\n",
    "    'nwoundus', 'nwoundte', 'propvalue', 'nhostkid', 'nhostkidus',\n",
    "    'nhours', 'ndays', 'ransomamt', 'ransomamtus', 'ransompaid','ransompaidus', 'nreleased'\n",
    "}\n",
    "\n",
    "NV = names & NV"
   ]
  },
  {
   "cell_type": "code",
   "execution_count": 14,
   "metadata": {
    "ExecuteTime": {
     "end_time": "2018-09-19T17:04:00.803308Z",
     "start_time": "2018-09-19T17:04:00.786353Z"
    }
   },
   "outputs": [
    {
     "data": {
      "text/plain": [
       "{'eventid',\n",
       " 'iday',\n",
       " 'imonth',\n",
       " 'iyear',\n",
       " 'latitude',\n",
       " 'longitude',\n",
       " 'nkill',\n",
       " 'nkillter',\n",
       " 'nkillus',\n",
       " 'nperpcap',\n",
       " 'nperps',\n",
       " 'nwound',\n",
       " 'nwoundte',\n",
       " 'nwoundus',\n",
       " 'propvalue'}"
      ]
     },
     "execution_count": 14,
     "metadata": {},
     "output_type": "execute_result"
    }
   ],
   "source": [
    "NV"
   ]
  },
  {
   "cell_type": "code",
   "execution_count": 15,
   "metadata": {
    "ExecuteTime": {
     "end_time": "2018-09-19T17:04:00.816275Z",
     "start_time": "2018-09-19T17:04:00.806303Z"
    }
   },
   "outputs": [
    {
     "data": {
      "text/plain": [
       "15"
      ]
     },
     "execution_count": 15,
     "metadata": {},
     "output_type": "execute_result"
    }
   ],
   "source": [
    "len(NV)"
   ]
  },
  {
   "cell_type": "code",
   "execution_count": 16,
   "metadata": {
    "ExecuteTime": {
     "end_time": "2018-09-19T17:04:00.898054Z",
     "start_time": "2018-09-19T17:04:00.819276Z"
    }
   },
   "outputs": [
    {
     "data": {
      "text/plain": [
       "True"
      ]
     },
     "execution_count": 16,
     "metadata": {},
     "output_type": "execute_result"
    }
   ],
   "source": [
    "NV & set(subset_df.select_dtypes(['float64', 'int64']).columns) == NV"
   ]
  },
  {
   "cell_type": "code",
   "execution_count": 17,
   "metadata": {
    "ExecuteTime": {
     "end_time": "2018-09-19T17:04:00.984848Z",
     "start_time": "2018-09-19T17:04:00.901047Z"
    },
    "scrolled": true
   },
   "outputs": [
    {
     "name": "stdout",
     "output_type": "stream",
     "text": [
      "motive\n",
      "scite1\n",
      "corp1\n",
      "summary\n",
      "provstate\n",
      "target1\n",
      "gname\n",
      "scite3\n",
      "city\n",
      "location\n",
      "propcomment\n",
      "scite2\n",
      "dbsource\n",
      "weapdetail\n"
     ]
    }
   ],
   "source": [
    "TV = set(subset_df.select_dtypes('object').columns)\n",
    "for name in TV:\n",
    "    if not name.endswith('_txt'):\n",
    "        print(name)"
   ]
  },
  {
   "cell_type": "code",
   "execution_count": 18,
   "metadata": {
    "ExecuteTime": {
     "end_time": "2018-09-19T17:04:00.991804Z",
     "start_time": "2018-09-19T17:04:00.986819Z"
    }
   },
   "outputs": [
    {
     "data": {
      "text/plain": [
       "23"
      ]
     },
     "execution_count": 18,
     "metadata": {},
     "output_type": "execute_result"
    }
   ],
   "source": [
    "len(TV)"
   ]
  },
  {
   "cell_type": "code",
   "execution_count": 19,
   "metadata": {
    "ExecuteTime": {
     "end_time": "2018-09-19T17:04:01.004801Z",
     "start_time": "2018-09-19T17:04:00.993814Z"
    },
    "scrolled": false
   },
   "outputs": [
    {
     "data": {
      "text/plain": [
       "{'INT_ANY',\n",
       " 'INT_IDEO',\n",
       " 'INT_LOG',\n",
       " 'INT_MISC',\n",
       " 'attacktype1',\n",
       " 'claimed',\n",
       " 'country',\n",
       " 'crit1',\n",
       " 'crit2',\n",
       " 'crit3',\n",
       " 'doubtterr',\n",
       " 'extended',\n",
       " 'guncertain1',\n",
       " 'individual',\n",
       " 'ishostkid',\n",
       " 'multiple',\n",
       " 'natlty1',\n",
       " 'property',\n",
       " 'propextent',\n",
       " 'ransom',\n",
       " 'region',\n",
       " 'specificity',\n",
       " 'success',\n",
       " 'suicide',\n",
       " 'targsubtype1',\n",
       " 'targtype1',\n",
       " 'vicinity',\n",
       " 'weapsubtype1',\n",
       " 'weaptype1'}"
      ]
     },
     "execution_count": 19,
     "metadata": {},
     "output_type": "execute_result"
    }
   ],
   "source": [
    "CV = names - NV - TV\n",
    "CV"
   ]
  },
  {
   "cell_type": "code",
   "execution_count": 20,
   "metadata": {
    "ExecuteTime": {
     "end_time": "2018-09-19T17:04:01.017759Z",
     "start_time": "2018-09-19T17:04:01.006797Z"
    }
   },
   "outputs": [
    {
     "data": {
      "text/plain": [
       "29"
      ]
     },
     "execution_count": 20,
     "metadata": {},
     "output_type": "execute_result"
    }
   ],
   "source": [
    "len(CV)"
   ]
  },
  {
   "cell_type": "code",
   "execution_count": 21,
   "metadata": {
    "ExecuteTime": {
     "end_time": "2018-09-19T17:04:01.381791Z",
     "start_time": "2018-09-19T17:04:01.020724Z"
    },
    "scrolled": true
   },
   "outputs": [
    {
     "data": {
      "text/plain": [
       "eventid                  0\n",
       "iyear                    0\n",
       "imonth                   0\n",
       "iday                     0\n",
       "extended                 0\n",
       "country                  0\n",
       "country_txt              0\n",
       "region                   0\n",
       "region_txt               0\n",
       "provstate              421\n",
       "city                   434\n",
       "latitude              4556\n",
       "longitude             4557\n",
       "specificity              6\n",
       "vicinity                 0\n",
       "location            126196\n",
       "summary              66129\n",
       "crit1                    0\n",
       "crit2                    0\n",
       "crit3                    0\n",
       "doubtterr                1\n",
       "multiple                 1\n",
       "success                  0\n",
       "suicide                  0\n",
       "attacktype1              0\n",
       "attacktype1_txt          0\n",
       "targtype1                0\n",
       "targtype1_txt            0\n",
       "targsubtype1         10373\n",
       "targsubtype1_txt     10373\n",
       "                     ...  \n",
       "individual               0\n",
       "nperps               71115\n",
       "nperpcap             69489\n",
       "claimed              66120\n",
       "weaptype1                0\n",
       "weaptype1_txt            0\n",
       "weapsubtype1         20768\n",
       "weapsubtype1_txt     20768\n",
       "weapdetail           67670\n",
       "nkill                10313\n",
       "nkillus              64446\n",
       "nkillter             66958\n",
       "nwound               16311\n",
       "nwoundus             64702\n",
       "nwoundte             69143\n",
       "property                 0\n",
       "propextent          117626\n",
       "propextent_txt      117626\n",
       "propvalue           142702\n",
       "propcomment         123732\n",
       "ishostkid              178\n",
       "ransom              104310\n",
       "scite1               66191\n",
       "scite2              104758\n",
       "scite3              138175\n",
       "dbsource                 0\n",
       "INT_LOG                  0\n",
       "INT_IDEO                 0\n",
       "INT_MISC                 0\n",
       "INT_ANY                  0\n",
       "Length: 67, dtype: int64"
      ]
     },
     "execution_count": 21,
     "metadata": {},
     "output_type": "execute_result"
    }
   ],
   "source": [
    "subset_df.isnull().sum()"
   ]
  },
  {
   "cell_type": "markdown",
   "metadata": {},
   "source": [
    "## 类别信息处理\n",
    "\n",
    "将类别变量的缺失值替换为 `-1`:"
   ]
  },
  {
   "cell_type": "code",
   "execution_count": 22,
   "metadata": {
    "ExecuteTime": {
     "end_time": "2018-09-19T17:04:01.501456Z",
     "start_time": "2018-09-19T17:04:01.383756Z"
    }
   },
   "outputs": [
    {
     "data": {
      "text/plain": [
       "ishostkid          178\n",
       "INT_IDEO             0\n",
       "INT_MISC             0\n",
       "success              0\n",
       "targtype1            0\n",
       "INT_LOG              0\n",
       "property             0\n",
       "region               0\n",
       "attacktype1          0\n",
       "crit3                0\n",
       "suicide              0\n",
       "vicinity             0\n",
       "weaptype1            0\n",
       "extended             0\n",
       "crit2                0\n",
       "doubtterr            1\n",
       "multiple             1\n",
       "ransom          104310\n",
       "propextent      117626\n",
       "specificity          6\n",
       "weapsubtype1     20768\n",
       "claimed          66120\n",
       "targsubtype1     10373\n",
       "crit1                0\n",
       "country              0\n",
       "INT_ANY              0\n",
       "individual           0\n",
       "natlty1           1559\n",
       "guncertain1        380\n",
       "dtype: int64"
      ]
     },
     "execution_count": 22,
     "metadata": {},
     "output_type": "execute_result"
    }
   ],
   "source": [
    "cat_df = subset_df[list(CV)]\n",
    "cat_df.isnull().sum()"
   ]
  },
  {
   "cell_type": "code",
   "execution_count": 23,
   "metadata": {
    "ExecuteTime": {
     "end_time": "2018-09-19T17:04:02.243454Z",
     "start_time": "2018-09-19T17:04:01.504459Z"
    }
   },
   "outputs": [],
   "source": [
    "subset_df.loc[subset_df['doubtterr'] == -9, 'doubtterr'] = np.nan  # -9 未知\n",
    "#subset_df['attacktype1'].replace(9, -1)\n",
    "subset_df.loc[subset_df['attacktype1'] == 9, 'attacktype1'] = np.nan #  9 未知\n",
    "subset_df.loc[subset_df['weaptype1'] == 13, 'weaptype1'] = np.nan # 13 未知\n",
    "subset_df.loc[subset_df['targtype1'] == 20, 'targtype1'] = np.nan # 13 未知\n",
    "subset_df.loc[subset_df['property'] == -9, 'property'] = np.nan\n",
    "subset_df.loc[subset_df['propextent'] == 4, 'propextent'] = np.nan\n",
    "subset_df.loc[subset_df['ishostkid'] == -9, 'ishostkid'] = np.nan\n",
    "subset_df.loc[subset_df['INT_LOG'] == -9, 'INT_LOG'] = np.nan\n",
    "subset_df.loc[subset_df['INT_IDEO'] == -9, 'INT_IDEO'] = np.nan\n",
    "subset_df.loc[subset_df['INT_MISC'] == -9, 'INT_MISC'] = np.nan\n",
    "subset_df.loc[subset_df['INT_ANY'] == -9, 'INT_ANY'] = np.nan\n",
    "subset_df.loc[subset_df['claimed'] == -9, 'claimed'] = np.nan\n",
    "subset_df.loc[subset_df['ransom'] == -9, 'ransom'] = np.nan\n",
    "subset_df.loc[subset_df['specificity'] == 5, 'specificity'] = np.nan\n",
    "subset_df.loc[subset_df['vicinity'] == -9, 'vicinity'] = np.nan"
   ]
  },
  {
   "cell_type": "code",
   "execution_count": 24,
   "metadata": {
    "ExecuteTime": {
     "end_time": "2018-09-19T17:04:02.434970Z",
     "start_time": "2018-09-19T17:04:02.245450Z"
    },
    "scrolled": true
   },
   "outputs": [
    {
     "data": {
      "text/plain": [
       "ishostkid          495\n",
       "INT_IDEO         92659\n",
       "INT_MISC           487\n",
       "success              0\n",
       "targtype1         5898\n",
       "INT_LOG          92527\n",
       "property         21386\n",
       "region               0\n",
       "attacktype1       7276\n",
       "crit3                0\n",
       "suicide              0\n",
       "vicinity            35\n",
       "weaptype1        15157\n",
       "extended             0\n",
       "crit2                0\n",
       "doubtterr        13785\n",
       "multiple             1\n",
       "ransom          105708\n",
       "propextent      137472\n",
       "specificity       4556\n",
       "weapsubtype1     20768\n",
       "claimed          67594\n",
       "targsubtype1     10373\n",
       "crit1                0\n",
       "country              0\n",
       "INT_ANY          83830\n",
       "individual           0\n",
       "natlty1           1559\n",
       "guncertain1        380\n",
       "dtype: int64"
      ]
     },
     "execution_count": 24,
     "metadata": {},
     "output_type": "execute_result"
    }
   ],
   "source": [
    "cat_df = subset_df[list(CV)]\n",
    "cat_df.isnull().sum()"
   ]
  },
  {
   "cell_type": "code",
   "execution_count": 25,
   "metadata": {
    "ExecuteTime": {
     "end_time": "2018-09-19T17:04:02.606524Z",
     "start_time": "2018-09-19T17:04:02.436939Z"
    }
   },
   "outputs": [],
   "source": [
    "subset_df[list(CV)] = subset_df[list(CV)].replace(np.nan, -1)"
   ]
  },
  {
   "cell_type": "code",
   "execution_count": 26,
   "metadata": {
    "ExecuteTime": {
     "end_time": "2018-09-19T17:04:02.736139Z",
     "start_time": "2018-09-19T17:04:02.608506Z"
    },
    "scrolled": true
   },
   "outputs": [
    {
     "data": {
      "text/plain": [
       "ishostkid       0\n",
       "INT_IDEO        0\n",
       "INT_MISC        0\n",
       "success         0\n",
       "targtype1       0\n",
       "INT_LOG         0\n",
       "property        0\n",
       "region          0\n",
       "attacktype1     0\n",
       "crit3           0\n",
       "suicide         0\n",
       "vicinity        0\n",
       "weaptype1       0\n",
       "extended        0\n",
       "crit2           0\n",
       "doubtterr       0\n",
       "multiple        0\n",
       "ransom          0\n",
       "propextent      0\n",
       "specificity     0\n",
       "weapsubtype1    0\n",
       "claimed         0\n",
       "targsubtype1    0\n",
       "crit1           0\n",
       "country         0\n",
       "INT_ANY         0\n",
       "individual      0\n",
       "natlty1         0\n",
       "guncertain1     0\n",
       "dtype: int64"
      ]
     },
     "execution_count": 26,
     "metadata": {},
     "output_type": "execute_result"
    }
   ],
   "source": [
    "subset_df[list(CV)].isnull().sum()"
   ]
  },
  {
   "cell_type": "markdown",
   "metadata": {
    "ExecuteTime": {
     "end_time": "2018-09-16T16:16:26.923427Z",
     "start_time": "2018-09-16T16:16:26.913453Z"
    }
   },
   "source": [
    "## 文本信息处理"
   ]
  },
  {
   "cell_type": "code",
   "execution_count": 27,
   "metadata": {
    "ExecuteTime": {
     "end_time": "2018-09-19T17:04:03.002428Z",
     "start_time": "2018-09-19T17:04:02.738134Z"
    },
    "scrolled": true
   },
   "outputs": [
    {
     "data": {
      "text/plain": [
       "weapsubtype1_txt     20768\n",
       "motive              131130\n",
       "scite1               66191\n",
       "corp1                42550\n",
       "summary              66129\n",
       "attacktype1_txt          0\n",
       "provstate              421\n",
       "target1                636\n",
       "gname                    0\n",
       "natlty1_txt           1559\n",
       "scite3              138175\n",
       "country_txt              0\n",
       "city                   434\n",
       "location            126196\n",
       "targtype1_txt            0\n",
       "propcomment         123732\n",
       "targsubtype1_txt     10373\n",
       "scite2              104758\n",
       "dbsource                 0\n",
       "propextent_txt      117626\n",
       "region_txt               0\n",
       "weaptype1_txt            0\n",
       "weapdetail           67670\n",
       "dtype: int64"
      ]
     },
     "execution_count": 27,
     "metadata": {},
     "output_type": "execute_result"
    }
   ],
   "source": [
    "txt_df = subset_df[list(TV)]\n",
    "txt_df.isnull().sum()"
   ]
  },
  {
   "cell_type": "code",
   "execution_count": 28,
   "metadata": {
    "ExecuteTime": {
     "end_time": "2018-09-19T17:04:03.429284Z",
     "start_time": "2018-09-19T17:04:03.004422Z"
    }
   },
   "outputs": [
    {
     "data": {
      "text/plain": [
       "array([False,  True])"
      ]
     },
     "execution_count": 28,
     "metadata": {},
     "output_type": "execute_result"
    }
   ],
   "source": [
    "np.unique(txt_df.isin(['Unknown']))"
   ]
  },
  {
   "cell_type": "code",
   "execution_count": 29,
   "metadata": {
    "ExecuteTime": {
     "end_time": "2018-09-19T17:04:03.702555Z",
     "start_time": "2018-09-19T17:04:03.431280Z"
    }
   },
   "outputs": [
    {
     "data": {
      "text/plain": [
       "array([False])"
      ]
     },
     "execution_count": 29,
     "metadata": {},
     "output_type": "execute_result"
    }
   ],
   "source": [
    "np.unique(txt_df.isin(['UNKNOWN']))"
   ]
  },
  {
   "cell_type": "code",
   "execution_count": 30,
   "metadata": {
    "ExecuteTime": {
     "end_time": "2018-09-19T17:04:03.987792Z",
     "start_time": "2018-09-19T17:04:03.703551Z"
    }
   },
   "outputs": [],
   "source": [
    "txt_df = txt_df.replace('Unknown', np.nan)"
   ]
  },
  {
   "cell_type": "code",
   "execution_count": 31,
   "metadata": {
    "ExecuteTime": {
     "end_time": "2018-09-19T17:04:04.209226Z",
     "start_time": "2018-09-19T17:04:03.989787Z"
    },
    "scrolled": true
   },
   "outputs": [
    {
     "data": {
      "text/plain": [
       "weapsubtype1_txt     20768\n",
       "motive              146019\n",
       "scite1               66191\n",
       "corp1                58906\n",
       "summary              66129\n",
       "attacktype1_txt       7276\n",
       "provstate             4711\n",
       "target1               6554\n",
       "gname                82782\n",
       "natlty1_txt           1559\n",
       "scite3              138175\n",
       "country_txt              0\n",
       "city                 10209\n",
       "location            126212\n",
       "targtype1_txt         5898\n",
       "propcomment         123733\n",
       "targsubtype1_txt     10373\n",
       "scite2              104758\n",
       "dbsource                 0\n",
       "propextent_txt      137472\n",
       "region_txt               0\n",
       "weaptype1_txt        15157\n",
       "weapdetail           67670\n",
       "dtype: int64"
      ]
     },
     "execution_count": 31,
     "metadata": {},
     "output_type": "execute_result"
    }
   ],
   "source": [
    "txt_df.isnull().sum()"
   ]
  },
  {
   "cell_type": "code",
   "execution_count": 32,
   "metadata": {
    "ExecuteTime": {
     "end_time": "2018-09-19T17:04:05.064954Z",
     "start_time": "2018-09-19T17:04:04.211197Z"
    }
   },
   "outputs": [
    {
     "data": {
      "text/plain": [
       "weapsubtype1_txt    0\n",
       "motive              0\n",
       "scite1              0\n",
       "corp1               0\n",
       "summary             0\n",
       "attacktype1_txt     0\n",
       "provstate           0\n",
       "target1             0\n",
       "gname               0\n",
       "natlty1_txt         0\n",
       "scite3              0\n",
       "country_txt         0\n",
       "city                0\n",
       "location            0\n",
       "targtype1_txt       0\n",
       "propcomment         0\n",
       "targsubtype1_txt    0\n",
       "scite2              0\n",
       "dbsource            0\n",
       "propextent_txt      0\n",
       "region_txt          0\n",
       "weaptype1_txt       0\n",
       "weapdetail          0\n",
       "dtype: int64"
      ]
     },
     "execution_count": 32,
     "metadata": {},
     "output_type": "execute_result"
    }
   ],
   "source": [
    "subset_df[list(TV)] = subset_df[list(TV)].replace(np.nan, 'Unknown')\n",
    "subset_df[list(TV)].isnull().sum()"
   ]
  },
  {
   "cell_type": "markdown",
   "metadata": {},
   "source": [
    "## 数值型变量"
   ]
  },
  {
   "cell_type": "code",
   "execution_count": 33,
   "metadata": {
    "ExecuteTime": {
     "end_time": "2018-09-19T17:04:05.137750Z",
     "start_time": "2018-09-19T17:04:05.066908Z"
    },
    "scrolled": true
   },
   "outputs": [
    {
     "data": {
      "text/plain": [
       "propvalue    142702\n",
       "nwoundte      69143\n",
       "eventid           0\n",
       "longitude      4557\n",
       "nwound        16311\n",
       "iyear             0\n",
       "nperpcap      69489\n",
       "nkill         10313\n",
       "nwoundus      64702\n",
       "iday              0\n",
       "nperps        71115\n",
       "imonth            0\n",
       "nkillus       64446\n",
       "latitude       4556\n",
       "nkillter      66958\n",
       "dtype: int64"
      ]
     },
     "execution_count": 33,
     "metadata": {},
     "output_type": "execute_result"
    }
   ],
   "source": [
    "subset_df[list(NV)].isnull().sum()"
   ]
  },
  {
   "cell_type": "code",
   "execution_count": 34,
   "metadata": {
    "ExecuteTime": {
     "end_time": "2018-09-19T17:04:06.733451Z",
     "start_time": "2018-09-19T17:04:05.138748Z"
    }
   },
   "outputs": [
    {
     "data": {
      "text/plain": [
       "array([False,  True])"
      ]
     },
     "execution_count": 34,
     "metadata": {},
     "output_type": "execute_result"
    }
   ],
   "source": [
    "np.unique(subset_df.isin([-9, -99]))"
   ]
  },
  {
   "cell_type": "code",
   "execution_count": 35,
   "metadata": {
    "ExecuteTime": {
     "end_time": "2018-09-19T17:04:06.856137Z",
     "start_time": "2018-09-19T17:04:06.735445Z"
    }
   },
   "outputs": [
    {
     "data": {
      "text/plain": [
       "propvalue    171315\n",
       "nwoundte      69143\n",
       "eventid           0\n",
       "longitude      4557\n",
       "nwound        16311\n",
       "iyear             0\n",
       "nperpcap      71355\n",
       "nkill         10313\n",
       "nwoundus      64702\n",
       "iday              0\n",
       "nperps       153335\n",
       "imonth            0\n",
       "nkillus       64446\n",
       "latitude       4557\n",
       "nkillter      66958\n",
       "dtype: int64"
      ]
     },
     "execution_count": 35,
     "metadata": {},
     "output_type": "execute_result"
    }
   ],
   "source": [
    "nv_df = subset_df[list(NV)].replace([-9, -99], np.nan)\n",
    "nv_df.isnull().sum()"
   ]
  },
  {
   "cell_type": "code",
   "execution_count": 36,
   "metadata": {
    "ExecuteTime": {
     "end_time": "2018-09-19T17:04:06.965828Z",
     "start_time": "2018-09-19T17:04:06.858117Z"
    }
   },
   "outputs": [],
   "source": [
    "subset_df[list(NV)] = subset_df[list(NV)].replace([-9, -99], np.nan)"
   ]
  },
  {
   "cell_type": "code",
   "execution_count": 37,
   "metadata": {
    "ExecuteTime": {
     "end_time": "2018-09-19T17:04:07.391716Z",
     "start_time": "2018-09-19T17:04:06.968830Z"
    },
    "scrolled": true
   },
   "outputs": [
    {
     "data": {
      "text/plain": [
       "weapsubtype1_txt    0\n",
       "motive              0\n",
       "corp1               0\n",
       "INT_IDEO            0\n",
       "attacktype1_txt     0\n",
       "targtype1           0\n",
       "provstate           0\n",
       "region              0\n",
       "suicide             0\n",
       "gname               0\n",
       "vicinity            0\n",
       "scite3              0\n",
       "weaptype1           0\n",
       "extended            0\n",
       "crit2               0\n",
       "doubtterr           0\n",
       "location            0\n",
       "targtype1_txt       0\n",
       "targsubtype1_txt    0\n",
       "propextent          0\n",
       "specificity         0\n",
       "weapsubtype1        0\n",
       "region_txt          0\n",
       "crit1               0\n",
       "weapdetail          0\n",
       "country             0\n",
       "natlty1             0\n",
       "guncertain1         0\n",
       "scite1              0\n",
       "summary             0\n",
       "ishostkid           0\n",
       "INT_MISC            0\n",
       "INT_LOG             0\n",
       "property            0\n",
       "target1             0\n",
       "attacktype1         0\n",
       "crit3               0\n",
       "natlty1_txt         0\n",
       "country_txt         0\n",
       "city                0\n",
       "propcomment         0\n",
       "multiple            0\n",
       "ransom              0\n",
       "scite2              0\n",
       "claimed             0\n",
       "dbsource            0\n",
       "propextent_txt      0\n",
       "weaptype1_txt       0\n",
       "targsubtype1        0\n",
       "INT_ANY             0\n",
       "individual          0\n",
       "success             0\n",
       "dtype: int64"
      ]
     },
     "execution_count": 37,
     "metadata": {},
     "output_type": "execute_result"
    }
   ],
   "source": [
    "subset_df[list(names - NV)].isnull().sum()"
   ]
  },
  {
   "cell_type": "code",
   "execution_count": 38,
   "metadata": {
    "ExecuteTime": {
     "end_time": "2018-09-19T17:04:10.221126Z",
     "start_time": "2018-09-19T17:04:07.394710Z"
    }
   },
   "outputs": [],
   "source": [
    "subset_df.to_hdf('data/globalterrorismdb_0718dist.h5', key='gtd_df')"
   ]
  },
  {
   "cell_type": "markdown",
   "metadata": {},
   "source": [
    "## 处理二值变量"
   ]
  },
  {
   "cell_type": "markdown",
   "metadata": {
    "ExecuteTime": {
     "end_time": "2018-09-19T10:46:08.820967Z",
     "start_time": "2018-09-19T10:46:02.656Z"
    },
    "scrolled": true
   },
   "source": [
    "```py\n",
    "# Map the codes to labels\n",
    "ynu_map = {1: 'Yes', 0: 'No', -1: 'Unknown'}\n",
    "\n",
    "# List of target attributes to map\n",
    "ynu_attrs =['extended', 'vicinity', 'crit1', 'crit2', 'crit3', 'doubtterr', 'multiple', \n",
    "            'success', 'suicide', 'guncertain1', 'individual', 'claimed', 'property', \n",
    "            'ishostkid', 'INT_LOG', 'INT_IDEO', 'INT_MISC', 'INT_ANY']\n",
    "\n",
    "# Iterate over each target attribute and map it\n",
    "for att in ynu_attrs:\n",
    "    att_txt = att + '_txt'\n",
    "    subset_df[att_txt] = subset_df[att].map(ynu_map)\n",
    "\n",
    "# Get the list of attributes, dropping the coded for labeled attributes\n",
    "final_attrs = []\n",
    "\n",
    "for attr in subset_df.columns.values:\n",
    "    if attr not in ynu_attrs:\n",
    "        final_attrs.append(attr)\n",
    "        \n",
    "subset_df2 = subset_df.loc[:, final_attrs]\n",
    "subset_df2.info(verbose = True)\n",
    "\n",
    "subset_df2.to_excel(\"./data/gtd_preprocessed.xlsx\")\n",
    "```"
   ]
  }
 ],
 "metadata": {
  "kernelspec": {
   "display_name": "Python [conda env:Anaconda3]",
   "language": "python",
   "name": "conda-env-Anaconda3-py"
  },
  "language_info": {
   "codemirror_mode": {
    "name": "ipython",
    "version": 3
   },
   "file_extension": ".py",
   "mimetype": "text/x-python",
   "name": "python",
   "nbconvert_exporter": "python",
   "pygments_lexer": "ipython3",
   "version": "3.6.5"
  },
  "latex_envs": {
   "LaTeX_envs_menu_present": true,
   "autoclose": false,
   "autocomplete": true,
   "bibliofile": "biblio.bib",
   "cite_by": "apalike",
   "current_citInitial": 1,
   "eqLabelWithNumbers": true,
   "eqNumInitial": 1,
   "hotkeys": {
    "equation": "Ctrl-E",
    "itemize": "Ctrl-I"
   },
   "labels_anchors": false,
   "latex_user_defs": false,
   "report_style_numbering": false,
   "user_envs_cfg": false
  },
  "nbTranslate": {
   "displayLangs": [
    "*"
   ],
   "hotkey": "alt-t",
   "langInMainMenu": true,
   "sourceLang": "en",
   "targetLang": "fr",
   "useGoogleTranslate": true
  },
  "toc": {
   "base_numbering": 1,
   "nav_menu": {},
   "number_sections": true,
   "sideBar": true,
   "skip_h1_title": false,
   "title_cell": "Table of Contents",
   "title_sidebar": "Contents",
   "toc_cell": false,
   "toc_position": {},
   "toc_section_display": true,
   "toc_window_display": false
  },
  "varInspector": {
   "cols": {
    "lenName": 16,
    "lenType": 16,
    "lenVar": 40
   },
   "kernels_config": {
    "python": {
     "delete_cmd_postfix": "",
     "delete_cmd_prefix": "del ",
     "library": "var_list.py",
     "varRefreshCmd": "print(var_dic_list())"
    },
    "r": {
     "delete_cmd_postfix": ") ",
     "delete_cmd_prefix": "rm(",
     "library": "var_list.r",
     "varRefreshCmd": "cat(var_dic_list()) "
    }
   },
   "types_to_exclude": [
    "module",
    "function",
    "builtin_function_or_method",
    "instance",
    "_Feature"
   ],
   "window_display": false
  }
 },
 "nbformat": 4,
 "nbformat_minor": 2
}
