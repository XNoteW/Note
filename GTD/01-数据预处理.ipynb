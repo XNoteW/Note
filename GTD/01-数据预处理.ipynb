{
 "cells": [
  {
   "cell_type": "code",
   "execution_count": 1,
   "metadata": {
    "ExecuteTime": {
     "end_time": "2018-09-19T10:46:34.300397Z",
     "start_time": "2018-09-19T10:46:33.737873Z"
    }
   },
   "outputs": [
    {
     "name": "stdout",
     "output_type": "stream",
     "text": [
      "Populating the interactive namespace from numpy and matplotlib\n"
     ]
    }
   ],
   "source": [
    "import pandas as pd\n",
    "import numpy as np\n",
    "import zipfile\n",
    "import sys, os\n",
    "\n",
    "%pylab inline"
   ]
  },
  {
   "cell_type": "markdown",
   "metadata": {},
   "source": [
    "## 载入并查看数据\n",
    "[Codebook](http://start.umd.edu/gtd/downloads/Codebook.pdf)\n",
    "\n",
    "首先，在 [Global Terrorism Database](https://www.kaggle.com/START-UMD/gtd)网页下载数据集，下面我们之间对其进行操作："
   ]
  },
  {
   "cell_type": "code",
   "execution_count": 2,
   "metadata": {
    "ExecuteTime": {
     "end_time": "2018-09-19T10:46:38.622837Z",
     "start_time": "2018-09-19T10:46:37.541711Z"
    },
    "scrolled": false
   },
   "outputs": [
    {
     "data": {
      "text/plain": [
       "['globalterrorismdb_0718dist.csv',\n",
       " 'globalterrorismdb_0718dist.h5',\n",
       " 'globalterrorismdb_0718dist.json',\n",
       " 'globalterrorismdb_0718dist.xlsx']"
      ]
     },
     "execution_count": 2,
     "metadata": {},
     "output_type": "execute_result"
    }
   ],
   "source": [
    "filename = '../data/globalterrorismdb_0718dist.csv_3.zip'\n",
    "\n",
    "zf = zipfile.ZipFile(filename)\n",
    "\n",
    "zf.extractall('./data/')    # 解压数据\n",
    "zf.close()\n",
    "\n",
    "gtd_file = os.listdir('data/')\n",
    "gtd_file"
   ]
  },
  {
   "cell_type": "markdown",
   "metadata": {},
   "source": [
    "该文件是 `.csv` 格式，需要解决各种编码问题，有点不是那么友好："
   ]
  },
  {
   "cell_type": "code",
   "execution_count": 3,
   "metadata": {
    "ExecuteTime": {
     "end_time": "2018-09-19T10:47:03.615023Z",
     "start_time": "2018-09-19T10:46:57.562172Z"
    },
    "scrolled": true
   },
   "outputs": [
    {
     "name": "stdout",
     "output_type": "stream",
     "text": [
      "Wall time: 6.05 s\n"
     ]
    }
   ],
   "source": [
    "%%time\n",
    "df = pd.read_csv('data/globalterrorismdb_0718dist.csv', encoding='ISO-8859-1', low_memory=False)  # 载入数据"
   ]
  },
  {
   "cell_type": "markdown",
   "metadata": {},
   "source": [
    "载入该文件花费时间约 $6.36$ 秒."
   ]
  },
  {
   "cell_type": "code",
   "execution_count": null,
   "metadata": {
    "ExecuteTime": {
     "end_time": "2018-09-19T10:46:00.523610Z",
     "start_time": "2018-09-19T10:46:00.517618Z"
    },
    "scrolled": true
   },
   "outputs": [],
   "source": [
    "df.get_dtype_counts()  # 查看数据类型分布"
   ]
  },
  {
   "cell_type": "markdown",
   "metadata": {},
   "source": [
    "我们可以将其转换为 Excel (`.xlsx` 格式) ："
   ]
  },
  {
   "cell_type": "code",
   "execution_count": null,
   "metadata": {
    "ExecuteTime": {
     "end_time": "2018-09-19T10:46:08.781074Z",
     "start_time": "2018-09-19T10:46:00.526595Z"
    }
   },
   "outputs": [],
   "source": [
    "df.to_excel('data/globalterrorismdb_0718dist.xlsx')  # 保存为 excel 格式"
   ]
  },
  {
   "cell_type": "code",
   "execution_count": null,
   "metadata": {
    "ExecuteTime": {
     "end_time": "2018-09-19T10:46:08.782072Z",
     "start_time": "2018-09-19T10:45:53.805Z"
    }
   },
   "outputs": [],
   "source": [
    "%%time\n",
    "df_ex = pd.read_excel('data/globalterrorismdb_0718dist.xlsx')"
   ]
  },
  {
   "cell_type": "markdown",
   "metadata": {},
   "source": [
    "载入该 excel 文件花费 `1min 45s` 也不是我们想要的结果. 为了加快数据的存储和载入, 我们采用 HDF5 格式来保存文件："
   ]
  },
  {
   "cell_type": "code",
   "execution_count": 5,
   "metadata": {
    "ExecuteTime": {
     "end_time": "2018-09-19T10:47:30.434004Z",
     "start_time": "2018-09-19T10:47:26.294660Z"
    }
   },
   "outputs": [
    {
     "name": "stderr",
     "output_type": "stream",
     "text": [
      "C:\\ProgramData\\Anaconda3\\lib\\site-packages\\pandas\\core\\generic.py:1996: PerformanceWarning: \n",
      "your performance may suffer as PyTables will pickle object types that it cannot\n",
      "map directly to c-types [inferred_type->mixed,key->block2_values] [items->['approxdate', 'resolution', 'country_txt', 'region_txt', 'provstate', 'city', 'location', 'summary', 'alternative_txt', 'attacktype1_txt', 'attacktype2_txt', 'attacktype3_txt', 'targtype1_txt', 'targsubtype1_txt', 'corp1', 'target1', 'natlty1_txt', 'targtype2_txt', 'targsubtype2_txt', 'corp2', 'target2', 'natlty2_txt', 'targtype3_txt', 'targsubtype3_txt', 'corp3', 'target3', 'natlty3_txt', 'gname', 'gsubname', 'gname2', 'gsubname2', 'gname3', 'gsubname3', 'motive', 'claimmode_txt', 'claimmode2_txt', 'claimmode3_txt', 'weaptype1_txt', 'weapsubtype1_txt', 'weaptype2_txt', 'weapsubtype2_txt', 'weaptype3_txt', 'weapsubtype3_txt', 'weaptype4_txt', 'weapsubtype4_txt', 'weapdetail', 'propextent_txt', 'propcomment', 'divert', 'kidhijcountry', 'ransomnote', 'hostkidoutcome_txt', 'addnotes', 'scite1', 'scite2', 'scite3', 'dbsource', 'related']]\n",
      "\n",
      "  return pytables.to_hdf(path_or_buf, key, self, **kwargs)\n"
     ]
    }
   ],
   "source": [
    "df.to_hdf('data/globalterrorismdb_0718dist.h5', key='gtd_df')"
   ]
  },
  {
   "cell_type": "code",
   "execution_count": null,
   "metadata": {
    "ExecuteTime": {
     "end_time": "2018-09-19T10:46:08.785063Z",
     "start_time": "2018-09-19T10:45:54.615Z"
    }
   },
   "outputs": [],
   "source": [
    "%%time\n",
    "se = pd.read_hdf('data/globalterrorismdb_0718dist.h5')"
   ]
  },
  {
   "cell_type": "markdown",
   "metadata": {},
   "source": [
    "载入 HDF5 文件仅仅需要 $2.42$ 秒。但是，有个性能预警，为此需要对其进行处理："
   ]
  },
  {
   "cell_type": "code",
   "execution_count": null,
   "metadata": {
    "ExecuteTime": {
     "end_time": "2018-09-19T10:46:08.786061Z",
     "start_time": "2018-09-19T10:45:55.332Z"
    }
   },
   "outputs": [],
   "source": [
    "# Display a summary of the data frame\n",
    "df.info(verbose = True)"
   ]
  },
  {
   "cell_type": "code",
   "execution_count": 6,
   "metadata": {
    "ExecuteTime": {
     "end_time": "2018-09-19T10:47:44.998733Z",
     "start_time": "2018-09-19T10:47:44.272710Z"
    },
    "scrolled": true
   },
   "outputs": [
    {
     "data": {
      "text/html": [
       "<div>\n",
       "<style scoped>\n",
       "    .dataframe tbody tr th:only-of-type {\n",
       "        vertical-align: middle;\n",
       "    }\n",
       "\n",
       "    .dataframe tbody tr th {\n",
       "        vertical-align: top;\n",
       "    }\n",
       "\n",
       "    .dataframe thead th {\n",
       "        text-align: right;\n",
       "    }\n",
       "</style>\n",
       "<table border=\"1\" class=\"dataframe\">\n",
       "  <thead>\n",
       "    <tr style=\"text-align: right;\">\n",
       "      <th></th>\n",
       "      <th>Count</th>\n",
       "      <th>Percent</th>\n",
       "    </tr>\n",
       "  </thead>\n",
       "  <tbody>\n",
       "    <tr>\n",
       "      <th>gsubname3</th>\n",
       "      <td>181671</td>\n",
       "      <td>99.99</td>\n",
       "    </tr>\n",
       "    <tr>\n",
       "      <th>weapsubtype4_txt</th>\n",
       "      <td>181621</td>\n",
       "      <td>99.96</td>\n",
       "    </tr>\n",
       "    <tr>\n",
       "      <th>weapsubtype4</th>\n",
       "      <td>181621</td>\n",
       "      <td>99.96</td>\n",
       "    </tr>\n",
       "    <tr>\n",
       "      <th>weaptype4</th>\n",
       "      <td>181618</td>\n",
       "      <td>99.96</td>\n",
       "    </tr>\n",
       "    <tr>\n",
       "      <th>weaptype4_txt</th>\n",
       "      <td>181618</td>\n",
       "      <td>99.96</td>\n",
       "    </tr>\n",
       "    <tr>\n",
       "      <th>claimmode3</th>\n",
       "      <td>181558</td>\n",
       "      <td>99.93</td>\n",
       "    </tr>\n",
       "    <tr>\n",
       "      <th>claimmode3_txt</th>\n",
       "      <td>181558</td>\n",
       "      <td>99.93</td>\n",
       "    </tr>\n",
       "    <tr>\n",
       "      <th>gsubname2</th>\n",
       "      <td>181531</td>\n",
       "      <td>99.91</td>\n",
       "    </tr>\n",
       "    <tr>\n",
       "      <th>claim3</th>\n",
       "      <td>181373</td>\n",
       "      <td>99.82</td>\n",
       "    </tr>\n",
       "    <tr>\n",
       "      <th>guncertain3</th>\n",
       "      <td>181371</td>\n",
       "      <td>99.82</td>\n",
       "    </tr>\n",
       "    <tr>\n",
       "      <th>gname3</th>\n",
       "      <td>181367</td>\n",
       "      <td>99.82</td>\n",
       "    </tr>\n",
       "    <tr>\n",
       "      <th>divert</th>\n",
       "      <td>181367</td>\n",
       "      <td>99.82</td>\n",
       "    </tr>\n",
       "    <tr>\n",
       "      <th>attacktype3</th>\n",
       "      <td>181263</td>\n",
       "      <td>99.76</td>\n",
       "    </tr>\n",
       "    <tr>\n",
       "      <th>attacktype3_txt</th>\n",
       "      <td>181263</td>\n",
       "      <td>99.76</td>\n",
       "    </tr>\n",
       "    <tr>\n",
       "      <th>ransomnote</th>\n",
       "      <td>181177</td>\n",
       "      <td>99.72</td>\n",
       "    </tr>\n",
       "    <tr>\n",
       "      <th>ransompaidus</th>\n",
       "      <td>181139</td>\n",
       "      <td>99.70</td>\n",
       "    </tr>\n",
       "    <tr>\n",
       "      <th>ransomamtus</th>\n",
       "      <td>181128</td>\n",
       "      <td>99.69</td>\n",
       "    </tr>\n",
       "    <tr>\n",
       "      <th>claimmode2</th>\n",
       "      <td>181075</td>\n",
       "      <td>99.66</td>\n",
       "    </tr>\n",
       "    <tr>\n",
       "      <th>claimmode2_txt</th>\n",
       "      <td>181075</td>\n",
       "      <td>99.66</td>\n",
       "    </tr>\n",
       "    <tr>\n",
       "      <th>ransompaid</th>\n",
       "      <td>180917</td>\n",
       "      <td>99.57</td>\n",
       "    </tr>\n",
       "    <tr>\n",
       "      <th>corp3</th>\n",
       "      <td>180665</td>\n",
       "      <td>99.44</td>\n",
       "    </tr>\n",
       "    <tr>\n",
       "      <th>targsubtype3</th>\n",
       "      <td>180594</td>\n",
       "      <td>99.40</td>\n",
       "    </tr>\n",
       "    <tr>\n",
       "      <th>targsubtype3_txt</th>\n",
       "      <td>180594</td>\n",
       "      <td>99.40</td>\n",
       "    </tr>\n",
       "    <tr>\n",
       "      <th>natlty3_txt</th>\n",
       "      <td>180544</td>\n",
       "      <td>99.37</td>\n",
       "    </tr>\n",
       "    <tr>\n",
       "      <th>natlty3</th>\n",
       "      <td>180544</td>\n",
       "      <td>99.37</td>\n",
       "    </tr>\n",
       "    <tr>\n",
       "      <th>target3</th>\n",
       "      <td>180516</td>\n",
       "      <td>99.35</td>\n",
       "    </tr>\n",
       "    <tr>\n",
       "      <th>targtype3</th>\n",
       "      <td>180515</td>\n",
       "      <td>99.35</td>\n",
       "    </tr>\n",
       "    <tr>\n",
       "      <th>targtype3_txt</th>\n",
       "      <td>180515</td>\n",
       "      <td>99.35</td>\n",
       "    </tr>\n",
       "    <tr>\n",
       "      <th>ransomamt</th>\n",
       "      <td>180341</td>\n",
       "      <td>99.26</td>\n",
       "    </tr>\n",
       "    <tr>\n",
       "      <th>weapsubtype3_txt</th>\n",
       "      <td>179998</td>\n",
       "      <td>99.07</td>\n",
       "    </tr>\n",
       "    <tr>\n",
       "      <th>...</th>\n",
       "      <td>...</td>\n",
       "      <td>...</td>\n",
       "    </tr>\n",
       "    <tr>\n",
       "      <th>multiple</th>\n",
       "      <td>1</td>\n",
       "      <td>0.00</td>\n",
       "    </tr>\n",
       "    <tr>\n",
       "      <th>crit1</th>\n",
       "      <td>0</td>\n",
       "      <td>0.00</td>\n",
       "    </tr>\n",
       "    <tr>\n",
       "      <th>iyear</th>\n",
       "      <td>0</td>\n",
       "      <td>0.00</td>\n",
       "    </tr>\n",
       "    <tr>\n",
       "      <th>iday</th>\n",
       "      <td>0</td>\n",
       "      <td>0.00</td>\n",
       "    </tr>\n",
       "    <tr>\n",
       "      <th>imonth</th>\n",
       "      <td>0</td>\n",
       "      <td>0.00</td>\n",
       "    </tr>\n",
       "    <tr>\n",
       "      <th>targtype1_txt</th>\n",
       "      <td>0</td>\n",
       "      <td>0.00</td>\n",
       "    </tr>\n",
       "    <tr>\n",
       "      <th>gname</th>\n",
       "      <td>0</td>\n",
       "      <td>0.00</td>\n",
       "    </tr>\n",
       "    <tr>\n",
       "      <th>individual</th>\n",
       "      <td>0</td>\n",
       "      <td>0.00</td>\n",
       "    </tr>\n",
       "    <tr>\n",
       "      <th>dbsource</th>\n",
       "      <td>0</td>\n",
       "      <td>0.00</td>\n",
       "    </tr>\n",
       "    <tr>\n",
       "      <th>country</th>\n",
       "      <td>0</td>\n",
       "      <td>0.00</td>\n",
       "    </tr>\n",
       "    <tr>\n",
       "      <th>INT_LOG</th>\n",
       "      <td>0</td>\n",
       "      <td>0.00</td>\n",
       "    </tr>\n",
       "    <tr>\n",
       "      <th>INT_IDEO</th>\n",
       "      <td>0</td>\n",
       "      <td>0.00</td>\n",
       "    </tr>\n",
       "    <tr>\n",
       "      <th>INT_MISC</th>\n",
       "      <td>0</td>\n",
       "      <td>0.00</td>\n",
       "    </tr>\n",
       "    <tr>\n",
       "      <th>INT_ANY</th>\n",
       "      <td>0</td>\n",
       "      <td>0.00</td>\n",
       "    </tr>\n",
       "    <tr>\n",
       "      <th>extended</th>\n",
       "      <td>0</td>\n",
       "      <td>0.00</td>\n",
       "    </tr>\n",
       "    <tr>\n",
       "      <th>region_txt</th>\n",
       "      <td>0</td>\n",
       "      <td>0.00</td>\n",
       "    </tr>\n",
       "    <tr>\n",
       "      <th>country_txt</th>\n",
       "      <td>0</td>\n",
       "      <td>0.00</td>\n",
       "    </tr>\n",
       "    <tr>\n",
       "      <th>region</th>\n",
       "      <td>0</td>\n",
       "      <td>0.00</td>\n",
       "    </tr>\n",
       "    <tr>\n",
       "      <th>crit2</th>\n",
       "      <td>0</td>\n",
       "      <td>0.00</td>\n",
       "    </tr>\n",
       "    <tr>\n",
       "      <th>targtype1</th>\n",
       "      <td>0</td>\n",
       "      <td>0.00</td>\n",
       "    </tr>\n",
       "    <tr>\n",
       "      <th>weaptype1</th>\n",
       "      <td>0</td>\n",
       "      <td>0.00</td>\n",
       "    </tr>\n",
       "    <tr>\n",
       "      <th>weaptype1_txt</th>\n",
       "      <td>0</td>\n",
       "      <td>0.00</td>\n",
       "    </tr>\n",
       "    <tr>\n",
       "      <th>attacktype1_txt</th>\n",
       "      <td>0</td>\n",
       "      <td>0.00</td>\n",
       "    </tr>\n",
       "    <tr>\n",
       "      <th>attacktype1</th>\n",
       "      <td>0</td>\n",
       "      <td>0.00</td>\n",
       "    </tr>\n",
       "    <tr>\n",
       "      <th>vicinity</th>\n",
       "      <td>0</td>\n",
       "      <td>0.00</td>\n",
       "    </tr>\n",
       "    <tr>\n",
       "      <th>suicide</th>\n",
       "      <td>0</td>\n",
       "      <td>0.00</td>\n",
       "    </tr>\n",
       "    <tr>\n",
       "      <th>success</th>\n",
       "      <td>0</td>\n",
       "      <td>0.00</td>\n",
       "    </tr>\n",
       "    <tr>\n",
       "      <th>crit3</th>\n",
       "      <td>0</td>\n",
       "      <td>0.00</td>\n",
       "    </tr>\n",
       "    <tr>\n",
       "      <th>property</th>\n",
       "      <td>0</td>\n",
       "      <td>0.00</td>\n",
       "    </tr>\n",
       "    <tr>\n",
       "      <th>eventid</th>\n",
       "      <td>0</td>\n",
       "      <td>0.00</td>\n",
       "    </tr>\n",
       "  </tbody>\n",
       "</table>\n",
       "<p>135 rows × 2 columns</p>\n",
       "</div>"
      ],
      "text/plain": [
       "                   Count  Percent\n",
       "gsubname3         181671    99.99\n",
       "weapsubtype4_txt  181621    99.96\n",
       "weapsubtype4      181621    99.96\n",
       "weaptype4         181618    99.96\n",
       "weaptype4_txt     181618    99.96\n",
       "claimmode3        181558    99.93\n",
       "claimmode3_txt    181558    99.93\n",
       "gsubname2         181531    99.91\n",
       "claim3            181373    99.82\n",
       "guncertain3       181371    99.82\n",
       "gname3            181367    99.82\n",
       "divert            181367    99.82\n",
       "attacktype3       181263    99.76\n",
       "attacktype3_txt   181263    99.76\n",
       "ransomnote        181177    99.72\n",
       "ransompaidus      181139    99.70\n",
       "ransomamtus       181128    99.69\n",
       "claimmode2        181075    99.66\n",
       "claimmode2_txt    181075    99.66\n",
       "ransompaid        180917    99.57\n",
       "corp3             180665    99.44\n",
       "targsubtype3      180594    99.40\n",
       "targsubtype3_txt  180594    99.40\n",
       "natlty3_txt       180544    99.37\n",
       "natlty3           180544    99.37\n",
       "target3           180516    99.35\n",
       "targtype3         180515    99.35\n",
       "targtype3_txt     180515    99.35\n",
       "ransomamt         180341    99.26\n",
       "weapsubtype3_txt  179998    99.07\n",
       "...                  ...      ...\n",
       "multiple               1     0.00\n",
       "crit1                  0     0.00\n",
       "iyear                  0     0.00\n",
       "iday                   0     0.00\n",
       "imonth                 0     0.00\n",
       "targtype1_txt          0     0.00\n",
       "gname                  0     0.00\n",
       "individual             0     0.00\n",
       "dbsource               0     0.00\n",
       "country                0     0.00\n",
       "INT_LOG                0     0.00\n",
       "INT_IDEO               0     0.00\n",
       "INT_MISC               0     0.00\n",
       "INT_ANY                0     0.00\n",
       "extended               0     0.00\n",
       "region_txt             0     0.00\n",
       "country_txt            0     0.00\n",
       "region                 0     0.00\n",
       "crit2                  0     0.00\n",
       "targtype1              0     0.00\n",
       "weaptype1              0     0.00\n",
       "weaptype1_txt          0     0.00\n",
       "attacktype1_txt        0     0.00\n",
       "attacktype1            0     0.00\n",
       "vicinity               0     0.00\n",
       "suicide                0     0.00\n",
       "success                0     0.00\n",
       "crit3                  0     0.00\n",
       "property               0     0.00\n",
       "eventid                0     0.00\n",
       "\n",
       "[135 rows x 2 columns]"
      ]
     },
     "execution_count": 6,
     "metadata": {},
     "output_type": "execute_result"
    }
   ],
   "source": [
    "# Check the number of missing values in each attribute\n",
    "count = df.isnull().sum()\n",
    "percent = round(count / df.shape[0] * 100, 2)\n",
    "series = [count, percent]\n",
    "result = pd.concat(series, axis=1, keys=['Count','Percent'])\n",
    "result.sort_values(by='Count', ascending=False)  # 按缺失值数量倒序"
   ]
  },
  {
   "cell_type": "code",
   "execution_count": null,
   "metadata": {
    "ExecuteTime": {
     "end_time": "2018-09-19T10:46:08.788055Z",
     "start_time": "2018-09-19T10:45:55.469Z"
    }
   },
   "outputs": [],
   "source": [
    "result['Percent'].plot()"
   ]
  },
  {
   "cell_type": "markdown",
   "metadata": {},
   "source": [
    "从上图可以看出, 缺失值比例超过 $90\\%$ 的特征并不多"
   ]
  },
  {
   "cell_type": "code",
   "execution_count": null,
   "metadata": {
    "ExecuteTime": {
     "end_time": "2018-09-19T10:46:08.789052Z",
     "start_time": "2018-09-19T10:45:56.275Z"
    }
   },
   "outputs": [],
   "source": [
    "target_attrs = result[result['Percent'] < 90.0]\n",
    "print('留下来的特征所占比例:', round(target_attrs.shape[0]/result.shape[0], 2))"
   ]
  },
  {
   "cell_type": "markdown",
   "metadata": {
    "ExecuteTime": {
     "end_time": "2018-09-16T02:22:29.616897Z",
     "start_time": "2018-09-16T02:22:29.612941Z"
    }
   },
   "source": [
    "查看留下来的特征:"
   ]
  },
  {
   "cell_type": "code",
   "execution_count": null,
   "metadata": {
    "ExecuteTime": {
     "end_time": "2018-09-19T10:46:08.791047Z",
     "start_time": "2018-09-19T10:45:56.863Z"
    },
    "scrolled": false
   },
   "outputs": [],
   "source": [
    "keep_attrs = target_attrs.index.values\n",
    "keep_attrs"
   ]
  },
  {
   "cell_type": "code",
   "execution_count": null,
   "metadata": {
    "ExecuteTime": {
     "end_time": "2018-09-19T10:46:08.792046Z",
     "start_time": "2018-09-19T10:45:56.913Z"
    },
    "scrolled": true
   },
   "outputs": [],
   "source": [
    "target_attrs.sort_values(by='Count', ascending=False)  # 按缺失值数量倒序"
   ]
  },
  {
   "cell_type": "markdown",
   "metadata": {},
   "source": [
    "查看缺失值比例在 $50\\% \\sim 90\\%$ 的特征:"
   ]
  },
  {
   "cell_type": "code",
   "execution_count": null,
   "metadata": {
    "ExecuteTime": {
     "end_time": "2018-09-19T10:46:08.793042Z",
     "start_time": "2018-09-19T10:45:57.629Z"
    }
   },
   "outputs": [],
   "source": [
    "df_50_90 = target_attrs[target_attrs['Percent'] > 50.0]\n",
    "round(df_50_90.shape[0]/target_attrs.shape[0], 2)  # 特征数所占比例"
   ]
  },
  {
   "cell_type": "markdown",
   "metadata": {},
   "source": [
    "占比是 $19\\%$, 因而为了简化问题, 我们仅仅考虑缺失值占比小于 $50\\%$ 的特征."
   ]
  },
  {
   "cell_type": "code",
   "execution_count": null,
   "metadata": {
    "ExecuteTime": {
     "end_time": "2018-09-19T10:46:08.795053Z",
     "start_time": "2018-09-19T10:45:58.261Z"
    },
    "scrolled": true
   },
   "outputs": [],
   "source": [
    "keep_attrs = target_attrs[target_attrs['Percent']<50.0]\n",
    "\n",
    "subset_df = df.loc[:, keep_attrs.index.values]\n",
    "subset_df.info(verbose = True)"
   ]
  },
  {
   "cell_type": "code",
   "execution_count": null,
   "metadata": {
    "ExecuteTime": {
     "end_time": "2018-09-19T10:46:08.796034Z",
     "start_time": "2018-09-19T10:45:58.345Z"
    }
   },
   "outputs": [],
   "source": [
    "# total no of columns and rows present in data\n",
    "print(\"数据的尺寸:\",df.shape)"
   ]
  },
  {
   "cell_type": "code",
   "execution_count": null,
   "metadata": {
    "ExecuteTime": {
     "end_time": "2018-09-19T10:46:08.797031Z",
     "start_time": "2018-09-19T10:45:58.413Z"
    },
    "scrolled": true
   },
   "outputs": [],
   "source": [
    "feature_names = set(subset_df.columns)\n",
    "\n",
    "# 数值变量集合\n",
    "num_feature_names = {\n",
    "    'nperps', 'nperpcap', 'nkill', 'nkillus', 'nkillter', 'nwound',\n",
    "    'nwoundus', 'nwoundte', 'propvalue', 'nhostkid', 'nhostkidus',\n",
    "    'nhours', 'ndays', 'ransomamt', 'ransomamtus', 'ransompaid','ransompaidus', 'nreleased'\n",
    "}\n",
    "exta_names = {'eventid','iday','imonth','iyear','latitude', 'longitude'}\n",
    "\n",
    "txt_names = set(subset_df.select_dtypes(['object']).columns)\n",
    "txt_names.update({'city', 'summary', 'provstate', 'corp1', 'target1', 'gname','scite1', 'scite2', 'dbsource'})\n",
    "\n",
    "cat_names = feature_names - num_feature_names - exta_names - txt_names"
   ]
  },
  {
   "cell_type": "markdown",
   "metadata": {},
   "source": [
    "## 类别信息处理"
   ]
  },
  {
   "cell_type": "code",
   "execution_count": null,
   "metadata": {
    "ExecuteTime": {
     "end_time": "2018-09-19T10:46:08.798029Z",
     "start_time": "2018-09-19T10:45:59.093Z"
    },
    "scrolled": true
   },
   "outputs": [],
   "source": [
    "subset_df.loc[subset_df['doubtterr'] == -9, 'doubtterr'] = -1  # -9 未知\n",
    "\n",
    "#subset_df['attacktype1'].replace(9, -1)\n",
    "subset_df.loc[subset_df['attacktype1'] == 9, 'attacktype1'] = -1  #  9 未知\n",
    "\n",
    "subset_df.loc[subset_df['weaptype1'] == 13, 'weaptype1'] = -1 # 13 未知\n",
    "\n",
    "subset_df.loc[subset_df['targtype1'] == 20, 'targtype1'] = -1 # 13 未知\n",
    "\n",
    "subset_df.loc[subset_df['property'] == -9, 'property'] = -1\n",
    "\n",
    "subset_df['ishostkid'].fillna(-1, inplace=True)\n",
    "subset_df.loc[subset_df['ishostkid'] == -9, 'ishostkid'] = -1\n",
    "\n",
    "subset_df.loc[subset_df['INT_LOG'] == -9, 'INT_LOG'] = -1\n",
    "\n",
    "subset_df.loc[subset_df['INT_IDEO'] == -9, 'INT_IDEO'] = -1\n",
    "\n",
    "subset_df.loc[subset_df['INT_MISC'] == -9, 'INT_MISC'] = -1\n",
    "\n",
    "subset_df.loc[subset_df['INT_ANY'] == -9, 'INT_ANY'] = -1\n",
    "\n",
    "subset_df['claimed'].fillna(-1, inplace=True)\n",
    "subset_df.loc[subset_df['claimed'] == -9, 'claimed'] = -1\n",
    "\n",
    "subset_df['specificity'].fillna(-1, inplace=True)\n",
    "\n",
    "subset_df.loc[subset_df['vicinity'] == -9, 'vicinity'] = -1\n",
    "\n",
    "subset_df['guncertain1'].fillna(-1, inplace=True)\n",
    "subset_df['weapsubtype1'].fillna(-1, inplace=True)\n",
    "subset_df['targsubtype1'].fillna(-1, inplace=True)\n",
    "subset_df['natlty1'].fillna(-1, inplace=True)\n",
    "subset_df['doubtterr'].fillna(-1, inplace=True)\n",
    "subset_df['multiple'].fillna(-1, inplace=True)"
   ]
  },
  {
   "cell_type": "code",
   "execution_count": null,
   "metadata": {
    "ExecuteTime": {
     "end_time": "2018-09-19T10:46:08.800024Z",
     "start_time": "2018-09-19T10:45:59.185Z"
    }
   },
   "outputs": [],
   "source": [
    "# Iterate over each target attribute and map it\n",
    "for att in cat_names:\n",
    "    subset_df[att] = subset_df[att].replace('Unknown',-1)\n",
    "\n",
    "cat_df = subset_df[list(cat_names)].astype('int').astype('category')"
   ]
  },
  {
   "cell_type": "code",
   "execution_count": null,
   "metadata": {
    "ExecuteTime": {
     "end_time": "2018-09-19T10:46:08.801021Z",
     "start_time": "2018-09-19T10:45:59.249Z"
    }
   },
   "outputs": [],
   "source": [
    "np.unique(subset_df['claimed'])"
   ]
  },
  {
   "cell_type": "code",
   "execution_count": null,
   "metadata": {
    "ExecuteTime": {
     "end_time": "2018-09-19T10:46:08.803015Z",
     "start_time": "2018-09-19T10:45:59.296Z"
    },
    "scrolled": true
   },
   "outputs": [],
   "source": [
    "np.unique(cat_df.isnull().sum()) # 无缺失值"
   ]
  },
  {
   "cell_type": "code",
   "execution_count": null,
   "metadata": {
    "ExecuteTime": {
     "end_time": "2018-09-19T10:46:08.805011Z",
     "start_time": "2018-09-19T10:45:59.344Z"
    }
   },
   "outputs": [],
   "source": [
    "# 保存到本地\n",
    "cat_df.to_csv('./data/cat.csv')"
   ]
  },
  {
   "cell_type": "code",
   "execution_count": null,
   "metadata": {
    "ExecuteTime": {
     "end_time": "2018-09-19T10:46:08.807004Z",
     "start_time": "2018-09-19T10:45:59.396Z"
    }
   },
   "outputs": [],
   "source": [
    "cat_df.get_dtype_counts()"
   ]
  },
  {
   "cell_type": "code",
   "execution_count": null,
   "metadata": {
    "ExecuteTime": {
     "end_time": "2018-09-19T10:46:08.808002Z",
     "start_time": "2018-09-19T10:45:59.445Z"
    },
    "scrolled": true
   },
   "outputs": [],
   "source": [
    "cat_df['specificity'][:10]"
   ]
  },
  {
   "cell_type": "markdown",
   "metadata": {
    "ExecuteTime": {
     "end_time": "2018-09-16T16:16:26.923427Z",
     "start_time": "2018-09-16T16:16:26.913453Z"
    }
   },
   "source": [
    "## 文本信息处理"
   ]
  },
  {
   "cell_type": "code",
   "execution_count": null,
   "metadata": {
    "ExecuteTime": {
     "end_time": "2018-09-19T10:46:08.808999Z",
     "start_time": "2018-09-19T10:46:00.339Z"
    },
    "scrolled": true
   },
   "outputs": [],
   "source": [
    "np.unique(subset_df['targtype1_txt'])"
   ]
  },
  {
   "cell_type": "code",
   "execution_count": null,
   "metadata": {
    "ExecuteTime": {
     "end_time": "2018-09-19T10:46:08.809997Z",
     "start_time": "2018-09-19T10:46:00.419Z"
    }
   },
   "outputs": [],
   "source": [
    "subset_df['targsubtype1_txt'].fillna('Unknown', inplace=True)\n",
    "subset_df['natlty1_txt'].fillna('Unknown', inplace=True)\n",
    "subset_df['weapsubtype1_txt'].fillna('Unknown', inplace=True)\n",
    "subset_df['provstate'].fillna('Unknown', inplace=True)\n",
    "subset_df['city'].fillna('Unknown', inplace=True)\n",
    "subset_df['summary'].fillna('Unknown', inplace=True)\n",
    "subset_df['corp1'].fillna('Unknown', inplace=True)\n",
    "subset_df['target1'].fillna('Unknown', inplace=True)\n",
    "subset_df['scite1'].fillna('Unknown', inplace=True)"
   ]
  },
  {
   "cell_type": "code",
   "execution_count": null,
   "metadata": {
    "ExecuteTime": {
     "end_time": "2018-09-19T10:46:08.810994Z",
     "start_time": "2018-09-19T10:46:00.505Z"
    }
   },
   "outputs": [],
   "source": [
    "txt_df = subset_df[list(txt_names)]\n",
    "np.unique(txt_df.isnull().sum())"
   ]
  },
  {
   "cell_type": "code",
   "execution_count": null,
   "metadata": {
    "ExecuteTime": {
     "end_time": "2018-09-19T10:46:08.811991Z",
     "start_time": "2018-09-19T10:46:00.572Z"
    }
   },
   "outputs": [],
   "source": [
    "txt_df.isnull().sum()"
   ]
  },
  {
   "cell_type": "code",
   "execution_count": null,
   "metadata": {
    "ExecuteTime": {
     "end_time": "2018-09-19T10:46:08.812989Z",
     "start_time": "2018-09-19T10:46:00.620Z"
    }
   },
   "outputs": [],
   "source": [
    "subset_df['scite2'].fillna('Unknown', inplace=True)"
   ]
  },
  {
   "cell_type": "code",
   "execution_count": null,
   "metadata": {
    "ExecuteTime": {
     "end_time": "2018-09-19T10:46:08.813988Z",
     "start_time": "2018-09-19T10:46:00.676Z"
    }
   },
   "outputs": [],
   "source": [
    "txt_df = subset_df[list(txt_names)]\n",
    "np.unique(txt_df.isnull().sum())"
   ]
  },
  {
   "cell_type": "code",
   "execution_count": null,
   "metadata": {
    "ExecuteTime": {
     "end_time": "2018-09-19T10:46:08.814983Z",
     "start_time": "2018-09-19T10:46:00.752Z"
    }
   },
   "outputs": [],
   "source": [
    "txt_df.to_json('./data/txt.json')"
   ]
  },
  {
   "cell_type": "code",
   "execution_count": null,
   "metadata": {
    "ExecuteTime": {
     "end_time": "2018-09-19T10:46:08.815981Z",
     "start_time": "2018-09-19T10:46:00.797Z"
    }
   },
   "outputs": [],
   "source": [
    "a = pd.read_json('./data/txt.json')"
   ]
  },
  {
   "cell_type": "markdown",
   "metadata": {},
   "source": [
    "## 数值型变量"
   ]
  },
  {
   "cell_type": "code",
   "execution_count": null,
   "metadata": {
    "ExecuteTime": {
     "end_time": "2018-09-19T10:46:08.816977Z",
     "start_time": "2018-09-19T10:46:01.575Z"
    }
   },
   "outputs": [],
   "source": [
    "np.unique(subset_df['nperpcap'])"
   ]
  },
  {
   "cell_type": "code",
   "execution_count": null,
   "metadata": {
    "ExecuteTime": {
     "end_time": "2018-09-19T10:46:08.817975Z",
     "start_time": "2018-09-19T10:46:01.645Z"
    }
   },
   "outputs": [],
   "source": [
    "subset_df.loc[subset_df['nperpcap'] == -9, 'nperpcap'] = np.nan\n",
    "subset_df.loc[subset_df['nperpcap'] == -99, 'nperpcap'] = np.nan\n",
    "subset_df.loc[subset_df['nperps'] == -9, 'nperps'] = np.nan\n",
    "subset_df.loc[subset_df['nperps'] == -99, 'nperps'] = np.nan"
   ]
  },
  {
   "cell_type": "code",
   "execution_count": null,
   "metadata": {
    "ExecuteTime": {
     "end_time": "2018-09-19T10:46:08.818972Z",
     "start_time": "2018-09-19T10:46:01.705Z"
    },
    "scrolled": true
   },
   "outputs": [],
   "source": [
    "feature_names & num_feature_names"
   ]
  },
  {
   "cell_type": "code",
   "execution_count": null,
   "metadata": {
    "ExecuteTime": {
     "end_time": "2018-09-19T10:46:08.819970Z",
     "start_time": "2018-09-19T10:46:01.803Z"
    },
    "scrolled": false
   },
   "outputs": [],
   "source": [
    "cal_df = subset_df[list(feature_names & num_feature_names)]\n",
    "\n",
    "cal_df.get_dtype_counts()"
   ]
  },
  {
   "cell_type": "markdown",
   "metadata": {},
   "source": [
    "## 处理二值变量"
   ]
  },
  {
   "cell_type": "code",
   "execution_count": null,
   "metadata": {
    "ExecuteTime": {
     "end_time": "2018-09-19T10:46:08.820967Z",
     "start_time": "2018-09-19T10:46:02.656Z"
    },
    "scrolled": true
   },
   "outputs": [],
   "source": [
    "# Map the codes to labels\n",
    "ynu_map = {1: 'Yes', 0: 'No', -1: 'Unknown'}\n",
    "\n",
    "# List of target attributes to map\n",
    "ynu_attrs =['extended', 'vicinity', 'crit1', 'crit2', 'crit3', 'doubtterr', 'multiple', \n",
    "            'success', 'suicide', 'guncertain1', 'individual', 'claimed', 'property', \n",
    "            'ishostkid', 'INT_LOG', 'INT_IDEO', 'INT_MISC', 'INT_ANY']\n",
    "\n",
    "# Iterate over each target attribute and map it\n",
    "for att in ynu_attrs:\n",
    "    att_txt = att + '_txt'\n",
    "    subset_df[att_txt] = subset_df[att].map(ynu_map)\n",
    "\n",
    "# Get the list of attributes, dropping the coded for labeled attributes\n",
    "final_attrs = []\n",
    "\n",
    "for attr in subset_df.columns.values:\n",
    "    if attr not in ynu_attrs:\n",
    "        final_attrs.append(attr)\n",
    "        \n",
    "subset_df2 = subset_df.loc[:, final_attrs]\n",
    "subset_df2.info(verbose = True)"
   ]
  },
  {
   "cell_type": "code",
   "execution_count": null,
   "metadata": {
    "ExecuteTime": {
     "end_time": "2018-09-19T10:46:08.821973Z",
     "start_time": "2018-09-19T10:46:02.756Z"
    }
   },
   "outputs": [],
   "source": [
    "subset_df2.to_excel(\"./data/gtd_preprocessed.xlsx\")"
   ]
  },
  {
   "cell_type": "markdown",
   "metadata": {
    "ExecuteTime": {
     "end_time": "2018-09-16T04:29:07.787619Z",
     "start_time": "2018-09-16T04:29:07.766634Z"
    }
   },
   "source": [
    "# [Code Book](https://isstd.org/gtd-book.html)\n",
    "\n",
    "Python interprets the data types differently than the code book provided by START.\n",
    "\n",
    "|ATTRIBUTE|PYTHON DTYPE|CODE BOOK TYPE|DEFINITION|\n",
    "|:----------------|:--------|:------------|:---------------------------------------|\n",
    "|eventid|int64|Numeric|12-digit Event ID system. First 8 numbers - date recorded \"yyyymmdd\". Last 4 numbers - sequential case number for the given day|\n",
    "|iyear|int64|Numeric|The year in which the incident occurred|\n",
    "|imonth|int64|Numeric|The month in which the incident occurred.  When the exact month of the incident is unknown, this will be recorded as \"0\".|\n",
    "|iday|int64|Numeric|The numeric day of the month on which the incident occurred.  When the exact day of the incident is unknown, the field is recorded as \"0\".|\n",
    "|extended|object|Categorical|The duration of an incident extended more than 24 hours.  1 = YES, 0 = NO|\n",
    "|country_txt|object|Categorical|Identifies the country or location where the incident occurred.  When incident occurred cannot be identified, it is coded as \"Unknown.|\n",
    "|region_txt|object|Categorical|Identifies the region in which the incident occurred, and divided into 1 of 12 categories|\n",
    "|provstate|object|Text|The name (at the time of event) of the 1st order subnational administrative region in which the event occurs|\n",
    "|city|object|Text|The name of the city, village, or town in which the incident occurred.  If unknown, then this field contains the smallest administrative area below provstate|\n",
    "|latitude|float64|Numeric|The latitude (based on WGS1984 standards) of the city in which the event occurred|\n",
    "|longitude|float64|Numeric|The longitude (based on WGS1984 standards) of the city in which the event occurred.|\n",
    "|specificity|float64|Categorical|Identifies the geospatial resolution of the latitude and longitude fields. 1 to 5|\n",
    "|vicinity|object|Categorical|1 = YES, The incident occurred in the immediate vicinity of the city in question.  0 = NO, The incident in the city itself.|\n",
    "|summary|object|Text|A brief narrative summary of the incident, noting the \"when, where, who, what, how, and why.|\n",
    "|crit1|object|Categorical|The violent act must be aimed at attaining a political, economic, religious, or social goal. 1 = YES, 0 = NO|\n",
    "|crit2|object|Categorical|There must be evidence of an intention to coerce, intimidate, or convey some other message to a larger audience than the immediate victims. 1 = YES, 0 = NO|\n",
    "|crit3|object|Categorical|The action is outside the context of legitimate warfare activities, insofar as it targets non-combatants.  1 = YES, 0 = NO|\n",
    "|doubtterr|object|Categorical|There is doubt as to whether the incident is an act of terrorism.  1 = YES, 0 = NO|\n",
    "|multiple|object|Categorical|Denote that the particular attack was part of a \"multiple\" incident.  1 = YES, 0 = NO|\n",
    "|success|object|Categorical|A successful attack depends on the type of attack. The key question is whether or not the attack type took place.  1 = YES, 0 = NO|\n",
    "|suicide|object|Categorical|Coded \"Yes\" in those cases where there is evidence that the perpetrator did not intend to escape from the attack alive. 1 = YES, 0 = NO|\n",
    "|attacktype1_txt|object|Categorical|The general method of attack and often reflects the broad class of tactics used. 9 categories|\n",
    "|targtype1_txt|object|Categorical|The general type of target/victim.  22 categories|\n",
    "|targsubtype1_txt|object|Categorical|The more specific target category and provides the next level of designation for each target type. If a target subtype is not applicable this variable is left blank|\n",
    "|corp1|object|Text|The corporate entity or government agency that was targeted|\n",
    "|target1|object|Text|The specific person, building, installation, etc., that was targeted and/or victimized|\n",
    "|natlty1_txt|object|Categorical|The nationality of the target that was attacked.  For hijacking incidents, the nationality of the plane is recorded|\n",
    "|gname|object|Text|The name of the group that carried out the attack|\n",
    "|guncertain1|object|Categorical|Indicates whether or not the information reported about the Perpetrator Group Name(s) is based on speculation or dubious claims of responsibility.  1 = YES, 0 = NO|\n",
    "|individual|object|Categorical|Indicates whether or not the attack was carried out by an individual or several individuals not known to be affiliated with a group or organization. 1 = YES, 0 = NO|\n",
    "|nperpcap|float64|Numeric|The number of perpetrators taken into custody. \"-99\" or \"Unknown\" appears when there is evidence of captured, but the number is not reported|\n",
    "|claimed|object|Categorical|Indicates whether a group or person(s) claimed responsibility for the attack.  1 = YES, 0 = NO|\n",
    "|weaptype1_txt|object|Categorical|Records the general type of weapon used in the incident.  Up to four weapon types are recorded for each incident|\n",
    "|weapsubtype1_txt|object|Categorical|A more specific value for most of the Weapon Types identified|\n",
    "|nkill|float64|Numeric|Total confirmed fatalities for the incident|\n",
    "|nkillus|float64|Numeric|The number of U.S. citizens who died as a result of the incident|\n",
    "|nkillter|float64|Numeric|Limited to only perpetrator fatalities|\n",
    "|nwound|float64|Numeric|The number of confirmed non-fatal injuries to both perpetrators and victims|\n",
    "|nwoundus|float64|Numeric|The number of confirmed non-fatal injuries to U.S. citizens, both perpetrators and victims|\n",
    "|nwoundte|float64|Numeric|Number of Perpetrators Injured|\n",
    "|property|object|Categorical|There is evidence of property damage from the incident.  1 = YES, 0 = NO|\n",
    "|ishostkid|object|Categorical|Whether or not the victims were taken hostage or kidnapped during an incident. 1 = YES, 0 = NO|\n",
    "|scite1|object|Text|Cites the first source that was used to compile information on the specific incident|\n",
    "|dbsource|object|Text|Identifies the original data collection effort in which each event was recorded|\n",
    "|INT_LOG|object|Categorical|It indicates whether a perpetrator group crossed a border to carry out an attack (logistically international).  1 = YES, 0 = NO, -9=UNKNOWN|\n",
    "|INT_IDEO|object|Categorical|It indicates whether a perpetrator group attacked a target of a different nationality (ideologically international). 1 = YES, 0 = NO, -9=UNKNOWN|\n",
    "|INT_MISC|object|Categorical|It indicates whether a perpetrator group attacked a target of a different nationality (not clear if logistically or ideologically international) 1 = YES, 0 = NO, -9=UNKNOWN|\n",
    "|INT_ANY|object|Categorical|The attack was international on any of the dimensions.  1 = YES, 0 = NO, -9=UNKNOWN|\n",
    "\n",
    "\n",
    "**NOTE 1:** *For categorical variables, -9 was replaced with -1 per a recommendation from Dr. George at Regis University.*\n",
    "\n",
    "**NOTE 2:** *For attributes containing 1, 0, and -1, they were replaced with a labeled version of the attribute and can be identified by a `_txt` suffix in the data frame.*"
   ]
  }
 ],
 "metadata": {
  "kernelspec": {
   "display_name": "Python [conda env:Anaconda3]",
   "language": "python",
   "name": "conda-env-Anaconda3-py"
  },
  "language_info": {
   "codemirror_mode": {
    "name": "ipython",
    "version": 3
   },
   "file_extension": ".py",
   "mimetype": "text/x-python",
   "name": "python",
   "nbconvert_exporter": "python",
   "pygments_lexer": "ipython3",
   "version": "3.6.5"
  },
  "latex_envs": {
   "LaTeX_envs_menu_present": true,
   "autoclose": false,
   "autocomplete": true,
   "bibliofile": "biblio.bib",
   "cite_by": "apalike",
   "current_citInitial": 1,
   "eqLabelWithNumbers": true,
   "eqNumInitial": 1,
   "hotkeys": {
    "equation": "Ctrl-E",
    "itemize": "Ctrl-I"
   },
   "labels_anchors": false,
   "latex_user_defs": false,
   "report_style_numbering": false,
   "user_envs_cfg": false
  },
  "nbTranslate": {
   "displayLangs": [
    "*"
   ],
   "hotkey": "alt-t",
   "langInMainMenu": true,
   "sourceLang": "en",
   "targetLang": "fr",
   "useGoogleTranslate": true
  },
  "toc": {
   "base_numbering": 1,
   "nav_menu": {},
   "number_sections": true,
   "sideBar": true,
   "skip_h1_title": false,
   "title_cell": "Table of Contents",
   "title_sidebar": "Contents",
   "toc_cell": false,
   "toc_position": {},
   "toc_section_display": true,
   "toc_window_display": false
  },
  "varInspector": {
   "cols": {
    "lenName": 16,
    "lenType": 16,
    "lenVar": 40
   },
   "kernels_config": {
    "python": {
     "delete_cmd_postfix": "",
     "delete_cmd_prefix": "del ",
     "library": "var_list.py",
     "varRefreshCmd": "print(var_dic_list())"
    },
    "r": {
     "delete_cmd_postfix": ") ",
     "delete_cmd_prefix": "rm(",
     "library": "var_list.r",
     "varRefreshCmd": "cat(var_dic_list()) "
    }
   },
   "types_to_exclude": [
    "module",
    "function",
    "builtin_function_or_method",
    "instance",
    "_Feature"
   ],
   "window_display": false
  }
 },
 "nbformat": 4,
 "nbformat_minor": 2
}
