{
 "cells": [
  {
   "cell_type": "markdown",
   "metadata": {},
   "source": [
    "目标：\n",
    "\n",
    "- Person：创建并处理关于人员的信息的一个类；\n",
    "- Manager：一个定制的 Person，修改了继承的行为。\n",
    "\n",
    "# 步骤 1：创建实例\n",
    "\n",
    "## 编写构造函数"
   ]
  },
  {
   "cell_type": "code",
   "execution_count": 2,
   "metadata": {
    "ExecuteTime": {
     "end_time": "2018-10-28T14:30:01.763085Z",
     "start_time": "2018-10-28T14:30:01.759076Z"
    }
   },
   "outputs": [],
   "source": [
    "class Person:\n",
    "    def __init__(self, name, job=None, pay=0):\n",
    "        self.name = name\n",
    "        self.job = job\n",
    "        self.pay = pay"
   ]
  },
  {
   "cell_type": "markdown",
   "metadata": {},
   "source": [
    "在 OO 术语中，`self` 就是新创建的实例对象，而 `name`、`job` 和 `pay` 变成了**状态信息**，即保存在对象中供随后术语的描述性数据。\n",
    "\n",
    "## 在进行中测试\n",
    "\n",
    "用 Python 进行编程其实就是一种**增量原型**，编写一些代码、测试它、编写更多的代码，再次测试，以此类推。\n",
    "\n",
    "然后, 在添加更多功能之前, 让我们通过创建类的几个实例来测试我们目前所拥有的内容, 并将它们的属性显示为由构造函数生成。"
   ]
  },
  {
   "cell_type": "code",
   "execution_count": 3,
   "metadata": {
    "ExecuteTime": {
     "end_time": "2018-10-28T14:37:11.350010Z",
     "start_time": "2018-10-28T14:37:11.345042Z"
    }
   },
   "outputs": [
    {
     "name": "stdout",
     "output_type": "stream",
     "text": [
      "Bob Smith 0\n",
      "Sue Jones 100000\n"
     ]
    }
   ],
   "source": [
    "bob = Person('Bob Smith')  # Test the class\n",
    "sue = Person('Sue Jones', job='dev', pay=100000)  # Runs __init__ automatically\n",
    "print(bob.name, bob.pay)  # Fetch attached attributes\n",
    "print(sue.name, sue.pay)  # sue's and bob's attrs differ"
   ]
  },
  {
   "cell_type": "markdown",
   "metadata": {},
   "source": [
    "对于客户端程序并不关心测试内容，为此我们可以将测试内容写在模块的底端并改写为：\n",
    "\n",
    "```python\n",
    "class Person:\n",
    "    def __init__(self, name, job=None, pay=0):\n",
    "        self.name = name\n",
    "        self.job = job\n",
    "        self.pay = pay\n",
    "        \n",
    "if __name__ == '__main__':\n",
    "    # 测试代码\n",
    "    bob = Person('Bob Smith')  # Test the class\n",
    "    sue = Person('Sue Jones', job='dev', pay=100000)  # Runs __init__ automatically\n",
    "    print(bob.name, bob.pay)  # Fetch attached attributes\n",
    "    print(sue.name, sue.pay)  # sue's and bob's attrs differ\n",
    "```\n",
    "\n",
    "当将其作为 **库** 使用时，测试代码便不会运行，只有在你测试它的时候才会运行测试代码。\n",
    "\n",
    "# 步骤 2：添加行为方法\n",
    "\n",
    "类充当一种对象**工厂**。\n",
    "\n",
    "## 编写方法\n",
    "\n",
    "**封装**"
   ]
  },
  {
   "cell_type": "code",
   "execution_count": 4,
   "metadata": {
    "ExecuteTime": {
     "end_time": "2018-10-28T14:56:15.807088Z",
     "start_time": "2018-10-28T14:56:15.801096Z"
    }
   },
   "outputs": [
    {
     "name": "stdout",
     "output_type": "stream",
     "text": [
      "Bob Smith 0\n",
      "Sue Jones 100000\n",
      "Smith Jones\n",
      "110000\n"
     ]
    }
   ],
   "source": [
    "class Person:\n",
    "    def __init__(self, name, job=None, pay=0):\n",
    "        self.name = name\n",
    "        self.job = job\n",
    "        self.pay = pay\n",
    "\n",
    "    def lastName(self):\n",
    "        return self.name.split()[-1]\n",
    "\n",
    "    def giveRaise(self, percent):\n",
    "        self.pay = int(self.pay * (1 + percent))\n",
    "\n",
    "\n",
    "if __name__ == '__main__':\n",
    "    # 测试代码\n",
    "    bob = Person('Bob Smith')  # Test the class\n",
    "    sue = Person(\n",
    "        'Sue Jones', job='dev', pay=100000)  # Runs __init__ automatically\n",
    "    print(bob.name, bob.pay)  # Fetch attached attributes\n",
    "    print(sue.name, sue.pay)  # sue's and bob's attrs differ\n",
    "    print(bob.lastName(), sue.lastName())  # Use the new methods\n",
    "    sue.giveRaise(.10)  # instead of hardcoding\n",
    "    print(sue.pay)"
   ]
  },
  {
   "cell_type": "markdown",
   "metadata": {},
   "source": [
    "# 步骤 3：运算符重载\n",
    "\n",
    "每次一个实例转换为其打印字符串时，`__str__` 都会自动运行。为此我们可以重载运算符来打印我们需要的信息："
   ]
  },
  {
   "cell_type": "code",
   "execution_count": 9,
   "metadata": {
    "ExecuteTime": {
     "end_time": "2018-10-28T15:06:35.928299Z",
     "start_time": "2018-10-28T15:06:35.922314Z"
    }
   },
   "outputs": [
    {
     "name": "stdout",
     "output_type": "stream",
     "text": [
      "Person: Bob Smith, 0\n",
      "Person: Sue Jones, 100000\n",
      "Smith Jones\n",
      "Person: Sue Jones, 110000\n"
     ]
    }
   ],
   "source": [
    "class Person:\n",
    "    def __init__(self, name, job=None, pay=0):\n",
    "        self.name = name\n",
    "        self.job = job\n",
    "        self.pay = pay\n",
    "\n",
    "    def lastName(self):\n",
    "        return self.name.split()[-1]\n",
    "\n",
    "    def giveRaise(self, percent):\n",
    "        self.pay = int(self.pay * (1 + percent))\n",
    "\n",
    "    def __str__(self):\n",
    "        return 'Person: {}, {}'.format(self.name, self.pay)\n",
    "\n",
    "\n",
    "if __name__ == '__main__':\n",
    "    # 测试代码\n",
    "    bob = Person('Bob Smith')  # Test the class\n",
    "    sue = Person(\n",
    "        'Sue Jones', job='dev', pay=100000)  # Runs __init__ automatically\n",
    "    print(bob)\n",
    "    print(sue)\n",
    "    print(bob.lastName(), sue.lastName())  # Use the new methods\n",
    "    sue.giveRaise(.10)  # instead of hardcoding\n",
    "    print(sue)"
   ]
  },
  {
   "cell_type": "markdown",
   "metadata": {
    "ExecuteTime": {
     "end_time": "2018-10-28T15:01:40.558087Z",
     "start_time": "2018-10-28T15:01:40.553100Z"
    }
   },
   "source": [
    "# 步骤 4：通过子类定制行为\n",
    "\n",
    "前面我们已经有效的把数据和逻辑一起包装到一个单个的、自包含的**软件成分**中，使得将来能够很容易地定位代码并可以直接修改代码。下面我们看看类的继承机制。"
   ]
  },
  {
   "cell_type": "code",
   "execution_count": 10,
   "metadata": {
    "ExecuteTime": {
     "end_time": "2018-10-28T15:19:26.322031Z",
     "start_time": "2018-10-28T15:19:26.318045Z"
    }
   },
   "outputs": [],
   "source": [
    "class Manager(Person):\n",
    "    def giveRaise(self, percent, bonus=.10):\n",
    "        Person.giveRaise(self, percent + bonus)"
   ]
  },
  {
   "cell_type": "code",
   "execution_count": 23,
   "metadata": {
    "ExecuteTime": {
     "end_time": "2018-10-28T15:25:05.463219Z",
     "start_time": "2018-10-28T15:25:05.459196Z"
    }
   },
   "outputs": [
    {
     "name": "stdout",
     "output_type": "stream",
     "text": [
      "10\n",
      "11\n"
     ]
    }
   ],
   "source": [
    "bob = Person('Bob Smith', pay=10)\n",
    "print(bob.pay)\n",
    "sue = Person.giveRaise(bob, .1)\n",
    "print(bob.pay)"
   ]
  },
  {
   "cell_type": "markdown",
   "metadata": {
    "ExecuteTime": {
     "end_time": "2018-10-28T15:23:34.502884Z",
     "start_time": "2018-10-28T15:23:34.499859Z"
    }
   },
   "source": [
    "`instance.method(args...)` 与 `class.method(instance, args...)` 可以达到相同的效果。"
   ]
  },
  {
   "cell_type": "code",
   "execution_count": 24,
   "metadata": {
    "ExecuteTime": {
     "end_time": "2018-10-28T15:32:50.291889Z",
     "start_time": "2018-10-28T15:32:50.284907Z"
    }
   },
   "outputs": [
    {
     "name": "stdout",
     "output_type": "stream",
     "text": [
      "Person: Bob Smith, 0\n",
      "Person: Sue Jones, 100000\n",
      "Smith Jones\n",
      "Person: Sue Jones, 110000\n",
      "Jones\n",
      "Person: Tom Jones, 60000\n"
     ]
    }
   ],
   "source": [
    "class Person:\n",
    "    def __init__(self, name, job=None, pay=0):\n",
    "        self.name = name\n",
    "        self.job = job\n",
    "        self.pay = pay\n",
    "\n",
    "    def lastName(self):\n",
    "        return self.name.split()[-1]\n",
    "\n",
    "    def giveRaise(self, percent):\n",
    "        self.pay = int(self.pay * (1 + percent))\n",
    "\n",
    "    def __str__(self):\n",
    "        return 'Person: {}, {}'.format(self.name, self.pay)\n",
    "\n",
    "\n",
    "class Manager(Person):\n",
    "    def giveRaise(self, percent, bonus=.10):\n",
    "        Person.giveRaise(self, percent + bonus)\n",
    "\n",
    "\n",
    "if __name__ == '__main__':\n",
    "    # 测试代码\n",
    "    bob = Person('Bob Smith')  # Test the class\n",
    "    sue = Person(\n",
    "        'Sue Jones', job='dev', pay=100000)  # Runs __init__ automatically\n",
    "    print(bob)\n",
    "    print(sue)\n",
    "    print(bob.lastName(), sue.lastName())  # Use the new methods\n",
    "    sue.giveRaise(.10)  # instead of hardcoding\n",
    "    print(sue)\n",
    "    tom = Manager('Tom Jones', 'mgr', 50000)  # Make a Manager: __init__\n",
    "    tom.giveRaise(.10)  # Runs custom version\n",
    "    print(tom.lastName())  # Runs inherited method\n",
    "    print(tom)  # Runs inherited __str__"
   ]
  },
  {
   "cell_type": "markdown",
   "metadata": {},
   "source": [
    "## 多态的作用"
   ]
  },
  {
   "cell_type": "code",
   "execution_count": 27,
   "metadata": {
    "ExecuteTime": {
     "end_time": "2018-10-28T15:40:40.369482Z",
     "start_time": "2018-10-28T15:40:40.364497Z"
    }
   },
   "outputs": [
    {
     "name": "stdout",
     "output_type": "stream",
     "text": [
      "Person: Bob Smith, 0\n",
      "Person: Sue Jones, 121000\n",
      "Person: Tom Jones, 72000\n"
     ]
    }
   ],
   "source": [
    "for person in (bob, sue, tom):\n",
    "    person.giveRaise(.1)\n",
    "    print(person)"
   ]
  },
  {
   "cell_type": "markdown",
   "metadata": {},
   "source": [
    "我们可以使用类构建的可**自定义层级结构**为随着时间推移而不断演变的软件提供了更好的解决方案。Python 中没有其他工具支持这种开发模式。因为我们可以通过编码新的子类来定制和扩展我们以前的工作, 我们可以利用我们已经做过的事情, 而不是每次从头开始, 破坏已经工作过的内容, 或者引入多个代码副本, 这些拷贝可能都必须在未来增加工作量。当做对了, OOP 是一个强大的程序员的盟友。\n",
    "\n",
    "# 步骤 5：定制构造函数\n",
    "\n",
    "上面的代码已经可以正常运行了，但是细心的会发现，参数 `mgr` 是多余的。为了使得我们的代码更加健全，我们可以定制构造函数："
   ]
  },
  {
   "cell_type": "code",
   "execution_count": 30,
   "metadata": {
    "ExecuteTime": {
     "end_time": "2018-10-28T15:54:12.855091Z",
     "start_time": "2018-10-28T15:54:12.848080Z"
    }
   },
   "outputs": [
    {
     "name": "stdout",
     "output_type": "stream",
     "text": [
      "Person: Bob Smith, 0\n",
      "Person: Sue Jones, 100000\n",
      "Smith Jones\n",
      "Person: Sue Jones, 110000\n",
      "Jones\n",
      "Person: Tom Jones, 60000\n"
     ]
    }
   ],
   "source": [
    "class Person:\n",
    "    def __init__(self, name, job=None, pay=0):\n",
    "        self.name = name\n",
    "        self.job = job\n",
    "        self.pay = pay\n",
    "\n",
    "    def lastName(self):\n",
    "        return self.name.split()[-1]\n",
    "\n",
    "    def giveRaise(self, percent):\n",
    "        self.pay = int(self.pay * (1 + percent))\n",
    "\n",
    "    def __str__(self):\n",
    "        return 'Person: {}, {}'.format(self.name, self.pay)\n",
    "\n",
    "\n",
    "class Manager(Person):\n",
    "    def __init__(self, name, pay):\n",
    "        Person.__init__(self, name, 'mgr', pay)\n",
    "\n",
    "    def giveRaise(self, percent, bonus=.10):\n",
    "        Person.giveRaise(self, percent + bonus)\n",
    "\n",
    "\n",
    "if __name__ == '__main__':\n",
    "    # 测试代码\n",
    "    bob = Person('Bob Smith')  # Test the class\n",
    "    sue = Person(\n",
    "        'Sue Jones', job='dev', pay=100000)  # Runs __init__ automatically\n",
    "    print(bob)\n",
    "    print(sue)\n",
    "    print(bob.lastName(), sue.lastName())  # Use the new methods\n",
    "    sue.giveRaise(.10)  # instead of hardcoding\n",
    "    print(sue)\n",
    "    tom = Manager('Tom Jones', 50000)  # Make a Manager: __init__\n",
    "    tom.giveRaise(.10)  # Runs custom version\n",
    "    print(tom.lastName())  # Runs inherited method\n",
    "    print(tom)  # Runs inherited __str__"
   ]
  },
  {
   "cell_type": "markdown",
   "metadata": {},
   "source": [
    "总结：**在对象树中继承查找属性、方法中特殊的 `self` 参数以及运算符重载对方法的自动派发**的思路，可以使得自己的代码在未来易于修改，通过驾驭类的倾向以构造代码来减少**冗余**。\n",
    "\n",
    "- Instance creation—filling out instance attributes \n",
    "- Behavior methods—encapsulating logic in a class’s methods \n",
    "- Operator overloading—providing behavior for built-in operations like printing \n",
    "- Customizing behavior—redefining methods in subclasses to specialize them \n",
    "- Customizing constructors—adding initialization logic to superclass steps \n",
    "\n",
    "## 组合类的其他方式\n",
    "\n",
    "`__getattr__` 把对象彼此嵌套以组合成**复合对象**"
   ]
  },
  {
   "cell_type": "code",
   "execution_count": 37,
   "metadata": {
    "ExecuteTime": {
     "end_time": "2018-10-28T16:11:29.545861Z",
     "start_time": "2018-10-28T16:11:29.537883Z"
    }
   },
   "outputs": [
    {
     "name": "stdout",
     "output_type": "stream",
     "text": [
      "Person: Bob Smith, 0\n",
      "Person: Sue Jones, 100000\n",
      "Smith Jones\n",
      "Person: Sue Jones, 110000\n",
      "Jones\n",
      "Person: Tom Jones, 60000\n"
     ]
    }
   ],
   "source": [
    "class Person:\n",
    "    def __init__(self, name, job=None, pay=0):\n",
    "        self.name = name\n",
    "        self.job = job\n",
    "        self.pay = pay\n",
    "\n",
    "    def lastName(self):\n",
    "        return self.name.split()[-1]\n",
    "\n",
    "    def giveRaise(self, percent):\n",
    "        self.pay = int(self.pay * (1 + percent))\n",
    "\n",
    "    def __str__(self):\n",
    "        return 'Person: {}, {}'.format(self.name, self.pay)\n",
    "\n",
    "\n",
    "class Manager:\n",
    "    def __init__(self, name, pay):\n",
    "        self.person = Person(name, 'mgr', pay)\n",
    "\n",
    "    def giveRaise(self, percent, bonus=.10):\n",
    "        self.person.giveRaise(percent + bonus)\n",
    "        \n",
    "    def __getattr__(self, attr):\n",
    "        return getattr(self.person, attr)\n",
    "    \n",
    "    def __str__(self):\n",
    "        return str(self.person)\n",
    "\n",
    "if __name__ == '__main__':\n",
    "    # 测试代码\n",
    "    bob = Person('Bob Smith')  # Test the class\n",
    "    sue = Person(\n",
    "        'Sue Jones', job='dev', pay=100000)  # Runs __init__ automatically\n",
    "    print(bob)\n",
    "    print(sue)\n",
    "    print(bob.lastName(), sue.lastName())  # Use the new methods\n",
    "    sue.giveRaise(.10)  # instead of hardcoding\n",
    "    print(sue)\n",
    "    tom = Manager('Tom Jones', 50000)  # Make a Manager: __init__\n",
    "    tom.giveRaise(.10)  # Runs custom version\n",
    "    print(tom.lastName())  # Runs inherited method\n",
    "    print(tom)  # Runs inherited __str__"
   ]
  },
  {
   "cell_type": "markdown",
   "metadata": {},
   "source": [
    "实际上，这个 Manager 替代方案是一种叫做**委托** (一种基于复合的结构, 用于管理包装对象并向其传播方法调用) 的常用代码模式的一个代表。\n",
    "\n",
    "# 步骤 6：使用内省（Introspection）工具\n",
    "\n",
    "基于下面两个目的，我们需要使用内省工具：\n",
    "\n",
    "- **尽可能地用最确切（最低层）的类来显示对象**\n",
    "- **考察该类在未来会不会造成冗余**\n",
    "\n",
    "常见的内省工具：\n",
    "\n",
    "- 内置的 `instance.__class__` 属性提供了一个从实例到创建替代类的链接。类反过来有一个 `__name__` （就像模块一样），还有一个 `__bases__` 序列，提供了超类的访问。我们可以在这里使用这些工具来打印实例的名称, 而不是用硬编码。\n",
    "- 内置对象 `__dict__` 属性为附加到命名空间对象的每个属性 (包括模块、类和实例) 提供一个具有一个键/值对的字典。因为它是一本字典, 所以我们可以获取它的键列表、按键索引、循环访问其键等, 以广泛的处理所有属性。我们可以在这里使用它来打印任何实例中的每个属性, 而不仅仅是在自定义显示器中进行硬编码的特性, 就像我们在模块工具中所做的那样。"
   ]
  },
  {
   "cell_type": "code",
   "execution_count": 40,
   "metadata": {
    "ExecuteTime": {
     "end_time": "2018-10-29T04:51:08.636485Z",
     "start_time": "2018-10-29T04:51:08.633462Z"
    }
   },
   "outputs": [
    {
     "name": "stdout",
     "output_type": "stream",
     "text": [
      "Person: Bob Smith, 0\n"
     ]
    }
   ],
   "source": [
    "bob = Person('Bob Smith') \n",
    "print(bob)"
   ]
  },
  {
   "cell_type": "code",
   "execution_count": 41,
   "metadata": {
    "ExecuteTime": {
     "end_time": "2018-10-29T04:51:23.963527Z",
     "start_time": "2018-10-29T04:51:23.957544Z"
    }
   },
   "outputs": [
    {
     "data": {
      "text/plain": [
       "__main__.Person"
      ]
     },
     "execution_count": 41,
     "metadata": {},
     "output_type": "execute_result"
    }
   ],
   "source": [
    "bob.__class__"
   ]
  },
  {
   "cell_type": "code",
   "execution_count": 43,
   "metadata": {
    "ExecuteTime": {
     "end_time": "2018-10-29T04:51:52.212506Z",
     "start_time": "2018-10-29T04:51:52.207520Z"
    }
   },
   "outputs": [
    {
     "data": {
      "text/plain": [
       "'Person'"
      ]
     },
     "execution_count": 43,
     "metadata": {},
     "output_type": "execute_result"
    }
   ],
   "source": [
    "bob.__class__.__name__"
   ]
  },
  {
   "cell_type": "code",
   "execution_count": 44,
   "metadata": {
    "ExecuteTime": {
     "end_time": "2018-10-29T04:52:17.201315Z",
     "start_time": "2018-10-29T04:52:17.196296Z"
    }
   },
   "outputs": [
    {
     "data": {
      "text/plain": [
       "['name', 'job', 'pay']"
      ]
     },
     "execution_count": 44,
     "metadata": {},
     "output_type": "execute_result"
    }
   ],
   "source": [
    "list(bob.__dict__.keys())"
   ]
  },
  {
   "cell_type": "code",
   "execution_count": 45,
   "metadata": {
    "ExecuteTime": {
     "end_time": "2018-10-29T04:52:42.993573Z",
     "start_time": "2018-10-29T04:52:42.989593Z"
    }
   },
   "outputs": [
    {
     "name": "stdout",
     "output_type": "stream",
     "text": [
      "name => Bob Smith\n",
      "job => None\n",
      "pay => 0\n"
     ]
    }
   ],
   "source": [
    "for key in bob.__dict__:\n",
    "    print(key, '=>', bob.__dict__[key])  # Index manually"
   ]
  },
  {
   "cell_type": "markdown",
   "metadata": {},
   "source": [
    "##  A Generic Display Tool\n",
    "\n",
    "我们可以将这些接口放在超类中以显示准确的类名和格式化任何类的实例的所有属性。在文本编辑器中打开一个新文件来编写以下代码: 它是一个名为 `classtools.py` 的新的独立模块, 它仅实现这样一个类。"
   ]
  },
  {
   "cell_type": "code",
   "execution_count": 46,
   "metadata": {
    "ExecuteTime": {
     "end_time": "2018-10-29T04:59:03.260098Z",
     "start_time": "2018-10-29T04:59:03.251080Z"
    }
   },
   "outputs": [
    {
     "name": "stdout",
     "output_type": "stream",
     "text": [
      "[TopTest: attr1=0, attr2=1]\n",
      "[SubTest: attr1=2, attr2=3]\n"
     ]
    }
   ],
   "source": [
    "# File classtools.py (new)\n",
    "'''\n",
    "Assorted class utilities and tools\n",
    "'''\n",
    "\n",
    "\n",
    "class AttrDisplay:\n",
    "    \"\"\"    \n",
    "    Provides an inheritable display overload method that shows   \n",
    "    instances with their class names and a name=value pair for    \n",
    "    each attribute stored on the instance itself (but not attrs   \n",
    "    inherited from its classes). Can be mixed into any class,    \n",
    "    and will work on any instance.   \n",
    "    \"\"\"\n",
    "\n",
    "    def gatherAttrs(self):\n",
    "        attrs = []\n",
    "        for key in sorted(self.__dict__):\n",
    "            attrs.append('%s=%s' % (key, getattr(self, key)))\n",
    "        return ', '.join(attrs)\n",
    "\n",
    "    def __repr__(self):\n",
    "        return '[%s: %s]' % (self.__class__.__name__, self.gatherAttrs())\n",
    "\n",
    "\n",
    "if __name__ == '__main__':\n",
    "\n",
    "    class TopTest(AttrDisplay):\n",
    "        count = 0\n",
    "\n",
    "        def __init__(self):\n",
    "            self.attr1 = TopTest.count\n",
    "            self.attr2 = TopTest.count + 1\n",
    "            TopTest.count += 2\n",
    "\n",
    "    class SubTest(TopTest):\n",
    "        pass\n",
    "\n",
    "    X, Y = TopTest(), SubTest()  # Make two instances\n",
    "    print(X)  # Show all instance attrs\n",
    "    print(Y)  # Show lowest class name"
   ]
  },
  {
   "cell_type": "markdown",
   "metadata": {},
   "source": [
    "## Our Classes’ Final Form \n",
    "\n",
    "现在, 要在我们的类中使用这个通用工具, 我们需要做的就是从它的模块中导入它, 在顶级类中通过继承将其混合在一起, 然后去掉我们以前编码过的更具体的 `__repr__`。新的显示重载方法将继承 `Person` 和 `Manager` 的实例;`Manager` 从 `Person` 获取 `__repr__` , 现在从 `AttrDisplay` 编码在另一个模块中得到它。"
   ]
  },
  {
   "cell_type": "code",
   "execution_count": 52,
   "metadata": {
    "ExecuteTime": {
     "end_time": "2018-10-29T05:27:57.411954Z",
     "start_time": "2018-10-29T05:27:57.407966Z"
    }
   },
   "outputs": [],
   "source": [
    "import sys\n",
    "sys.path.append('./lab/')"
   ]
  },
  {
   "cell_type": "code",
   "execution_count": 53,
   "metadata": {
    "ExecuteTime": {
     "end_time": "2018-10-29T05:27:58.536528Z",
     "start_time": "2018-10-29T05:27:58.520572Z"
    },
    "scrolled": true
   },
   "outputs": [
    {
     "name": "stdout",
     "output_type": "stream",
     "text": [
      "[Person: job=None, name=Bob Smith, pay=0]\n",
      "[Person: job=dev, name=Sue Jones, pay=100000]\n",
      "Smith Jones\n",
      "[Person: job=dev, name=Sue Jones, pay=110000]\n",
      "Jones\n",
      "[Manager: job=mgr, name=Tom Jones, pay=60000]\n"
     ]
    }
   ],
   "source": [
    "# File classtools.py (new) ...as listed earlier...\n",
    "# File person.py (final)\n",
    "\"\"\"\n",
    "Record and process information about people.\n",
    "Run this file directly to test its classes.\n",
    "\"\"\"\n",
    "\n",
    "from classtools import AttrDisplay  # Use generic display tool\n",
    "\n",
    "\n",
    "class Person(AttrDisplay):  # Mix in a repr at this level\n",
    "    \"\"\"Create and process person records\n",
    "    \"\"\"\n",
    "\n",
    "    def __init__(self, name, job=None, pay=0):\n",
    "        self.name = name\n",
    "        self.job = job\n",
    "        self.pay = pay\n",
    "\n",
    "    def lastName(self):  # Assumes last is last\n",
    "        return self.name.split()[-1]\n",
    "\n",
    "    def giveRaise(self, percent):  # Percent must be 0..1\n",
    "        self.pay = int(self.pay * (1 + percent))\n",
    "\n",
    "\n",
    "class Manager(Person):\n",
    "    \"\"\"A customized Person with special requirements   \n",
    "    \"\"\"\n",
    "\n",
    "    def __init__(self, name, pay):\n",
    "        Person.__init__(self, name, 'mgr', pay)  # Job name is implied\n",
    "\n",
    "    def giveRaise(self, percent, bonus=.10):\n",
    "        Person.giveRaise(self, percent + bonus)\n",
    "\n",
    "\n",
    "if __name__ == '__main__':\n",
    "    bob = Person('Bob Smith')\n",
    "    sue = Person('Sue Jones', job='dev', pay=100000)\n",
    "    print(bob)\n",
    "    print(sue)\n",
    "    print(bob.lastName(), sue.lastName())\n",
    "    sue.giveRaise(.10)\n",
    "    print(sue)\n",
    "    tom = Manager('Tom Jones', 50000)\n",
    "    tom.giveRaise(.10)\n",
    "    print(tom.lastName())\n",
    "    print(tom)"
   ]
  },
  {
   "cell_type": "markdown",
   "metadata": {},
   "source": [
    "现在，我们看到：`tom` 显示为 `Manager` 而不是 `Person`。从更大的角度来看，我们的属性显示类已经变成了一个**通用工具**，它可以通过继承将其混合到任何类中，从而利用它所定义的显示格式。\n",
    "\n",
    "# 步骤 7：把对象存储到数据库中\n",
    "\n",
    "**对象持久化**"
   ]
  },
  {
   "cell_type": "code",
   "execution_count": null,
   "metadata": {},
   "outputs": [],
   "source": []
  }
 ],
 "metadata": {
  "kernelspec": {
   "display_name": "Python [conda root]",
   "language": "python",
   "name": "conda-root-py"
  },
  "language_info": {
   "codemirror_mode": {
    "name": "ipython",
    "version": 3
   },
   "file_extension": ".py",
   "mimetype": "text/x-python",
   "name": "python",
   "nbconvert_exporter": "python",
   "pygments_lexer": "ipython3",
   "version": "3.6.5"
  },
  "latex_envs": {
   "LaTeX_envs_menu_present": true,
   "autoclose": false,
   "autocomplete": true,
   "bibliofile": "biblio.bib",
   "cite_by": "apalike",
   "current_citInitial": 1,
   "eqLabelWithNumbers": true,
   "eqNumInitial": 1,
   "hotkeys": {
    "equation": "Ctrl-E",
    "itemize": "Ctrl-I"
   },
   "labels_anchors": false,
   "latex_user_defs": false,
   "report_style_numbering": false,
   "user_envs_cfg": false
  },
  "nbTranslate": {
   "displayLangs": [
    "*"
   ],
   "hotkey": "alt-t",
   "langInMainMenu": true,
   "sourceLang": "en",
   "targetLang": "fr",
   "useGoogleTranslate": true
  },
  "toc": {
   "base_numbering": 1,
   "nav_menu": {},
   "number_sections": true,
   "sideBar": true,
   "skip_h1_title": false,
   "title_cell": "Table of Contents",
   "title_sidebar": "Contents",
   "toc_cell": false,
   "toc_position": {},
   "toc_section_display": true,
   "toc_window_display": false
  },
  "varInspector": {
   "cols": {
    "lenName": 16,
    "lenType": 16,
    "lenVar": 40
   },
   "kernels_config": {
    "python": {
     "delete_cmd_postfix": "",
     "delete_cmd_prefix": "del ",
     "library": "var_list.py",
     "varRefreshCmd": "print(var_dic_list())"
    },
    "r": {
     "delete_cmd_postfix": ") ",
     "delete_cmd_prefix": "rm(",
     "library": "var_list.r",
     "varRefreshCmd": "cat(var_dic_list()) "
    }
   },
   "types_to_exclude": [
    "module",
    "function",
    "builtin_function_or_method",
    "instance",
    "_Feature"
   ],
   "window_display": false
  }
 },
 "nbformat": 4,
 "nbformat_minor": 2
}
